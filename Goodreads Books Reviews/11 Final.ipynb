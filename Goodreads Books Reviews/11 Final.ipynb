{
 "cells": [
  {
   "cell_type": "code",
   "execution_count": 1,
   "metadata": {},
   "outputs": [],
   "source": [
    "import wandb\n",
    "import pandas as pd\n",
    "import lightgbm as lgb\n",
    "import numpy as np\n",
    "from sklearn.metrics import f1_score\n",
    "from wandb.lightgbm import wandb_callback, log_summary\n",
    "from sklearn.metrics import confusion_matrix\n",
    "import matplotlib.pyplot as plt"
   ]
  },
  {
   "cell_type": "code",
   "execution_count": 2,
   "metadata": {
    "scrolled": true
   },
   "outputs": [
    {
     "name": "stderr",
     "output_type": "stream",
     "text": [
      "\u001b[34m\u001b[1mwandb\u001b[0m: Currently logged in as: \u001b[33md-a-pop\u001b[0m (\u001b[33mmidigpt\u001b[0m). Use \u001b[1m`wandb login --relogin`\u001b[0m to force relogin\n"
     ]
    },
    {
     "data": {
      "text/plain": [
       "True"
      ]
     },
     "execution_count": 2,
     "metadata": {},
     "output_type": "execute_result"
    }
   ],
   "source": [
    "wandb.login()"
   ]
  },
  {
   "cell_type": "markdown",
   "metadata": {},
   "source": [
    "## Final"
   ]
  },
  {
   "cell_type": "code",
   "execution_count": 55,
   "metadata": {},
   "outputs": [],
   "source": [
    "def parse_data():\n",
    "    # read and prepare data for training\n",
    "    train = pd.read_csv(\"train.csv\")\n",
    "    val = pd.read_csv(\"val.csv\")\n",
    "\n",
    "    train['user_id'] = train['user_id'].astype(\"category\")\n",
    "    train['review_id'] = train['review_id'].astype(\"category\")\n",
    "    train['book_id'] = train['book_id'].astype(\"category\")\n",
    "    train = train.drop(\"review_text\", axis=1)\n",
    "\n",
    "    val['user_id'] = val['user_id'].astype(\"category\")\n",
    "    val['review_id'] = val['review_id'].astype(\"category\")\n",
    "    val['book_id'] = val['book_id'].astype(\"category\")\n",
    "    val = val.drop(\"review_text\", axis=1)\n",
    "    \n",
    "    return train, val"
   ]
  },
  {
   "cell_type": "code",
   "execution_count": 4,
   "metadata": {},
   "outputs": [],
   "source": [
    "def evaluate_macroF1_lgb(truth, predictions):  \n",
    "    # this follows the discussion in https://github.com/Microsoft/LightGBM/issues/1483\n",
    "    pred_labels = predictions.reshape(len(np.unique(truth)),-1).argmax(axis=0)\n",
    "    f1 = f1_score(truth, pred_labels, average='macro')\n",
    "    return ('macroF1', f1, True)"
   ]
  },
  {
   "cell_type": "code",
   "execution_count": 5,
   "metadata": {},
   "outputs": [],
   "source": [
    "def train(config):\n",
    "    # perform one training iteration\n",
    "    train, val = parse_data()\n",
    "    \n",
    "    model = lgb.LGBMClassifier(boosting_type=config[\"boosting_type\"], num_leaves=config[\"num_leaves\"], \n",
    "                               max_depth=config[\"max_depth\"], learning_rate=config[\"learning_rate\"], \n",
    "                               n_estimators=config[\"n_estimators\"], min_child_samples=config[\"min_child_samples\"], \n",
    "                               subsample=config[\"subsample\"], colsample_bytree=config[\"colsample_bytree\"], \n",
    "                               random_state=config[\"random_state\"], reg_alpha=config[\"reg_alpha\"], \n",
    "                               reg_lambda=config[\"reg_lambda\"])\n",
    "    \n",
    "    train_config = model.get_params()\n",
    "    print(\"TRAIN CONFIG\")\n",
    "    print(train_config)\n",
    "    \n",
    "    run = wandb.init(project=\"Goodreads Books Reviews\", entity=\"d-a-pop\", job_type=\"training\", config=train_config)    \n",
    "    \n",
    "    gbm = model.fit(train.drop(\"rating\", axis=1), train[\"rating\"], callbacks=[wandb_callback()], \\\n",
    "                     categorical_feature=[\"user_id\", \"book_id\", \"review_id\"], eval_metric=evaluate_macroF1_lgb, \\\n",
    "                     eval_set=[(train.drop(\"rating\", axis=1), train[\"rating\"]), (val.drop(\"rating\", axis=1), val[\"rating\"])], \\\n",
    "                     eval_names=[\"training\", \"validation\"]);\n",
    "\n",
    "    log_summary(gbm.booster_)\n",
    "    \n",
    "    if config[\"log_preds\"]:\n",
    "        ypred_ = model.predict_proba(val.drop(\"rating\", axis=1))\n",
    "        predictions = val[[\"review_id\", \"rating\"]]\n",
    "        predictions[\"pred\"] = np.argmax(ypred_, axis=1)\n",
    "        table = wandb.Table(dataframe=predictions)\n",
    "        wandb.log({\"pred_table\":table})\n",
    "    \n",
    "    run.finish()\n",
    "    \n"
   ]
  },
  {
   "cell_type": "code",
   "execution_count": 56,
   "metadata": {},
   "outputs": [],
   "source": [
    "train, val = parse_data()"
   ]
  },
  {
   "cell_type": "code",
   "execution_count": 57,
   "metadata": {},
   "outputs": [
    {
     "data": {
      "text/plain": [
       "Index(['user_id', 'book_id', 'review_id', 'n_votes', 'n_comments', 'rating',\n",
       "       'missing_started_at', 'review_length', 'hour_read_at', 'hour_added',\n",
       "       'hour_updated', 'month_read_at', 'month_added', 'month_updated',\n",
       "       'dayofweek_read_at', 'dayofweek_added', 'dayofweek_updated',\n",
       "       'year_read_at', 'year_added', 'year_updated', 'spoiler', 'updated',\n",
       "       'update_duration', 'read_duration', 'added_at_read', 'added_at_start',\n",
       "       'updated_at_read', 'duration_added_at_read', 'duration_added_at_start',\n",
       "       'duration_updated_at_read'],\n",
       "      dtype='object')"
      ]
     },
     "execution_count": 57,
     "metadata": {},
     "output_type": "execute_result"
    }
   ],
   "source": [
    "train.columns"
   ]
  },
  {
   "cell_type": "code",
   "execution_count": 58,
   "metadata": {},
   "outputs": [
    {
     "data": {
      "text/plain": [
       "Index(['user_id', 'book_id', 'review_id', 'n_votes', 'n_comments', 'rating',\n",
       "       'missing_started_at', 'review_length', 'hour_read_at', 'hour_added',\n",
       "       'hour_updated', 'month_read_at', 'month_added', 'month_updated',\n",
       "       'dayofweek_read_at', 'dayofweek_added', 'dayofweek_updated',\n",
       "       'year_read_at', 'year_added', 'year_updated', 'spoiler', 'updated',\n",
       "       'update_duration', 'read_duration', 'added_at_read',\n",
       "       'duration_added_at_read', 'added_at_start', 'duration_added_at_start',\n",
       "       'updated_at_read', 'duration_updated_at_read'],\n",
       "      dtype='object')"
      ]
     },
     "execution_count": 58,
     "metadata": {},
     "output_type": "execute_result"
    }
   ],
   "source": [
    "val.columns"
   ]
  },
  {
   "cell_type": "code",
   "execution_count": 8,
   "metadata": {},
   "outputs": [],
   "source": [
    "config = {\"log_preds\":True, \"boosting_type\":\"gbdt\", \"num_leaves\":48, \"max_depth\":-1, \"learning_rate\":0.1, \n",
    "     \"n_estimators\":300, \"min_child_samples\":20, \"subsample\":0.95, \"colsample_bytree\":0.95, \"random_state\":42, \n",
    "     \"reg_alpha\":0.01, \"reg_lambda\":0.04}"
   ]
  },
  {
   "cell_type": "code",
   "execution_count": 9,
   "metadata": {},
   "outputs": [],
   "source": [
    "model = lgb.LGBMClassifier(boosting_type=config[\"boosting_type\"], num_leaves=config[\"num_leaves\"], \n",
    "                               max_depth=config[\"max_depth\"], learning_rate=config[\"learning_rate\"], \n",
    "                               n_estimators=config[\"n_estimators\"], min_child_samples=config[\"min_child_samples\"], \n",
    "                               subsample=config[\"subsample\"], colsample_bytree=config[\"colsample_bytree\"], \n",
    "#                                random_state=config[\"random_state\"],\n",
    "                               reg_alpha=config[\"reg_alpha\"], \n",
    "                               reg_lambda=config[\"reg_lambda\"])"
   ]
  },
  {
   "cell_type": "code",
   "execution_count": 10,
   "metadata": {},
   "outputs": [
    {
     "name": "stdout",
     "output_type": "stream",
     "text": [
      "CONFIG\n",
      "{'boosting_type': 'gbdt', 'class_weight': None, 'colsample_bytree': 0.95, 'importance_type': 'split', 'learning_rate': 0.1, 'max_depth': -1, 'min_child_samples': 20, 'min_child_weight': 0.001, 'min_split_gain': 0.0, 'n_estimators': 300, 'n_jobs': -1, 'num_leaves': 48, 'objective': None, 'random_state': None, 'reg_alpha': 0.01, 'reg_lambda': 0.04, 'silent': True, 'subsample': 0.95, 'subsample_for_bin': 200000, 'subsample_freq': 0}\n"
     ]
    }
   ],
   "source": [
    "train_config = model.get_params()\n",
    "print(\"CONFIG\")\n",
    "print(train_config)"
   ]
  },
  {
   "cell_type": "code",
   "execution_count": 11,
   "metadata": {},
   "outputs": [
    {
     "name": "stderr",
     "output_type": "stream",
     "text": [
      "\u001b[34m\u001b[1mwandb\u001b[0m: Currently logged in as: \u001b[33md-a-pop\u001b[0m. Use \u001b[1m`wandb login --relogin`\u001b[0m to force relogin\n"
     ]
    },
    {
     "data": {
      "text/html": [
       "Tracking run with wandb version 0.14.0"
      ],
      "text/plain": [
       "<IPython.core.display.HTML object>"
      ]
     },
     "metadata": {},
     "output_type": "display_data"
    },
    {
     "data": {
      "text/html": [
       "Run data is saved locally in <code>/Users/dragos/Downloads/wandb/run-20230401_172139-3twb5rqz</code>"
      ],
      "text/plain": [
       "<IPython.core.display.HTML object>"
      ]
     },
     "metadata": {},
     "output_type": "display_data"
    },
    {
     "data": {
      "text/html": [
       "Syncing run <strong><a href='https://wandb.ai/d-a-pop/Goodreads%20Books%20Reviews/runs/3twb5rqz' target=\"_blank\">vague-tree-82</a></strong> to <a href='https://wandb.ai/d-a-pop/Goodreads%20Books%20Reviews' target=\"_blank\">Weights & Biases</a> (<a href='https://wandb.me/run' target=\"_blank\">docs</a>)<br/>"
      ],
      "text/plain": [
       "<IPython.core.display.HTML object>"
      ]
     },
     "metadata": {},
     "output_type": "display_data"
    },
    {
     "data": {
      "text/html": [
       " View project at <a href='https://wandb.ai/d-a-pop/Goodreads%20Books%20Reviews' target=\"_blank\">https://wandb.ai/d-a-pop/Goodreads%20Books%20Reviews</a>"
      ],
      "text/plain": [
       "<IPython.core.display.HTML object>"
      ]
     },
     "metadata": {},
     "output_type": "display_data"
    },
    {
     "data": {
      "text/html": [
       " View run at <a href='https://wandb.ai/d-a-pop/Goodreads%20Books%20Reviews/runs/3twb5rqz' target=\"_blank\">https://wandb.ai/d-a-pop/Goodreads%20Books%20Reviews/runs/3twb5rqz</a>"
      ],
      "text/plain": [
       "<IPython.core.display.HTML object>"
      ]
     },
     "metadata": {},
     "output_type": "display_data"
    }
   ],
   "source": [
    "run = wandb.init(project=\"Goodreads Books Reviews\", entity=\"d-a-pop\", job_type=\"training\", config=train_config)    "
   ]
  },
  {
   "cell_type": "code",
   "execution_count": 12,
   "metadata": {
    "scrolled": true
   },
   "outputs": [
    {
     "name": "stderr",
     "output_type": "stream",
     "text": [
      "/Users/dragos/anaconda3/envs/lgbm/lib/python3.8/site-packages/lightgbm/basic.py:1551: UserWarning: Using categorical_feature in Dataset.\n",
      "  warnings.warn('Using categorical_feature in Dataset.')\n",
      "/Users/dragos/anaconda3/envs/lgbm/lib/python3.8/site-packages/lightgbm/basic.py:1554: UserWarning: categorical_feature in Dataset is overridden.\n",
      "New categorical_feature is ['book_id', 'review_id', 'user_id']\n",
      "  warnings.warn('categorical_feature in Dataset is overridden.\\n'\n",
      "/Users/dragos/anaconda3/envs/lgbm/lib/python3.8/site-packages/lightgbm/basic.py:1286: UserWarning: Overriding the parameters from Reference Dataset.\n",
      "  warnings.warn('Overriding the parameters from Reference Dataset.')\n",
      "/Users/dragos/anaconda3/envs/lgbm/lib/python3.8/site-packages/lightgbm/basic.py:1098: UserWarning: categorical_column in param dict is overridden.\n",
      "  warnings.warn('{} in param dict is overridden.'.format(cat_alias))\n"
     ]
    },
    {
     "name": "stdout",
     "output_type": "stream",
     "text": [
      "[1]\ttraining's multi_logloss: 1.43628\ttraining's macroF1: 0.131939\tvalidation's multi_logloss: 1.43761\tvalidation's macroF1: 0.128939\n",
      "[2]\ttraining's multi_logloss: 1.41059\ttraining's macroF1: 0.184909\tvalidation's multi_logloss: 1.41567\tvalidation's macroF1: 0.177272\n",
      "[3]\ttraining's multi_logloss: 1.39083\ttraining's macroF1: 0.210006\tvalidation's multi_logloss: 1.39868\tvalidation's macroF1: 0.203794\n",
      "[4]\ttraining's multi_logloss: 1.37419\ttraining's macroF1: 0.22695\tvalidation's multi_logloss: 1.3852\tvalidation's macroF1: 0.218658\n",
      "[5]\ttraining's multi_logloss: 1.35983\ttraining's macroF1: 0.24885\tvalidation's multi_logloss: 1.37354\tvalidation's macroF1: 0.240693\n",
      "[6]\ttraining's multi_logloss: 1.34805\ttraining's macroF1: 0.262434\tvalidation's multi_logloss: 1.36505\tvalidation's macroF1: 0.249616\n",
      "[7]\ttraining's multi_logloss: 1.33687\ttraining's macroF1: 0.275467\tvalidation's multi_logloss: 1.3574\tvalidation's macroF1: 0.25945\n",
      "[8]\ttraining's multi_logloss: 1.32706\ttraining's macroF1: 0.285564\tvalidation's multi_logloss: 1.35004\tvalidation's macroF1: 0.268212\n",
      "[9]\ttraining's multi_logloss: 1.31793\ttraining's macroF1: 0.29565\tvalidation's multi_logloss: 1.34434\tvalidation's macroF1: 0.274289\n",
      "[10]\ttraining's multi_logloss: 1.30959\ttraining's macroF1: 0.304131\tvalidation's multi_logloss: 1.33846\tvalidation's macroF1: 0.281079\n",
      "[11]\ttraining's multi_logloss: 1.30175\ttraining's macroF1: 0.312934\tvalidation's multi_logloss: 1.33323\tvalidation's macroF1: 0.288614\n",
      "[12]\ttraining's multi_logloss: 1.29401\ttraining's macroF1: 0.320111\tvalidation's multi_logloss: 1.32786\tvalidation's macroF1: 0.294168\n",
      "[13]\ttraining's multi_logloss: 1.28744\ttraining's macroF1: 0.326165\tvalidation's multi_logloss: 1.32383\tvalidation's macroF1: 0.299323\n",
      "[14]\ttraining's multi_logloss: 1.28099\ttraining's macroF1: 0.332703\tvalidation's multi_logloss: 1.31968\tvalidation's macroF1: 0.30401\n",
      "[15]\ttraining's multi_logloss: 1.27478\ttraining's macroF1: 0.338536\tvalidation's multi_logloss: 1.31604\tvalidation's macroF1: 0.308653\n",
      "[16]\ttraining's multi_logloss: 1.26912\ttraining's macroF1: 0.343861\tvalidation's multi_logloss: 1.31359\tvalidation's macroF1: 0.312064\n",
      "[17]\ttraining's multi_logloss: 1.26318\ttraining's macroF1: 0.349315\tvalidation's multi_logloss: 1.30999\tvalidation's macroF1: 0.315181\n",
      "[18]\ttraining's multi_logloss: 1.25757\ttraining's macroF1: 0.354386\tvalidation's multi_logloss: 1.30662\tvalidation's macroF1: 0.318442\n",
      "[19]\ttraining's multi_logloss: 1.25203\ttraining's macroF1: 0.359046\tvalidation's multi_logloss: 1.30349\tvalidation's macroF1: 0.321706\n",
      "[20]\ttraining's multi_logloss: 1.2469\ttraining's macroF1: 0.363552\tvalidation's multi_logloss: 1.30039\tvalidation's macroF1: 0.325043\n",
      "[21]\ttraining's multi_logloss: 1.24215\ttraining's macroF1: 0.367598\tvalidation's multi_logloss: 1.2978\tvalidation's macroF1: 0.327028\n",
      "[22]\ttraining's multi_logloss: 1.23728\ttraining's macroF1: 0.371955\tvalidation's multi_logloss: 1.29489\tvalidation's macroF1: 0.329039\n",
      "[23]\ttraining's multi_logloss: 1.23288\ttraining's macroF1: 0.376026\tvalidation's multi_logloss: 1.29248\tvalidation's macroF1: 0.33095\n",
      "[24]\ttraining's multi_logloss: 1.22841\ttraining's macroF1: 0.380149\tvalidation's multi_logloss: 1.29013\tvalidation's macroF1: 0.332979\n",
      "[25]\ttraining's multi_logloss: 1.22419\ttraining's macroF1: 0.384673\tvalidation's multi_logloss: 1.28799\tvalidation's macroF1: 0.335768\n",
      "[26]\ttraining's multi_logloss: 1.21988\ttraining's macroF1: 0.388482\tvalidation's multi_logloss: 1.28561\tvalidation's macroF1: 0.337583\n",
      "[27]\ttraining's multi_logloss: 1.21576\ttraining's macroF1: 0.391772\tvalidation's multi_logloss: 1.28342\tvalidation's macroF1: 0.338866\n",
      "[28]\ttraining's multi_logloss: 1.21198\ttraining's macroF1: 0.395703\tvalidation's multi_logloss: 1.28189\tvalidation's macroF1: 0.340989\n",
      "[29]\ttraining's multi_logloss: 1.20844\ttraining's macroF1: 0.399136\tvalidation's multi_logloss: 1.28025\tvalidation's macroF1: 0.342497\n",
      "[30]\ttraining's multi_logloss: 1.20491\ttraining's macroF1: 0.402069\tvalidation's multi_logloss: 1.27835\tvalidation's macroF1: 0.344252\n",
      "[31]\ttraining's multi_logloss: 1.20132\ttraining's macroF1: 0.405481\tvalidation's multi_logloss: 1.27659\tvalidation's macroF1: 0.346355\n",
      "[32]\ttraining's multi_logloss: 1.19771\ttraining's macroF1: 0.408903\tvalidation's multi_logloss: 1.27505\tvalidation's macroF1: 0.347583\n",
      "[33]\ttraining's multi_logloss: 1.19443\ttraining's macroF1: 0.411873\tvalidation's multi_logloss: 1.27365\tvalidation's macroF1: 0.3488\n",
      "[34]\ttraining's multi_logloss: 1.19122\ttraining's macroF1: 0.414878\tvalidation's multi_logloss: 1.27222\tvalidation's macroF1: 0.350389\n",
      "[35]\ttraining's multi_logloss: 1.18808\ttraining's macroF1: 0.417897\tvalidation's multi_logloss: 1.27079\tvalidation's macroF1: 0.352654\n",
      "[36]\ttraining's multi_logloss: 1.18502\ttraining's macroF1: 0.420405\tvalidation's multi_logloss: 1.26947\tvalidation's macroF1: 0.353912\n",
      "[37]\ttraining's multi_logloss: 1.18233\ttraining's macroF1: 0.422968\tvalidation's multi_logloss: 1.26823\tvalidation's macroF1: 0.354874\n",
      "[38]\ttraining's multi_logloss: 1.17946\ttraining's macroF1: 0.425616\tvalidation's multi_logloss: 1.26706\tvalidation's macroF1: 0.356338\n",
      "[39]\ttraining's multi_logloss: 1.17667\ttraining's macroF1: 0.428343\tvalidation's multi_logloss: 1.26592\tvalidation's macroF1: 0.356579\n",
      "[40]\ttraining's multi_logloss: 1.17381\ttraining's macroF1: 0.430835\tvalidation's multi_logloss: 1.26477\tvalidation's macroF1: 0.357249\n",
      "[41]\ttraining's multi_logloss: 1.17113\ttraining's macroF1: 0.433409\tvalidation's multi_logloss: 1.26361\tvalidation's macroF1: 0.358459\n",
      "[42]\ttraining's multi_logloss: 1.16822\ttraining's macroF1: 0.436119\tvalidation's multi_logloss: 1.26245\tvalidation's macroF1: 0.359831\n",
      "[43]\ttraining's multi_logloss: 1.16563\ttraining's macroF1: 0.438449\tvalidation's multi_logloss: 1.26132\tvalidation's macroF1: 0.361569\n",
      "[44]\ttraining's multi_logloss: 1.16313\ttraining's macroF1: 0.440712\tvalidation's multi_logloss: 1.26029\tvalidation's macroF1: 0.362666\n",
      "[45]\ttraining's multi_logloss: 1.16061\ttraining's macroF1: 0.442952\tvalidation's multi_logloss: 1.25932\tvalidation's macroF1: 0.363274\n",
      "[46]\ttraining's multi_logloss: 1.15815\ttraining's macroF1: 0.445196\tvalidation's multi_logloss: 1.25852\tvalidation's macroF1: 0.363978\n",
      "[47]\ttraining's multi_logloss: 1.15588\ttraining's macroF1: 0.447221\tvalidation's multi_logloss: 1.25751\tvalidation's macroF1: 0.364818\n",
      "[48]\ttraining's multi_logloss: 1.15343\ttraining's macroF1: 0.449566\tvalidation's multi_logloss: 1.25659\tvalidation's macroF1: 0.36574\n",
      "[49]\ttraining's multi_logloss: 1.15094\ttraining's macroF1: 0.451892\tvalidation's multi_logloss: 1.25567\tvalidation's macroF1: 0.366728\n",
      "[50]\ttraining's multi_logloss: 1.14853\ttraining's macroF1: 0.453946\tvalidation's multi_logloss: 1.2548\tvalidation's macroF1: 0.367852\n",
      "[51]\ttraining's multi_logloss: 1.1461\ttraining's macroF1: 0.456185\tvalidation's multi_logloss: 1.25403\tvalidation's macroF1: 0.368732\n",
      "[52]\ttraining's multi_logloss: 1.14387\ttraining's macroF1: 0.458354\tvalidation's multi_logloss: 1.25324\tvalidation's macroF1: 0.3694\n",
      "[53]\ttraining's multi_logloss: 1.14167\ttraining's macroF1: 0.459834\tvalidation's multi_logloss: 1.2524\tvalidation's macroF1: 0.369945\n",
      "[54]\ttraining's multi_logloss: 1.13953\ttraining's macroF1: 0.462107\tvalidation's multi_logloss: 1.25185\tvalidation's macroF1: 0.371508\n",
      "[55]\ttraining's multi_logloss: 1.13751\ttraining's macroF1: 0.463871\tvalidation's multi_logloss: 1.2511\tvalidation's macroF1: 0.37198\n",
      "[56]\ttraining's multi_logloss: 1.13538\ttraining's macroF1: 0.465698\tvalidation's multi_logloss: 1.25046\tvalidation's macroF1: 0.37235\n",
      "[57]\ttraining's multi_logloss: 1.13331\ttraining's macroF1: 0.467419\tvalidation's multi_logloss: 1.24977\tvalidation's macroF1: 0.372515\n",
      "[58]\ttraining's multi_logloss: 1.13137\ttraining's macroF1: 0.469275\tvalidation's multi_logloss: 1.24898\tvalidation's macroF1: 0.373969\n",
      "[59]\ttraining's multi_logloss: 1.12929\ttraining's macroF1: 0.471222\tvalidation's multi_logloss: 1.24843\tvalidation's macroF1: 0.37401\n",
      "[60]\ttraining's multi_logloss: 1.12723\ttraining's macroF1: 0.473073\tvalidation's multi_logloss: 1.24797\tvalidation's macroF1: 0.375514\n",
      "[61]\ttraining's multi_logloss: 1.12541\ttraining's macroF1: 0.474756\tvalidation's multi_logloss: 1.24745\tvalidation's macroF1: 0.375454\n"
     ]
    },
    {
     "name": "stdout",
     "output_type": "stream",
     "text": [
      "[62]\ttraining's multi_logloss: 1.12326\ttraining's macroF1: 0.476466\tvalidation's multi_logloss: 1.24668\tvalidation's macroF1: 0.37646\n",
      "[63]\ttraining's multi_logloss: 1.12138\ttraining's macroF1: 0.478072\tvalidation's multi_logloss: 1.24605\tvalidation's macroF1: 0.376983\n",
      "[64]\ttraining's multi_logloss: 1.11965\ttraining's macroF1: 0.47973\tvalidation's multi_logloss: 1.2455\tvalidation's macroF1: 0.37755\n",
      "[65]\ttraining's multi_logloss: 1.1178\ttraining's macroF1: 0.481159\tvalidation's multi_logloss: 1.24502\tvalidation's macroF1: 0.377886\n",
      "[66]\ttraining's multi_logloss: 1.11598\ttraining's macroF1: 0.482793\tvalidation's multi_logloss: 1.24442\tvalidation's macroF1: 0.378949\n",
      "[67]\ttraining's multi_logloss: 1.11428\ttraining's macroF1: 0.484065\tvalidation's multi_logloss: 1.2438\tvalidation's macroF1: 0.379285\n",
      "[68]\ttraining's multi_logloss: 1.11253\ttraining's macroF1: 0.485724\tvalidation's multi_logloss: 1.24336\tvalidation's macroF1: 0.37936\n",
      "[69]\ttraining's multi_logloss: 1.11085\ttraining's macroF1: 0.487131\tvalidation's multi_logloss: 1.24297\tvalidation's macroF1: 0.379569\n",
      "[70]\ttraining's multi_logloss: 1.10898\ttraining's macroF1: 0.488933\tvalidation's multi_logloss: 1.24226\tvalidation's macroF1: 0.38034\n",
      "[71]\ttraining's multi_logloss: 1.10736\ttraining's macroF1: 0.490399\tvalidation's multi_logloss: 1.24181\tvalidation's macroF1: 0.380605\n",
      "[72]\ttraining's multi_logloss: 1.10582\ttraining's macroF1: 0.491726\tvalidation's multi_logloss: 1.24136\tvalidation's macroF1: 0.381349\n",
      "[73]\ttraining's multi_logloss: 1.10427\ttraining's macroF1: 0.492944\tvalidation's multi_logloss: 1.2411\tvalidation's macroF1: 0.381366\n",
      "[74]\ttraining's multi_logloss: 1.1025\ttraining's macroF1: 0.494807\tvalidation's multi_logloss: 1.24069\tvalidation's macroF1: 0.38257\n",
      "[75]\ttraining's multi_logloss: 1.10096\ttraining's macroF1: 0.496021\tvalidation's multi_logloss: 1.24021\tvalidation's macroF1: 0.382784\n",
      "[76]\ttraining's multi_logloss: 1.09923\ttraining's macroF1: 0.497659\tvalidation's multi_logloss: 1.23995\tvalidation's macroF1: 0.383042\n",
      "[77]\ttraining's multi_logloss: 1.09779\ttraining's macroF1: 0.499039\tvalidation's multi_logloss: 1.23963\tvalidation's macroF1: 0.383459\n",
      "[78]\ttraining's multi_logloss: 1.09634\ttraining's macroF1: 0.500376\tvalidation's multi_logloss: 1.23935\tvalidation's macroF1: 0.384319\n",
      "[79]\ttraining's multi_logloss: 1.09474\ttraining's macroF1: 0.501755\tvalidation's multi_logloss: 1.23898\tvalidation's macroF1: 0.384755\n",
      "[80]\ttraining's multi_logloss: 1.0932\ttraining's macroF1: 0.503261\tvalidation's multi_logloss: 1.23862\tvalidation's macroF1: 0.385131\n",
      "[81]\ttraining's multi_logloss: 1.09173\ttraining's macroF1: 0.504607\tvalidation's multi_logloss: 1.2384\tvalidation's macroF1: 0.385244\n",
      "[82]\ttraining's multi_logloss: 1.09038\ttraining's macroF1: 0.505619\tvalidation's multi_logloss: 1.23809\tvalidation's macroF1: 0.385875\n",
      "[83]\ttraining's multi_logloss: 1.08884\ttraining's macroF1: 0.506966\tvalidation's multi_logloss: 1.23766\tvalidation's macroF1: 0.386147\n",
      "[84]\ttraining's multi_logloss: 1.08752\ttraining's macroF1: 0.508046\tvalidation's multi_logloss: 1.23727\tvalidation's macroF1: 0.386499\n",
      "[85]\ttraining's multi_logloss: 1.08613\ttraining's macroF1: 0.509116\tvalidation's multi_logloss: 1.23691\tvalidation's macroF1: 0.386825\n",
      "[86]\ttraining's multi_logloss: 1.08456\ttraining's macroF1: 0.510641\tvalidation's multi_logloss: 1.23656\tvalidation's macroF1: 0.387252\n",
      "[87]\ttraining's multi_logloss: 1.08312\ttraining's macroF1: 0.511794\tvalidation's multi_logloss: 1.2365\tvalidation's macroF1: 0.387259\n",
      "[88]\ttraining's multi_logloss: 1.08179\ttraining's macroF1: 0.512755\tvalidation's multi_logloss: 1.23619\tvalidation's macroF1: 0.38784\n",
      "[89]\ttraining's multi_logloss: 1.08055\ttraining's macroF1: 0.514028\tvalidation's multi_logloss: 1.23594\tvalidation's macroF1: 0.387941\n",
      "[90]\ttraining's multi_logloss: 1.07929\ttraining's macroF1: 0.515363\tvalidation's multi_logloss: 1.23572\tvalidation's macroF1: 0.388317\n",
      "[91]\ttraining's multi_logloss: 1.07786\ttraining's macroF1: 0.516714\tvalidation's multi_logloss: 1.23544\tvalidation's macroF1: 0.38937\n",
      "[92]\ttraining's multi_logloss: 1.07654\ttraining's macroF1: 0.517728\tvalidation's multi_logloss: 1.2352\tvalidation's macroF1: 0.389146\n",
      "[93]\ttraining's multi_logloss: 1.07514\ttraining's macroF1: 0.518956\tvalidation's multi_logloss: 1.23498\tvalidation's macroF1: 0.389202\n",
      "[94]\ttraining's multi_logloss: 1.07374\ttraining's macroF1: 0.520208\tvalidation's multi_logloss: 1.23469\tvalidation's macroF1: 0.389729\n",
      "[95]\ttraining's multi_logloss: 1.07234\ttraining's macroF1: 0.521293\tvalidation's multi_logloss: 1.23446\tvalidation's macroF1: 0.390459\n",
      "[96]\ttraining's multi_logloss: 1.07113\ttraining's macroF1: 0.52225\tvalidation's multi_logloss: 1.23433\tvalidation's macroF1: 0.390739\n",
      "[97]\ttraining's multi_logloss: 1.06983\ttraining's macroF1: 0.523461\tvalidation's multi_logloss: 1.23396\tvalidation's macroF1: 0.391115\n",
      "[98]\ttraining's multi_logloss: 1.06853\ttraining's macroF1: 0.524598\tvalidation's multi_logloss: 1.23373\tvalidation's macroF1: 0.391406\n",
      "[99]\ttraining's multi_logloss: 1.06734\ttraining's macroF1: 0.525743\tvalidation's multi_logloss: 1.2335\tvalidation's macroF1: 0.391571\n",
      "[100]\ttraining's multi_logloss: 1.06617\ttraining's macroF1: 0.5268\tvalidation's multi_logloss: 1.23336\tvalidation's macroF1: 0.391789\n",
      "[101]\ttraining's multi_logloss: 1.0647\ttraining's macroF1: 0.527984\tvalidation's multi_logloss: 1.23315\tvalidation's macroF1: 0.392443\n",
      "[102]\ttraining's multi_logloss: 1.06343\ttraining's macroF1: 0.529263\tvalidation's multi_logloss: 1.23296\tvalidation's macroF1: 0.392783\n",
      "[103]\ttraining's multi_logloss: 1.06222\ttraining's macroF1: 0.530344\tvalidation's multi_logloss: 1.23276\tvalidation's macroF1: 0.393027\n",
      "[104]\ttraining's multi_logloss: 1.0612\ttraining's macroF1: 0.531335\tvalidation's multi_logloss: 1.23262\tvalidation's macroF1: 0.393115\n",
      "[105]\ttraining's multi_logloss: 1.06009\ttraining's macroF1: 0.532237\tvalidation's multi_logloss: 1.23247\tvalidation's macroF1: 0.393336\n",
      "[106]\ttraining's multi_logloss: 1.05887\ttraining's macroF1: 0.533263\tvalidation's multi_logloss: 1.23233\tvalidation's macroF1: 0.393737\n",
      "[107]\ttraining's multi_logloss: 1.0578\ttraining's macroF1: 0.533957\tvalidation's multi_logloss: 1.23219\tvalidation's macroF1: 0.393618\n",
      "[108]\ttraining's multi_logloss: 1.05638\ttraining's macroF1: 0.53493\tvalidation's multi_logloss: 1.232\tvalidation's macroF1: 0.394229\n",
      "[109]\ttraining's multi_logloss: 1.05516\ttraining's macroF1: 0.53609\tvalidation's multi_logloss: 1.23176\tvalidation's macroF1: 0.394424\n",
      "[110]\ttraining's multi_logloss: 1.05391\ttraining's macroF1: 0.53713\tvalidation's multi_logloss: 1.23162\tvalidation's macroF1: 0.394308\n",
      "[111]\ttraining's multi_logloss: 1.0528\ttraining's macroF1: 0.53809\tvalidation's multi_logloss: 1.23144\tvalidation's macroF1: 0.394766\n",
      "[112]\ttraining's multi_logloss: 1.0516\ttraining's macroF1: 0.539143\tvalidation's multi_logloss: 1.2314\tvalidation's macroF1: 0.395201\n",
      "[113]\ttraining's multi_logloss: 1.05046\ttraining's macroF1: 0.540122\tvalidation's multi_logloss: 1.23125\tvalidation's macroF1: 0.395432\n",
      "[114]\ttraining's multi_logloss: 1.04932\ttraining's macroF1: 0.541127\tvalidation's multi_logloss: 1.23115\tvalidation's macroF1: 0.395748\n",
      "[115]\ttraining's multi_logloss: 1.04824\ttraining's macroF1: 0.542059\tvalidation's multi_logloss: 1.23103\tvalidation's macroF1: 0.395821\n",
      "[116]\ttraining's multi_logloss: 1.04689\ttraining's macroF1: 0.543091\tvalidation's multi_logloss: 1.23101\tvalidation's macroF1: 0.395884\n",
      "[117]\ttraining's multi_logloss: 1.04586\ttraining's macroF1: 0.543969\tvalidation's multi_logloss: 1.23096\tvalidation's macroF1: 0.395682\n",
      "[118]\ttraining's multi_logloss: 1.04487\ttraining's macroF1: 0.544867\tvalidation's multi_logloss: 1.23086\tvalidation's macroF1: 0.395835\n",
      "[119]\ttraining's multi_logloss: 1.04392\ttraining's macroF1: 0.545612\tvalidation's multi_logloss: 1.23076\tvalidation's macroF1: 0.395864\n",
      "[120]\ttraining's multi_logloss: 1.04276\ttraining's macroF1: 0.546547\tvalidation's multi_logloss: 1.23055\tvalidation's macroF1: 0.396161\n",
      "[121]\ttraining's multi_logloss: 1.04155\ttraining's macroF1: 0.547677\tvalidation's multi_logloss: 1.23053\tvalidation's macroF1: 0.395975\n",
      "[122]\ttraining's multi_logloss: 1.04051\ttraining's macroF1: 0.548525\tvalidation's multi_logloss: 1.23043\tvalidation's macroF1: 0.396108\n"
     ]
    },
    {
     "name": "stdout",
     "output_type": "stream",
     "text": [
      "[123]\ttraining's multi_logloss: 1.03957\ttraining's macroF1: 0.549402\tvalidation's multi_logloss: 1.23034\tvalidation's macroF1: 0.396649\n",
      "[124]\ttraining's multi_logloss: 1.0385\ttraining's macroF1: 0.550313\tvalidation's multi_logloss: 1.23022\tvalidation's macroF1: 0.39718\n",
      "[125]\ttraining's multi_logloss: 1.0374\ttraining's macroF1: 0.551405\tvalidation's multi_logloss: 1.23007\tvalidation's macroF1: 0.397436\n",
      "[126]\ttraining's multi_logloss: 1.03612\ttraining's macroF1: 0.552527\tvalidation's multi_logloss: 1.22994\tvalidation's macroF1: 0.397596\n",
      "[127]\ttraining's multi_logloss: 1.03517\ttraining's macroF1: 0.553178\tvalidation's multi_logloss: 1.22991\tvalidation's macroF1: 0.397761\n",
      "[128]\ttraining's multi_logloss: 1.03414\ttraining's macroF1: 0.554029\tvalidation's multi_logloss: 1.22994\tvalidation's macroF1: 0.397905\n",
      "[129]\ttraining's multi_logloss: 1.0329\ttraining's macroF1: 0.555086\tvalidation's multi_logloss: 1.22988\tvalidation's macroF1: 0.397702\n",
      "[130]\ttraining's multi_logloss: 1.03202\ttraining's macroF1: 0.555857\tvalidation's multi_logloss: 1.22984\tvalidation's macroF1: 0.39779\n",
      "[131]\ttraining's multi_logloss: 1.03094\ttraining's macroF1: 0.556771\tvalidation's multi_logloss: 1.22972\tvalidation's macroF1: 0.397984\n",
      "[132]\ttraining's multi_logloss: 1.02995\ttraining's macroF1: 0.557615\tvalidation's multi_logloss: 1.22969\tvalidation's macroF1: 0.397925\n",
      "[133]\ttraining's multi_logloss: 1.02892\ttraining's macroF1: 0.558409\tvalidation's multi_logloss: 1.22968\tvalidation's macroF1: 0.398384\n",
      "[134]\ttraining's multi_logloss: 1.02789\ttraining's macroF1: 0.559349\tvalidation's multi_logloss: 1.22959\tvalidation's macroF1: 0.398197\n",
      "[135]\ttraining's multi_logloss: 1.0268\ttraining's macroF1: 0.560105\tvalidation's multi_logloss: 1.22956\tvalidation's macroF1: 0.398689\n",
      "[136]\ttraining's multi_logloss: 1.02592\ttraining's macroF1: 0.560946\tvalidation's multi_logloss: 1.22952\tvalidation's macroF1: 0.399001\n",
      "[137]\ttraining's multi_logloss: 1.02481\ttraining's macroF1: 0.561731\tvalidation's multi_logloss: 1.22941\tvalidation's macroF1: 0.398993\n",
      "[138]\ttraining's multi_logloss: 1.02373\ttraining's macroF1: 0.562806\tvalidation's multi_logloss: 1.22942\tvalidation's macroF1: 0.398865\n",
      "[139]\ttraining's multi_logloss: 1.02263\ttraining's macroF1: 0.563686\tvalidation's multi_logloss: 1.22943\tvalidation's macroF1: 0.399204\n",
      "[140]\ttraining's multi_logloss: 1.02183\ttraining's macroF1: 0.564282\tvalidation's multi_logloss: 1.2293\tvalidation's macroF1: 0.399174\n",
      "[141]\ttraining's multi_logloss: 1.02103\ttraining's macroF1: 0.564926\tvalidation's multi_logloss: 1.22928\tvalidation's macroF1: 0.399244\n",
      "[142]\ttraining's multi_logloss: 1.0201\ttraining's macroF1: 0.565622\tvalidation's multi_logloss: 1.22925\tvalidation's macroF1: 0.399888\n",
      "[143]\ttraining's multi_logloss: 1.01893\ttraining's macroF1: 0.566489\tvalidation's multi_logloss: 1.22922\tvalidation's macroF1: 0.400108\n",
      "[144]\ttraining's multi_logloss: 1.01797\ttraining's macroF1: 0.567307\tvalidation's multi_logloss: 1.22921\tvalidation's macroF1: 0.400209\n",
      "[145]\ttraining's multi_logloss: 1.01697\ttraining's macroF1: 0.568111\tvalidation's multi_logloss: 1.22912\tvalidation's macroF1: 0.400072\n",
      "[146]\ttraining's multi_logloss: 1.01615\ttraining's macroF1: 0.568671\tvalidation's multi_logloss: 1.22913\tvalidation's macroF1: 0.400281\n",
      "[147]\ttraining's multi_logloss: 1.01519\ttraining's macroF1: 0.569522\tvalidation's multi_logloss: 1.22908\tvalidation's macroF1: 0.401137\n",
      "[148]\ttraining's multi_logloss: 1.01436\ttraining's macroF1: 0.570212\tvalidation's multi_logloss: 1.22906\tvalidation's macroF1: 0.400957\n",
      "[149]\ttraining's multi_logloss: 1.01338\ttraining's macroF1: 0.570914\tvalidation's multi_logloss: 1.22901\tvalidation's macroF1: 0.401044\n",
      "[150]\ttraining's multi_logloss: 1.01253\ttraining's macroF1: 0.57157\tvalidation's multi_logloss: 1.22894\tvalidation's macroF1: 0.401285\n",
      "[151]\ttraining's multi_logloss: 1.01158\ttraining's macroF1: 0.572524\tvalidation's multi_logloss: 1.22892\tvalidation's macroF1: 0.401118\n",
      "[152]\ttraining's multi_logloss: 1.01075\ttraining's macroF1: 0.573138\tvalidation's multi_logloss: 1.22887\tvalidation's macroF1: 0.401245\n",
      "[153]\ttraining's multi_logloss: 1.0098\ttraining's macroF1: 0.574052\tvalidation's multi_logloss: 1.22894\tvalidation's macroF1: 0.401348\n",
      "[154]\ttraining's multi_logloss: 1.00901\ttraining's macroF1: 0.574542\tvalidation's multi_logloss: 1.22894\tvalidation's macroF1: 0.401263\n",
      "[155]\ttraining's multi_logloss: 1.00815\ttraining's macroF1: 0.575076\tvalidation's multi_logloss: 1.2289\tvalidation's macroF1: 0.401291\n",
      "[156]\ttraining's multi_logloss: 1.0072\ttraining's macroF1: 0.57568\tvalidation's multi_logloss: 1.22876\tvalidation's macroF1: 0.40159\n",
      "[157]\ttraining's multi_logloss: 1.00651\ttraining's macroF1: 0.576166\tvalidation's multi_logloss: 1.2288\tvalidation's macroF1: 0.401556\n",
      "[158]\ttraining's multi_logloss: 1.00554\ttraining's macroF1: 0.576933\tvalidation's multi_logloss: 1.22877\tvalidation's macroF1: 0.401498\n",
      "[159]\ttraining's multi_logloss: 1.00464\ttraining's macroF1: 0.577691\tvalidation's multi_logloss: 1.22881\tvalidation's macroF1: 0.401642\n",
      "[160]\ttraining's multi_logloss: 1.00383\ttraining's macroF1: 0.578438\tvalidation's multi_logloss: 1.22876\tvalidation's macroF1: 0.402323\n",
      "[161]\ttraining's multi_logloss: 1.00298\ttraining's macroF1: 0.579148\tvalidation's multi_logloss: 1.22873\tvalidation's macroF1: 0.402244\n",
      "[162]\ttraining's multi_logloss: 1.00209\ttraining's macroF1: 0.579878\tvalidation's multi_logloss: 1.22883\tvalidation's macroF1: 0.402269\n",
      "[163]\ttraining's multi_logloss: 1.0011\ttraining's macroF1: 0.580544\tvalidation's multi_logloss: 1.22888\tvalidation's macroF1: 0.402332\n",
      "[164]\ttraining's multi_logloss: 1.00002\ttraining's macroF1: 0.581346\tvalidation's multi_logloss: 1.22892\tvalidation's macroF1: 0.402559\n",
      "[165]\ttraining's multi_logloss: 0.9991\ttraining's macroF1: 0.582039\tvalidation's multi_logloss: 1.22886\tvalidation's macroF1: 0.403003\n",
      "[166]\ttraining's multi_logloss: 0.998222\ttraining's macroF1: 0.582765\tvalidation's multi_logloss: 1.22896\tvalidation's macroF1: 0.402894\n",
      "[167]\ttraining's multi_logloss: 0.997429\ttraining's macroF1: 0.583403\tvalidation's multi_logloss: 1.22892\tvalidation's macroF1: 0.403139\n",
      "[168]\ttraining's multi_logloss: 0.996563\ttraining's macroF1: 0.583869\tvalidation's multi_logloss: 1.22902\tvalidation's macroF1: 0.403126\n",
      "[169]\ttraining's multi_logloss: 0.995688\ttraining's macroF1: 0.584642\tvalidation's multi_logloss: 1.229\tvalidation's macroF1: 0.403067\n",
      "[170]\ttraining's multi_logloss: 0.994934\ttraining's macroF1: 0.585195\tvalidation's multi_logloss: 1.22893\tvalidation's macroF1: 0.403023\n",
      "[171]\ttraining's multi_logloss: 0.994212\ttraining's macroF1: 0.585897\tvalidation's multi_logloss: 1.22899\tvalidation's macroF1: 0.403061\n",
      "[172]\ttraining's multi_logloss: 0.993278\ttraining's macroF1: 0.586525\tvalidation's multi_logloss: 1.22908\tvalidation's macroF1: 0.402552\n",
      "[173]\ttraining's multi_logloss: 0.992554\ttraining's macroF1: 0.587135\tvalidation's multi_logloss: 1.22906\tvalidation's macroF1: 0.402853\n",
      "[174]\ttraining's multi_logloss: 0.991567\ttraining's macroF1: 0.587951\tvalidation's multi_logloss: 1.22912\tvalidation's macroF1: 0.40327\n",
      "[175]\ttraining's multi_logloss: 0.990823\ttraining's macroF1: 0.588626\tvalidation's multi_logloss: 1.22914\tvalidation's macroF1: 0.40332\n",
      "[176]\ttraining's multi_logloss: 0.990069\ttraining's macroF1: 0.589095\tvalidation's multi_logloss: 1.2291\tvalidation's macroF1: 0.40353\n",
      "[177]\ttraining's multi_logloss: 0.989342\ttraining's macroF1: 0.589751\tvalidation's multi_logloss: 1.22915\tvalidation's macroF1: 0.403548\n",
      "[178]\ttraining's multi_logloss: 0.988545\ttraining's macroF1: 0.590503\tvalidation's multi_logloss: 1.22911\tvalidation's macroF1: 0.403708\n",
      "[179]\ttraining's multi_logloss: 0.987726\ttraining's macroF1: 0.591079\tvalidation's multi_logloss: 1.22908\tvalidation's macroF1: 0.403925\n",
      "[180]\ttraining's multi_logloss: 0.986938\ttraining's macroF1: 0.591753\tvalidation's multi_logloss: 1.22919\tvalidation's macroF1: 0.403703\n",
      "[181]\ttraining's multi_logloss: 0.986162\ttraining's macroF1: 0.592482\tvalidation's multi_logloss: 1.22927\tvalidation's macroF1: 0.403572\n",
      "[182]\ttraining's multi_logloss: 0.985344\ttraining's macroF1: 0.593252\tvalidation's multi_logloss: 1.22932\tvalidation's macroF1: 0.40338\n",
      "[183]\ttraining's multi_logloss: 0.984498\ttraining's macroF1: 0.593942\tvalidation's multi_logloss: 1.22936\tvalidation's macroF1: 0.403611\n"
     ]
    },
    {
     "name": "stdout",
     "output_type": "stream",
     "text": [
      "[184]\ttraining's multi_logloss: 0.983642\ttraining's macroF1: 0.594459\tvalidation's multi_logloss: 1.22932\tvalidation's macroF1: 0.403424\n",
      "[185]\ttraining's multi_logloss: 0.982834\ttraining's macroF1: 0.595067\tvalidation's multi_logloss: 1.22945\tvalidation's macroF1: 0.403785\n",
      "[186]\ttraining's multi_logloss: 0.982238\ttraining's macroF1: 0.59546\tvalidation's multi_logloss: 1.22942\tvalidation's macroF1: 0.403425\n",
      "[187]\ttraining's multi_logloss: 0.981206\ttraining's macroF1: 0.596151\tvalidation's multi_logloss: 1.22943\tvalidation's macroF1: 0.403395\n",
      "[188]\ttraining's multi_logloss: 0.980522\ttraining's macroF1: 0.596753\tvalidation's multi_logloss: 1.2294\tvalidation's macroF1: 0.4036\n",
      "[189]\ttraining's multi_logloss: 0.979835\ttraining's macroF1: 0.597334\tvalidation's multi_logloss: 1.2294\tvalidation's macroF1: 0.403745\n",
      "[190]\ttraining's multi_logloss: 0.978776\ttraining's macroF1: 0.598381\tvalidation's multi_logloss: 1.22945\tvalidation's macroF1: 0.403917\n",
      "[191]\ttraining's multi_logloss: 0.977848\ttraining's macroF1: 0.599067\tvalidation's multi_logloss: 1.22947\tvalidation's macroF1: 0.404149\n",
      "[192]\ttraining's multi_logloss: 0.97721\ttraining's macroF1: 0.599504\tvalidation's multi_logloss: 1.22953\tvalidation's macroF1: 0.40385\n",
      "[193]\ttraining's multi_logloss: 0.976434\ttraining's macroF1: 0.600093\tvalidation's multi_logloss: 1.22954\tvalidation's macroF1: 0.403824\n",
      "[194]\ttraining's multi_logloss: 0.975583\ttraining's macroF1: 0.6008\tvalidation's multi_logloss: 1.22953\tvalidation's macroF1: 0.403939\n",
      "[195]\ttraining's multi_logloss: 0.974823\ttraining's macroF1: 0.60133\tvalidation's multi_logloss: 1.22947\tvalidation's macroF1: 0.404121\n",
      "[196]\ttraining's multi_logloss: 0.973954\ttraining's macroF1: 0.602031\tvalidation's multi_logloss: 1.22959\tvalidation's macroF1: 0.404056\n",
      "[197]\ttraining's multi_logloss: 0.973141\ttraining's macroF1: 0.602605\tvalidation's multi_logloss: 1.22964\tvalidation's macroF1: 0.404217\n",
      "[198]\ttraining's multi_logloss: 0.972441\ttraining's macroF1: 0.603057\tvalidation's multi_logloss: 1.22965\tvalidation's macroF1: 0.404462\n",
      "[199]\ttraining's multi_logloss: 0.971764\ttraining's macroF1: 0.603523\tvalidation's multi_logloss: 1.22974\tvalidation's macroF1: 0.404547\n",
      "[200]\ttraining's multi_logloss: 0.970941\ttraining's macroF1: 0.604247\tvalidation's multi_logloss: 1.22973\tvalidation's macroF1: 0.404622\n",
      "[201]\ttraining's multi_logloss: 0.970117\ttraining's macroF1: 0.604947\tvalidation's multi_logloss: 1.22975\tvalidation's macroF1: 0.404584\n",
      "[202]\ttraining's multi_logloss: 0.969323\ttraining's macroF1: 0.605585\tvalidation's multi_logloss: 1.22981\tvalidation's macroF1: 0.405048\n",
      "[203]\ttraining's multi_logloss: 0.96856\ttraining's macroF1: 0.606168\tvalidation's multi_logloss: 1.22986\tvalidation's macroF1: 0.405464\n",
      "[204]\ttraining's multi_logloss: 0.96778\ttraining's macroF1: 0.60675\tvalidation's multi_logloss: 1.22991\tvalidation's macroF1: 0.405482\n",
      "[205]\ttraining's multi_logloss: 0.967269\ttraining's macroF1: 0.607194\tvalidation's multi_logloss: 1.22992\tvalidation's macroF1: 0.405108\n",
      "[206]\ttraining's multi_logloss: 0.966609\ttraining's macroF1: 0.607673\tvalidation's multi_logloss: 1.22996\tvalidation's macroF1: 0.40493\n",
      "[207]\ttraining's multi_logloss: 0.965897\ttraining's macroF1: 0.60821\tvalidation's multi_logloss: 1.22995\tvalidation's macroF1: 0.405034\n",
      "[208]\ttraining's multi_logloss: 0.965197\ttraining's macroF1: 0.608701\tvalidation's multi_logloss: 1.23\tvalidation's macroF1: 0.404935\n",
      "[209]\ttraining's multi_logloss: 0.964568\ttraining's macroF1: 0.609097\tvalidation's multi_logloss: 1.23006\tvalidation's macroF1: 0.405199\n",
      "[210]\ttraining's multi_logloss: 0.96382\ttraining's macroF1: 0.609777\tvalidation's multi_logloss: 1.23011\tvalidation's macroF1: 0.405062\n",
      "[211]\ttraining's multi_logloss: 0.963113\ttraining's macroF1: 0.610193\tvalidation's multi_logloss: 1.23013\tvalidation's macroF1: 0.405103\n",
      "[212]\ttraining's multi_logloss: 0.962552\ttraining's macroF1: 0.610635\tvalidation's multi_logloss: 1.23021\tvalidation's macroF1: 0.405283\n",
      "[213]\ttraining's multi_logloss: 0.961841\ttraining's macroF1: 0.611133\tvalidation's multi_logloss: 1.23023\tvalidation's macroF1: 0.405585\n",
      "[214]\ttraining's multi_logloss: 0.961126\ttraining's macroF1: 0.611576\tvalidation's multi_logloss: 1.23036\tvalidation's macroF1: 0.405496\n",
      "[215]\ttraining's multi_logloss: 0.960491\ttraining's macroF1: 0.612071\tvalidation's multi_logloss: 1.23042\tvalidation's macroF1: 0.405501\n",
      "[216]\ttraining's multi_logloss: 0.959929\ttraining's macroF1: 0.612433\tvalidation's multi_logloss: 1.23053\tvalidation's macroF1: 0.405477\n",
      "[217]\ttraining's multi_logloss: 0.95915\ttraining's macroF1: 0.612954\tvalidation's multi_logloss: 1.23064\tvalidation's macroF1: 0.40551\n",
      "[218]\ttraining's multi_logloss: 0.958399\ttraining's macroF1: 0.613615\tvalidation's multi_logloss: 1.23075\tvalidation's macroF1: 0.405437\n",
      "[219]\ttraining's multi_logloss: 0.957667\ttraining's macroF1: 0.614119\tvalidation's multi_logloss: 1.23086\tvalidation's macroF1: 0.405538\n",
      "[220]\ttraining's multi_logloss: 0.956815\ttraining's macroF1: 0.614735\tvalidation's multi_logloss: 1.23088\tvalidation's macroF1: 0.4055\n",
      "[221]\ttraining's multi_logloss: 0.956222\ttraining's macroF1: 0.615251\tvalidation's multi_logloss: 1.23094\tvalidation's macroF1: 0.405463\n",
      "[222]\ttraining's multi_logloss: 0.955589\ttraining's macroF1: 0.615762\tvalidation's multi_logloss: 1.23105\tvalidation's macroF1: 0.405769\n",
      "[223]\ttraining's multi_logloss: 0.954817\ttraining's macroF1: 0.616463\tvalidation's multi_logloss: 1.23109\tvalidation's macroF1: 0.40577\n",
      "[224]\ttraining's multi_logloss: 0.954274\ttraining's macroF1: 0.616894\tvalidation's multi_logloss: 1.23113\tvalidation's macroF1: 0.405965\n",
      "[225]\ttraining's multi_logloss: 0.953618\ttraining's macroF1: 0.617429\tvalidation's multi_logloss: 1.23123\tvalidation's macroF1: 0.405768\n",
      "[226]\ttraining's multi_logloss: 0.952969\ttraining's macroF1: 0.617945\tvalidation's multi_logloss: 1.23127\tvalidation's macroF1: 0.405539\n",
      "[227]\ttraining's multi_logloss: 0.952266\ttraining's macroF1: 0.618536\tvalidation's multi_logloss: 1.23139\tvalidation's macroF1: 0.405708\n",
      "[228]\ttraining's multi_logloss: 0.951714\ttraining's macroF1: 0.619133\tvalidation's multi_logloss: 1.23142\tvalidation's macroF1: 0.405971\n",
      "[229]\ttraining's multi_logloss: 0.951086\ttraining's macroF1: 0.619634\tvalidation's multi_logloss: 1.23144\tvalidation's macroF1: 0.405949\n",
      "[230]\ttraining's multi_logloss: 0.950336\ttraining's macroF1: 0.620217\tvalidation's multi_logloss: 1.23154\tvalidation's macroF1: 0.406132\n",
      "[231]\ttraining's multi_logloss: 0.949614\ttraining's macroF1: 0.620813\tvalidation's multi_logloss: 1.23154\tvalidation's macroF1: 0.405965\n",
      "[232]\ttraining's multi_logloss: 0.949\ttraining's macroF1: 0.621323\tvalidation's multi_logloss: 1.23166\tvalidation's macroF1: 0.406013\n",
      "[233]\ttraining's multi_logloss: 0.948419\ttraining's macroF1: 0.621783\tvalidation's multi_logloss: 1.23163\tvalidation's macroF1: 0.405628\n",
      "[234]\ttraining's multi_logloss: 0.947816\ttraining's macroF1: 0.622258\tvalidation's multi_logloss: 1.23169\tvalidation's macroF1: 0.405818\n",
      "[235]\ttraining's multi_logloss: 0.947117\ttraining's macroF1: 0.622885\tvalidation's multi_logloss: 1.23176\tvalidation's macroF1: 0.40551\n",
      "[236]\ttraining's multi_logloss: 0.946274\ttraining's macroF1: 0.623502\tvalidation's multi_logloss: 1.23187\tvalidation's macroF1: 0.405383\n",
      "[237]\ttraining's multi_logloss: 0.945554\ttraining's macroF1: 0.624078\tvalidation's multi_logloss: 1.23191\tvalidation's macroF1: 0.405251\n",
      "[238]\ttraining's multi_logloss: 0.944913\ttraining's macroF1: 0.624736\tvalidation's multi_logloss: 1.23192\tvalidation's macroF1: 0.40499\n",
      "[239]\ttraining's multi_logloss: 0.944251\ttraining's macroF1: 0.625345\tvalidation's multi_logloss: 1.23199\tvalidation's macroF1: 0.405071\n",
      "[240]\ttraining's multi_logloss: 0.943715\ttraining's macroF1: 0.625865\tvalidation's multi_logloss: 1.23196\tvalidation's macroF1: 0.404958\n",
      "[241]\ttraining's multi_logloss: 0.943031\ttraining's macroF1: 0.62642\tvalidation's multi_logloss: 1.23202\tvalidation's macroF1: 0.405357\n",
      "[242]\ttraining's multi_logloss: 0.942397\ttraining's macroF1: 0.626979\tvalidation's multi_logloss: 1.23206\tvalidation's macroF1: 0.405489\n",
      "[243]\ttraining's multi_logloss: 0.941819\ttraining's macroF1: 0.627391\tvalidation's multi_logloss: 1.23208\tvalidation's macroF1: 0.405756\n",
      "[244]\ttraining's multi_logloss: 0.941015\ttraining's macroF1: 0.627997\tvalidation's multi_logloss: 1.23208\tvalidation's macroF1: 0.405951\n"
     ]
    },
    {
     "name": "stdout",
     "output_type": "stream",
     "text": [
      "[245]\ttraining's multi_logloss: 0.94028\ttraining's macroF1: 0.628653\tvalidation's multi_logloss: 1.23223\tvalidation's macroF1: 0.405864\n",
      "[246]\ttraining's multi_logloss: 0.939661\ttraining's macroF1: 0.629046\tvalidation's multi_logloss: 1.23228\tvalidation's macroF1: 0.40589\n",
      "[247]\ttraining's multi_logloss: 0.939137\ttraining's macroF1: 0.629448\tvalidation's multi_logloss: 1.23234\tvalidation's macroF1: 0.405966\n",
      "[248]\ttraining's multi_logloss: 0.938522\ttraining's macroF1: 0.629963\tvalidation's multi_logloss: 1.23237\tvalidation's macroF1: 0.406161\n",
      "[249]\ttraining's multi_logloss: 0.937911\ttraining's macroF1: 0.630436\tvalidation's multi_logloss: 1.23241\tvalidation's macroF1: 0.406057\n",
      "[250]\ttraining's multi_logloss: 0.937305\ttraining's macroF1: 0.631115\tvalidation's multi_logloss: 1.23248\tvalidation's macroF1: 0.406061\n",
      "[251]\ttraining's multi_logloss: 0.936749\ttraining's macroF1: 0.631625\tvalidation's multi_logloss: 1.23261\tvalidation's macroF1: 0.406101\n",
      "[252]\ttraining's multi_logloss: 0.936027\ttraining's macroF1: 0.632106\tvalidation's multi_logloss: 1.23269\tvalidation's macroF1: 0.405824\n",
      "[253]\ttraining's multi_logloss: 0.93549\ttraining's macroF1: 0.632485\tvalidation's multi_logloss: 1.2328\tvalidation's macroF1: 0.405859\n",
      "[254]\ttraining's multi_logloss: 0.934941\ttraining's macroF1: 0.633007\tvalidation's multi_logloss: 1.23288\tvalidation's macroF1: 0.405723\n",
      "[255]\ttraining's multi_logloss: 0.934367\ttraining's macroF1: 0.633457\tvalidation's multi_logloss: 1.23297\tvalidation's macroF1: 0.405677\n",
      "[256]\ttraining's multi_logloss: 0.93381\ttraining's macroF1: 0.633787\tvalidation's multi_logloss: 1.23302\tvalidation's macroF1: 0.405992\n",
      "[257]\ttraining's multi_logloss: 0.933285\ttraining's macroF1: 0.634241\tvalidation's multi_logloss: 1.2332\tvalidation's macroF1: 0.405844\n",
      "[258]\ttraining's multi_logloss: 0.93273\ttraining's macroF1: 0.634738\tvalidation's multi_logloss: 1.23329\tvalidation's macroF1: 0.406117\n",
      "[259]\ttraining's multi_logloss: 0.932202\ttraining's macroF1: 0.635137\tvalidation's multi_logloss: 1.23337\tvalidation's macroF1: 0.406091\n",
      "[260]\ttraining's multi_logloss: 0.931559\ttraining's macroF1: 0.635697\tvalidation's multi_logloss: 1.23342\tvalidation's macroF1: 0.405889\n",
      "[261]\ttraining's multi_logloss: 0.931019\ttraining's macroF1: 0.636214\tvalidation's multi_logloss: 1.23347\tvalidation's macroF1: 0.405925\n",
      "[262]\ttraining's multi_logloss: 0.930405\ttraining's macroF1: 0.6367\tvalidation's multi_logloss: 1.23358\tvalidation's macroF1: 0.405865\n",
      "[263]\ttraining's multi_logloss: 0.929844\ttraining's macroF1: 0.637208\tvalidation's multi_logloss: 1.23365\tvalidation's macroF1: 0.405811\n",
      "[264]\ttraining's multi_logloss: 0.929288\ttraining's macroF1: 0.637762\tvalidation's multi_logloss: 1.23371\tvalidation's macroF1: 0.405643\n",
      "[265]\ttraining's multi_logloss: 0.92863\ttraining's macroF1: 0.638239\tvalidation's multi_logloss: 1.23385\tvalidation's macroF1: 0.405902\n",
      "[266]\ttraining's multi_logloss: 0.927957\ttraining's macroF1: 0.638869\tvalidation's multi_logloss: 1.2339\tvalidation's macroF1: 0.406497\n",
      "[267]\ttraining's multi_logloss: 0.92741\ttraining's macroF1: 0.63935\tvalidation's multi_logloss: 1.23394\tvalidation's macroF1: 0.40638\n",
      "[268]\ttraining's multi_logloss: 0.92688\ttraining's macroF1: 0.63964\tvalidation's multi_logloss: 1.23393\tvalidation's macroF1: 0.40675\n",
      "[269]\ttraining's multi_logloss: 0.926208\ttraining's macroF1: 0.640188\tvalidation's multi_logloss: 1.23401\tvalidation's macroF1: 0.406826\n",
      "[270]\ttraining's multi_logloss: 0.925573\ttraining's macroF1: 0.64069\tvalidation's multi_logloss: 1.23411\tvalidation's macroF1: 0.406715\n",
      "[271]\ttraining's multi_logloss: 0.925047\ttraining's macroF1: 0.641058\tvalidation's multi_logloss: 1.23418\tvalidation's macroF1: 0.406637\n",
      "[272]\ttraining's multi_logloss: 0.924526\ttraining's macroF1: 0.641467\tvalidation's multi_logloss: 1.23424\tvalidation's macroF1: 0.406428\n",
      "[273]\ttraining's multi_logloss: 0.923783\ttraining's macroF1: 0.641905\tvalidation's multi_logloss: 1.23432\tvalidation's macroF1: 0.40639\n",
      "[274]\ttraining's multi_logloss: 0.923289\ttraining's macroF1: 0.642324\tvalidation's multi_logloss: 1.23437\tvalidation's macroF1: 0.406651\n",
      "[275]\ttraining's multi_logloss: 0.922824\ttraining's macroF1: 0.642705\tvalidation's multi_logloss: 1.23441\tvalidation's macroF1: 0.406466\n",
      "[276]\ttraining's multi_logloss: 0.922174\ttraining's macroF1: 0.643195\tvalidation's multi_logloss: 1.2345\tvalidation's macroF1: 0.40648\n",
      "[277]\ttraining's multi_logloss: 0.921405\ttraining's macroF1: 0.643726\tvalidation's multi_logloss: 1.23463\tvalidation's macroF1: 0.40673\n",
      "[278]\ttraining's multi_logloss: 0.92086\ttraining's macroF1: 0.64422\tvalidation's multi_logloss: 1.23478\tvalidation's macroF1: 0.406749\n",
      "[279]\ttraining's multi_logloss: 0.920238\ttraining's macroF1: 0.64472\tvalidation's multi_logloss: 1.23483\tvalidation's macroF1: 0.406599\n",
      "[280]\ttraining's multi_logloss: 0.919719\ttraining's macroF1: 0.645175\tvalidation's multi_logloss: 1.23489\tvalidation's macroF1: 0.406514\n",
      "[281]\ttraining's multi_logloss: 0.919291\ttraining's macroF1: 0.645629\tvalidation's multi_logloss: 1.23502\tvalidation's macroF1: 0.406951\n",
      "[282]\ttraining's multi_logloss: 0.918735\ttraining's macroF1: 0.646256\tvalidation's multi_logloss: 1.23511\tvalidation's macroF1: 0.407127\n",
      "[283]\ttraining's multi_logloss: 0.91816\ttraining's macroF1: 0.646614\tvalidation's multi_logloss: 1.23517\tvalidation's macroF1: 0.407494\n",
      "[284]\ttraining's multi_logloss: 0.917581\ttraining's macroF1: 0.647061\tvalidation's multi_logloss: 1.2353\tvalidation's macroF1: 0.40708\n",
      "[285]\ttraining's multi_logloss: 0.91693\ttraining's macroF1: 0.647493\tvalidation's multi_logloss: 1.23532\tvalidation's macroF1: 0.40706\n",
      "[286]\ttraining's multi_logloss: 0.916394\ttraining's macroF1: 0.648042\tvalidation's multi_logloss: 1.23534\tvalidation's macroF1: 0.40757\n",
      "[287]\ttraining's multi_logloss: 0.915711\ttraining's macroF1: 0.64851\tvalidation's multi_logloss: 1.23544\tvalidation's macroF1: 0.407756\n",
      "[288]\ttraining's multi_logloss: 0.915193\ttraining's macroF1: 0.648916\tvalidation's multi_logloss: 1.23547\tvalidation's macroF1: 0.407593\n",
      "[289]\ttraining's multi_logloss: 0.914714\ttraining's macroF1: 0.649344\tvalidation's multi_logloss: 1.23553\tvalidation's macroF1: 0.407571\n",
      "[290]\ttraining's multi_logloss: 0.914245\ttraining's macroF1: 0.649766\tvalidation's multi_logloss: 1.23559\tvalidation's macroF1: 0.407392\n",
      "[291]\ttraining's multi_logloss: 0.91376\ttraining's macroF1: 0.650271\tvalidation's multi_logloss: 1.23575\tvalidation's macroF1: 0.407399\n",
      "[292]\ttraining's multi_logloss: 0.913288\ttraining's macroF1: 0.650603\tvalidation's multi_logloss: 1.2358\tvalidation's macroF1: 0.407285\n",
      "[293]\ttraining's multi_logloss: 0.912775\ttraining's macroF1: 0.650999\tvalidation's multi_logloss: 1.23577\tvalidation's macroF1: 0.407294\n",
      "[294]\ttraining's multi_logloss: 0.912159\ttraining's macroF1: 0.651304\tvalidation's multi_logloss: 1.23583\tvalidation's macroF1: 0.40725\n",
      "[295]\ttraining's multi_logloss: 0.911566\ttraining's macroF1: 0.65184\tvalidation's multi_logloss: 1.23591\tvalidation's macroF1: 0.407424\n",
      "[296]\ttraining's multi_logloss: 0.911002\ttraining's macroF1: 0.652282\tvalidation's multi_logloss: 1.23594\tvalidation's macroF1: 0.407617\n",
      "[297]\ttraining's multi_logloss: 0.91051\ttraining's macroF1: 0.652598\tvalidation's multi_logloss: 1.23603\tvalidation's macroF1: 0.407591\n",
      "[298]\ttraining's multi_logloss: 0.910118\ttraining's macroF1: 0.65294\tvalidation's multi_logloss: 1.23605\tvalidation's macroF1: 0.407533\n",
      "[299]\ttraining's multi_logloss: 0.909517\ttraining's macroF1: 0.653474\tvalidation's multi_logloss: 1.23619\tvalidation's macroF1: 0.407788\n",
      "[300]\ttraining's multi_logloss: 0.909077\ttraining's macroF1: 0.653807\tvalidation's multi_logloss: 1.2362\tvalidation's macroF1: 0.407635\n"
     ]
    }
   ],
   "source": [
    "gbm = model.fit(train.drop(\"rating\", axis=1), train[\"rating\"], callbacks=[wandb_callback()], \\\n",
    "                 categorical_feature=[\"user_id\", \"book_id\", \"review_id\"], eval_metric=evaluate_macroF1_lgb, \\\n",
    "                 eval_set=[(train.drop(\"rating\", axis=1), train[\"rating\"]), (val.drop(\"rating\", axis=1), val[\"rating\"])], \\\n",
    "                 eval_names=[\"training\", \"validation\"]);\n"
   ]
  },
  {
   "cell_type": "code",
   "execution_count": 13,
   "metadata": {},
   "outputs": [],
   "source": [
    "log_summary(gbm.booster_)"
   ]
  },
  {
   "cell_type": "code",
   "execution_count": 14,
   "metadata": {},
   "outputs": [
    {
     "name": "stderr",
     "output_type": "stream",
     "text": [
      "<ipython-input-14-a254c2dc5562>:3: SettingWithCopyWarning: \n",
      "A value is trying to be set on a copy of a slice from a DataFrame.\n",
      "Try using .loc[row_indexer,col_indexer] = value instead\n",
      "\n",
      "See the caveats in the documentation: https://pandas.pydata.org/pandas-docs/stable/user_guide/indexing.html#returning-a-view-versus-a-copy\n",
      "  predictions[\"pred\"] = np.argmax(ypred_, axis=1)\n"
     ]
    }
   ],
   "source": [
    "ypred_ = model.predict_proba(val.drop(\"rating\", axis=1))\n",
    "predictions = val[[\"review_id\", \"rating\"]]\n",
    "predictions[\"pred\"] = np.argmax(ypred_, axis=1)"
   ]
  },
  {
   "cell_type": "code",
   "execution_count": 15,
   "metadata": {},
   "outputs": [
    {
     "data": {
      "text/plain": [
       "0.4076348069457896"
      ]
     },
     "execution_count": 15,
     "metadata": {},
     "output_type": "execute_result"
    }
   ],
   "source": [
    "f1_score(val[\"rating\"],predictions[\"pred\"],average=\"macro\")"
   ]
  },
  {
   "cell_type": "code",
   "execution_count": 16,
   "metadata": {},
   "outputs": [],
   "source": [
    "# table = wandb.Table(dataframe=predictions)\n",
    "# wandb.log({\"pred_table\":table})"
   ]
  },
  {
   "cell_type": "code",
   "execution_count": 17,
   "metadata": {},
   "outputs": [
    {
     "data": {
      "text/html": [
       "Waiting for W&B process to finish... <strong style=\"color:green\">(success).</strong>"
      ],
      "text/plain": [
       "<IPython.core.display.HTML object>"
      ]
     },
     "metadata": {},
     "output_type": "display_data"
    },
    {
     "data": {
      "text/html": [
       "<style>\n",
       "    table.wandb td:nth-child(1) { padding: 0 10px; text-align: left ; width: auto;} td:nth-child(2) {text-align: left ; width: 100%}\n",
       "    .wandb-row { display: flex; flex-direction: row; flex-wrap: wrap; justify-content: flex-start; width: 100% }\n",
       "    .wandb-col { display: flex; flex-direction: column; flex-basis: 100%; flex: 1; padding: 10px; }\n",
       "    </style>\n",
       "<div class=\"wandb-row\"><div class=\"wandb-col\"><h3>Run history:</h3><br/><table class=\"wandb\"><tr><td>iteration</td><td>▁▁▁▁▂▂▂▂▂▃▃▃▃▃▃▄▄▄▄▄▅▅▅▅▅▅▆▆▆▆▆▆▇▇▇▇▇███</td></tr><tr><td>training_macroF1</td><td>▁▂▃▄▄▄▅▅▅▅▅▆▆▆▆▆▆▆▇▇▇▇▇▇▇▇▇▇▇▇▇█████████</td></tr><tr><td>training_multi_logloss</td><td>█▇▆▆▅▅▅▄▄▄▄▄▄▃▃▃▃▃▃▃▃▂▂▂▂▂▂▂▂▂▂▂▁▁▁▁▁▁▁▁</td></tr><tr><td>validation_macroF1</td><td>▁▃▄▅▆▆▆▇▇▇▇▇▇▇██████████████████████████</td></tr><tr><td>validation_multi_logloss</td><td>█▆▅▄▃▃▂▂▂▂▂▁▁▁▁▁▁▁▁▁▁▁▁▁▁▁▁▁▁▁▁▁▁▁▁▁▁▁▁▁</td></tr></table><br/></div><div class=\"wandb-col\"><h3>Run summary:</h3><br/><table class=\"wandb\"><tr><td>best_iteration</td><td>0</td></tr><tr><td>iteration</td><td>299</td></tr><tr><td>training_macroF1</td><td>0.65381</td></tr><tr><td>validation_macroF1</td><td>0.40763</td></tr></table><br/></div></div>"
      ],
      "text/plain": [
       "<IPython.core.display.HTML object>"
      ]
     },
     "metadata": {},
     "output_type": "display_data"
    },
    {
     "data": {
      "text/html": [
       " View run <strong style=\"color:#cdcd00\">vague-tree-82</strong> at: <a href='https://wandb.ai/d-a-pop/Goodreads%20Books%20Reviews/runs/3twb5rqz' target=\"_blank\">https://wandb.ai/d-a-pop/Goodreads%20Books%20Reviews/runs/3twb5rqz</a><br/>Synced 6 W&B file(s), 1 media file(s), 1 artifact file(s) and 0 other file(s)"
      ],
      "text/plain": [
       "<IPython.core.display.HTML object>"
      ]
     },
     "metadata": {},
     "output_type": "display_data"
    },
    {
     "data": {
      "text/html": [
       "Find logs at: <code>./wandb/run-20230401_172139-3twb5rqz/logs</code>"
      ],
      "text/plain": [
       "<IPython.core.display.HTML object>"
      ]
     },
     "metadata": {},
     "output_type": "display_data"
    }
   ],
   "source": [
    "run.finish()"
   ]
  },
  {
   "cell_type": "code",
   "execution_count": null,
   "metadata": {},
   "outputs": [],
   "source": []
  },
  {
   "cell_type": "code",
   "execution_count": null,
   "metadata": {},
   "outputs": [],
   "source": []
  },
  {
   "cell_type": "code",
   "execution_count": null,
   "metadata": {},
   "outputs": [],
   "source": []
  },
  {
   "cell_type": "code",
   "execution_count": null,
   "metadata": {},
   "outputs": [],
   "source": []
  },
  {
   "cell_type": "markdown",
   "metadata": {},
   "source": [
    "## Submission"
   ]
  },
  {
   "cell_type": "code",
   "execution_count": 18,
   "metadata": {},
   "outputs": [],
   "source": [
    "test = pd.read_csv(\"test.csv\")\n",
    "r = test[\"review_id\"]\n",
    "test['user_id'] = test['user_id'].astype(\"category\")\n",
    "test['review_id'] = test['review_id'].astype(\"category\")\n",
    "test['book_id'] = test['book_id'].astype(\"category\")\n",
    "test = test.drop(\"review_text\", axis=1)"
   ]
  },
  {
   "cell_type": "code",
   "execution_count": 19,
   "metadata": {},
   "outputs": [
    {
     "data": {
      "text/plain": [
       "478033"
      ]
     },
     "execution_count": 19,
     "metadata": {},
     "output_type": "execute_result"
    }
   ],
   "source": [
    "p = model.predict_proba(test)\n",
    "s = pd.Series(np.argmax(p, axis=1))\n",
    "len(s)"
   ]
  },
  {
   "cell_type": "code",
   "execution_count": 20,
   "metadata": {},
   "outputs": [
    {
     "data": {
      "text/plain": [
       "478033"
      ]
     },
     "execution_count": 20,
     "metadata": {},
     "output_type": "execute_result"
    }
   ],
   "source": [
    "len(test)"
   ]
  },
  {
   "cell_type": "code",
   "execution_count": 21,
   "metadata": {},
   "outputs": [
    {
     "data": {
      "text/html": [
       "<div>\n",
       "<style scoped>\n",
       "    .dataframe tbody tr th:only-of-type {\n",
       "        vertical-align: middle;\n",
       "    }\n",
       "\n",
       "    .dataframe tbody tr th {\n",
       "        vertical-align: top;\n",
       "    }\n",
       "\n",
       "    .dataframe thead th {\n",
       "        text-align: right;\n",
       "    }\n",
       "</style>\n",
       "<table border=\"1\" class=\"dataframe\">\n",
       "  <thead>\n",
       "    <tr style=\"text-align: right;\">\n",
       "      <th></th>\n",
       "      <th>review_id</th>\n",
       "      <th>rating</th>\n",
       "    </tr>\n",
       "  </thead>\n",
       "  <tbody>\n",
       "    <tr>\n",
       "      <th>0</th>\n",
       "      <td>5c4df7e70e9b438c761f07a4620ccb7c</td>\n",
       "      <td>4</td>\n",
       "    </tr>\n",
       "    <tr>\n",
       "      <th>1</th>\n",
       "      <td>8eaeaf13213eeb16ad879a2a2591bbe5</td>\n",
       "      <td>3</td>\n",
       "    </tr>\n",
       "    <tr>\n",
       "      <th>2</th>\n",
       "      <td>dce649b733c153ba5363a0413cac988f</td>\n",
       "      <td>4</td>\n",
       "    </tr>\n",
       "    <tr>\n",
       "      <th>3</th>\n",
       "      <td>8a46df0bb997269d6834f9437a4b0a77</td>\n",
       "      <td>4</td>\n",
       "    </tr>\n",
       "    <tr>\n",
       "      <th>4</th>\n",
       "      <td>d11d3091e22f1cf3cb865598de197599</td>\n",
       "      <td>3</td>\n",
       "    </tr>\n",
       "    <tr>\n",
       "      <th>...</th>\n",
       "      <td>...</td>\n",
       "      <td>...</td>\n",
       "    </tr>\n",
       "    <tr>\n",
       "      <th>478028</th>\n",
       "      <td>0e1db3d4b04256f9660f5d276ddf1314</td>\n",
       "      <td>5</td>\n",
       "    </tr>\n",
       "    <tr>\n",
       "      <th>478029</th>\n",
       "      <td>0b7f352e58caf0fd1f961e98ef04e89c</td>\n",
       "      <td>0</td>\n",
       "    </tr>\n",
       "    <tr>\n",
       "      <th>478030</th>\n",
       "      <td>9b19eff33ddb14e9e68fca2e90379e46</td>\n",
       "      <td>5</td>\n",
       "    </tr>\n",
       "    <tr>\n",
       "      <th>478031</th>\n",
       "      <td>8be463fed78f0da63e964706f710332b</td>\n",
       "      <td>5</td>\n",
       "    </tr>\n",
       "    <tr>\n",
       "      <th>478032</th>\n",
       "      <td>62ed1263c7d216986cc419cd4e8a408b</td>\n",
       "      <td>4</td>\n",
       "    </tr>\n",
       "  </tbody>\n",
       "</table>\n",
       "<p>478033 rows × 2 columns</p>\n",
       "</div>"
      ],
      "text/plain": [
       "                               review_id  rating\n",
       "0       5c4df7e70e9b438c761f07a4620ccb7c       4\n",
       "1       8eaeaf13213eeb16ad879a2a2591bbe5       3\n",
       "2       dce649b733c153ba5363a0413cac988f       4\n",
       "3       8a46df0bb997269d6834f9437a4b0a77       4\n",
       "4       d11d3091e22f1cf3cb865598de197599       3\n",
       "...                                  ...     ...\n",
       "478028  0e1db3d4b04256f9660f5d276ddf1314       5\n",
       "478029  0b7f352e58caf0fd1f961e98ef04e89c       0\n",
       "478030  9b19eff33ddb14e9e68fca2e90379e46       5\n",
       "478031  8be463fed78f0da63e964706f710332b       5\n",
       "478032  62ed1263c7d216986cc419cd4e8a408b       4\n",
       "\n",
       "[478033 rows x 2 columns]"
      ]
     },
     "execution_count": 21,
     "metadata": {},
     "output_type": "execute_result"
    }
   ],
   "source": [
    "submission = pd.concat([r,s],axis=1).rename(columns={0: \"rating\"})\n",
    "submission"
   ]
  },
  {
   "cell_type": "code",
   "execution_count": 22,
   "metadata": {},
   "outputs": [],
   "source": [
    "submission.to_csv(\"sub9.csv\", index=False)"
   ]
  },
  {
   "cell_type": "code",
   "execution_count": null,
   "metadata": {},
   "outputs": [],
   "source": []
  },
  {
   "cell_type": "markdown",
   "metadata": {},
   "source": [
    "## Train on train and val sets"
   ]
  },
  {
   "cell_type": "code",
   "execution_count": 24,
   "metadata": {},
   "outputs": [],
   "source": [
    "# train, val = parse_data()"
   ]
  },
  {
   "cell_type": "code",
   "execution_count": 26,
   "metadata": {},
   "outputs": [
    {
     "data": {
      "text/plain": [
       "90000"
      ]
     },
     "execution_count": 26,
     "metadata": {},
     "output_type": "execute_result"
    }
   ],
   "source": [
    "# len(val)"
   ]
  },
  {
   "cell_type": "code",
   "execution_count": 23,
   "metadata": {},
   "outputs": [],
   "source": [
    "df = pd.concat([train, val])"
   ]
  },
  {
   "cell_type": "code",
   "execution_count": 24,
   "metadata": {},
   "outputs": [
    {
     "data": {
      "text/plain": [
       "900000"
      ]
     },
     "execution_count": 24,
     "metadata": {},
     "output_type": "execute_result"
    }
   ],
   "source": [
    "len(df)"
   ]
  },
  {
   "cell_type": "code",
   "execution_count": 25,
   "metadata": {},
   "outputs": [],
   "source": [
    "df['user_id'] = df['user_id'].astype(\"category\")\n",
    "df['review_id'] = df['review_id'].astype(\"category\")\n",
    "df['book_id'] = df['book_id'].astype(\"category\")"
   ]
  },
  {
   "cell_type": "code",
   "execution_count": 38,
   "metadata": {},
   "outputs": [],
   "source": [
    "# config = {\"log_preds\":True, \"boosting_type\":\"gbdt\", \"num_leaves\":41, \"max_depth\":-1, \"learning_rate\":0.1, \n",
    "#      \"n_estimators\":300, \"min_child_samples\":20, \"subsample\":1.0, \"colsample_bytree\":1.0, \"random_state\":42, \n",
    "#      \"reg_alpha\":0, \"reg_lambda\":0.01}"
   ]
  },
  {
   "cell_type": "code",
   "execution_count": 26,
   "metadata": {},
   "outputs": [],
   "source": [
    "model1 = lgb.LGBMClassifier(boosting_type=config[\"boosting_type\"], num_leaves=config[\"num_leaves\"], \n",
    "                               max_depth=config[\"max_depth\"], learning_rate=config[\"learning_rate\"], \n",
    "                               n_estimators=config[\"n_estimators\"], min_child_samples=config[\"min_child_samples\"], \n",
    "                               subsample=config[\"subsample\"], colsample_bytree=config[\"colsample_bytree\"], \n",
    "                               random_state=config[\"random_state\"], reg_alpha=config[\"reg_alpha\"], \n",
    "                               reg_lambda=config[\"reg_lambda\"])"
   ]
  },
  {
   "cell_type": "code",
   "execution_count": 27,
   "metadata": {},
   "outputs": [
    {
     "data": {
      "text/html": [
       "Tracking run with wandb version 0.14.0"
      ],
      "text/plain": [
       "<IPython.core.display.HTML object>"
      ]
     },
     "metadata": {},
     "output_type": "display_data"
    },
    {
     "data": {
      "text/html": [
       "Run data is saved locally in <code>/Users/dragos/Downloads/wandb/run-20230401_172929-r03jsgf4</code>"
      ],
      "text/plain": [
       "<IPython.core.display.HTML object>"
      ]
     },
     "metadata": {},
     "output_type": "display_data"
    },
    {
     "data": {
      "text/html": [
       "Syncing run <strong><a href='https://wandb.ai/d-a-pop/Goodreads%20Books%20Reviews/runs/r03jsgf4' target=\"_blank\">jumping-mountain-83</a></strong> to <a href='https://wandb.ai/d-a-pop/Goodreads%20Books%20Reviews' target=\"_blank\">Weights & Biases</a> (<a href='https://wandb.me/run' target=\"_blank\">docs</a>)<br/>"
      ],
      "text/plain": [
       "<IPython.core.display.HTML object>"
      ]
     },
     "metadata": {},
     "output_type": "display_data"
    },
    {
     "data": {
      "text/html": [
       " View project at <a href='https://wandb.ai/d-a-pop/Goodreads%20Books%20Reviews' target=\"_blank\">https://wandb.ai/d-a-pop/Goodreads%20Books%20Reviews</a>"
      ],
      "text/plain": [
       "<IPython.core.display.HTML object>"
      ]
     },
     "metadata": {},
     "output_type": "display_data"
    },
    {
     "data": {
      "text/html": [
       " View run at <a href='https://wandb.ai/d-a-pop/Goodreads%20Books%20Reviews/runs/r03jsgf4' target=\"_blank\">https://wandb.ai/d-a-pop/Goodreads%20Books%20Reviews/runs/r03jsgf4</a>"
      ],
      "text/plain": [
       "<IPython.core.display.HTML object>"
      ]
     },
     "metadata": {},
     "output_type": "display_data"
    }
   ],
   "source": [
    "run = wandb.init(project=\"Goodreads Books Reviews\", entity=\"d-a-pop\", job_type=\"training\", config=train_config)    "
   ]
  },
  {
   "cell_type": "code",
   "execution_count": 28,
   "metadata": {},
   "outputs": [
    {
     "name": "stdout",
     "output_type": "stream",
     "text": [
      "TRAIN CONFIG\n",
      "{'boosting_type': 'gbdt', 'class_weight': None, 'colsample_bytree': 0.95, 'importance_type': 'split', 'learning_rate': 0.1, 'max_depth': -1, 'min_child_samples': 20, 'min_child_weight': 0.001, 'min_split_gain': 0.0, 'n_estimators': 300, 'n_jobs': -1, 'num_leaves': 48, 'objective': None, 'random_state': 42, 'reg_alpha': 0.01, 'reg_lambda': 0.04, 'silent': True, 'subsample': 0.95, 'subsample_for_bin': 200000, 'subsample_freq': 0}\n"
     ]
    }
   ],
   "source": [
    "train_config = model1.get_params()\n",
    "print(\"TRAIN CONFIG\")\n",
    "print(train_config)"
   ]
  },
  {
   "cell_type": "code",
   "execution_count": 29,
   "metadata": {},
   "outputs": [
    {
     "name": "stderr",
     "output_type": "stream",
     "text": [
      "/Users/dragos/anaconda3/envs/lgbm/lib/python3.8/site-packages/lightgbm/basic.py:1551: UserWarning: Using categorical_feature in Dataset.\n",
      "  warnings.warn('Using categorical_feature in Dataset.')\n"
     ]
    }
   ],
   "source": [
    "gbm = model1.fit(df.drop(\"rating\", axis=1), df[\"rating\"], callbacks=[wandb_callback()], \\\n",
    "                 categorical_feature=[\"user_id\", \"book_id\", \"review_id\"], eval_metric=evaluate_macroF1_lgb)"
   ]
  },
  {
   "cell_type": "code",
   "execution_count": 30,
   "metadata": {},
   "outputs": [],
   "source": [
    "log_summary(gbm.booster_)"
   ]
  },
  {
   "cell_type": "code",
   "execution_count": 31,
   "metadata": {},
   "outputs": [
    {
     "data": {
      "text/html": [
       "Waiting for W&B process to finish... <strong style=\"color:green\">(success).</strong>"
      ],
      "text/plain": [
       "<IPython.core.display.HTML object>"
      ]
     },
     "metadata": {},
     "output_type": "display_data"
    },
    {
     "data": {
      "text/html": [
       "<style>\n",
       "    table.wandb td:nth-child(1) { padding: 0 10px; text-align: left ; width: auto;} td:nth-child(2) {text-align: left ; width: 100%}\n",
       "    .wandb-row { display: flex; flex-direction: row; flex-wrap: wrap; justify-content: flex-start; width: 100% }\n",
       "    .wandb-col { display: flex; flex-direction: column; flex-basis: 100%; flex: 1; padding: 10px; }\n",
       "    </style>\n",
       "<div class=\"wandb-row\"><div class=\"wandb-col\"><h3>Run history:</h3><br/><table class=\"wandb\"><tr><td>iteration</td><td>▁▁▁▁▂▂▂▂▂▃▃▃▃▃▃▄▄▄▄▄▅▅▅▅▅▅▆▆▆▆▆▆▇▇▇▇▇███</td></tr></table><br/></div><div class=\"wandb-col\"><h3>Run summary:</h3><br/><table class=\"wandb\"><tr><td>best_iteration</td><td>0</td></tr><tr><td>iteration</td><td>299</td></tr></table><br/></div></div>"
      ],
      "text/plain": [
       "<IPython.core.display.HTML object>"
      ]
     },
     "metadata": {},
     "output_type": "display_data"
    },
    {
     "data": {
      "text/html": [
       " View run <strong style=\"color:#cdcd00\">jumping-mountain-83</strong> at: <a href='https://wandb.ai/d-a-pop/Goodreads%20Books%20Reviews/runs/r03jsgf4' target=\"_blank\">https://wandb.ai/d-a-pop/Goodreads%20Books%20Reviews/runs/r03jsgf4</a><br/>Synced 6 W&B file(s), 1 media file(s), 1 artifact file(s) and 0 other file(s)"
      ],
      "text/plain": [
       "<IPython.core.display.HTML object>"
      ]
     },
     "metadata": {},
     "output_type": "display_data"
    },
    {
     "data": {
      "text/html": [
       "Find logs at: <code>./wandb/run-20230401_172929-r03jsgf4/logs</code>"
      ],
      "text/plain": [
       "<IPython.core.display.HTML object>"
      ]
     },
     "metadata": {},
     "output_type": "display_data"
    }
   ],
   "source": [
    "run.finish()"
   ]
  },
  {
   "cell_type": "code",
   "execution_count": 112,
   "metadata": {},
   "outputs": [],
   "source": [
    "test = pd.read_csv(\"test.csv\")\n",
    "r = test[\"review_id\"]\n",
    "test['user_id'] = test['user_id'].astype(\"category\")\n",
    "test['review_id'] = test['review_id'].astype(\"category\")\n",
    "test['book_id'] = test['book_id'].astype(\"category\")\n",
    "test = test.drop(\"review_text\", axis=1)"
   ]
  },
  {
   "cell_type": "code",
   "execution_count": 33,
   "metadata": {},
   "outputs": [
    {
     "data": {
      "text/plain": [
       "478033"
      ]
     },
     "execution_count": 33,
     "metadata": {},
     "output_type": "execute_result"
    }
   ],
   "source": [
    "p = model1.predict_proba(test)\n",
    "s = pd.Series(np.argmax(p, axis=1))\n",
    "len(s)"
   ]
  },
  {
   "cell_type": "code",
   "execution_count": 34,
   "metadata": {},
   "outputs": [
    {
     "data": {
      "text/plain": [
       "478033"
      ]
     },
     "execution_count": 34,
     "metadata": {},
     "output_type": "execute_result"
    }
   ],
   "source": [
    "len(test)"
   ]
  },
  {
   "cell_type": "code",
   "execution_count": 35,
   "metadata": {},
   "outputs": [
    {
     "data": {
      "text/html": [
       "<div>\n",
       "<style scoped>\n",
       "    .dataframe tbody tr th:only-of-type {\n",
       "        vertical-align: middle;\n",
       "    }\n",
       "\n",
       "    .dataframe tbody tr th {\n",
       "        vertical-align: top;\n",
       "    }\n",
       "\n",
       "    .dataframe thead th {\n",
       "        text-align: right;\n",
       "    }\n",
       "</style>\n",
       "<table border=\"1\" class=\"dataframe\">\n",
       "  <thead>\n",
       "    <tr style=\"text-align: right;\">\n",
       "      <th></th>\n",
       "      <th>review_id</th>\n",
       "      <th>rating</th>\n",
       "    </tr>\n",
       "  </thead>\n",
       "  <tbody>\n",
       "    <tr>\n",
       "      <th>0</th>\n",
       "      <td>5c4df7e70e9b438c761f07a4620ccb7c</td>\n",
       "      <td>4</td>\n",
       "    </tr>\n",
       "    <tr>\n",
       "      <th>1</th>\n",
       "      <td>8eaeaf13213eeb16ad879a2a2591bbe5</td>\n",
       "      <td>3</td>\n",
       "    </tr>\n",
       "    <tr>\n",
       "      <th>2</th>\n",
       "      <td>dce649b733c153ba5363a0413cac988f</td>\n",
       "      <td>4</td>\n",
       "    </tr>\n",
       "    <tr>\n",
       "      <th>3</th>\n",
       "      <td>8a46df0bb997269d6834f9437a4b0a77</td>\n",
       "      <td>4</td>\n",
       "    </tr>\n",
       "    <tr>\n",
       "      <th>4</th>\n",
       "      <td>d11d3091e22f1cf3cb865598de197599</td>\n",
       "      <td>3</td>\n",
       "    </tr>\n",
       "    <tr>\n",
       "      <th>...</th>\n",
       "      <td>...</td>\n",
       "      <td>...</td>\n",
       "    </tr>\n",
       "    <tr>\n",
       "      <th>478028</th>\n",
       "      <td>0e1db3d4b04256f9660f5d276ddf1314</td>\n",
       "      <td>5</td>\n",
       "    </tr>\n",
       "    <tr>\n",
       "      <th>478029</th>\n",
       "      <td>0b7f352e58caf0fd1f961e98ef04e89c</td>\n",
       "      <td>0</td>\n",
       "    </tr>\n",
       "    <tr>\n",
       "      <th>478030</th>\n",
       "      <td>9b19eff33ddb14e9e68fca2e90379e46</td>\n",
       "      <td>5</td>\n",
       "    </tr>\n",
       "    <tr>\n",
       "      <th>478031</th>\n",
       "      <td>8be463fed78f0da63e964706f710332b</td>\n",
       "      <td>5</td>\n",
       "    </tr>\n",
       "    <tr>\n",
       "      <th>478032</th>\n",
       "      <td>62ed1263c7d216986cc419cd4e8a408b</td>\n",
       "      <td>4</td>\n",
       "    </tr>\n",
       "  </tbody>\n",
       "</table>\n",
       "<p>478033 rows × 2 columns</p>\n",
       "</div>"
      ],
      "text/plain": [
       "                               review_id  rating\n",
       "0       5c4df7e70e9b438c761f07a4620ccb7c       4\n",
       "1       8eaeaf13213eeb16ad879a2a2591bbe5       3\n",
       "2       dce649b733c153ba5363a0413cac988f       4\n",
       "3       8a46df0bb997269d6834f9437a4b0a77       4\n",
       "4       d11d3091e22f1cf3cb865598de197599       3\n",
       "...                                  ...     ...\n",
       "478028  0e1db3d4b04256f9660f5d276ddf1314       5\n",
       "478029  0b7f352e58caf0fd1f961e98ef04e89c       0\n",
       "478030  9b19eff33ddb14e9e68fca2e90379e46       5\n",
       "478031  8be463fed78f0da63e964706f710332b       5\n",
       "478032  62ed1263c7d216986cc419cd4e8a408b       4\n",
       "\n",
       "[478033 rows x 2 columns]"
      ]
     },
     "execution_count": 35,
     "metadata": {},
     "output_type": "execute_result"
    }
   ],
   "source": [
    "submission = pd.concat([r,s],axis=1).rename(columns={0: \"rating\"})\n",
    "submission"
   ]
  },
  {
   "cell_type": "code",
   "execution_count": 36,
   "metadata": {},
   "outputs": [],
   "source": [
    "submission.to_csv(\"sub10.csv\", index=False)"
   ]
  },
  {
   "cell_type": "code",
   "execution_count": null,
   "metadata": {},
   "outputs": [],
   "source": []
  },
  {
   "cell_type": "code",
   "execution_count": null,
   "metadata": {},
   "outputs": [],
   "source": []
  },
  {
   "cell_type": "markdown",
   "metadata": {},
   "source": [
    "## CatBoost"
   ]
  },
  {
   "cell_type": "code",
   "execution_count": 94,
   "metadata": {},
   "outputs": [],
   "source": [
    "import catboost as cb\n",
    "from catboost import CatBoostRegressor, CatBoostClassifier\n",
    "from wandb.catboost import log_summary, WandbCallback"
   ]
  },
  {
   "cell_type": "code",
   "execution_count": 95,
   "metadata": {},
   "outputs": [],
   "source": [
    "val = val.reindex(sorted(train.columns), axis=1)\n",
    "train = train.reindex(sorted(train.columns), axis=1)"
   ]
  },
  {
   "cell_type": "code",
   "execution_count": 104,
   "metadata": {},
   "outputs": [],
   "source": [
    "model12 = CatBoostClassifier(verbose=1, eval_metric=\"TotalF1\")"
   ]
  },
  {
   "cell_type": "code",
   "execution_count": 105,
   "metadata": {},
   "outputs": [
    {
     "data": {
      "text/html": [
       "Tracking run with wandb version 0.14.0"
      ],
      "text/plain": [
       "<IPython.core.display.HTML object>"
      ]
     },
     "metadata": {},
     "output_type": "display_data"
    },
    {
     "data": {
      "text/html": [
       "Run data is saved locally in <code>/Users/dragos/Downloads/wandb/run-20230401_183227-mxwo2e65</code>"
      ],
      "text/plain": [
       "<IPython.core.display.HTML object>"
      ]
     },
     "metadata": {},
     "output_type": "display_data"
    },
    {
     "data": {
      "text/html": [
       "Syncing run <strong><a href='https://wandb.ai/d-a-pop/Goodreads%20Books%20Reviews/runs/mxwo2e65' target=\"_blank\">rosy-valley-86</a></strong> to <a href='https://wandb.ai/d-a-pop/Goodreads%20Books%20Reviews' target=\"_blank\">Weights & Biases</a> (<a href='https://wandb.me/run' target=\"_blank\">docs</a>)<br/>"
      ],
      "text/plain": [
       "<IPython.core.display.HTML object>"
      ]
     },
     "metadata": {},
     "output_type": "display_data"
    },
    {
     "data": {
      "text/html": [
       " View project at <a href='https://wandb.ai/d-a-pop/Goodreads%20Books%20Reviews' target=\"_blank\">https://wandb.ai/d-a-pop/Goodreads%20Books%20Reviews</a>"
      ],
      "text/plain": [
       "<IPython.core.display.HTML object>"
      ]
     },
     "metadata": {},
     "output_type": "display_data"
    },
    {
     "data": {
      "text/html": [
       " View run at <a href='https://wandb.ai/d-a-pop/Goodreads%20Books%20Reviews/runs/mxwo2e65' target=\"_blank\">https://wandb.ai/d-a-pop/Goodreads%20Books%20Reviews/runs/mxwo2e65</a>"
      ],
      "text/plain": [
       "<IPython.core.display.HTML object>"
      ]
     },
     "metadata": {},
     "output_type": "display_data"
    }
   ],
   "source": [
    "run = wandb.init(project=\"Goodreads Books Reviews\", entity=\"d-a-pop\", job_type=\"training\", config=train_config)    "
   ]
  },
  {
   "cell_type": "code",
   "execution_count": 106,
   "metadata": {
    "scrolled": true
   },
   "outputs": [
    {
     "name": "stdout",
     "output_type": "stream",
     "text": [
      "Learning rate set to 0.123452\n",
      "0:\tlearn: 0.3801207\ttest: 0.4072053\ttest1: 0.3897760\tbest: 0.3897760 (0)\ttotal: 1.2s\tremaining: 19m 54s\n",
      "1:\tlearn: 0.3765812\ttest: 0.4051092\ttest1: 0.3883302\tbest: 0.3897760 (0)\ttotal: 2.28s\tremaining: 18m 59s\n",
      "2:\tlearn: 0.3810168\ttest: 0.4064872\ttest1: 0.3919779\tbest: 0.3919779 (2)\ttotal: 2.89s\tremaining: 16m 1s\n",
      "3:\tlearn: 0.3812117\ttest: 0.4070877\ttest1: 0.3925754\tbest: 0.3925754 (3)\ttotal: 3.52s\tremaining: 14m 36s\n",
      "4:\tlearn: 0.3826734\ttest: 0.4094001\ttest1: 0.3941951\tbest: 0.3941951 (4)\ttotal: 4.16s\tremaining: 13m 47s\n",
      "5:\tlearn: 0.3880020\ttest: 0.4178652\ttest1: 0.4011158\tbest: 0.4011158 (5)\ttotal: 4.93s\tremaining: 13m 37s\n",
      "6:\tlearn: 0.3898328\ttest: 0.4209548\ttest1: 0.4038223\tbest: 0.4038223 (6)\ttotal: 5.53s\tremaining: 13m 3s\n",
      "7:\tlearn: 0.3922148\ttest: 0.4241951\ttest1: 0.4061360\tbest: 0.4061360 (7)\ttotal: 6.11s\tremaining: 12m 38s\n",
      "8:\tlearn: 0.3929259\ttest: 0.4251060\ttest1: 0.4067469\tbest: 0.4067469 (8)\ttotal: 6.76s\tremaining: 12m 24s\n",
      "9:\tlearn: 0.3938469\ttest: 0.4257559\ttest1: 0.4071783\tbest: 0.4071783 (9)\ttotal: 7.52s\tremaining: 12m 24s\n",
      "10:\tlearn: 0.3948437\ttest: 0.4271750\ttest1: 0.4083858\tbest: 0.4083858 (10)\ttotal: 8.21s\tremaining: 12m 17s\n",
      "11:\tlearn: 0.3958573\ttest: 0.4279197\ttest1: 0.4085560\tbest: 0.4085560 (11)\ttotal: 9.1s\tremaining: 12m 28s\n",
      "12:\tlearn: 0.3971037\ttest: 0.4290056\ttest1: 0.4101698\tbest: 0.4101698 (12)\ttotal: 10.1s\tremaining: 12m 44s\n",
      "13:\tlearn: 0.3984058\ttest: 0.4304999\ttest1: 0.4114869\tbest: 0.4114869 (13)\ttotal: 11s\tremaining: 12m 53s\n",
      "14:\tlearn: 0.3995583\ttest: 0.4318582\ttest1: 0.4125992\tbest: 0.4125992 (14)\ttotal: 12s\tremaining: 13m 4s\n",
      "15:\tlearn: 0.3995557\ttest: 0.4320414\ttest1: 0.4126502\tbest: 0.4126502 (15)\ttotal: 13.1s\tremaining: 13m 23s\n",
      "16:\tlearn: 0.4005793\ttest: 0.4331559\ttest1: 0.4140020\tbest: 0.4140020 (16)\ttotal: 14.1s\tremaining: 13m 36s\n",
      "17:\tlearn: 0.4015978\ttest: 0.4346834\ttest1: 0.4150201\tbest: 0.4150201 (17)\ttotal: 15.1s\tremaining: 13m 41s\n",
      "18:\tlearn: 0.4020368\ttest: 0.4351356\ttest1: 0.4155588\tbest: 0.4155588 (18)\ttotal: 15.9s\tremaining: 13m 38s\n",
      "19:\tlearn: 0.4029430\ttest: 0.4362547\ttest1: 0.4161693\tbest: 0.4161693 (19)\ttotal: 16.8s\tremaining: 13m 42s\n",
      "20:\tlearn: 0.4038753\ttest: 0.4372895\ttest1: 0.4172956\tbest: 0.4172956 (20)\ttotal: 17.9s\tremaining: 13m 55s\n",
      "21:\tlearn: 0.4046871\ttest: 0.4384507\ttest1: 0.4181215\tbest: 0.4181215 (21)\ttotal: 18.6s\tremaining: 13m 46s\n",
      "22:\tlearn: 0.4052857\ttest: 0.4389530\ttest1: 0.4189159\tbest: 0.4189159 (22)\ttotal: 19.3s\tremaining: 13m 40s\n",
      "23:\tlearn: 0.4058833\ttest: 0.4398269\ttest1: 0.4194543\tbest: 0.4194543 (23)\ttotal: 20.5s\tremaining: 13m 54s\n",
      "24:\tlearn: 0.4070422\ttest: 0.4414517\ttest1: 0.4206864\tbest: 0.4206864 (24)\ttotal: 21.7s\tremaining: 14m 7s\n",
      "25:\tlearn: 0.4077709\ttest: 0.4419589\ttest1: 0.4216332\tbest: 0.4216332 (25)\ttotal: 22.4s\tremaining: 13m 59s\n",
      "26:\tlearn: 0.4086047\ttest: 0.4431555\ttest1: 0.4228498\tbest: 0.4228498 (26)\ttotal: 23.4s\tremaining: 14m 3s\n",
      "27:\tlearn: 0.4094625\ttest: 0.4441484\ttest1: 0.4236757\tbest: 0.4236757 (27)\ttotal: 24.5s\tremaining: 14m 9s\n",
      "28:\tlearn: 0.4102516\ttest: 0.4453520\ttest1: 0.4245157\tbest: 0.4245157 (28)\ttotal: 25.6s\tremaining: 14m 18s\n",
      "29:\tlearn: 0.4109714\ttest: 0.4459930\ttest1: 0.4248531\tbest: 0.4248531 (29)\ttotal: 26.7s\tremaining: 14m 24s\n",
      "30:\tlearn: 0.4113569\ttest: 0.4466591\ttest1: 0.4253081\tbest: 0.4253081 (30)\ttotal: 27.9s\tremaining: 14m 31s\n",
      "31:\tlearn: 0.4121639\ttest: 0.4476357\ttest1: 0.4260433\tbest: 0.4260433 (31)\ttotal: 29s\tremaining: 14m 37s\n",
      "32:\tlearn: 0.4124603\ttest: 0.4479459\ttest1: 0.4264979\tbest: 0.4264979 (32)\ttotal: 30.1s\tremaining: 14m 41s\n",
      "33:\tlearn: 0.4131027\ttest: 0.4491327\ttest1: 0.4271986\tbest: 0.4271986 (33)\ttotal: 31.2s\tremaining: 14m 46s\n",
      "34:\tlearn: 0.4134042\ttest: 0.4494034\ttest1: 0.4275747\tbest: 0.4275747 (34)\ttotal: 32.3s\tremaining: 14m 49s\n",
      "35:\tlearn: 0.4137506\ttest: 0.4498465\ttest1: 0.4279786\tbest: 0.4279786 (35)\ttotal: 33.3s\tremaining: 14m 52s\n",
      "36:\tlearn: 0.4146858\ttest: 0.4507623\ttest1: 0.4286289\tbest: 0.4286289 (36)\ttotal: 34.4s\tremaining: 14m 55s\n",
      "37:\tlearn: 0.4150445\ttest: 0.4513931\ttest1: 0.4289515\tbest: 0.4289515 (37)\ttotal: 35.7s\tremaining: 15m 2s\n",
      "38:\tlearn: 0.4155946\ttest: 0.4521290\ttest1: 0.4294544\tbest: 0.4294544 (38)\ttotal: 36.6s\tremaining: 15m\n",
      "39:\tlearn: 0.4158821\ttest: 0.4526544\ttest1: 0.4298425\tbest: 0.4298425 (39)\ttotal: 37.8s\tremaining: 15m 6s\n",
      "40:\tlearn: 0.4163916\ttest: 0.4533009\ttest1: 0.4302894\tbest: 0.4302894 (40)\ttotal: 39.2s\tremaining: 15m 16s\n",
      "41:\tlearn: 0.4168876\ttest: 0.4538168\ttest1: 0.4308858\tbest: 0.4308858 (41)\ttotal: 40.2s\tremaining: 15m 16s\n",
      "42:\tlearn: 0.4172757\ttest: 0.4545252\ttest1: 0.4313975\tbest: 0.4313975 (42)\ttotal: 41.3s\tremaining: 15m 19s\n",
      "43:\tlearn: 0.4176992\ttest: 0.4550828\ttest1: 0.4316853\tbest: 0.4316853 (43)\ttotal: 42.4s\tremaining: 15m 21s\n",
      "44:\tlearn: 0.4181583\ttest: 0.4553771\ttest1: 0.4322463\tbest: 0.4322463 (44)\ttotal: 43.7s\tremaining: 15m 26s\n",
      "45:\tlearn: 0.4185135\ttest: 0.4559369\ttest1: 0.4326558\tbest: 0.4326558 (45)\ttotal: 45s\tremaining: 15m 32s\n",
      "46:\tlearn: 0.4188017\ttest: 0.4563985\ttest1: 0.4330879\tbest: 0.4330879 (46)\ttotal: 45.6s\tremaining: 15m 24s\n",
      "47:\tlearn: 0.4190359\ttest: 0.4566494\ttest1: 0.4329185\tbest: 0.4330879 (46)\ttotal: 46.4s\tremaining: 15m 20s\n",
      "48:\tlearn: 0.4195050\ttest: 0.4573866\ttest1: 0.4336786\tbest: 0.4336786 (48)\ttotal: 47.2s\tremaining: 15m 16s\n",
      "49:\tlearn: 0.4198862\ttest: 0.4580472\ttest1: 0.4338616\tbest: 0.4338616 (49)\ttotal: 48.2s\tremaining: 15m 15s\n",
      "50:\tlearn: 0.4203194\ttest: 0.4585940\ttest1: 0.4342697\tbest: 0.4342697 (50)\ttotal: 49.4s\tremaining: 15m 19s\n",
      "51:\tlearn: 0.4206199\ttest: 0.4591204\ttest1: 0.4344867\tbest: 0.4344867 (51)\ttotal: 50.4s\tremaining: 15m 18s\n",
      "52:\tlearn: 0.4210356\ttest: 0.4598256\ttest1: 0.4348301\tbest: 0.4348301 (52)\ttotal: 51.5s\tremaining: 15m 20s\n",
      "53:\tlearn: 0.4213583\ttest: 0.4601446\ttest1: 0.4353194\tbest: 0.4353194 (53)\ttotal: 52.6s\tremaining: 15m 20s\n",
      "54:\tlearn: 0.4216220\ttest: 0.4606560\ttest1: 0.4361436\tbest: 0.4361436 (54)\ttotal: 53.6s\tremaining: 15m 21s\n",
      "55:\tlearn: 0.4219866\ttest: 0.4612543\ttest1: 0.4365360\tbest: 0.4365360 (55)\ttotal: 54.7s\tremaining: 15m 21s\n",
      "56:\tlearn: 0.4221020\ttest: 0.4615353\ttest1: 0.4369492\tbest: 0.4369492 (56)\ttotal: 55.7s\tremaining: 15m 21s\n",
      "57:\tlearn: 0.4224200\ttest: 0.4620886\ttest1: 0.4373041\tbest: 0.4373041 (57)\ttotal: 56.8s\tremaining: 15m 22s\n",
      "58:\tlearn: 0.4225068\ttest: 0.4622112\ttest1: 0.4373682\tbest: 0.4373682 (58)\ttotal: 57.9s\tremaining: 15m 23s\n",
      "59:\tlearn: 0.4227191\ttest: 0.4624767\ttest1: 0.4375020\tbest: 0.4375020 (59)\ttotal: 59s\tremaining: 15m 24s\n",
      "60:\tlearn: 0.4229903\ttest: 0.4628009\ttest1: 0.4373551\tbest: 0.4375020 (59)\ttotal: 1m\tremaining: 15m 29s\n",
      "61:\tlearn: 0.4231556\ttest: 0.4631145\ttest1: 0.4377575\tbest: 0.4377575 (61)\ttotal: 1m 1s\tremaining: 15m 33s\n",
      "62:\tlearn: 0.4234609\ttest: 0.4633856\ttest1: 0.4379965\tbest: 0.4379965 (62)\ttotal: 1m 2s\tremaining: 15m 36s\n",
      "63:\tlearn: 0.4237029\ttest: 0.4638392\ttest1: 0.4381604\tbest: 0.4381604 (63)\ttotal: 1m 4s\tremaining: 15m 38s\n",
      "64:\tlearn: 0.4238683\ttest: 0.4639974\ttest1: 0.4383410\tbest: 0.4383410 (64)\ttotal: 1m 5s\tremaining: 15m 39s\n",
      "65:\tlearn: 0.4240284\ttest: 0.4642788\ttest1: 0.4384922\tbest: 0.4384922 (65)\ttotal: 1m 6s\tremaining: 15m 41s\n",
      "66:\tlearn: 0.4240552\ttest: 0.4645214\ttest1: 0.4385361\tbest: 0.4385361 (66)\ttotal: 1m 7s\tremaining: 15m 42s\n",
      "67:\tlearn: 0.4243001\ttest: 0.4649885\ttest1: 0.4389171\tbest: 0.4389171 (67)\ttotal: 1m 8s\tremaining: 15m 39s\n",
      "68:\tlearn: 0.4245259\ttest: 0.4651175\ttest1: 0.4390572\tbest: 0.4390572 (68)\ttotal: 1m 9s\tremaining: 15m 38s\n",
      "69:\tlearn: 0.4246419\ttest: 0.4652029\ttest1: 0.4388995\tbest: 0.4390572 (68)\ttotal: 1m 10s\tremaining: 15m 36s\n",
      "70:\tlearn: 0.4248686\ttest: 0.4656363\ttest1: 0.4392205\tbest: 0.4392205 (70)\ttotal: 1m 11s\tremaining: 15m 38s\n",
      "71:\tlearn: 0.4250176\ttest: 0.4659198\ttest1: 0.4392267\tbest: 0.4392267 (71)\ttotal: 1m 12s\tremaining: 15m 37s\n",
      "72:\tlearn: 0.4252734\ttest: 0.4662237\ttest1: 0.4393607\tbest: 0.4393607 (72)\ttotal: 1m 13s\tremaining: 15m 37s\n",
      "73:\tlearn: 0.4253247\ttest: 0.4663066\ttest1: 0.4392034\tbest: 0.4393607 (72)\ttotal: 1m 14s\tremaining: 15m 36s\n",
      "74:\tlearn: 0.4254923\ttest: 0.4666647\ttest1: 0.4397430\tbest: 0.4397430 (74)\ttotal: 1m 16s\tremaining: 15m 38s\n",
      "75:\tlearn: 0.4257172\ttest: 0.4669670\ttest1: 0.4398667\tbest: 0.4398667 (75)\ttotal: 1m 17s\tremaining: 15m 39s\n",
      "76:\tlearn: 0.4258593\ttest: 0.4672832\ttest1: 0.4400370\tbest: 0.4400370 (76)\ttotal: 1m 18s\tremaining: 15m 39s\n"
     ]
    },
    {
     "name": "stdout",
     "output_type": "stream",
     "text": [
      "77:\tlearn: 0.4260781\ttest: 0.4672631\ttest1: 0.4401588\tbest: 0.4401588 (77)\ttotal: 1m 19s\tremaining: 15m 39s\n",
      "78:\tlearn: 0.4262286\ttest: 0.4676358\ttest1: 0.4404905\tbest: 0.4404905 (78)\ttotal: 1m 20s\tremaining: 15m 38s\n",
      "79:\tlearn: 0.4263276\ttest: 0.4677918\ttest1: 0.4405356\tbest: 0.4405356 (79)\ttotal: 1m 21s\tremaining: 15m 34s\n",
      "80:\tlearn: 0.4264138\ttest: 0.4680481\ttest1: 0.4402618\tbest: 0.4405356 (79)\ttotal: 1m 22s\tremaining: 15m 32s\n",
      "81:\tlearn: 0.4266452\ttest: 0.4683962\ttest1: 0.4403411\tbest: 0.4405356 (79)\ttotal: 1m 23s\tremaining: 15m 34s\n",
      "82:\tlearn: 0.4267798\ttest: 0.4686046\ttest1: 0.4408081\tbest: 0.4408081 (82)\ttotal: 1m 24s\tremaining: 15m 33s\n",
      "83:\tlearn: 0.4269783\ttest: 0.4688701\ttest1: 0.4408694\tbest: 0.4408694 (83)\ttotal: 1m 25s\tremaining: 15m 34s\n",
      "84:\tlearn: 0.4270865\ttest: 0.4689788\ttest1: 0.4409172\tbest: 0.4409172 (84)\ttotal: 1m 26s\tremaining: 15m 33s\n",
      "85:\tlearn: 0.4271222\ttest: 0.4690630\ttest1: 0.4409061\tbest: 0.4409172 (84)\ttotal: 1m 27s\tremaining: 15m 32s\n",
      "86:\tlearn: 0.4272304\ttest: 0.4692062\ttest1: 0.4409746\tbest: 0.4409746 (86)\ttotal: 1m 28s\tremaining: 15m 33s\n",
      "87:\tlearn: 0.4274488\ttest: 0.4695645\ttest1: 0.4412222\tbest: 0.4412222 (87)\ttotal: 1m 29s\tremaining: 15m 32s\n",
      "88:\tlearn: 0.4275795\ttest: 0.4697756\ttest1: 0.4414563\tbest: 0.4414563 (88)\ttotal: 1m 31s\tremaining: 15m 34s\n",
      "89:\tlearn: 0.4277988\ttest: 0.4699868\ttest1: 0.4415616\tbest: 0.4415616 (89)\ttotal: 1m 32s\tremaining: 15m 32s\n",
      "90:\tlearn: 0.4279185\ttest: 0.4702076\ttest1: 0.4415693\tbest: 0.4415693 (90)\ttotal: 1m 33s\tremaining: 15m 33s\n",
      "91:\tlearn: 0.4280740\ttest: 0.4704783\ttest1: 0.4417446\tbest: 0.4417446 (91)\ttotal: 1m 34s\tremaining: 15m 32s\n",
      "92:\tlearn: 0.4281909\ttest: 0.4706036\ttest1: 0.4418339\tbest: 0.4418339 (92)\ttotal: 1m 35s\tremaining: 15m 30s\n",
      "93:\tlearn: 0.4283383\ttest: 0.4706712\ttest1: 0.4417657\tbest: 0.4418339 (92)\ttotal: 1m 36s\tremaining: 15m 30s\n",
      "94:\tlearn: 0.4283548\ttest: 0.4706577\ttest1: 0.4417437\tbest: 0.4418339 (92)\ttotal: 1m 37s\tremaining: 15m 28s\n",
      "95:\tlearn: 0.4285307\ttest: 0.4709979\ttest1: 0.4418488\tbest: 0.4418488 (95)\ttotal: 1m 38s\tremaining: 15m 26s\n",
      "96:\tlearn: 0.4286439\ttest: 0.4711931\ttest1: 0.4420781\tbest: 0.4420781 (96)\ttotal: 1m 39s\tremaining: 15m 29s\n",
      "97:\tlearn: 0.4287947\ttest: 0.4715623\ttest1: 0.4423239\tbest: 0.4423239 (97)\ttotal: 1m 40s\tremaining: 15m 29s\n",
      "98:\tlearn: 0.4287844\ttest: 0.4716103\ttest1: 0.4424256\tbest: 0.4424256 (98)\ttotal: 1m 42s\tremaining: 15m 30s\n",
      "99:\tlearn: 0.4289109\ttest: 0.4718637\ttest1: 0.4424826\tbest: 0.4424826 (99)\ttotal: 1m 43s\tremaining: 15m 31s\n",
      "100:\tlearn: 0.4288979\ttest: 0.4718571\ttest1: 0.4426218\tbest: 0.4426218 (100)\ttotal: 1m 44s\tremaining: 15m 31s\n",
      "101:\tlearn: 0.4289849\ttest: 0.4719768\ttest1: 0.4430469\tbest: 0.4430469 (101)\ttotal: 1m 45s\tremaining: 15m 32s\n",
      "102:\tlearn: 0.4291971\ttest: 0.4722277\ttest1: 0.4431130\tbest: 0.4431130 (102)\ttotal: 1m 47s\tremaining: 15m 33s\n",
      "103:\tlearn: 0.4294399\ttest: 0.4724648\ttest1: 0.4431385\tbest: 0.4431385 (103)\ttotal: 1m 48s\tremaining: 15m 33s\n",
      "104:\tlearn: 0.4294153\ttest: 0.4725891\ttest1: 0.4432020\tbest: 0.4432020 (104)\ttotal: 1m 49s\tremaining: 15m 32s\n",
      "105:\tlearn: 0.4294984\ttest: 0.4726526\ttest1: 0.4433027\tbest: 0.4433027 (105)\ttotal: 1m 50s\tremaining: 15m 30s\n",
      "106:\tlearn: 0.4296317\ttest: 0.4727698\ttest1: 0.4431608\tbest: 0.4433027 (105)\ttotal: 1m 51s\tremaining: 15m 30s\n",
      "107:\tlearn: 0.4298472\ttest: 0.4730861\ttest1: 0.4433634\tbest: 0.4433634 (107)\ttotal: 1m 52s\tremaining: 15m 32s\n",
      "108:\tlearn: 0.4299527\ttest: 0.4732255\ttest1: 0.4435224\tbest: 0.4435224 (108)\ttotal: 1m 54s\tremaining: 15m 35s\n",
      "109:\tlearn: 0.4301091\ttest: 0.4735076\ttest1: 0.4435794\tbest: 0.4435794 (109)\ttotal: 1m 55s\tremaining: 15m 36s\n",
      "110:\tlearn: 0.4301775\ttest: 0.4736149\ttest1: 0.4436891\tbest: 0.4436891 (110)\ttotal: 1m 56s\tremaining: 15m 36s\n",
      "111:\tlearn: 0.4301920\ttest: 0.4735790\ttest1: 0.4437088\tbest: 0.4437088 (111)\ttotal: 1m 58s\tremaining: 15m 38s\n",
      "112:\tlearn: 0.4301867\ttest: 0.4736671\ttest1: 0.4438860\tbest: 0.4438860 (112)\ttotal: 1m 59s\tremaining: 15m 36s\n",
      "113:\tlearn: 0.4305010\ttest: 0.4740946\ttest1: 0.4441691\tbest: 0.4441691 (113)\ttotal: 2m\tremaining: 15m 37s\n",
      "114:\tlearn: 0.4305236\ttest: 0.4743727\ttest1: 0.4446044\tbest: 0.4446044 (114)\ttotal: 2m 1s\tremaining: 15m 36s\n",
      "115:\tlearn: 0.4305670\ttest: 0.4744901\ttest1: 0.4447343\tbest: 0.4447343 (115)\ttotal: 2m 2s\tremaining: 15m 37s\n",
      "116:\tlearn: 0.4309570\ttest: 0.4749144\ttest1: 0.4446100\tbest: 0.4447343 (115)\ttotal: 2m 4s\tremaining: 15m 37s\n",
      "117:\tlearn: 0.4310164\ttest: 0.4750246\ttest1: 0.4446136\tbest: 0.4447343 (115)\ttotal: 2m 5s\tremaining: 15m 36s\n",
      "118:\tlearn: 0.4311409\ttest: 0.4751135\ttest1: 0.4447804\tbest: 0.4447804 (118)\ttotal: 2m 6s\tremaining: 15m 37s\n",
      "119:\tlearn: 0.4312215\ttest: 0.4752724\ttest1: 0.4448658\tbest: 0.4448658 (119)\ttotal: 2m 7s\tremaining: 15m 37s\n",
      "120:\tlearn: 0.4314324\ttest: 0.4754810\ttest1: 0.4449036\tbest: 0.4449036 (120)\ttotal: 2m 9s\tremaining: 15m 37s\n",
      "121:\tlearn: 0.4314950\ttest: 0.4755820\ttest1: 0.4449942\tbest: 0.4449942 (121)\ttotal: 2m 10s\tremaining: 15m 37s\n",
      "122:\tlearn: 0.4315377\ttest: 0.4756723\ttest1: 0.4451292\tbest: 0.4451292 (122)\ttotal: 2m 11s\tremaining: 15m 37s\n",
      "123:\tlearn: 0.4316184\ttest: 0.4758741\ttest1: 0.4452634\tbest: 0.4452634 (123)\ttotal: 2m 12s\tremaining: 15m 37s\n",
      "124:\tlearn: 0.4317826\ttest: 0.4759554\ttest1: 0.4454112\tbest: 0.4454112 (124)\ttotal: 2m 14s\tremaining: 15m 38s\n",
      "125:\tlearn: 0.4318609\ttest: 0.4761091\ttest1: 0.4453053\tbest: 0.4454112 (124)\ttotal: 2m 15s\tremaining: 15m 38s\n",
      "126:\tlearn: 0.4319215\ttest: 0.4761470\ttest1: 0.4453721\tbest: 0.4454112 (124)\ttotal: 2m 16s\tremaining: 15m 37s\n",
      "127:\tlearn: 0.4319471\ttest: 0.4762349\ttest1: 0.4453260\tbest: 0.4454112 (124)\ttotal: 2m 18s\tremaining: 15m 40s\n",
      "128:\tlearn: 0.4321561\ttest: 0.4764497\ttest1: 0.4455466\tbest: 0.4455466 (128)\ttotal: 2m 19s\tremaining: 15m 39s\n",
      "129:\tlearn: 0.4322648\ttest: 0.4765739\ttest1: 0.4456292\tbest: 0.4456292 (129)\ttotal: 2m 20s\tremaining: 15m 40s\n",
      "130:\tlearn: 0.4323089\ttest: 0.4766494\ttest1: 0.4457313\tbest: 0.4457313 (130)\ttotal: 2m 21s\tremaining: 15m 40s\n",
      "131:\tlearn: 0.4324669\ttest: 0.4768995\ttest1: 0.4457724\tbest: 0.4457724 (131)\ttotal: 2m 22s\tremaining: 15m 38s\n",
      "132:\tlearn: 0.4325520\ttest: 0.4770708\ttest1: 0.4459278\tbest: 0.4459278 (132)\ttotal: 2m 24s\tremaining: 15m 39s\n",
      "133:\tlearn: 0.4326525\ttest: 0.4771561\ttest1: 0.4458796\tbest: 0.4459278 (132)\ttotal: 2m 25s\tremaining: 15m 38s\n",
      "134:\tlearn: 0.4326648\ttest: 0.4773755\ttest1: 0.4460440\tbest: 0.4460440 (134)\ttotal: 2m 26s\tremaining: 15m 37s\n",
      "135:\tlearn: 0.4328224\ttest: 0.4777195\ttest1: 0.4460881\tbest: 0.4460881 (135)\ttotal: 2m 27s\tremaining: 15m 37s\n",
      "136:\tlearn: 0.4328573\ttest: 0.4776657\ttest1: 0.4459355\tbest: 0.4460881 (135)\ttotal: 2m 28s\tremaining: 15m 36s\n",
      "137:\tlearn: 0.4329429\ttest: 0.4777551\ttest1: 0.4458171\tbest: 0.4460881 (135)\ttotal: 2m 29s\tremaining: 15m 34s\n",
      "138:\tlearn: 0.4330238\ttest: 0.4781434\ttest1: 0.4458681\tbest: 0.4460881 (135)\ttotal: 2m 30s\tremaining: 15m 34s\n",
      "139:\tlearn: 0.4331291\ttest: 0.4782561\ttest1: 0.4459148\tbest: 0.4460881 (135)\ttotal: 2m 32s\tremaining: 15m 33s\n",
      "140:\tlearn: 0.4331371\ttest: 0.4783006\ttest1: 0.4461152\tbest: 0.4461152 (140)\ttotal: 2m 33s\tremaining: 15m 32s\n",
      "141:\tlearn: 0.4331736\ttest: 0.4783454\ttest1: 0.4461888\tbest: 0.4461888 (141)\ttotal: 2m 34s\tremaining: 15m 32s\n",
      "142:\tlearn: 0.4332044\ttest: 0.4783915\ttest1: 0.4462137\tbest: 0.4462137 (142)\ttotal: 2m 35s\tremaining: 15m 32s\n",
      "143:\tlearn: 0.4333469\ttest: 0.4785941\ttest1: 0.4462441\tbest: 0.4462441 (143)\ttotal: 2m 36s\tremaining: 15m 31s\n",
      "144:\tlearn: 0.4335031\ttest: 0.4787295\ttest1: 0.4463591\tbest: 0.4463591 (144)\ttotal: 2m 37s\tremaining: 15m 31s\n",
      "145:\tlearn: 0.4335392\ttest: 0.4788517\ttest1: 0.4463888\tbest: 0.4463888 (145)\ttotal: 2m 39s\tremaining: 15m 31s\n",
      "146:\tlearn: 0.4335676\ttest: 0.4788816\ttest1: 0.4465241\tbest: 0.4465241 (146)\ttotal: 2m 40s\tremaining: 15m 29s\n",
      "147:\tlearn: 0.4335501\ttest: 0.4789551\ttest1: 0.4466502\tbest: 0.4466502 (147)\ttotal: 2m 41s\tremaining: 15m 27s\n",
      "148:\tlearn: 0.4336119\ttest: 0.4789827\ttest1: 0.4466744\tbest: 0.4466744 (148)\ttotal: 2m 42s\tremaining: 15m 27s\n",
      "149:\tlearn: 0.4336854\ttest: 0.4791832\ttest1: 0.4469120\tbest: 0.4469120 (149)\ttotal: 2m 43s\tremaining: 15m 25s\n",
      "150:\tlearn: 0.4338232\ttest: 0.4794982\ttest1: 0.4469354\tbest: 0.4469354 (150)\ttotal: 2m 44s\tremaining: 15m 24s\n",
      "151:\tlearn: 0.4338735\ttest: 0.4796924\ttest1: 0.4470912\tbest: 0.4470912 (151)\ttotal: 2m 45s\tremaining: 15m 24s\n"
     ]
    },
    {
     "name": "stdout",
     "output_type": "stream",
     "text": [
      "152:\tlearn: 0.4341598\ttest: 0.4799781\ttest1: 0.4469971\tbest: 0.4470912 (151)\ttotal: 2m 46s\tremaining: 15m 23s\n",
      "153:\tlearn: 0.4343303\ttest: 0.4801517\ttest1: 0.4472709\tbest: 0.4472709 (153)\ttotal: 2m 48s\tremaining: 15m 23s\n",
      "154:\tlearn: 0.4344476\ttest: 0.4803865\ttest1: 0.4475067\tbest: 0.4475067 (154)\ttotal: 2m 49s\tremaining: 15m 22s\n",
      "155:\tlearn: 0.4344596\ttest: 0.4804412\ttest1: 0.4475719\tbest: 0.4475719 (155)\ttotal: 2m 50s\tremaining: 15m 21s\n",
      "156:\tlearn: 0.4345169\ttest: 0.4805226\ttest1: 0.4475003\tbest: 0.4475719 (155)\ttotal: 2m 51s\tremaining: 15m 18s\n",
      "157:\tlearn: 0.4345341\ttest: 0.4806193\ttest1: 0.4474943\tbest: 0.4475719 (155)\ttotal: 2m 52s\tremaining: 15m 18s\n",
      "158:\tlearn: 0.4345925\ttest: 0.4807138\ttest1: 0.4476922\tbest: 0.4476922 (158)\ttotal: 2m 53s\tremaining: 15m 17s\n",
      "159:\tlearn: 0.4347033\ttest: 0.4807556\ttest1: 0.4476474\tbest: 0.4476922 (158)\ttotal: 2m 54s\tremaining: 15m 16s\n",
      "160:\tlearn: 0.4347390\ttest: 0.4810081\ttest1: 0.4479714\tbest: 0.4479714 (160)\ttotal: 2m 55s\tremaining: 15m 15s\n",
      "161:\tlearn: 0.4348377\ttest: 0.4810413\ttest1: 0.4479820\tbest: 0.4479820 (161)\ttotal: 2m 56s\tremaining: 15m 15s\n",
      "162:\tlearn: 0.4348431\ttest: 0.4811132\ttest1: 0.4480539\tbest: 0.4480539 (162)\ttotal: 2m 58s\tremaining: 15m 14s\n",
      "163:\tlearn: 0.4348684\ttest: 0.4811730\ttest1: 0.4482577\tbest: 0.4482577 (163)\ttotal: 2m 59s\tremaining: 15m 12s\n",
      "164:\tlearn: 0.4348771\ttest: 0.4812182\ttest1: 0.4481651\tbest: 0.4482577 (163)\ttotal: 3m\tremaining: 15m 11s\n",
      "165:\tlearn: 0.4350738\ttest: 0.4814188\ttest1: 0.4485002\tbest: 0.4485002 (165)\ttotal: 3m 1s\tremaining: 15m 10s\n",
      "166:\tlearn: 0.4350692\ttest: 0.4815318\ttest1: 0.4485369\tbest: 0.4485369 (166)\ttotal: 3m 2s\tremaining: 15m 10s\n",
      "167:\tlearn: 0.4351179\ttest: 0.4816316\ttest1: 0.4484695\tbest: 0.4485369 (166)\ttotal: 3m 3s\tremaining: 15m 9s\n",
      "168:\tlearn: 0.4351947\ttest: 0.4818979\ttest1: 0.4485185\tbest: 0.4485369 (166)\ttotal: 3m 4s\tremaining: 15m 8s\n",
      "169:\tlearn: 0.4353361\ttest: 0.4819462\ttest1: 0.4485361\tbest: 0.4485369 (166)\ttotal: 3m 5s\tremaining: 15m 7s\n",
      "170:\tlearn: 0.4353732\ttest: 0.4819940\ttest1: 0.4487060\tbest: 0.4487060 (170)\ttotal: 3m 7s\tremaining: 15m 6s\n",
      "171:\tlearn: 0.4355129\ttest: 0.4821775\ttest1: 0.4490396\tbest: 0.4490396 (171)\ttotal: 3m 8s\tremaining: 15m 6s\n",
      "172:\tlearn: 0.4355082\ttest: 0.4822674\ttest1: 0.4488140\tbest: 0.4490396 (171)\ttotal: 3m 9s\tremaining: 15m 5s\n",
      "173:\tlearn: 0.4354748\ttest: 0.4823233\ttest1: 0.4489000\tbest: 0.4490396 (171)\ttotal: 3m 10s\tremaining: 15m 4s\n",
      "174:\tlearn: 0.4356320\ttest: 0.4825498\ttest1: 0.4489021\tbest: 0.4490396 (171)\ttotal: 3m 11s\tremaining: 15m 4s\n",
      "175:\tlearn: 0.4357135\ttest: 0.4827042\ttest1: 0.4489930\tbest: 0.4490396 (171)\ttotal: 3m 13s\tremaining: 15m 3s\n",
      "176:\tlearn: 0.4357930\ttest: 0.4828600\ttest1: 0.4490136\tbest: 0.4490396 (171)\ttotal: 3m 14s\tremaining: 15m 3s\n",
      "177:\tlearn: 0.4358576\ttest: 0.4829321\ttest1: 0.4489252\tbest: 0.4490396 (171)\ttotal: 3m 15s\tremaining: 15m 1s\n",
      "178:\tlearn: 0.4360101\ttest: 0.4830723\ttest1: 0.4490540\tbest: 0.4490540 (178)\ttotal: 3m 16s\tremaining: 15m\n",
      "179:\tlearn: 0.4360821\ttest: 0.4832692\ttest1: 0.4490443\tbest: 0.4490540 (178)\ttotal: 3m 17s\tremaining: 15m\n",
      "180:\tlearn: 0.4361127\ttest: 0.4832484\ttest1: 0.4491959\tbest: 0.4491959 (180)\ttotal: 3m 18s\tremaining: 14m 58s\n",
      "181:\tlearn: 0.4361588\ttest: 0.4833460\ttest1: 0.4491483\tbest: 0.4491959 (180)\ttotal: 3m 19s\tremaining: 14m 57s\n",
      "182:\tlearn: 0.4362081\ttest: 0.4835177\ttest1: 0.4493346\tbest: 0.4493346 (182)\ttotal: 3m 21s\tremaining: 14m 57s\n",
      "183:\tlearn: 0.4362045\ttest: 0.4835433\ttest1: 0.4495850\tbest: 0.4495850 (183)\ttotal: 3m 22s\tremaining: 14m 58s\n",
      "184:\tlearn: 0.4362322\ttest: 0.4835789\ttest1: 0.4495895\tbest: 0.4495895 (184)\ttotal: 3m 23s\tremaining: 14m 56s\n",
      "185:\tlearn: 0.4362744\ttest: 0.4836871\ttest1: 0.4496745\tbest: 0.4496745 (185)\ttotal: 3m 24s\tremaining: 14m 56s\n",
      "186:\tlearn: 0.4363084\ttest: 0.4837174\ttest1: 0.4496060\tbest: 0.4496745 (185)\ttotal: 3m 25s\tremaining: 14m 55s\n",
      "187:\tlearn: 0.4363479\ttest: 0.4838629\ttest1: 0.4495168\tbest: 0.4496745 (185)\ttotal: 3m 27s\tremaining: 14m 54s\n",
      "188:\tlearn: 0.4363976\ttest: 0.4838827\ttest1: 0.4498342\tbest: 0.4498342 (188)\ttotal: 3m 28s\tremaining: 14m 53s\n",
      "189:\tlearn: 0.4364205\ttest: 0.4840026\ttest1: 0.4497459\tbest: 0.4498342 (188)\ttotal: 3m 29s\tremaining: 14m 52s\n",
      "190:\tlearn: 0.4364656\ttest: 0.4840403\ttest1: 0.4497699\tbest: 0.4498342 (188)\ttotal: 3m 30s\tremaining: 14m 51s\n",
      "191:\tlearn: 0.4365114\ttest: 0.4841627\ttest1: 0.4498705\tbest: 0.4498705 (191)\ttotal: 3m 31s\tremaining: 14m 51s\n",
      "192:\tlearn: 0.4365209\ttest: 0.4842832\ttest1: 0.4500159\tbest: 0.4500159 (192)\ttotal: 3m 32s\tremaining: 14m 50s\n",
      "193:\tlearn: 0.4365920\ttest: 0.4844701\ttest1: 0.4499349\tbest: 0.4500159 (192)\ttotal: 3m 34s\tremaining: 14m 49s\n",
      "194:\tlearn: 0.4366516\ttest: 0.4845426\ttest1: 0.4499214\tbest: 0.4500159 (192)\ttotal: 3m 35s\tremaining: 14m 47s\n",
      "195:\tlearn: 0.4366504\ttest: 0.4845302\ttest1: 0.4498418\tbest: 0.4500159 (192)\ttotal: 3m 36s\tremaining: 14m 47s\n",
      "196:\tlearn: 0.4367376\ttest: 0.4847127\ttest1: 0.4499570\tbest: 0.4500159 (192)\ttotal: 3m 37s\tremaining: 14m 47s\n",
      "197:\tlearn: 0.4368511\ttest: 0.4848340\ttest1: 0.4498862\tbest: 0.4500159 (192)\ttotal: 3m 38s\tremaining: 14m 46s\n",
      "198:\tlearn: 0.4369127\ttest: 0.4849832\ttest1: 0.4497919\tbest: 0.4500159 (192)\ttotal: 3m 39s\tremaining: 14m 44s\n",
      "199:\tlearn: 0.4369361\ttest: 0.4850079\ttest1: 0.4497871\tbest: 0.4500159 (192)\ttotal: 3m 40s\tremaining: 14m 42s\n",
      "200:\tlearn: 0.4371346\ttest: 0.4852433\ttest1: 0.4499750\tbest: 0.4500159 (192)\ttotal: 3m 41s\tremaining: 14m 41s\n",
      "201:\tlearn: 0.4371934\ttest: 0.4854191\ttest1: 0.4497213\tbest: 0.4500159 (192)\ttotal: 3m 43s\tremaining: 14m 41s\n",
      "202:\tlearn: 0.4372192\ttest: 0.4855039\ttest1: 0.4499046\tbest: 0.4500159 (192)\ttotal: 3m 44s\tremaining: 14m 40s\n",
      "203:\tlearn: 0.4371585\ttest: 0.4854978\ttest1: 0.4500748\tbest: 0.4500748 (203)\ttotal: 3m 45s\tremaining: 14m 39s\n",
      "204:\tlearn: 0.4372814\ttest: 0.4856142\ttest1: 0.4501082\tbest: 0.4501082 (204)\ttotal: 3m 46s\tremaining: 14m 38s\n",
      "205:\tlearn: 0.4373400\ttest: 0.4856298\ttest1: 0.4501518\tbest: 0.4501518 (205)\ttotal: 3m 47s\tremaining: 14m 37s\n",
      "206:\tlearn: 0.4373335\ttest: 0.4856715\ttest1: 0.4502334\tbest: 0.4502334 (206)\ttotal: 3m 48s\tremaining: 14m 36s\n",
      "207:\tlearn: 0.4373998\ttest: 0.4858199\ttest1: 0.4501304\tbest: 0.4502334 (206)\ttotal: 3m 50s\tremaining: 14m 36s\n",
      "208:\tlearn: 0.4375069\ttest: 0.4860015\ttest1: 0.4502974\tbest: 0.4502974 (208)\ttotal: 3m 51s\tremaining: 14m 35s\n",
      "209:\tlearn: 0.4375046\ttest: 0.4860606\ttest1: 0.4502437\tbest: 0.4502974 (208)\ttotal: 3m 52s\tremaining: 14m 33s\n",
      "210:\tlearn: 0.4375317\ttest: 0.4860796\ttest1: 0.4502530\tbest: 0.4502974 (208)\ttotal: 3m 53s\tremaining: 14m 31s\n",
      "211:\tlearn: 0.4375921\ttest: 0.4861862\ttest1: 0.4502363\tbest: 0.4502974 (208)\ttotal: 3m 54s\tremaining: 14m 31s\n",
      "212:\tlearn: 0.4377088\ttest: 0.4863312\ttest1: 0.4501452\tbest: 0.4502974 (208)\ttotal: 3m 55s\tremaining: 14m 29s\n",
      "213:\tlearn: 0.4376452\ttest: 0.4863556\ttest1: 0.4503044\tbest: 0.4503044 (213)\ttotal: 3m 56s\tremaining: 14m 28s\n",
      "214:\tlearn: 0.4376485\ttest: 0.4864273\ttest1: 0.4501666\tbest: 0.4503044 (213)\ttotal: 3m 57s\tremaining: 14m 27s\n",
      "215:\tlearn: 0.4377211\ttest: 0.4865233\ttest1: 0.4500667\tbest: 0.4503044 (213)\ttotal: 3m 58s\tremaining: 14m 26s\n",
      "216:\tlearn: 0.4377676\ttest: 0.4865317\ttest1: 0.4501699\tbest: 0.4503044 (213)\ttotal: 4m\tremaining: 14m 26s\n",
      "217:\tlearn: 0.4377809\ttest: 0.4866125\ttest1: 0.4500314\tbest: 0.4503044 (213)\ttotal: 4m 1s\tremaining: 14m 25s\n",
      "218:\tlearn: 0.4378372\ttest: 0.4867103\ttest1: 0.4501135\tbest: 0.4503044 (213)\ttotal: 4m 2s\tremaining: 14m 24s\n",
      "219:\tlearn: 0.4378614\ttest: 0.4867104\ttest1: 0.4500773\tbest: 0.4503044 (213)\ttotal: 4m 3s\tremaining: 14m 24s\n",
      "220:\tlearn: 0.4378817\ttest: 0.4867276\ttest1: 0.4501837\tbest: 0.4503044 (213)\ttotal: 4m 4s\tremaining: 14m 22s\n",
      "221:\tlearn: 0.4379570\ttest: 0.4867937\ttest1: 0.4500800\tbest: 0.4503044 (213)\ttotal: 4m 6s\tremaining: 14m 22s\n",
      "222:\tlearn: 0.4379841\ttest: 0.4869972\ttest1: 0.4502167\tbest: 0.4503044 (213)\ttotal: 4m 7s\tremaining: 14m 22s\n",
      "223:\tlearn: 0.4380556\ttest: 0.4870568\ttest1: 0.4501745\tbest: 0.4503044 (213)\ttotal: 4m 8s\tremaining: 14m 21s\n",
      "224:\tlearn: 0.4380887\ttest: 0.4871033\ttest1: 0.4503595\tbest: 0.4503595 (224)\ttotal: 4m 10s\tremaining: 14m 21s\n",
      "225:\tlearn: 0.4381952\ttest: 0.4871249\ttest1: 0.4503098\tbest: 0.4503595 (224)\ttotal: 4m 11s\tremaining: 14m 20s\n",
      "226:\tlearn: 0.4381634\ttest: 0.4872372\ttest1: 0.4504231\tbest: 0.4504231 (226)\ttotal: 4m 12s\tremaining: 14m 19s\n"
     ]
    },
    {
     "name": "stdout",
     "output_type": "stream",
     "text": [
      "227:\tlearn: 0.4382658\ttest: 0.4872962\ttest1: 0.4504778\tbest: 0.4504778 (227)\ttotal: 4m 13s\tremaining: 14m 18s\n",
      "228:\tlearn: 0.4382939\ttest: 0.4874290\ttest1: 0.4505041\tbest: 0.4505041 (228)\ttotal: 4m 14s\tremaining: 14m 17s\n",
      "229:\tlearn: 0.4383632\ttest: 0.4875324\ttest1: 0.4506650\tbest: 0.4506650 (229)\ttotal: 4m 16s\tremaining: 14m 17s\n",
      "230:\tlearn: 0.4383895\ttest: 0.4875640\ttest1: 0.4506363\tbest: 0.4506650 (229)\ttotal: 4m 17s\tremaining: 14m 16s\n",
      "231:\tlearn: 0.4383734\ttest: 0.4875883\ttest1: 0.4506286\tbest: 0.4506650 (229)\ttotal: 4m 18s\tremaining: 14m 15s\n",
      "232:\tlearn: 0.4383785\ttest: 0.4876283\ttest1: 0.4505426\tbest: 0.4506650 (229)\ttotal: 4m 19s\tremaining: 14m 15s\n",
      "233:\tlearn: 0.4384110\ttest: 0.4877627\ttest1: 0.4506279\tbest: 0.4506650 (229)\ttotal: 4m 20s\tremaining: 14m 14s\n",
      "234:\tlearn: 0.4384825\ttest: 0.4878223\ttest1: 0.4506538\tbest: 0.4506650 (229)\ttotal: 4m 22s\tremaining: 14m 13s\n",
      "235:\tlearn: 0.4385659\ttest: 0.4878832\ttest1: 0.4507067\tbest: 0.4507067 (235)\ttotal: 4m 23s\tremaining: 14m 12s\n",
      "236:\tlearn: 0.4386344\ttest: 0.4880754\ttest1: 0.4507177\tbest: 0.4507177 (236)\ttotal: 4m 24s\tremaining: 14m 12s\n",
      "237:\tlearn: 0.4386605\ttest: 0.4882825\ttest1: 0.4509511\tbest: 0.4509511 (237)\ttotal: 4m 26s\tremaining: 14m 11s\n",
      "238:\tlearn: 0.4387667\ttest: 0.4883183\ttest1: 0.4510852\tbest: 0.4510852 (238)\ttotal: 4m 27s\tremaining: 14m 11s\n",
      "239:\tlearn: 0.4387764\ttest: 0.4882588\ttest1: 0.4508837\tbest: 0.4510852 (238)\ttotal: 4m 28s\tremaining: 14m 9s\n",
      "240:\tlearn: 0.4388537\ttest: 0.4883517\ttest1: 0.4511337\tbest: 0.4511337 (240)\ttotal: 4m 29s\tremaining: 14m 9s\n",
      "241:\tlearn: 0.4389269\ttest: 0.4884813\ttest1: 0.4514855\tbest: 0.4514855 (241)\ttotal: 4m 30s\tremaining: 14m 8s\n",
      "242:\tlearn: 0.4389529\ttest: 0.4885047\ttest1: 0.4516177\tbest: 0.4516177 (242)\ttotal: 4m 32s\tremaining: 14m 8s\n",
      "243:\tlearn: 0.4389607\ttest: 0.4886268\ttest1: 0.4515783\tbest: 0.4516177 (242)\ttotal: 4m 33s\tremaining: 14m 7s\n",
      "244:\tlearn: 0.4390541\ttest: 0.4887004\ttest1: 0.4518895\tbest: 0.4518895 (244)\ttotal: 4m 34s\tremaining: 14m 5s\n",
      "245:\tlearn: 0.4390595\ttest: 0.4888757\ttest1: 0.4517344\tbest: 0.4518895 (244)\ttotal: 4m 35s\tremaining: 14m 4s\n",
      "246:\tlearn: 0.4391800\ttest: 0.4890012\ttest1: 0.4518321\tbest: 0.4518895 (244)\ttotal: 4m 36s\tremaining: 14m 3s\n",
      "247:\tlearn: 0.4391304\ttest: 0.4890600\ttest1: 0.4519264\tbest: 0.4519264 (247)\ttotal: 4m 37s\tremaining: 14m 2s\n",
      "248:\tlearn: 0.4392445\ttest: 0.4890812\ttest1: 0.4521265\tbest: 0.4521265 (248)\ttotal: 4m 39s\tremaining: 14m 1s\n",
      "249:\tlearn: 0.4393249\ttest: 0.4891632\ttest1: 0.4519865\tbest: 0.4521265 (248)\ttotal: 4m 40s\tremaining: 14m\n",
      "250:\tlearn: 0.4393418\ttest: 0.4892885\ttest1: 0.4519508\tbest: 0.4521265 (248)\ttotal: 4m 41s\tremaining: 13m 59s\n",
      "251:\tlearn: 0.4394723\ttest: 0.4894004\ttest1: 0.4519757\tbest: 0.4521265 (248)\ttotal: 4m 42s\tremaining: 13m 58s\n",
      "252:\tlearn: 0.4394968\ttest: 0.4894118\ttest1: 0.4520753\tbest: 0.4521265 (248)\ttotal: 4m 43s\tremaining: 13m 57s\n",
      "253:\tlearn: 0.4396795\ttest: 0.4898311\ttest1: 0.4522085\tbest: 0.4522085 (253)\ttotal: 4m 45s\tremaining: 13m 57s\n",
      "254:\tlearn: 0.4397116\ttest: 0.4898862\ttest1: 0.4521134\tbest: 0.4522085 (253)\ttotal: 4m 46s\tremaining: 13m 57s\n",
      "255:\tlearn: 0.4397728\ttest: 0.4898956\ttest1: 0.4522100\tbest: 0.4522100 (255)\ttotal: 4m 47s\tremaining: 13m 56s\n",
      "256:\tlearn: 0.4398700\ttest: 0.4900378\ttest1: 0.4522974\tbest: 0.4522974 (256)\ttotal: 4m 48s\tremaining: 13m 55s\n",
      "257:\tlearn: 0.4398536\ttest: 0.4900503\ttest1: 0.4522687\tbest: 0.4522974 (256)\ttotal: 4m 50s\tremaining: 13m 54s\n",
      "258:\tlearn: 0.4398621\ttest: 0.4901206\ttest1: 0.4523268\tbest: 0.4523268 (258)\ttotal: 4m 51s\tremaining: 13m 52s\n",
      "259:\tlearn: 0.4399024\ttest: 0.4901788\ttest1: 0.4522828\tbest: 0.4523268 (258)\ttotal: 4m 52s\tremaining: 13m 52s\n",
      "260:\tlearn: 0.4399792\ttest: 0.4902954\ttest1: 0.4522348\tbest: 0.4523268 (258)\ttotal: 4m 53s\tremaining: 13m 51s\n",
      "261:\tlearn: 0.4400536\ttest: 0.4903664\ttest1: 0.4523007\tbest: 0.4523268 (258)\ttotal: 4m 54s\tremaining: 13m 50s\n",
      "262:\tlearn: 0.4401171\ttest: 0.4903799\ttest1: 0.4523300\tbest: 0.4523300 (262)\ttotal: 4m 56s\tremaining: 13m 49s\n",
      "263:\tlearn: 0.4400941\ttest: 0.4904028\ttest1: 0.4523659\tbest: 0.4523659 (263)\ttotal: 4m 57s\tremaining: 13m 48s\n",
      "264:\tlearn: 0.4401143\ttest: 0.4904821\ttest1: 0.4524609\tbest: 0.4524609 (264)\ttotal: 4m 58s\tremaining: 13m 47s\n",
      "265:\tlearn: 0.4401312\ttest: 0.4906886\ttest1: 0.4524686\tbest: 0.4524686 (265)\ttotal: 4m 59s\tremaining: 13m 45s\n",
      "266:\tlearn: 0.4402386\ttest: 0.4908119\ttest1: 0.4526052\tbest: 0.4526052 (266)\ttotal: 5m\tremaining: 13m 44s\n",
      "267:\tlearn: 0.4402585\ttest: 0.4908842\ttest1: 0.4526517\tbest: 0.4526517 (267)\ttotal: 5m 1s\tremaining: 13m 43s\n",
      "268:\tlearn: 0.4403317\ttest: 0.4909706\ttest1: 0.4528766\tbest: 0.4528766 (268)\ttotal: 5m 2s\tremaining: 13m 42s\n",
      "269:\tlearn: 0.4404314\ttest: 0.4912551\ttest1: 0.4529789\tbest: 0.4529789 (269)\ttotal: 5m 3s\tremaining: 13m 41s\n",
      "270:\tlearn: 0.4406032\ttest: 0.4913845\ttest1: 0.4530245\tbest: 0.4530245 (270)\ttotal: 5m 5s\tremaining: 13m 40s\n",
      "271:\tlearn: 0.4406329\ttest: 0.4915236\ttest1: 0.4530299\tbest: 0.4530299 (271)\ttotal: 5m 6s\tremaining: 13m 39s\n",
      "272:\tlearn: 0.4406738\ttest: 0.4915756\ttest1: 0.4528638\tbest: 0.4530299 (271)\ttotal: 5m 7s\tremaining: 13m 38s\n",
      "273:\tlearn: 0.4407263\ttest: 0.4917394\ttest1: 0.4528579\tbest: 0.4530299 (271)\ttotal: 5m 8s\tremaining: 13m 36s\n",
      "274:\tlearn: 0.4408248\ttest: 0.4919188\ttest1: 0.4531254\tbest: 0.4531254 (274)\ttotal: 5m 9s\tremaining: 13m 35s\n",
      "275:\tlearn: 0.4408498\ttest: 0.4919276\ttest1: 0.4529057\tbest: 0.4531254 (274)\ttotal: 5m 10s\tremaining: 13m 34s\n",
      "276:\tlearn: 0.4408393\ttest: 0.4919586\ttest1: 0.4530132\tbest: 0.4531254 (274)\ttotal: 5m 11s\tremaining: 13m 33s\n",
      "277:\tlearn: 0.4408532\ttest: 0.4920654\ttest1: 0.4531368\tbest: 0.4531368 (277)\ttotal: 5m 12s\tremaining: 13m 32s\n",
      "278:\tlearn: 0.4409164\ttest: 0.4922800\ttest1: 0.4530270\tbest: 0.4531368 (277)\ttotal: 5m 14s\tremaining: 13m 31s\n",
      "279:\tlearn: 0.4410090\ttest: 0.4923319\ttest1: 0.4533410\tbest: 0.4533410 (279)\ttotal: 5m 15s\tremaining: 13m 30s\n",
      "280:\tlearn: 0.4410356\ttest: 0.4924731\ttest1: 0.4534805\tbest: 0.4534805 (280)\ttotal: 5m 16s\tremaining: 13m 28s\n",
      "281:\tlearn: 0.4411476\ttest: 0.4925953\ttest1: 0.4535473\tbest: 0.4535473 (281)\ttotal: 5m 17s\tremaining: 13m 27s\n",
      "282:\tlearn: 0.4411545\ttest: 0.4925850\ttest1: 0.4533836\tbest: 0.4535473 (281)\ttotal: 5m 18s\tremaining: 13m 26s\n",
      "283:\tlearn: 0.4412161\ttest: 0.4926638\ttest1: 0.4534593\tbest: 0.4535473 (281)\ttotal: 5m 19s\tremaining: 13m 25s\n",
      "284:\tlearn: 0.4412296\ttest: 0.4926914\ttest1: 0.4534734\tbest: 0.4535473 (281)\ttotal: 5m 20s\tremaining: 13m 24s\n",
      "285:\tlearn: 0.4412450\ttest: 0.4927462\ttest1: 0.4533422\tbest: 0.4535473 (281)\ttotal: 5m 21s\tremaining: 13m 22s\n",
      "286:\tlearn: 0.4413321\ttest: 0.4930818\ttest1: 0.4532970\tbest: 0.4535473 (281)\ttotal: 5m 22s\tremaining: 13m 21s\n",
      "287:\tlearn: 0.4414119\ttest: 0.4931521\ttest1: 0.4536838\tbest: 0.4536838 (287)\ttotal: 5m 23s\tremaining: 13m 20s\n",
      "288:\tlearn: 0.4414333\ttest: 0.4932528\ttest1: 0.4536933\tbest: 0.4536933 (288)\ttotal: 5m 24s\tremaining: 13m 19s\n",
      "289:\tlearn: 0.4414851\ttest: 0.4933504\ttest1: 0.4537180\tbest: 0.4537180 (289)\ttotal: 5m 25s\tremaining: 13m 17s\n",
      "290:\tlearn: 0.4415110\ttest: 0.4933344\ttest1: 0.4536998\tbest: 0.4537180 (289)\ttotal: 5m 26s\tremaining: 13m 16s\n",
      "291:\tlearn: 0.4416455\ttest: 0.4935538\ttest1: 0.4537796\tbest: 0.4537796 (291)\ttotal: 5m 28s\tremaining: 13m 15s\n",
      "292:\tlearn: 0.4418433\ttest: 0.4937251\ttest1: 0.4538429\tbest: 0.4538429 (292)\ttotal: 5m 29s\tremaining: 13m 14s\n",
      "293:\tlearn: 0.4418452\ttest: 0.4937556\ttest1: 0.4536670\tbest: 0.4538429 (292)\ttotal: 5m 30s\tremaining: 13m 13s\n",
      "294:\tlearn: 0.4418557\ttest: 0.4938290\ttest1: 0.4538327\tbest: 0.4538429 (292)\ttotal: 5m 31s\tremaining: 13m 12s\n",
      "295:\tlearn: 0.4418858\ttest: 0.4938573\ttest1: 0.4538647\tbest: 0.4538647 (295)\ttotal: 5m 32s\tremaining: 13m 11s\n",
      "296:\tlearn: 0.4418744\ttest: 0.4938259\ttest1: 0.4540012\tbest: 0.4540012 (296)\ttotal: 5m 33s\tremaining: 13m 10s\n",
      "297:\tlearn: 0.4419322\ttest: 0.4938371\ttest1: 0.4539949\tbest: 0.4540012 (296)\ttotal: 5m 35s\tremaining: 13m 9s\n",
      "298:\tlearn: 0.4419402\ttest: 0.4939113\ttest1: 0.4538770\tbest: 0.4540012 (296)\ttotal: 5m 36s\tremaining: 13m 8s\n",
      "299:\tlearn: 0.4419429\ttest: 0.4939797\ttest1: 0.4540167\tbest: 0.4540167 (299)\ttotal: 5m 37s\tremaining: 13m 7s\n",
      "300:\tlearn: 0.4419750\ttest: 0.4940348\ttest1: 0.4539590\tbest: 0.4540167 (299)\ttotal: 5m 38s\tremaining: 13m 6s\n",
      "301:\tlearn: 0.4420040\ttest: 0.4941701\ttest1: 0.4540727\tbest: 0.4540727 (301)\ttotal: 5m 39s\tremaining: 13m 5s\n"
     ]
    },
    {
     "name": "stdout",
     "output_type": "stream",
     "text": [
      "302:\tlearn: 0.4419947\ttest: 0.4941924\ttest1: 0.4540546\tbest: 0.4540727 (301)\ttotal: 5m 40s\tremaining: 13m 4s\n",
      "303:\tlearn: 0.4420498\ttest: 0.4942209\ttest1: 0.4541300\tbest: 0.4541300 (303)\ttotal: 5m 42s\tremaining: 13m 3s\n",
      "304:\tlearn: 0.4420619\ttest: 0.4942990\ttest1: 0.4541717\tbest: 0.4541717 (304)\ttotal: 5m 43s\tremaining: 13m 2s\n",
      "305:\tlearn: 0.4421641\ttest: 0.4944195\ttest1: 0.4543518\tbest: 0.4543518 (305)\ttotal: 5m 44s\tremaining: 13m 1s\n",
      "306:\tlearn: 0.4422343\ttest: 0.4944688\ttest1: 0.4543502\tbest: 0.4543518 (305)\ttotal: 5m 45s\tremaining: 12m 59s\n",
      "307:\tlearn: 0.4422401\ttest: 0.4944520\ttest1: 0.4542143\tbest: 0.4543518 (305)\ttotal: 5m 46s\tremaining: 12m 58s\n",
      "308:\tlearn: 0.4422975\ttest: 0.4945321\ttest1: 0.4542576\tbest: 0.4543518 (305)\ttotal: 5m 47s\tremaining: 12m 57s\n",
      "309:\tlearn: 0.4423085\ttest: 0.4945919\ttest1: 0.4541660\tbest: 0.4543518 (305)\ttotal: 5m 48s\tremaining: 12m 56s\n",
      "310:\tlearn: 0.4423227\ttest: 0.4945356\ttest1: 0.4541502\tbest: 0.4543518 (305)\ttotal: 5m 49s\tremaining: 12m 54s\n",
      "311:\tlearn: 0.4423846\ttest: 0.4946026\ttest1: 0.4542215\tbest: 0.4543518 (305)\ttotal: 5m 50s\tremaining: 12m 53s\n",
      "312:\tlearn: 0.4423470\ttest: 0.4945951\ttest1: 0.4543425\tbest: 0.4543518 (305)\ttotal: 5m 51s\tremaining: 12m 52s\n",
      "313:\tlearn: 0.4423914\ttest: 0.4947907\ttest1: 0.4542875\tbest: 0.4543518 (305)\ttotal: 5m 53s\tremaining: 12m 51s\n",
      "314:\tlearn: 0.4424868\ttest: 0.4947758\ttest1: 0.4543193\tbest: 0.4543518 (305)\ttotal: 5m 54s\tremaining: 12m 50s\n",
      "315:\tlearn: 0.4424422\ttest: 0.4948532\ttest1: 0.4542457\tbest: 0.4543518 (305)\ttotal: 5m 55s\tremaining: 12m 49s\n",
      "316:\tlearn: 0.4424499\ttest: 0.4948668\ttest1: 0.4541241\tbest: 0.4543518 (305)\ttotal: 5m 56s\tremaining: 12m 47s\n",
      "317:\tlearn: 0.4426292\ttest: 0.4948975\ttest1: 0.4542938\tbest: 0.4543518 (305)\ttotal: 5m 57s\tremaining: 12m 46s\n",
      "318:\tlearn: 0.4427120\ttest: 0.4949371\ttest1: 0.4543218\tbest: 0.4543518 (305)\ttotal: 5m 58s\tremaining: 12m 44s\n",
      "319:\tlearn: 0.4427064\ttest: 0.4949765\ttest1: 0.4545314\tbest: 0.4545314 (319)\ttotal: 5m 59s\tremaining: 12m 43s\n",
      "320:\tlearn: 0.4427719\ttest: 0.4949893\ttest1: 0.4544900\tbest: 0.4545314 (319)\ttotal: 6m\tremaining: 12m 43s\n",
      "321:\tlearn: 0.4427839\ttest: 0.4950309\ttest1: 0.4544035\tbest: 0.4545314 (319)\ttotal: 6m 1s\tremaining: 12m 42s\n",
      "322:\tlearn: 0.4428087\ttest: 0.4950705\ttest1: 0.4544357\tbest: 0.4545314 (319)\ttotal: 6m 3s\tremaining: 12m 40s\n",
      "323:\tlearn: 0.4427743\ttest: 0.4951522\ttest1: 0.4544018\tbest: 0.4545314 (319)\ttotal: 6m 4s\tremaining: 12m 39s\n",
      "324:\tlearn: 0.4428142\ttest: 0.4951661\ttest1: 0.4543686\tbest: 0.4545314 (319)\ttotal: 6m 5s\tremaining: 12m 38s\n",
      "325:\tlearn: 0.4428405\ttest: 0.4951826\ttest1: 0.4543373\tbest: 0.4545314 (319)\ttotal: 6m 6s\tremaining: 12m 37s\n",
      "326:\tlearn: 0.4428388\ttest: 0.4952800\ttest1: 0.4543878\tbest: 0.4545314 (319)\ttotal: 6m 7s\tremaining: 12m 36s\n",
      "327:\tlearn: 0.4429474\ttest: 0.4953581\ttest1: 0.4546823\tbest: 0.4546823 (327)\ttotal: 6m 8s\tremaining: 12m 35s\n",
      "328:\tlearn: 0.4429990\ttest: 0.4954153\ttest1: 0.4548031\tbest: 0.4548031 (328)\ttotal: 6m 9s\tremaining: 12m 33s\n",
      "329:\tlearn: 0.4430280\ttest: 0.4954197\ttest1: 0.4548186\tbest: 0.4548186 (329)\ttotal: 6m 10s\tremaining: 12m 32s\n",
      "330:\tlearn: 0.4430561\ttest: 0.4955088\ttest1: 0.4545822\tbest: 0.4548186 (329)\ttotal: 6m 11s\tremaining: 12m 31s\n",
      "331:\tlearn: 0.4430938\ttest: 0.4955318\ttest1: 0.4545452\tbest: 0.4548186 (329)\ttotal: 6m 12s\tremaining: 12m 29s\n",
      "332:\tlearn: 0.4431041\ttest: 0.4956077\ttest1: 0.4545648\tbest: 0.4548186 (329)\ttotal: 6m 13s\tremaining: 12m 28s\n",
      "333:\tlearn: 0.4431756\ttest: 0.4956512\ttest1: 0.4548750\tbest: 0.4548750 (333)\ttotal: 6m 14s\tremaining: 12m 27s\n",
      "334:\tlearn: 0.4431879\ttest: 0.4957017\ttest1: 0.4548728\tbest: 0.4548750 (333)\ttotal: 6m 15s\tremaining: 12m 25s\n",
      "335:\tlearn: 0.4431980\ttest: 0.4957967\ttest1: 0.4549999\tbest: 0.4549999 (335)\ttotal: 6m 16s\tremaining: 12m 24s\n",
      "336:\tlearn: 0.4432102\ttest: 0.4958587\ttest1: 0.4547987\tbest: 0.4549999 (335)\ttotal: 6m 18s\tremaining: 12m 23s\n",
      "337:\tlearn: 0.4432693\ttest: 0.4959638\ttest1: 0.4547577\tbest: 0.4549999 (335)\ttotal: 6m 19s\tremaining: 12m 22s\n",
      "338:\tlearn: 0.4432923\ttest: 0.4959372\ttest1: 0.4548933\tbest: 0.4549999 (335)\ttotal: 6m 20s\tremaining: 12m 21s\n",
      "339:\tlearn: 0.4432715\ttest: 0.4960349\ttest1: 0.4548489\tbest: 0.4549999 (335)\ttotal: 6m 21s\tremaining: 12m 20s\n",
      "340:\tlearn: 0.4433494\ttest: 0.4961042\ttest1: 0.4548786\tbest: 0.4549999 (335)\ttotal: 6m 22s\tremaining: 12m 20s\n",
      "341:\tlearn: 0.4433444\ttest: 0.4961197\ttest1: 0.4548623\tbest: 0.4549999 (335)\ttotal: 6m 23s\tremaining: 12m 18s\n",
      "342:\tlearn: 0.4433916\ttest: 0.4962512\ttest1: 0.4547824\tbest: 0.4549999 (335)\ttotal: 6m 25s\tremaining: 12m 17s\n",
      "343:\tlearn: 0.4433907\ttest: 0.4963116\ttest1: 0.4548578\tbest: 0.4549999 (335)\ttotal: 6m 26s\tremaining: 12m 17s\n",
      "344:\tlearn: 0.4435278\ttest: 0.4965639\ttest1: 0.4551338\tbest: 0.4551338 (344)\ttotal: 6m 27s\tremaining: 12m 15s\n",
      "345:\tlearn: 0.4436495\ttest: 0.4966717\ttest1: 0.4551636\tbest: 0.4551636 (345)\ttotal: 6m 28s\tremaining: 12m 14s\n",
      "346:\tlearn: 0.4436442\ttest: 0.4967067\ttest1: 0.4551859\tbest: 0.4551859 (346)\ttotal: 6m 29s\tremaining: 12m 13s\n",
      "347:\tlearn: 0.4436710\ttest: 0.4967286\ttest1: 0.4552732\tbest: 0.4552732 (347)\ttotal: 6m 30s\tremaining: 12m 12s\n",
      "348:\tlearn: 0.4437450\ttest: 0.4967876\ttest1: 0.4553411\tbest: 0.4553411 (348)\ttotal: 6m 32s\tremaining: 12m 11s\n",
      "349:\tlearn: 0.4437498\ttest: 0.4968759\ttest1: 0.4552099\tbest: 0.4553411 (348)\ttotal: 6m 33s\tremaining: 12m 10s\n",
      "350:\tlearn: 0.4437480\ttest: 0.4969968\ttest1: 0.4551272\tbest: 0.4553411 (348)\ttotal: 6m 34s\tremaining: 12m 9s\n",
      "351:\tlearn: 0.4437710\ttest: 0.4970002\ttest1: 0.4552008\tbest: 0.4553411 (348)\ttotal: 6m 35s\tremaining: 12m 8s\n",
      "352:\tlearn: 0.4438070\ttest: 0.4969705\ttest1: 0.4551594\tbest: 0.4553411 (348)\ttotal: 6m 36s\tremaining: 12m 7s\n",
      "353:\tlearn: 0.4438064\ttest: 0.4970066\ttest1: 0.4550519\tbest: 0.4553411 (348)\ttotal: 6m 37s\tremaining: 12m 6s\n",
      "354:\tlearn: 0.4438651\ttest: 0.4971565\ttest1: 0.4551571\tbest: 0.4553411 (348)\ttotal: 6m 39s\tremaining: 12m 4s\n",
      "355:\tlearn: 0.4438515\ttest: 0.4972156\ttest1: 0.4551783\tbest: 0.4553411 (348)\ttotal: 6m 40s\tremaining: 12m 3s\n",
      "356:\tlearn: 0.4438818\ttest: 0.4972365\ttest1: 0.4553115\tbest: 0.4553411 (348)\ttotal: 6m 41s\tremaining: 12m 2s\n",
      "357:\tlearn: 0.4438999\ttest: 0.4972673\ttest1: 0.4553942\tbest: 0.4553942 (357)\ttotal: 6m 42s\tremaining: 12m 1s\n",
      "358:\tlearn: 0.4439086\ttest: 0.4973335\ttest1: 0.4553407\tbest: 0.4553942 (357)\ttotal: 6m 43s\tremaining: 11m 59s\n",
      "359:\tlearn: 0.4439511\ttest: 0.4973305\ttest1: 0.4552249\tbest: 0.4553942 (357)\ttotal: 6m 44s\tremaining: 11m 58s\n",
      "360:\tlearn: 0.4439830\ttest: 0.4973573\ttest1: 0.4553205\tbest: 0.4553942 (357)\ttotal: 6m 45s\tremaining: 11m 57s\n",
      "361:\tlearn: 0.4441340\ttest: 0.4974596\ttest1: 0.4553163\tbest: 0.4553942 (357)\ttotal: 6m 46s\tremaining: 11m 56s\n",
      "362:\tlearn: 0.4441489\ttest: 0.4975729\ttest1: 0.4552713\tbest: 0.4553942 (357)\ttotal: 6m 47s\tremaining: 11m 55s\n",
      "363:\tlearn: 0.4442240\ttest: 0.4976949\ttest1: 0.4555258\tbest: 0.4555258 (363)\ttotal: 6m 48s\tremaining: 11m 53s\n",
      "364:\tlearn: 0.4442834\ttest: 0.4977765\ttest1: 0.4555271\tbest: 0.4555271 (364)\ttotal: 6m 49s\tremaining: 11m 52s\n",
      "365:\tlearn: 0.4443432\ttest: 0.4978520\ttest1: 0.4557662\tbest: 0.4557662 (365)\ttotal: 6m 50s\tremaining: 11m 51s\n",
      "366:\tlearn: 0.4443545\ttest: 0.4978992\ttest1: 0.4559280\tbest: 0.4559280 (366)\ttotal: 6m 51s\tremaining: 11m 50s\n",
      "367:\tlearn: 0.4443464\ttest: 0.4979800\ttest1: 0.4557154\tbest: 0.4559280 (366)\ttotal: 6m 53s\tremaining: 11m 49s\n",
      "368:\tlearn: 0.4443251\ttest: 0.4980335\ttest1: 0.4557227\tbest: 0.4559280 (366)\ttotal: 6m 54s\tremaining: 11m 48s\n",
      "369:\tlearn: 0.4444461\ttest: 0.4980630\ttest1: 0.4556923\tbest: 0.4559280 (366)\ttotal: 6m 54s\tremaining: 11m 46s\n",
      "370:\tlearn: 0.4444000\ttest: 0.4979872\ttest1: 0.4556089\tbest: 0.4559280 (366)\ttotal: 6m 55s\tremaining: 11m 44s\n",
      "371:\tlearn: 0.4444854\ttest: 0.4982183\ttest1: 0.4557190\tbest: 0.4559280 (366)\ttotal: 6m 56s\tremaining: 11m 43s\n",
      "372:\tlearn: 0.4445532\ttest: 0.4983305\ttest1: 0.4557292\tbest: 0.4559280 (366)\ttotal: 6m 58s\tremaining: 11m 43s\n",
      "373:\tlearn: 0.4446104\ttest: 0.4983793\ttest1: 0.4558226\tbest: 0.4559280 (366)\ttotal: 6m 59s\tremaining: 11m 41s\n",
      "374:\tlearn: 0.4446392\ttest: 0.4984492\ttest1: 0.4559656\tbest: 0.4559656 (374)\ttotal: 7m\tremaining: 11m 40s\n",
      "375:\tlearn: 0.4446677\ttest: 0.4985543\ttest1: 0.4557216\tbest: 0.4559656 (374)\ttotal: 7m 1s\tremaining: 11m 40s\n",
      "376:\tlearn: 0.4446816\ttest: 0.4986224\ttest1: 0.4557028\tbest: 0.4559656 (374)\ttotal: 7m 2s\tremaining: 11m 38s\n"
     ]
    },
    {
     "name": "stdout",
     "output_type": "stream",
     "text": [
      "377:\tlearn: 0.4446458\ttest: 0.4985875\ttest1: 0.4556410\tbest: 0.4559656 (374)\ttotal: 7m 4s\tremaining: 11m 38s\n",
      "378:\tlearn: 0.4446914\ttest: 0.4987581\ttest1: 0.4557875\tbest: 0.4559656 (374)\ttotal: 7m 5s\tremaining: 11m 37s\n",
      "379:\tlearn: 0.4447421\ttest: 0.4988714\ttest1: 0.4559346\tbest: 0.4559656 (374)\ttotal: 7m 6s\tremaining: 11m 36s\n",
      "380:\tlearn: 0.4447329\ttest: 0.4988983\ttest1: 0.4558282\tbest: 0.4559656 (374)\ttotal: 7m 7s\tremaining: 11m 35s\n",
      "381:\tlearn: 0.4447817\ttest: 0.4989223\ttest1: 0.4559821\tbest: 0.4559821 (381)\ttotal: 7m 9s\tremaining: 11m 34s\n",
      "382:\tlearn: 0.4448054\ttest: 0.4990413\ttest1: 0.4561457\tbest: 0.4561457 (382)\ttotal: 7m 10s\tremaining: 11m 33s\n",
      "383:\tlearn: 0.4447952\ttest: 0.4991469\ttest1: 0.4560497\tbest: 0.4561457 (382)\ttotal: 7m 11s\tremaining: 11m 32s\n",
      "384:\tlearn: 0.4447787\ttest: 0.4992449\ttest1: 0.4560935\tbest: 0.4561457 (382)\ttotal: 7m 12s\tremaining: 11m 30s\n",
      "385:\tlearn: 0.4448195\ttest: 0.4992894\ttest1: 0.4561548\tbest: 0.4561548 (385)\ttotal: 7m 13s\tremaining: 11m 29s\n",
      "386:\tlearn: 0.4448752\ttest: 0.4993272\ttest1: 0.4562577\tbest: 0.4562577 (386)\ttotal: 7m 15s\tremaining: 11m 29s\n",
      "387:\tlearn: 0.4448757\ttest: 0.4993168\ttest1: 0.4561179\tbest: 0.4562577 (386)\ttotal: 7m 15s\tremaining: 11m 27s\n",
      "388:\tlearn: 0.4448784\ttest: 0.4993201\ttest1: 0.4560819\tbest: 0.4562577 (386)\ttotal: 7m 16s\tremaining: 11m 26s\n",
      "389:\tlearn: 0.4449268\ttest: 0.4993488\ttest1: 0.4560644\tbest: 0.4562577 (386)\ttotal: 7m 18s\tremaining: 11m 25s\n",
      "390:\tlearn: 0.4450034\ttest: 0.4993814\ttest1: 0.4562713\tbest: 0.4562713 (390)\ttotal: 7m 19s\tremaining: 11m 24s\n",
      "391:\tlearn: 0.4450686\ttest: 0.4994402\ttest1: 0.4562342\tbest: 0.4562713 (390)\ttotal: 7m 20s\tremaining: 11m 23s\n",
      "392:\tlearn: 0.4450279\ttest: 0.4994824\ttest1: 0.4562397\tbest: 0.4562713 (390)\ttotal: 7m 21s\tremaining: 11m 21s\n",
      "393:\tlearn: 0.4450427\ttest: 0.4995501\ttest1: 0.4561369\tbest: 0.4562713 (390)\ttotal: 7m 22s\tremaining: 11m 20s\n",
      "394:\tlearn: 0.4450812\ttest: 0.4995860\ttest1: 0.4561488\tbest: 0.4562713 (390)\ttotal: 7m 23s\tremaining: 11m 19s\n",
      "395:\tlearn: 0.4451034\ttest: 0.4995866\ttest1: 0.4561343\tbest: 0.4562713 (390)\ttotal: 7m 24s\tremaining: 11m 18s\n",
      "396:\tlearn: 0.4451447\ttest: 0.4997279\ttest1: 0.4560970\tbest: 0.4562713 (390)\ttotal: 7m 25s\tremaining: 11m 16s\n",
      "397:\tlearn: 0.4451520\ttest: 0.4998512\ttest1: 0.4559388\tbest: 0.4562713 (390)\ttotal: 7m 26s\tremaining: 11m 15s\n",
      "398:\tlearn: 0.4452415\ttest: 0.4999601\ttest1: 0.4562233\tbest: 0.4562713 (390)\ttotal: 7m 27s\tremaining: 11m 14s\n",
      "399:\tlearn: 0.4453168\ttest: 0.4999730\ttest1: 0.4560901\tbest: 0.4562713 (390)\ttotal: 7m 28s\tremaining: 11m 12s\n",
      "400:\tlearn: 0.4452830\ttest: 0.4999505\ttest1: 0.4561435\tbest: 0.4562713 (390)\ttotal: 7m 29s\tremaining: 11m 11s\n",
      "401:\tlearn: 0.4452861\ttest: 0.4999582\ttest1: 0.4561641\tbest: 0.4562713 (390)\ttotal: 7m 31s\tremaining: 11m 11s\n",
      "402:\tlearn: 0.4453919\ttest: 0.5000796\ttest1: 0.4561206\tbest: 0.4562713 (390)\ttotal: 7m 32s\tremaining: 11m 9s\n",
      "403:\tlearn: 0.4453686\ttest: 0.5001285\ttest1: 0.4562735\tbest: 0.4562735 (403)\ttotal: 7m 33s\tremaining: 11m 8s\n",
      "404:\tlearn: 0.4453766\ttest: 0.5001648\ttest1: 0.4562519\tbest: 0.4562735 (403)\ttotal: 7m 34s\tremaining: 11m 7s\n",
      "405:\tlearn: 0.4454658\ttest: 0.5002538\ttest1: 0.4563241\tbest: 0.4563241 (405)\ttotal: 7m 35s\tremaining: 11m 6s\n",
      "406:\tlearn: 0.4455628\ttest: 0.5003344\ttest1: 0.4563018\tbest: 0.4563241 (405)\ttotal: 7m 36s\tremaining: 11m 5s\n",
      "407:\tlearn: 0.4455909\ttest: 0.5004547\ttest1: 0.4563360\tbest: 0.4563360 (407)\ttotal: 7m 37s\tremaining: 11m 4s\n",
      "408:\tlearn: 0.4456720\ttest: 0.5004358\ttest1: 0.4562095\tbest: 0.4563360 (407)\ttotal: 7m 38s\tremaining: 11m 3s\n",
      "409:\tlearn: 0.4456692\ttest: 0.5004378\ttest1: 0.4561661\tbest: 0.4563360 (407)\ttotal: 7m 39s\tremaining: 11m 1s\n",
      "410:\tlearn: 0.4456882\ttest: 0.5004960\ttest1: 0.4562920\tbest: 0.4563360 (407)\ttotal: 7m 40s\tremaining: 11m\n",
      "411:\tlearn: 0.4457548\ttest: 0.5005293\ttest1: 0.4564114\tbest: 0.4564114 (411)\ttotal: 7m 42s\tremaining: 10m 59s\n",
      "412:\tlearn: 0.4456972\ttest: 0.5005787\ttest1: 0.4565190\tbest: 0.4565190 (412)\ttotal: 7m 43s\tremaining: 10m 58s\n",
      "413:\tlearn: 0.4457441\ttest: 0.5005840\ttest1: 0.4566252\tbest: 0.4566252 (413)\ttotal: 7m 44s\tremaining: 10m 57s\n",
      "414:\tlearn: 0.4458216\ttest: 0.5006430\ttest1: 0.4567654\tbest: 0.4567654 (414)\ttotal: 7m 45s\tremaining: 10m 56s\n",
      "415:\tlearn: 0.4458813\ttest: 0.5008149\ttest1: 0.4569135\tbest: 0.4569135 (415)\ttotal: 7m 46s\tremaining: 10m 55s\n",
      "416:\tlearn: 0.4459752\ttest: 0.5008658\ttest1: 0.4568443\tbest: 0.4569135 (415)\ttotal: 7m 48s\tremaining: 10m 54s\n",
      "417:\tlearn: 0.4460042\ttest: 0.5009484\ttest1: 0.4567572\tbest: 0.4569135 (415)\ttotal: 7m 49s\tremaining: 10m 53s\n",
      "418:\tlearn: 0.4460599\ttest: 0.5010488\ttest1: 0.4568116\tbest: 0.4569135 (415)\ttotal: 7m 50s\tremaining: 10m 52s\n",
      "419:\tlearn: 0.4460985\ttest: 0.5010867\ttest1: 0.4567105\tbest: 0.4569135 (415)\ttotal: 7m 51s\tremaining: 10m 51s\n",
      "420:\tlearn: 0.4461407\ttest: 0.5011651\ttest1: 0.4568197\tbest: 0.4569135 (415)\ttotal: 7m 52s\tremaining: 10m 50s\n",
      "421:\tlearn: 0.4462243\ttest: 0.5012502\ttest1: 0.4569470\tbest: 0.4569470 (421)\ttotal: 7m 54s\tremaining: 10m 49s\n",
      "422:\tlearn: 0.4463065\ttest: 0.5012808\ttest1: 0.4569470\tbest: 0.4569470 (421)\ttotal: 7m 55s\tremaining: 10m 48s\n",
      "423:\tlearn: 0.4463027\ttest: 0.5013297\ttest1: 0.4568094\tbest: 0.4569470 (421)\ttotal: 7m 56s\tremaining: 10m 47s\n",
      "424:\tlearn: 0.4463091\ttest: 0.5013370\ttest1: 0.4567799\tbest: 0.4569470 (421)\ttotal: 7m 57s\tremaining: 10m 46s\n",
      "425:\tlearn: 0.4463440\ttest: 0.5013592\ttest1: 0.4568250\tbest: 0.4569470 (421)\ttotal: 7m 59s\tremaining: 10m 45s\n",
      "426:\tlearn: 0.4463905\ttest: 0.5013577\ttest1: 0.4567982\tbest: 0.4569470 (421)\ttotal: 8m\tremaining: 10m 44s\n",
      "427:\tlearn: 0.4464543\ttest: 0.5013390\ttest1: 0.4566982\tbest: 0.4569470 (421)\ttotal: 8m 1s\tremaining: 10m 43s\n",
      "428:\tlearn: 0.4464967\ttest: 0.5014860\ttest1: 0.4568587\tbest: 0.4569470 (421)\ttotal: 8m 2s\tremaining: 10m 42s\n",
      "429:\tlearn: 0.4464906\ttest: 0.5014715\ttest1: 0.4568273\tbest: 0.4569470 (421)\ttotal: 8m 3s\tremaining: 10m 41s\n",
      "430:\tlearn: 0.4465204\ttest: 0.5015098\ttest1: 0.4569667\tbest: 0.4569667 (430)\ttotal: 8m 4s\tremaining: 10m 39s\n",
      "431:\tlearn: 0.4465125\ttest: 0.5015721\ttest1: 0.4569026\tbest: 0.4569667 (430)\ttotal: 8m 6s\tremaining: 10m 39s\n",
      "432:\tlearn: 0.4466454\ttest: 0.5015876\ttest1: 0.4571127\tbest: 0.4571127 (432)\ttotal: 8m 7s\tremaining: 10m 38s\n",
      "433:\tlearn: 0.4466469\ttest: 0.5017407\ttest1: 0.4571150\tbest: 0.4571150 (433)\ttotal: 8m 8s\tremaining: 10m 36s\n",
      "434:\tlearn: 0.4466524\ttest: 0.5017593\ttest1: 0.4571725\tbest: 0.4571725 (434)\ttotal: 8m 9s\tremaining: 10m 35s\n",
      "435:\tlearn: 0.4467274\ttest: 0.5017062\ttest1: 0.4572349\tbest: 0.4572349 (435)\ttotal: 8m 10s\tremaining: 10m 34s\n",
      "436:\tlearn: 0.4467844\ttest: 0.5018750\ttest1: 0.4573282\tbest: 0.4573282 (436)\ttotal: 8m 11s\tremaining: 10m 33s\n",
      "437:\tlearn: 0.4467718\ttest: 0.5019341\ttest1: 0.4570914\tbest: 0.4573282 (436)\ttotal: 8m 12s\tremaining: 10m 32s\n",
      "438:\tlearn: 0.4468615\ttest: 0.5020478\ttest1: 0.4572405\tbest: 0.4573282 (436)\ttotal: 8m 14s\tremaining: 10m 31s\n",
      "439:\tlearn: 0.4468413\ttest: 0.5019833\ttest1: 0.4573314\tbest: 0.4573314 (439)\ttotal: 8m 15s\tremaining: 10m 30s\n",
      "440:\tlearn: 0.4468607\ttest: 0.5020427\ttest1: 0.4574018\tbest: 0.4574018 (440)\ttotal: 8m 16s\tremaining: 10m 28s\n",
      "441:\tlearn: 0.4468133\ttest: 0.5020752\ttest1: 0.4573132\tbest: 0.4574018 (440)\ttotal: 8m 17s\tremaining: 10m 27s\n",
      "442:\tlearn: 0.4468675\ttest: 0.5020932\ttest1: 0.4572306\tbest: 0.4574018 (440)\ttotal: 8m 18s\tremaining: 10m 26s\n",
      "443:\tlearn: 0.4468912\ttest: 0.5021577\ttest1: 0.4572069\tbest: 0.4574018 (440)\ttotal: 8m 19s\tremaining: 10m 25s\n",
      "444:\tlearn: 0.4469338\ttest: 0.5022249\ttest1: 0.4570960\tbest: 0.4574018 (440)\ttotal: 8m 20s\tremaining: 10m 24s\n",
      "445:\tlearn: 0.4469966\ttest: 0.5022222\ttest1: 0.4571961\tbest: 0.4574018 (440)\ttotal: 8m 21s\tremaining: 10m 23s\n",
      "446:\tlearn: 0.4470240\ttest: 0.5022382\ttest1: 0.4572428\tbest: 0.4574018 (440)\ttotal: 8m 23s\tremaining: 10m 22s\n",
      "447:\tlearn: 0.4470317\ttest: 0.5022899\ttest1: 0.4572008\tbest: 0.4574018 (440)\ttotal: 8m 24s\tremaining: 10m 21s\n",
      "448:\tlearn: 0.4470586\ttest: 0.5023559\ttest1: 0.4573318\tbest: 0.4574018 (440)\ttotal: 8m 25s\tremaining: 10m 20s\n",
      "449:\tlearn: 0.4470310\ttest: 0.5023233\ttest1: 0.4572963\tbest: 0.4574018 (440)\ttotal: 8m 26s\tremaining: 10m 19s\n",
      "450:\tlearn: 0.4471353\ttest: 0.5025157\ttest1: 0.4574256\tbest: 0.4574256 (450)\ttotal: 8m 27s\tremaining: 10m 18s\n",
      "451:\tlearn: 0.4471016\ttest: 0.5026721\ttest1: 0.4575398\tbest: 0.4575398 (451)\ttotal: 8m 28s\tremaining: 10m 17s\n"
     ]
    },
    {
     "name": "stdout",
     "output_type": "stream",
     "text": [
      "452:\tlearn: 0.4471162\ttest: 0.5026965\ttest1: 0.4574696\tbest: 0.4575398 (451)\ttotal: 8m 30s\tremaining: 10m 16s\n",
      "453:\tlearn: 0.4471718\ttest: 0.5028839\ttest1: 0.4573682\tbest: 0.4575398 (451)\ttotal: 8m 31s\tremaining: 10m 14s\n",
      "454:\tlearn: 0.4472216\ttest: 0.5029223\ttest1: 0.4573300\tbest: 0.4575398 (451)\ttotal: 8m 32s\tremaining: 10m 13s\n",
      "455:\tlearn: 0.4472843\ttest: 0.5029333\ttest1: 0.4575238\tbest: 0.4575398 (451)\ttotal: 8m 33s\tremaining: 10m 13s\n",
      "456:\tlearn: 0.4473063\ttest: 0.5029366\ttest1: 0.4574776\tbest: 0.4575398 (451)\ttotal: 8m 34s\tremaining: 10m 11s\n",
      "457:\tlearn: 0.4473015\ttest: 0.5029741\ttest1: 0.4573653\tbest: 0.4575398 (451)\ttotal: 8m 35s\tremaining: 10m 10s\n",
      "458:\tlearn: 0.4472780\ttest: 0.5030047\ttest1: 0.4573385\tbest: 0.4575398 (451)\ttotal: 8m 37s\tremaining: 10m 9s\n",
      "459:\tlearn: 0.4472974\ttest: 0.5030808\ttest1: 0.4572657\tbest: 0.4575398 (451)\ttotal: 8m 38s\tremaining: 10m 8s\n",
      "460:\tlearn: 0.4473134\ttest: 0.5030448\ttest1: 0.4572656\tbest: 0.4575398 (451)\ttotal: 8m 39s\tremaining: 10m 7s\n",
      "461:\tlearn: 0.4474193\ttest: 0.5032916\ttest1: 0.4573430\tbest: 0.4575398 (451)\ttotal: 8m 40s\tremaining: 10m 6s\n",
      "462:\tlearn: 0.4473945\ttest: 0.5033123\ttest1: 0.4573677\tbest: 0.4575398 (451)\ttotal: 8m 41s\tremaining: 10m 5s\n",
      "463:\tlearn: 0.4473637\ttest: 0.5033446\ttest1: 0.4573255\tbest: 0.4575398 (451)\ttotal: 8m 43s\tremaining: 10m 4s\n",
      "464:\tlearn: 0.4473957\ttest: 0.5033715\ttest1: 0.4574424\tbest: 0.4575398 (451)\ttotal: 8m 44s\tremaining: 10m 3s\n",
      "465:\tlearn: 0.4473521\ttest: 0.5034580\ttest1: 0.4575779\tbest: 0.4575779 (465)\ttotal: 8m 45s\tremaining: 10m 2s\n",
      "466:\tlearn: 0.4473378\ttest: 0.5034402\ttest1: 0.4575033\tbest: 0.4575779 (465)\ttotal: 8m 47s\tremaining: 10m 1s\n",
      "467:\tlearn: 0.4473882\ttest: 0.5035402\ttest1: 0.4575523\tbest: 0.4575779 (465)\ttotal: 8m 48s\tremaining: 10m\n",
      "468:\tlearn: 0.4474545\ttest: 0.5036024\ttest1: 0.4576453\tbest: 0.4576453 (468)\ttotal: 8m 49s\tremaining: 9m 59s\n",
      "469:\tlearn: 0.4475797\ttest: 0.5037299\ttest1: 0.4576289\tbest: 0.4576453 (468)\ttotal: 8m 50s\tremaining: 9m 58s\n",
      "470:\tlearn: 0.4476238\ttest: 0.5038371\ttest1: 0.4575923\tbest: 0.4576453 (468)\ttotal: 8m 52s\tremaining: 9m 57s\n",
      "471:\tlearn: 0.4476598\ttest: 0.5038625\ttest1: 0.4577393\tbest: 0.4577393 (471)\ttotal: 8m 53s\tremaining: 9m 56s\n",
      "472:\tlearn: 0.4476497\ttest: 0.5039092\ttest1: 0.4575725\tbest: 0.4577393 (471)\ttotal: 8m 54s\tremaining: 9m 55s\n",
      "473:\tlearn: 0.4476627\ttest: 0.5039425\ttest1: 0.4575976\tbest: 0.4577393 (471)\ttotal: 8m 55s\tremaining: 9m 54s\n",
      "474:\tlearn: 0.4476678\ttest: 0.5039472\ttest1: 0.4575526\tbest: 0.4577393 (471)\ttotal: 8m 56s\tremaining: 9m 52s\n",
      "475:\tlearn: 0.4477450\ttest: 0.5040389\ttest1: 0.4576694\tbest: 0.4577393 (471)\ttotal: 8m 57s\tremaining: 9m 51s\n",
      "476:\tlearn: 0.4477960\ttest: 0.5040869\ttest1: 0.4577612\tbest: 0.4577612 (476)\ttotal: 8m 58s\tremaining: 9m 50s\n",
      "477:\tlearn: 0.4478495\ttest: 0.5041865\ttest1: 0.4577579\tbest: 0.4577612 (476)\ttotal: 8m 59s\tremaining: 9m 49s\n",
      "478:\tlearn: 0.4478395\ttest: 0.5042563\ttest1: 0.4578244\tbest: 0.4578244 (478)\ttotal: 9m 1s\tremaining: 9m 48s\n",
      "479:\tlearn: 0.4478591\ttest: 0.5043008\ttest1: 0.4577107\tbest: 0.4578244 (478)\ttotal: 9m 2s\tremaining: 9m 47s\n",
      "480:\tlearn: 0.4479349\ttest: 0.5044062\ttest1: 0.4578772\tbest: 0.4578772 (480)\ttotal: 9m 3s\tremaining: 9m 46s\n",
      "481:\tlearn: 0.4479433\ttest: 0.5044690\ttest1: 0.4579881\tbest: 0.4579881 (481)\ttotal: 9m 4s\tremaining: 9m 45s\n",
      "482:\tlearn: 0.4480084\ttest: 0.5045124\ttest1: 0.4580091\tbest: 0.4580091 (482)\ttotal: 9m 5s\tremaining: 9m 44s\n",
      "483:\tlearn: 0.4479985\ttest: 0.5046492\ttest1: 0.4579452\tbest: 0.4580091 (482)\ttotal: 9m 7s\tremaining: 9m 43s\n",
      "484:\tlearn: 0.4480161\ttest: 0.5046379\ttest1: 0.4578532\tbest: 0.4580091 (482)\ttotal: 9m 8s\tremaining: 9m 41s\n",
      "485:\tlearn: 0.4480060\ttest: 0.5046172\ttest1: 0.4578083\tbest: 0.4580091 (482)\ttotal: 9m 8s\tremaining: 9m 40s\n",
      "486:\tlearn: 0.4480422\ttest: 0.5046761\ttest1: 0.4579431\tbest: 0.4580091 (482)\ttotal: 9m 9s\tremaining: 9m 39s\n",
      "487:\tlearn: 0.4480620\ttest: 0.5046624\ttest1: 0.4579308\tbest: 0.4580091 (482)\ttotal: 9m 11s\tremaining: 9m 38s\n",
      "488:\tlearn: 0.4480823\ttest: 0.5047270\ttest1: 0.4579769\tbest: 0.4580091 (482)\ttotal: 9m 12s\tremaining: 9m 37s\n",
      "489:\tlearn: 0.4480561\ttest: 0.5047594\ttest1: 0.4579788\tbest: 0.4580091 (482)\ttotal: 9m 13s\tremaining: 9m 36s\n",
      "490:\tlearn: 0.4481181\ttest: 0.5048402\ttest1: 0.4577588\tbest: 0.4580091 (482)\ttotal: 9m 14s\tremaining: 9m 35s\n",
      "491:\tlearn: 0.4480663\ttest: 0.5048278\ttest1: 0.4579066\tbest: 0.4580091 (482)\ttotal: 9m 15s\tremaining: 9m 34s\n",
      "492:\tlearn: 0.4482038\ttest: 0.5049338\ttest1: 0.4579981\tbest: 0.4580091 (482)\ttotal: 9m 16s\tremaining: 9m 32s\n",
      "493:\tlearn: 0.4482325\ttest: 0.5049891\ttest1: 0.4579474\tbest: 0.4580091 (482)\ttotal: 9m 17s\tremaining: 9m 31s\n",
      "494:\tlearn: 0.4482542\ttest: 0.5050096\ttest1: 0.4578957\tbest: 0.4580091 (482)\ttotal: 9m 19s\tremaining: 9m 30s\n",
      "495:\tlearn: 0.4482975\ttest: 0.5051196\ttest1: 0.4578932\tbest: 0.4580091 (482)\ttotal: 9m 20s\tremaining: 9m 29s\n",
      "496:\tlearn: 0.4483415\ttest: 0.5051346\ttest1: 0.4579196\tbest: 0.4580091 (482)\ttotal: 9m 21s\tremaining: 9m 28s\n",
      "497:\tlearn: 0.4483959\ttest: 0.5051340\ttest1: 0.4579219\tbest: 0.4580091 (482)\ttotal: 9m 22s\tremaining: 9m 27s\n",
      "498:\tlearn: 0.4484875\ttest: 0.5052831\ttest1: 0.4578264\tbest: 0.4580091 (482)\ttotal: 9m 24s\tremaining: 9m 26s\n",
      "499:\tlearn: 0.4484749\ttest: 0.5053129\ttest1: 0.4578904\tbest: 0.4580091 (482)\ttotal: 9m 25s\tremaining: 9m 25s\n",
      "500:\tlearn: 0.4484744\ttest: 0.5053609\ttest1: 0.4578810\tbest: 0.4580091 (482)\ttotal: 9m 27s\tremaining: 9m 24s\n",
      "501:\tlearn: 0.4484447\ttest: 0.5053671\ttest1: 0.4575493\tbest: 0.4580091 (482)\ttotal: 9m 28s\tremaining: 9m 23s\n",
      "502:\tlearn: 0.4484872\ttest: 0.5054125\ttest1: 0.4575717\tbest: 0.4580091 (482)\ttotal: 9m 29s\tremaining: 9m 22s\n",
      "503:\tlearn: 0.4484970\ttest: 0.5054369\ttest1: 0.4576357\tbest: 0.4580091 (482)\ttotal: 9m 30s\tremaining: 9m 21s\n",
      "504:\tlearn: 0.4485142\ttest: 0.5054405\ttest1: 0.4577203\tbest: 0.4580091 (482)\ttotal: 9m 31s\tremaining: 9m 20s\n",
      "505:\tlearn: 0.4485501\ttest: 0.5054681\ttest1: 0.4578808\tbest: 0.4580091 (482)\ttotal: 9m 33s\tremaining: 9m 19s\n",
      "506:\tlearn: 0.4485628\ttest: 0.5054959\ttest1: 0.4578894\tbest: 0.4580091 (482)\ttotal: 9m 34s\tremaining: 9m 18s\n",
      "507:\tlearn: 0.4486380\ttest: 0.5054723\ttest1: 0.4577709\tbest: 0.4580091 (482)\ttotal: 9m 35s\tremaining: 9m 17s\n",
      "508:\tlearn: 0.4486335\ttest: 0.5055275\ttest1: 0.4579144\tbest: 0.4580091 (482)\ttotal: 9m 36s\tremaining: 9m 15s\n",
      "509:\tlearn: 0.4486859\ttest: 0.5056212\ttest1: 0.4581412\tbest: 0.4581412 (509)\ttotal: 9m 37s\tremaining: 9m 14s\n",
      "510:\tlearn: 0.4487221\ttest: 0.5056415\ttest1: 0.4580786\tbest: 0.4581412 (509)\ttotal: 9m 38s\tremaining: 9m 14s\n",
      "511:\tlearn: 0.4487038\ttest: 0.5056734\ttest1: 0.4582909\tbest: 0.4582909 (511)\ttotal: 9m 40s\tremaining: 9m 12s\n",
      "512:\tlearn: 0.4487113\ttest: 0.5057194\ttest1: 0.4581976\tbest: 0.4582909 (511)\ttotal: 9m 41s\tremaining: 9m 12s\n",
      "513:\tlearn: 0.4487010\ttest: 0.5057636\ttest1: 0.4582677\tbest: 0.4582909 (511)\ttotal: 9m 43s\tremaining: 9m 11s\n",
      "514:\tlearn: 0.4487647\ttest: 0.5058558\ttest1: 0.4581617\tbest: 0.4582909 (511)\ttotal: 9m 44s\tremaining: 9m 10s\n",
      "515:\tlearn: 0.4488223\ttest: 0.5058577\ttest1: 0.4582309\tbest: 0.4582909 (511)\ttotal: 9m 45s\tremaining: 9m 9s\n",
      "516:\tlearn: 0.4488526\ttest: 0.5058630\ttest1: 0.4580805\tbest: 0.4582909 (511)\ttotal: 9m 46s\tremaining: 9m 8s\n",
      "517:\tlearn: 0.4489272\ttest: 0.5058937\ttest1: 0.4580703\tbest: 0.4582909 (511)\ttotal: 9m 47s\tremaining: 9m 6s\n",
      "518:\tlearn: 0.4489212\ttest: 0.5059590\ttest1: 0.4580753\tbest: 0.4582909 (511)\ttotal: 9m 48s\tremaining: 9m 5s\n",
      "519:\tlearn: 0.4488665\ttest: 0.5060110\ttest1: 0.4582135\tbest: 0.4582909 (511)\ttotal: 9m 50s\tremaining: 9m 4s\n",
      "520:\tlearn: 0.4489258\ttest: 0.5060157\ttest1: 0.4582416\tbest: 0.4582909 (511)\ttotal: 9m 51s\tremaining: 9m 3s\n",
      "521:\tlearn: 0.4489645\ttest: 0.5060782\ttest1: 0.4582259\tbest: 0.4582909 (511)\ttotal: 9m 52s\tremaining: 9m 2s\n",
      "522:\tlearn: 0.4489655\ttest: 0.5061211\ttest1: 0.4581128\tbest: 0.4582909 (511)\ttotal: 9m 53s\tremaining: 9m\n",
      "523:\tlearn: 0.4489815\ttest: 0.5062265\ttest1: 0.4582434\tbest: 0.4582909 (511)\ttotal: 9m 54s\tremaining: 8m 59s\n",
      "524:\tlearn: 0.4490247\ttest: 0.5062607\ttest1: 0.4581679\tbest: 0.4582909 (511)\ttotal: 9m 55s\tremaining: 8m 58s\n",
      "525:\tlearn: 0.4490331\ttest: 0.5062639\ttest1: 0.4581975\tbest: 0.4582909 (511)\ttotal: 9m 56s\tremaining: 8m 57s\n",
      "526:\tlearn: 0.4491037\ttest: 0.5063002\ttest1: 0.4582284\tbest: 0.4582909 (511)\ttotal: 9m 57s\tremaining: 8m 56s\n",
      "527:\tlearn: 0.4491155\ttest: 0.5063569\ttest1: 0.4582975\tbest: 0.4582975 (527)\ttotal: 9m 58s\tremaining: 8m 55s\n"
     ]
    },
    {
     "name": "stdout",
     "output_type": "stream",
     "text": [
      "528:\tlearn: 0.4491252\ttest: 0.5063502\ttest1: 0.4583291\tbest: 0.4583291 (528)\ttotal: 9m 59s\tremaining: 8m 54s\n",
      "529:\tlearn: 0.4492429\ttest: 0.5064242\ttest1: 0.4583970\tbest: 0.4583970 (529)\ttotal: 10m\tremaining: 8m 52s\n",
      "530:\tlearn: 0.4492726\ttest: 0.5064729\ttest1: 0.4584556\tbest: 0.4584556 (530)\ttotal: 10m 1s\tremaining: 8m 51s\n",
      "531:\tlearn: 0.4493057\ttest: 0.5064965\ttest1: 0.4585826\tbest: 0.4585826 (531)\ttotal: 10m 2s\tremaining: 8m 50s\n",
      "532:\tlearn: 0.4493095\ttest: 0.5064828\ttest1: 0.4585384\tbest: 0.4585826 (531)\ttotal: 10m 4s\tremaining: 8m 49s\n",
      "533:\tlearn: 0.4494069\ttest: 0.5066297\ttest1: 0.4585735\tbest: 0.4585826 (531)\ttotal: 10m 5s\tremaining: 8m 48s\n",
      "534:\tlearn: 0.4494193\ttest: 0.5067740\ttest1: 0.4587652\tbest: 0.4587652 (534)\ttotal: 10m 6s\tremaining: 8m 46s\n",
      "535:\tlearn: 0.4494982\ttest: 0.5069104\ttest1: 0.4587392\tbest: 0.4587652 (534)\ttotal: 10m 7s\tremaining: 8m 45s\n",
      "536:\tlearn: 0.4494964\ttest: 0.5069892\ttest1: 0.4587442\tbest: 0.4587652 (534)\ttotal: 10m 8s\tremaining: 8m 44s\n",
      "537:\tlearn: 0.4494296\ttest: 0.5069243\ttest1: 0.4587407\tbest: 0.4587652 (534)\ttotal: 10m 9s\tremaining: 8m 43s\n",
      "538:\tlearn: 0.4495534\ttest: 0.5069704\ttest1: 0.4585185\tbest: 0.4587652 (534)\ttotal: 10m 11s\tremaining: 8m 42s\n",
      "539:\tlearn: 0.4495980\ttest: 0.5070586\ttest1: 0.4587388\tbest: 0.4587652 (534)\ttotal: 10m 12s\tremaining: 8m 41s\n",
      "540:\tlearn: 0.4495468\ttest: 0.5070101\ttest1: 0.4585345\tbest: 0.4587652 (534)\ttotal: 10m 13s\tremaining: 8m 40s\n",
      "541:\tlearn: 0.4495587\ttest: 0.5070406\ttest1: 0.4585512\tbest: 0.4587652 (534)\ttotal: 10m 14s\tremaining: 8m 39s\n",
      "542:\tlearn: 0.4495465\ttest: 0.5070943\ttest1: 0.4584609\tbest: 0.4587652 (534)\ttotal: 10m 15s\tremaining: 8m 38s\n",
      "543:\tlearn: 0.4496544\ttest: 0.5071558\ttest1: 0.4585973\tbest: 0.4587652 (534)\ttotal: 10m 16s\tremaining: 8m 37s\n",
      "544:\tlearn: 0.4497055\ttest: 0.5071576\ttest1: 0.4587712\tbest: 0.4587712 (544)\ttotal: 10m 17s\tremaining: 8m 35s\n",
      "545:\tlearn: 0.4497337\ttest: 0.5072113\ttest1: 0.4587329\tbest: 0.4587712 (544)\ttotal: 10m 18s\tremaining: 8m 34s\n",
      "546:\tlearn: 0.4497038\ttest: 0.5072078\ttest1: 0.4588226\tbest: 0.4588226 (546)\ttotal: 10m 19s\tremaining: 8m 33s\n",
      "547:\tlearn: 0.4497023\ttest: 0.5072598\ttest1: 0.4588746\tbest: 0.4588746 (547)\ttotal: 10m 20s\tremaining: 8m 32s\n",
      "548:\tlearn: 0.4498250\ttest: 0.5074563\ttest1: 0.4589273\tbest: 0.4589273 (548)\ttotal: 10m 21s\tremaining: 8m 30s\n",
      "549:\tlearn: 0.4498459\ttest: 0.5074569\ttest1: 0.4588731\tbest: 0.4589273 (548)\ttotal: 10m 22s\tremaining: 8m 29s\n",
      "550:\tlearn: 0.4498738\ttest: 0.5074478\ttest1: 0.4587495\tbest: 0.4589273 (548)\ttotal: 10m 24s\tremaining: 8m 28s\n",
      "551:\tlearn: 0.4498968\ttest: 0.5075229\ttest1: 0.4586352\tbest: 0.4589273 (548)\ttotal: 10m 25s\tremaining: 8m 27s\n",
      "552:\tlearn: 0.4498509\ttest: 0.5075500\ttest1: 0.4586505\tbest: 0.4589273 (548)\ttotal: 10m 26s\tremaining: 8m 26s\n",
      "553:\tlearn: 0.4498800\ttest: 0.5075845\ttest1: 0.4587069\tbest: 0.4589273 (548)\ttotal: 10m 27s\tremaining: 8m 24s\n",
      "554:\tlearn: 0.4499003\ttest: 0.5075784\ttest1: 0.4587811\tbest: 0.4589273 (548)\ttotal: 10m 28s\tremaining: 8m 23s\n",
      "555:\tlearn: 0.4499113\ttest: 0.5075791\ttest1: 0.4588420\tbest: 0.4589273 (548)\ttotal: 10m 29s\tremaining: 8m 22s\n",
      "556:\tlearn: 0.4499295\ttest: 0.5075936\ttest1: 0.4586427\tbest: 0.4589273 (548)\ttotal: 10m 30s\tremaining: 8m 21s\n",
      "557:\tlearn: 0.4499800\ttest: 0.5076421\ttest1: 0.4585435\tbest: 0.4589273 (548)\ttotal: 10m 31s\tremaining: 8m 20s\n",
      "558:\tlearn: 0.4499912\ttest: 0.5076346\ttest1: 0.4584378\tbest: 0.4589273 (548)\ttotal: 10m 32s\tremaining: 8m 19s\n",
      "559:\tlearn: 0.4499635\ttest: 0.5076498\ttest1: 0.4586532\tbest: 0.4589273 (548)\ttotal: 10m 33s\tremaining: 8m 17s\n",
      "560:\tlearn: 0.4499698\ttest: 0.5076459\ttest1: 0.4587554\tbest: 0.4589273 (548)\ttotal: 10m 35s\tremaining: 8m 17s\n",
      "561:\tlearn: 0.4500003\ttest: 0.5077129\ttest1: 0.4588028\tbest: 0.4589273 (548)\ttotal: 10m 36s\tremaining: 8m 15s\n",
      "562:\tlearn: 0.4500323\ttest: 0.5077301\ttest1: 0.4586812\tbest: 0.4589273 (548)\ttotal: 10m 37s\tremaining: 8m 14s\n",
      "563:\tlearn: 0.4500812\ttest: 0.5077862\ttest1: 0.4586989\tbest: 0.4589273 (548)\ttotal: 10m 38s\tremaining: 8m 13s\n",
      "564:\tlearn: 0.4501056\ttest: 0.5079204\ttest1: 0.4588588\tbest: 0.4589273 (548)\ttotal: 10m 39s\tremaining: 8m 12s\n",
      "565:\tlearn: 0.4501561\ttest: 0.5079740\ttest1: 0.4587389\tbest: 0.4589273 (548)\ttotal: 10m 40s\tremaining: 8m 11s\n",
      "566:\tlearn: 0.4501947\ttest: 0.5080377\ttest1: 0.4588583\tbest: 0.4589273 (548)\ttotal: 10m 41s\tremaining: 8m 10s\n",
      "567:\tlearn: 0.4502366\ttest: 0.5080552\ttest1: 0.4588957\tbest: 0.4589273 (548)\ttotal: 10m 42s\tremaining: 8m 8s\n",
      "568:\tlearn: 0.4502308\ttest: 0.5081184\ttest1: 0.4590053\tbest: 0.4590053 (568)\ttotal: 10m 43s\tremaining: 8m 7s\n",
      "569:\tlearn: 0.4503032\ttest: 0.5081529\ttest1: 0.4590587\tbest: 0.4590587 (569)\ttotal: 10m 44s\tremaining: 8m 6s\n",
      "570:\tlearn: 0.4503164\ttest: 0.5081153\ttest1: 0.4591142\tbest: 0.4591142 (570)\ttotal: 10m 45s\tremaining: 8m 5s\n",
      "571:\tlearn: 0.4503577\ttest: 0.5082093\ttest1: 0.4592351\tbest: 0.4592351 (571)\ttotal: 10m 46s\tremaining: 8m 4s\n",
      "572:\tlearn: 0.4503778\ttest: 0.5082459\ttest1: 0.4592100\tbest: 0.4592351 (571)\ttotal: 10m 48s\tremaining: 8m 3s\n",
      "573:\tlearn: 0.4503286\ttest: 0.5083076\ttest1: 0.4591498\tbest: 0.4592351 (571)\ttotal: 10m 49s\tremaining: 8m 1s\n",
      "574:\tlearn: 0.4503808\ttest: 0.5083429\ttest1: 0.4590904\tbest: 0.4592351 (571)\ttotal: 10m 50s\tremaining: 8m\n",
      "575:\tlearn: 0.4504055\ttest: 0.5084810\ttest1: 0.4592234\tbest: 0.4592351 (571)\ttotal: 10m 51s\tremaining: 7m 59s\n",
      "576:\tlearn: 0.4504541\ttest: 0.5086111\ttest1: 0.4591832\tbest: 0.4592351 (571)\ttotal: 10m 52s\tremaining: 7m 58s\n",
      "577:\tlearn: 0.4504836\ttest: 0.5085883\ttest1: 0.4592309\tbest: 0.4592351 (571)\ttotal: 10m 53s\tremaining: 7m 57s\n",
      "578:\tlearn: 0.4504579\ttest: 0.5085731\ttest1: 0.4592304\tbest: 0.4592351 (571)\ttotal: 10m 54s\tremaining: 7m 56s\n",
      "579:\tlearn: 0.4505445\ttest: 0.5086144\ttest1: 0.4592352\tbest: 0.4592352 (579)\ttotal: 10m 55s\tremaining: 7m 54s\n",
      "580:\tlearn: 0.4505804\ttest: 0.5086242\ttest1: 0.4592941\tbest: 0.4592941 (580)\ttotal: 10m 56s\tremaining: 7m 53s\n",
      "581:\tlearn: 0.4505926\ttest: 0.5086283\ttest1: 0.4594172\tbest: 0.4594172 (581)\ttotal: 10m 58s\tremaining: 7m 52s\n",
      "582:\tlearn: 0.4506763\ttest: 0.5087480\ttest1: 0.4593805\tbest: 0.4594172 (581)\ttotal: 10m 58s\tremaining: 7m 51s\n",
      "583:\tlearn: 0.4506748\ttest: 0.5087493\ttest1: 0.4594045\tbest: 0.4594172 (581)\ttotal: 10m 59s\tremaining: 7m 50s\n",
      "584:\tlearn: 0.4507671\ttest: 0.5088189\ttest1: 0.4594336\tbest: 0.4594336 (584)\ttotal: 11m\tremaining: 7m 48s\n",
      "585:\tlearn: 0.4508050\ttest: 0.5089415\ttest1: 0.4596031\tbest: 0.4596031 (585)\ttotal: 11m 2s\tremaining: 7m 47s\n",
      "586:\tlearn: 0.4508400\ttest: 0.5090105\ttest1: 0.4596020\tbest: 0.4596031 (585)\ttotal: 11m 3s\tremaining: 7m 46s\n",
      "587:\tlearn: 0.4508535\ttest: 0.5090039\ttest1: 0.4594883\tbest: 0.4596031 (585)\ttotal: 11m 4s\tremaining: 7m 45s\n",
      "588:\tlearn: 0.4509134\ttest: 0.5090421\ttest1: 0.4595533\tbest: 0.4596031 (585)\ttotal: 11m 5s\tremaining: 7m 44s\n",
      "589:\tlearn: 0.4509102\ttest: 0.5090149\ttest1: 0.4595278\tbest: 0.4596031 (585)\ttotal: 11m 6s\tremaining: 7m 42s\n",
      "590:\tlearn: 0.4509536\ttest: 0.5091227\ttest1: 0.4597209\tbest: 0.4597209 (590)\ttotal: 11m 7s\tremaining: 7m 41s\n",
      "591:\tlearn: 0.4509763\ttest: 0.5091804\ttest1: 0.4595821\tbest: 0.4597209 (590)\ttotal: 11m 8s\tremaining: 7m 40s\n",
      "592:\tlearn: 0.4509740\ttest: 0.5092086\ttest1: 0.4595506\tbest: 0.4597209 (590)\ttotal: 11m 9s\tremaining: 7m 39s\n",
      "593:\tlearn: 0.4510419\ttest: 0.5092505\ttest1: 0.4594743\tbest: 0.4597209 (590)\ttotal: 11m 10s\tremaining: 7m 38s\n",
      "594:\tlearn: 0.4510567\ttest: 0.5092337\ttest1: 0.4595387\tbest: 0.4597209 (590)\ttotal: 11m 11s\tremaining: 7m 37s\n",
      "595:\tlearn: 0.4510189\ttest: 0.5092023\ttest1: 0.4594354\tbest: 0.4597209 (590)\ttotal: 11m 12s\tremaining: 7m 35s\n",
      "596:\tlearn: 0.4510606\ttest: 0.5093640\ttest1: 0.4597095\tbest: 0.4597209 (590)\ttotal: 11m 13s\tremaining: 7m 34s\n",
      "597:\tlearn: 0.4511141\ttest: 0.5093961\ttest1: 0.4596621\tbest: 0.4597209 (590)\ttotal: 11m 14s\tremaining: 7m 33s\n",
      "598:\tlearn: 0.4510761\ttest: 0.5094014\ttest1: 0.4596248\tbest: 0.4597209 (590)\ttotal: 11m 16s\tremaining: 7m 32s\n",
      "599:\tlearn: 0.4511348\ttest: 0.5094243\ttest1: 0.4595401\tbest: 0.4597209 (590)\ttotal: 11m 16s\tremaining: 7m 31s\n",
      "600:\tlearn: 0.4511268\ttest: 0.5094211\ttest1: 0.4594723\tbest: 0.4597209 (590)\ttotal: 11m 18s\tremaining: 7m 30s\n",
      "601:\tlearn: 0.4511679\ttest: 0.5094058\ttest1: 0.4594174\tbest: 0.4597209 (590)\ttotal: 11m 19s\tremaining: 7m 28s\n",
      "602:\tlearn: 0.4511834\ttest: 0.5094236\ttest1: 0.4596605\tbest: 0.4597209 (590)\ttotal: 11m 20s\tremaining: 7m 27s\n"
     ]
    },
    {
     "name": "stdout",
     "output_type": "stream",
     "text": [
      "603:\tlearn: 0.4512142\ttest: 0.5095128\ttest1: 0.4595906\tbest: 0.4597209 (590)\ttotal: 11m 21s\tremaining: 7m 26s\n",
      "604:\tlearn: 0.4512249\ttest: 0.5094544\ttest1: 0.4595257\tbest: 0.4597209 (590)\ttotal: 11m 22s\tremaining: 7m 25s\n",
      "605:\tlearn: 0.4513020\ttest: 0.5094748\ttest1: 0.4594376\tbest: 0.4597209 (590)\ttotal: 11m 23s\tremaining: 7m 24s\n",
      "606:\tlearn: 0.4512555\ttest: 0.5095225\ttest1: 0.4594706\tbest: 0.4597209 (590)\ttotal: 11m 25s\tremaining: 7m 23s\n",
      "607:\tlearn: 0.4513283\ttest: 0.5095493\ttest1: 0.4594431\tbest: 0.4597209 (590)\ttotal: 11m 26s\tremaining: 7m 22s\n",
      "608:\tlearn: 0.4513824\ttest: 0.5095680\ttest1: 0.4594369\tbest: 0.4597209 (590)\ttotal: 11m 27s\tremaining: 7m 21s\n",
      "609:\tlearn: 0.4513855\ttest: 0.5095808\ttest1: 0.4594462\tbest: 0.4597209 (590)\ttotal: 11m 29s\tremaining: 7m 20s\n",
      "610:\tlearn: 0.4514313\ttest: 0.5096304\ttest1: 0.4595339\tbest: 0.4597209 (590)\ttotal: 11m 30s\tremaining: 7m 19s\n",
      "611:\tlearn: 0.4514060\ttest: 0.5096553\ttest1: 0.4595222\tbest: 0.4597209 (590)\ttotal: 11m 31s\tremaining: 7m 18s\n",
      "612:\tlearn: 0.4514199\ttest: 0.5096889\ttest1: 0.4596230\tbest: 0.4597209 (590)\ttotal: 11m 32s\tremaining: 7m 17s\n",
      "613:\tlearn: 0.4514044\ttest: 0.5096519\ttest1: 0.4595560\tbest: 0.4597209 (590)\ttotal: 11m 33s\tremaining: 7m 16s\n",
      "614:\tlearn: 0.4514176\ttest: 0.5097019\ttest1: 0.4596991\tbest: 0.4597209 (590)\ttotal: 11m 35s\tremaining: 7m 15s\n",
      "615:\tlearn: 0.4514894\ttest: 0.5097947\ttest1: 0.4595974\tbest: 0.4597209 (590)\ttotal: 11m 36s\tremaining: 7m 14s\n",
      "616:\tlearn: 0.4514978\ttest: 0.5099257\ttest1: 0.4596436\tbest: 0.4597209 (590)\ttotal: 11m 37s\tremaining: 7m 12s\n",
      "617:\tlearn: 0.4515264\ttest: 0.5099594\ttest1: 0.4595908\tbest: 0.4597209 (590)\ttotal: 11m 38s\tremaining: 7m 11s\n",
      "618:\tlearn: 0.4515714\ttest: 0.5099796\ttest1: 0.4596257\tbest: 0.4597209 (590)\ttotal: 11m 39s\tremaining: 7m 10s\n",
      "619:\tlearn: 0.4515566\ttest: 0.5100597\ttest1: 0.4596829\tbest: 0.4597209 (590)\ttotal: 11m 41s\tremaining: 7m 9s\n",
      "620:\tlearn: 0.4516071\ttest: 0.5099994\ttest1: 0.4596728\tbest: 0.4597209 (590)\ttotal: 11m 42s\tremaining: 7m 8s\n",
      "621:\tlearn: 0.4515499\ttest: 0.5100444\ttest1: 0.4596722\tbest: 0.4597209 (590)\ttotal: 11m 43s\tremaining: 7m 7s\n",
      "622:\tlearn: 0.4515582\ttest: 0.5101298\ttest1: 0.4596174\tbest: 0.4597209 (590)\ttotal: 11m 44s\tremaining: 7m 6s\n",
      "623:\tlearn: 0.4515960\ttest: 0.5101657\ttest1: 0.4596054\tbest: 0.4597209 (590)\ttotal: 11m 45s\tremaining: 7m 5s\n",
      "624:\tlearn: 0.4516687\ttest: 0.5102619\ttest1: 0.4595618\tbest: 0.4597209 (590)\ttotal: 11m 46s\tremaining: 7m 3s\n",
      "625:\tlearn: 0.4516926\ttest: 0.5102493\ttest1: 0.4595675\tbest: 0.4597209 (590)\ttotal: 11m 47s\tremaining: 7m 2s\n",
      "626:\tlearn: 0.4517031\ttest: 0.5102943\ttest1: 0.4596287\tbest: 0.4597209 (590)\ttotal: 11m 48s\tremaining: 7m 1s\n",
      "627:\tlearn: 0.4517574\ttest: 0.5102934\ttest1: 0.4596299\tbest: 0.4597209 (590)\ttotal: 11m 50s\tremaining: 7m\n",
      "628:\tlearn: 0.4517291\ttest: 0.5102715\ttest1: 0.4596456\tbest: 0.4597209 (590)\ttotal: 11m 51s\tremaining: 6m 59s\n",
      "629:\tlearn: 0.4517661\ttest: 0.5102623\ttest1: 0.4598009\tbest: 0.4598009 (629)\ttotal: 11m 52s\tremaining: 6m 58s\n",
      "630:\tlearn: 0.4517328\ttest: 0.5103993\ttest1: 0.4597325\tbest: 0.4598009 (629)\ttotal: 11m 53s\tremaining: 6m 57s\n",
      "631:\tlearn: 0.4517430\ttest: 0.5104502\ttest1: 0.4598265\tbest: 0.4598265 (631)\ttotal: 11m 54s\tremaining: 6m 55s\n",
      "632:\tlearn: 0.4517412\ttest: 0.5104896\ttest1: 0.4597888\tbest: 0.4598265 (631)\ttotal: 11m 55s\tremaining: 6m 54s\n",
      "633:\tlearn: 0.4517680\ttest: 0.5104214\ttest1: 0.4598026\tbest: 0.4598265 (631)\ttotal: 11m 56s\tremaining: 6m 53s\n",
      "634:\tlearn: 0.4517778\ttest: 0.5104551\ttest1: 0.4597521\tbest: 0.4598265 (631)\ttotal: 11m 57s\tremaining: 6m 52s\n",
      "635:\tlearn: 0.4518072\ttest: 0.5104139\ttest1: 0.4596852\tbest: 0.4598265 (631)\ttotal: 11m 58s\tremaining: 6m 51s\n",
      "636:\tlearn: 0.4518203\ttest: 0.5104286\ttest1: 0.4596587\tbest: 0.4598265 (631)\ttotal: 11m 59s\tremaining: 6m 49s\n",
      "637:\tlearn: 0.4518151\ttest: 0.5105091\ttest1: 0.4597031\tbest: 0.4598265 (631)\ttotal: 12m\tremaining: 6m 48s\n",
      "638:\tlearn: 0.4517950\ttest: 0.5105521\ttest1: 0.4596683\tbest: 0.4598265 (631)\ttotal: 12m 1s\tremaining: 6m 47s\n",
      "639:\tlearn: 0.4518290\ttest: 0.5105811\ttest1: 0.4597900\tbest: 0.4598265 (631)\ttotal: 12m 3s\tremaining: 6m 46s\n",
      "640:\tlearn: 0.4518576\ttest: 0.5106052\ttest1: 0.4598284\tbest: 0.4598284 (640)\ttotal: 12m 4s\tremaining: 6m 45s\n",
      "641:\tlearn: 0.4518542\ttest: 0.5106063\ttest1: 0.4598682\tbest: 0.4598682 (641)\ttotal: 12m 5s\tremaining: 6m 44s\n",
      "642:\tlearn: 0.4519426\ttest: 0.5106547\ttest1: 0.4599347\tbest: 0.4599347 (642)\ttotal: 12m 6s\tremaining: 6m 43s\n",
      "643:\tlearn: 0.4519283\ttest: 0.5106529\ttest1: 0.4599744\tbest: 0.4599744 (643)\ttotal: 12m 7s\tremaining: 6m 42s\n",
      "644:\tlearn: 0.4520178\ttest: 0.5106804\ttest1: 0.4600015\tbest: 0.4600015 (644)\ttotal: 12m 8s\tremaining: 6m 40s\n",
      "645:\tlearn: 0.4520213\ttest: 0.5106978\ttest1: 0.4600039\tbest: 0.4600039 (645)\ttotal: 12m 9s\tremaining: 6m 39s\n",
      "646:\tlearn: 0.4520857\ttest: 0.5108201\ttest1: 0.4600207\tbest: 0.4600207 (646)\ttotal: 12m 10s\tremaining: 6m 38s\n",
      "647:\tlearn: 0.4520982\ttest: 0.5108209\ttest1: 0.4601391\tbest: 0.4601391 (647)\ttotal: 12m 11s\tremaining: 6m 37s\n",
      "648:\tlearn: 0.4521050\ttest: 0.5108217\ttest1: 0.4599514\tbest: 0.4601391 (647)\ttotal: 12m 12s\tremaining: 6m 36s\n",
      "649:\tlearn: 0.4521319\ttest: 0.5108388\ttest1: 0.4600044\tbest: 0.4601391 (647)\ttotal: 12m 13s\tremaining: 6m 34s\n",
      "650:\tlearn: 0.4521251\ttest: 0.5108456\ttest1: 0.4599217\tbest: 0.4601391 (647)\ttotal: 12m 14s\tremaining: 6m 33s\n",
      "651:\tlearn: 0.4521828\ttest: 0.5108555\ttest1: 0.4599671\tbest: 0.4601391 (647)\ttotal: 12m 15s\tremaining: 6m 32s\n",
      "652:\tlearn: 0.4522375\ttest: 0.5109659\ttest1: 0.4598417\tbest: 0.4601391 (647)\ttotal: 12m 16s\tremaining: 6m 31s\n",
      "653:\tlearn: 0.4522295\ttest: 0.5109984\ttest1: 0.4598451\tbest: 0.4601391 (647)\ttotal: 12m 17s\tremaining: 6m 30s\n",
      "654:\tlearn: 0.4522693\ttest: 0.5110258\ttest1: 0.4598064\tbest: 0.4601391 (647)\ttotal: 12m 18s\tremaining: 6m 29s\n",
      "655:\tlearn: 0.4522452\ttest: 0.5110832\ttest1: 0.4599608\tbest: 0.4601391 (647)\ttotal: 12m 19s\tremaining: 6m 27s\n",
      "656:\tlearn: 0.4522650\ttest: 0.5110870\ttest1: 0.4601148\tbest: 0.4601391 (647)\ttotal: 12m 20s\tremaining: 6m 26s\n",
      "657:\tlearn: 0.4522752\ttest: 0.5111360\ttest1: 0.4600110\tbest: 0.4601391 (647)\ttotal: 12m 21s\tremaining: 6m 25s\n",
      "658:\tlearn: 0.4523093\ttest: 0.5111349\ttest1: 0.4602600\tbest: 0.4602600 (658)\ttotal: 12m 22s\tremaining: 6m 24s\n",
      "659:\tlearn: 0.4523478\ttest: 0.5111542\ttest1: 0.4602708\tbest: 0.4602708 (659)\ttotal: 12m 23s\tremaining: 6m 23s\n",
      "660:\tlearn: 0.4523192\ttest: 0.5111817\ttest1: 0.4601048\tbest: 0.4602708 (659)\ttotal: 12m 25s\tremaining: 6m 22s\n",
      "661:\tlearn: 0.4523765\ttest: 0.5112316\ttest1: 0.4600449\tbest: 0.4602708 (659)\ttotal: 12m 26s\tremaining: 6m 21s\n",
      "662:\tlearn: 0.4523523\ttest: 0.5112379\ttest1: 0.4600055\tbest: 0.4602708 (659)\ttotal: 12m 27s\tremaining: 6m 19s\n",
      "663:\tlearn: 0.4523811\ttest: 0.5112678\ttest1: 0.4599367\tbest: 0.4602708 (659)\ttotal: 12m 28s\tremaining: 6m 18s\n",
      "664:\tlearn: 0.4524507\ttest: 0.5113335\ttest1: 0.4601491\tbest: 0.4602708 (659)\ttotal: 12m 29s\tremaining: 6m 17s\n",
      "665:\tlearn: 0.4524357\ttest: 0.5113126\ttest1: 0.4601941\tbest: 0.4602708 (659)\ttotal: 12m 30s\tremaining: 6m 16s\n",
      "666:\tlearn: 0.4525364\ttest: 0.5114320\ttest1: 0.4601448\tbest: 0.4602708 (659)\ttotal: 12m 31s\tremaining: 6m 15s\n",
      "667:\tlearn: 0.4525363\ttest: 0.5114912\ttest1: 0.4601511\tbest: 0.4602708 (659)\ttotal: 12m 32s\tremaining: 6m 14s\n",
      "668:\tlearn: 0.4525823\ttest: 0.5115345\ttest1: 0.4602235\tbest: 0.4602708 (659)\ttotal: 12m 33s\tremaining: 6m 12s\n",
      "669:\tlearn: 0.4525527\ttest: 0.5116282\ttest1: 0.4601992\tbest: 0.4602708 (659)\ttotal: 12m 34s\tremaining: 6m 11s\n",
      "670:\tlearn: 0.4525850\ttest: 0.5116137\ttest1: 0.4603262\tbest: 0.4603262 (670)\ttotal: 12m 35s\tremaining: 6m 10s\n",
      "671:\tlearn: 0.4526169\ttest: 0.5116029\ttest1: 0.4603848\tbest: 0.4603848 (671)\ttotal: 12m 36s\tremaining: 6m 9s\n",
      "672:\tlearn: 0.4526049\ttest: 0.5115761\ttest1: 0.4602222\tbest: 0.4603848 (671)\ttotal: 12m 37s\tremaining: 6m 8s\n",
      "673:\tlearn: 0.4526019\ttest: 0.5115825\ttest1: 0.4602958\tbest: 0.4603848 (671)\ttotal: 12m 38s\tremaining: 6m 7s\n",
      "674:\tlearn: 0.4526482\ttest: 0.5116260\ttest1: 0.4602479\tbest: 0.4603848 (671)\ttotal: 12m 39s\tremaining: 6m 5s\n",
      "675:\tlearn: 0.4527135\ttest: 0.5117025\ttest1: 0.4603205\tbest: 0.4603848 (671)\ttotal: 12m 41s\tremaining: 6m 4s\n",
      "676:\tlearn: 0.4527442\ttest: 0.5116840\ttest1: 0.4603287\tbest: 0.4603848 (671)\ttotal: 12m 42s\tremaining: 6m 3s\n",
      "677:\tlearn: 0.4527574\ttest: 0.5116718\ttest1: 0.4603482\tbest: 0.4603848 (671)\ttotal: 12m 43s\tremaining: 6m 2s\n"
     ]
    },
    {
     "name": "stdout",
     "output_type": "stream",
     "text": [
      "678:\tlearn: 0.4527647\ttest: 0.5117265\ttest1: 0.4603402\tbest: 0.4603848 (671)\ttotal: 12m 44s\tremaining: 6m 1s\n",
      "679:\tlearn: 0.4528425\ttest: 0.5117084\ttest1: 0.4602384\tbest: 0.4603848 (671)\ttotal: 12m 45s\tremaining: 6m\n",
      "680:\tlearn: 0.4528952\ttest: 0.5117559\ttest1: 0.4602226\tbest: 0.4603848 (671)\ttotal: 12m 46s\tremaining: 5m 59s\n",
      "681:\tlearn: 0.4529569\ttest: 0.5118131\ttest1: 0.4602868\tbest: 0.4603848 (671)\ttotal: 12m 47s\tremaining: 5m 58s\n",
      "682:\tlearn: 0.4529801\ttest: 0.5118896\ttest1: 0.4603215\tbest: 0.4603848 (671)\ttotal: 12m 48s\tremaining: 5m 56s\n",
      "683:\tlearn: 0.4529884\ttest: 0.5118943\ttest1: 0.4602418\tbest: 0.4603848 (671)\ttotal: 12m 50s\tremaining: 5m 55s\n",
      "684:\tlearn: 0.4529626\ttest: 0.5118789\ttest1: 0.4602471\tbest: 0.4603848 (671)\ttotal: 12m 50s\tremaining: 5m 54s\n",
      "685:\tlearn: 0.4529333\ttest: 0.5119264\ttest1: 0.4602242\tbest: 0.4603848 (671)\ttotal: 12m 52s\tremaining: 5m 53s\n",
      "686:\tlearn: 0.4529696\ttest: 0.5119627\ttest1: 0.4602196\tbest: 0.4603848 (671)\ttotal: 12m 53s\tremaining: 5m 52s\n",
      "687:\tlearn: 0.4531297\ttest: 0.5120564\ttest1: 0.4599445\tbest: 0.4603848 (671)\ttotal: 12m 54s\tremaining: 5m 51s\n",
      "688:\tlearn: 0.4531621\ttest: 0.5121334\ttest1: 0.4599902\tbest: 0.4603848 (671)\ttotal: 12m 55s\tremaining: 5m 50s\n",
      "689:\tlearn: 0.4532053\ttest: 0.5121856\ttest1: 0.4600652\tbest: 0.4603848 (671)\ttotal: 12m 56s\tremaining: 5m 48s\n",
      "690:\tlearn: 0.4532897\ttest: 0.5121834\ttest1: 0.4602336\tbest: 0.4603848 (671)\ttotal: 12m 57s\tremaining: 5m 47s\n",
      "691:\tlearn: 0.4533174\ttest: 0.5097768\ttest1: 0.4603421\tbest: 0.4603848 (671)\ttotal: 12m 58s\tremaining: 5m 46s\n",
      "692:\tlearn: 0.4533010\ttest: 0.5097955\ttest1: 0.4602649\tbest: 0.4603848 (671)\ttotal: 13m\tremaining: 5m 45s\n",
      "693:\tlearn: 0.4533225\ttest: 0.5098062\ttest1: 0.4602845\tbest: 0.4603848 (671)\ttotal: 13m 1s\tremaining: 5m 44s\n",
      "694:\tlearn: 0.4533684\ttest: 0.5098264\ttest1: 0.4602929\tbest: 0.4603848 (671)\ttotal: 13m 2s\tremaining: 5m 43s\n",
      "695:\tlearn: 0.4534095\ttest: 0.5098167\ttest1: 0.4603255\tbest: 0.4603848 (671)\ttotal: 13m 3s\tremaining: 5m 42s\n",
      "696:\tlearn: 0.4534260\ttest: 0.5098705\ttest1: 0.4603201\tbest: 0.4603848 (671)\ttotal: 13m 4s\tremaining: 5m 41s\n",
      "697:\tlearn: 0.4534547\ttest: 0.5099948\ttest1: 0.4602729\tbest: 0.4603848 (671)\ttotal: 13m 5s\tremaining: 5m 40s\n",
      "698:\tlearn: 0.4535152\ttest: 0.5099911\ttest1: 0.4602658\tbest: 0.4603848 (671)\ttotal: 13m 6s\tremaining: 5m 38s\n",
      "699:\tlearn: 0.4534961\ttest: 0.5100601\ttest1: 0.4602973\tbest: 0.4603848 (671)\ttotal: 13m 7s\tremaining: 5m 37s\n",
      "700:\tlearn: 0.4535596\ttest: 0.5045255\ttest1: 0.4603530\tbest: 0.4603848 (671)\ttotal: 13m 9s\tremaining: 5m 36s\n",
      "701:\tlearn: 0.4535669\ttest: 0.5045294\ttest1: 0.4603504\tbest: 0.4603848 (671)\ttotal: 13m 10s\tremaining: 5m 35s\n",
      "702:\tlearn: 0.4535521\ttest: 0.5045150\ttest1: 0.4603514\tbest: 0.4603848 (671)\ttotal: 13m 11s\tremaining: 5m 34s\n",
      "703:\tlearn: 0.4536045\ttest: 0.5045897\ttest1: 0.4603713\tbest: 0.4603848 (671)\ttotal: 13m 12s\tremaining: 5m 33s\n",
      "704:\tlearn: 0.4536438\ttest: 0.5046031\ttest1: 0.4602882\tbest: 0.4603848 (671)\ttotal: 13m 13s\tremaining: 5m 32s\n",
      "705:\tlearn: 0.4536535\ttest: 0.5046083\ttest1: 0.4603874\tbest: 0.4603874 (705)\ttotal: 13m 14s\tremaining: 5m 31s\n",
      "706:\tlearn: 0.4536219\ttest: 0.5045838\ttest1: 0.4601956\tbest: 0.4603874 (705)\ttotal: 13m 16s\tremaining: 5m 29s\n",
      "707:\tlearn: 0.4536577\ttest: 0.5046093\ttest1: 0.4602052\tbest: 0.4603874 (705)\ttotal: 13m 17s\tremaining: 5m 28s\n",
      "708:\tlearn: 0.4536734\ttest: 0.5046345\ttest1: 0.4603068\tbest: 0.4603874 (705)\ttotal: 13m 18s\tremaining: 5m 27s\n",
      "709:\tlearn: 0.4537273\ttest: 0.5047383\ttest1: 0.4603040\tbest: 0.4603874 (705)\ttotal: 13m 19s\tremaining: 5m 26s\n",
      "710:\tlearn: 0.4537239\ttest: 0.5046947\ttest1: 0.4605361\tbest: 0.4605361 (710)\ttotal: 13m 20s\tremaining: 5m 25s\n",
      "711:\tlearn: 0.4537357\ttest: 0.5048109\ttest1: 0.4604050\tbest: 0.4605361 (710)\ttotal: 13m 21s\tremaining: 5m 24s\n",
      "712:\tlearn: 0.4537185\ttest: 0.5048765\ttest1: 0.4605024\tbest: 0.4605361 (710)\ttotal: 13m 22s\tremaining: 5m 23s\n",
      "713:\tlearn: 0.4537287\ttest: 0.4998739\ttest1: 0.4604555\tbest: 0.4605361 (710)\ttotal: 13m 23s\tremaining: 5m 22s\n",
      "714:\tlearn: 0.4537780\ttest: 0.4999531\ttest1: 0.4604179\tbest: 0.4605361 (710)\ttotal: 13m 25s\tremaining: 5m 20s\n",
      "715:\tlearn: 0.4537917\ttest: 0.4977553\ttest1: 0.4603694\tbest: 0.4605361 (710)\ttotal: 13m 26s\tremaining: 5m 19s\n",
      "716:\tlearn: 0.4538188\ttest: 0.4977896\ttest1: 0.4604249\tbest: 0.4605361 (710)\ttotal: 13m 27s\tremaining: 5m 18s\n",
      "717:\tlearn: 0.4538014\ttest: 0.4978182\ttest1: 0.4603678\tbest: 0.4605361 (710)\ttotal: 13m 28s\tremaining: 5m 17s\n",
      "718:\tlearn: 0.4538135\ttest: 0.4977945\ttest1: 0.4603095\tbest: 0.4605361 (710)\ttotal: 13m 29s\tremaining: 5m 16s\n",
      "719:\tlearn: 0.4538723\ttest: 0.4978254\ttest1: 0.4604575\tbest: 0.4605361 (710)\ttotal: 13m 30s\tremaining: 5m 15s\n",
      "720:\tlearn: 0.4538796\ttest: 0.4978743\ttest1: 0.4605411\tbest: 0.4605411 (720)\ttotal: 13m 31s\tremaining: 5m 14s\n",
      "721:\tlearn: 0.4539138\ttest: 0.4942565\ttest1: 0.4603553\tbest: 0.4605411 (720)\ttotal: 13m 32s\tremaining: 5m 12s\n",
      "722:\tlearn: 0.4539771\ttest: 0.4943792\ttest1: 0.4604888\tbest: 0.4605411 (720)\ttotal: 13m 33s\tremaining: 5m 11s\n",
      "723:\tlearn: 0.4540089\ttest: 0.4944560\ttest1: 0.4606187\tbest: 0.4606187 (723)\ttotal: 13m 34s\tremaining: 5m 10s\n",
      "724:\tlearn: 0.4539739\ttest: 0.4944560\ttest1: 0.4605782\tbest: 0.4606187 (723)\ttotal: 13m 36s\tremaining: 5m 9s\n",
      "725:\tlearn: 0.4540141\ttest: 0.4945062\ttest1: 0.4605755\tbest: 0.4606187 (723)\ttotal: 13m 37s\tremaining: 5m 8s\n",
      "726:\tlearn: 0.4540810\ttest: 0.4945140\ttest1: 0.4605330\tbest: 0.4606187 (723)\ttotal: 13m 38s\tremaining: 5m 7s\n",
      "727:\tlearn: 0.4540782\ttest: 0.4944906\ttest1: 0.4605702\tbest: 0.4606187 (723)\ttotal: 13m 39s\tremaining: 5m 6s\n",
      "728:\tlearn: 0.4541139\ttest: 0.4947888\ttest1: 0.4606583\tbest: 0.4606583 (728)\ttotal: 13m 40s\tremaining: 5m 5s\n",
      "729:\tlearn: 0.4541314\ttest: 0.4947679\ttest1: 0.4606565\tbest: 0.4606583 (728)\ttotal: 13m 41s\tremaining: 5m 3s\n",
      "730:\tlearn: 0.4541754\ttest: 0.4915328\ttest1: 0.4606963\tbest: 0.4606963 (730)\ttotal: 13m 42s\tremaining: 5m 2s\n",
      "731:\tlearn: 0.4541582\ttest: 0.4915868\ttest1: 0.4606050\tbest: 0.4606963 (730)\ttotal: 13m 43s\tremaining: 5m 1s\n",
      "732:\tlearn: 0.4541997\ttest: 0.4916404\ttest1: 0.4606426\tbest: 0.4606963 (730)\ttotal: 13m 44s\tremaining: 5m\n",
      "733:\tlearn: 0.4542123\ttest: 0.4915588\ttest1: 0.4606531\tbest: 0.4606963 (730)\ttotal: 13m 46s\tremaining: 4m 59s\n",
      "734:\tlearn: 0.4542382\ttest: 0.4916371\ttest1: 0.4605851\tbest: 0.4606963 (730)\ttotal: 13m 46s\tremaining: 4m 58s\n",
      "735:\tlearn: 0.4542632\ttest: 0.4916713\ttest1: 0.4605349\tbest: 0.4606963 (730)\ttotal: 13m 48s\tremaining: 4m 57s\n",
      "736:\tlearn: 0.4543675\ttest: 0.4917881\ttest1: 0.4606318\tbest: 0.4606963 (730)\ttotal: 13m 49s\tremaining: 4m 55s\n",
      "737:\tlearn: 0.4544006\ttest: 0.4918106\ttest1: 0.4606219\tbest: 0.4606963 (730)\ttotal: 13m 50s\tremaining: 4m 54s\n",
      "738:\tlearn: 0.4542959\ttest: 0.4918505\ttest1: 0.4607535\tbest: 0.4607535 (738)\ttotal: 13m 51s\tremaining: 4m 53s\n",
      "739:\tlearn: 0.4543083\ttest: 0.4918316\ttest1: 0.4608213\tbest: 0.4608213 (739)\ttotal: 13m 52s\tremaining: 4m 52s\n",
      "740:\tlearn: 0.4543080\ttest: 0.4918719\ttest1: 0.4606381\tbest: 0.4608213 (739)\ttotal: 13m 53s\tremaining: 4m 51s\n",
      "741:\tlearn: 0.4543277\ttest: 0.4918785\ttest1: 0.4606411\tbest: 0.4608213 (739)\ttotal: 13m 54s\tremaining: 4m 50s\n",
      "742:\tlearn: 0.4544224\ttest: 0.4918864\ttest1: 0.4604507\tbest: 0.4608213 (739)\ttotal: 13m 55s\tremaining: 4m 49s\n",
      "743:\tlearn: 0.4544165\ttest: 0.4918820\ttest1: 0.4605757\tbest: 0.4608213 (739)\ttotal: 13m 56s\tremaining: 4m 47s\n",
      "744:\tlearn: 0.4544692\ttest: 0.4919103\ttest1: 0.4604951\tbest: 0.4608213 (739)\ttotal: 13m 58s\tremaining: 4m 46s\n",
      "745:\tlearn: 0.4545254\ttest: 0.4919753\ttest1: 0.4604798\tbest: 0.4608213 (739)\ttotal: 13m 59s\tremaining: 4m 45s\n",
      "746:\tlearn: 0.4545522\ttest: 0.4920480\ttest1: 0.4604758\tbest: 0.4608213 (739)\ttotal: 14m\tremaining: 4m 44s\n",
      "747:\tlearn: 0.4545445\ttest: 0.4920492\ttest1: 0.4604814\tbest: 0.4608213 (739)\ttotal: 14m 1s\tremaining: 4m 43s\n",
      "748:\tlearn: 0.4545640\ttest: 0.4920834\ttest1: 0.4607618\tbest: 0.4608213 (739)\ttotal: 14m 2s\tremaining: 4m 42s\n",
      "749:\tlearn: 0.4545867\ttest: 0.4921374\ttest1: 0.4606878\tbest: 0.4608213 (739)\ttotal: 14m 3s\tremaining: 4m 41s\n",
      "750:\tlearn: 0.4546392\ttest: 0.4921850\ttest1: 0.4606459\tbest: 0.4608213 (739)\ttotal: 14m 4s\tremaining: 4m 40s\n",
      "751:\tlearn: 0.4546447\ttest: 0.4922114\ttest1: 0.4606296\tbest: 0.4608213 (739)\ttotal: 14m 5s\tremaining: 4m 38s\n",
      "752:\tlearn: 0.4546281\ttest: 0.4922311\ttest1: 0.4606371\tbest: 0.4608213 (739)\ttotal: 14m 6s\tremaining: 4m 37s\n"
     ]
    },
    {
     "name": "stdout",
     "output_type": "stream",
     "text": [
      "753:\tlearn: 0.4546038\ttest: 0.4922599\ttest1: 0.4606585\tbest: 0.4608213 (739)\ttotal: 14m 8s\tremaining: 4m 36s\n",
      "754:\tlearn: 0.4546416\ttest: 0.4923315\ttest1: 0.4606858\tbest: 0.4608213 (739)\ttotal: 14m 9s\tremaining: 4m 35s\n",
      "755:\tlearn: 0.4546676\ttest: 0.4923658\ttest1: 0.4607341\tbest: 0.4608213 (739)\ttotal: 14m 10s\tremaining: 4m 34s\n",
      "756:\tlearn: 0.4547113\ttest: 0.4868749\ttest1: 0.4607568\tbest: 0.4608213 (739)\ttotal: 14m 11s\tremaining: 4m 33s\n",
      "757:\tlearn: 0.4546621\ttest: 0.4870666\ttest1: 0.4608347\tbest: 0.4608347 (757)\ttotal: 14m 12s\tremaining: 4m 32s\n",
      "758:\tlearn: 0.4547424\ttest: 0.4870992\ttest1: 0.4608949\tbest: 0.4608949 (758)\ttotal: 14m 14s\tremaining: 4m 31s\n",
      "759:\tlearn: 0.4547365\ttest: 0.4871987\ttest1: 0.4607623\tbest: 0.4608949 (758)\ttotal: 14m 15s\tremaining: 4m 30s\n",
      "760:\tlearn: 0.4547890\ttest: 0.4872233\ttest1: 0.4607453\tbest: 0.4608949 (758)\ttotal: 14m 16s\tremaining: 4m 28s\n",
      "761:\tlearn: 0.4548203\ttest: 0.4872469\ttest1: 0.4608975\tbest: 0.4608975 (761)\ttotal: 14m 17s\tremaining: 4m 27s\n",
      "762:\tlearn: 0.4548638\ttest: 0.4874224\ttest1: 0.4610092\tbest: 0.4610092 (762)\ttotal: 14m 18s\tremaining: 4m 26s\n",
      "763:\tlearn: 0.4548764\ttest: 0.4874478\ttest1: 0.4609251\tbest: 0.4610092 (762)\ttotal: 14m 20s\tremaining: 4m 25s\n",
      "764:\tlearn: 0.4548837\ttest: 0.4875149\ttest1: 0.4608589\tbest: 0.4610092 (762)\ttotal: 14m 21s\tremaining: 4m 24s\n",
      "765:\tlearn: 0.4549124\ttest: 0.4875351\ttest1: 0.4608911\tbest: 0.4610092 (762)\ttotal: 14m 22s\tremaining: 4m 23s\n",
      "766:\tlearn: 0.4549165\ttest: 0.4875038\ttest1: 0.4609693\tbest: 0.4610092 (762)\ttotal: 14m 24s\tremaining: 4m 22s\n",
      "767:\tlearn: 0.4549180\ttest: 0.4875731\ttest1: 0.4609535\tbest: 0.4610092 (762)\ttotal: 14m 25s\tremaining: 4m 21s\n",
      "768:\tlearn: 0.4549138\ttest: 0.4875854\ttest1: 0.4608756\tbest: 0.4610092 (762)\ttotal: 14m 26s\tremaining: 4m 20s\n",
      "769:\tlearn: 0.4549599\ttest: 0.4876242\ttest1: 0.4608396\tbest: 0.4610092 (762)\ttotal: 14m 28s\tremaining: 4m 19s\n",
      "770:\tlearn: 0.4549638\ttest: 0.4876467\ttest1: 0.4607379\tbest: 0.4610092 (762)\ttotal: 14m 29s\tremaining: 4m 18s\n",
      "771:\tlearn: 0.4549860\ttest: 0.4876744\ttest1: 0.4608150\tbest: 0.4610092 (762)\ttotal: 14m 30s\tremaining: 4m 17s\n",
      "772:\tlearn: 0.4549908\ttest: 0.4877284\ttest1: 0.4607503\tbest: 0.4610092 (762)\ttotal: 14m 31s\tremaining: 4m 15s\n",
      "773:\tlearn: 0.4549948\ttest: 0.4877905\ttest1: 0.4605698\tbest: 0.4610092 (762)\ttotal: 14m 32s\tremaining: 4m 14s\n",
      "774:\tlearn: 0.4550642\ttest: 0.4878824\ttest1: 0.4605320\tbest: 0.4610092 (762)\ttotal: 14m 33s\tremaining: 4m 13s\n",
      "775:\tlearn: 0.4551176\ttest: 0.4878624\ttest1: 0.4606811\tbest: 0.4610092 (762)\ttotal: 14m 34s\tremaining: 4m 12s\n",
      "776:\tlearn: 0.4551265\ttest: 0.4878251\ttest1: 0.4607372\tbest: 0.4610092 (762)\ttotal: 14m 35s\tremaining: 4m 11s\n",
      "777:\tlearn: 0.4551619\ttest: 0.4878352\ttest1: 0.4606471\tbest: 0.4610092 (762)\ttotal: 14m 37s\tremaining: 4m 10s\n",
      "778:\tlearn: 0.4551902\ttest: 0.4878302\ttest1: 0.4605591\tbest: 0.4610092 (762)\ttotal: 14m 38s\tremaining: 4m 9s\n",
      "779:\tlearn: 0.4552226\ttest: 0.4877993\ttest1: 0.4606488\tbest: 0.4610092 (762)\ttotal: 14m 39s\tremaining: 4m 8s\n",
      "780:\tlearn: 0.4552521\ttest: 0.4878193\ttest1: 0.4605496\tbest: 0.4610092 (762)\ttotal: 14m 40s\tremaining: 4m 6s\n",
      "781:\tlearn: 0.4553123\ttest: 0.4878856\ttest1: 0.4604374\tbest: 0.4610092 (762)\ttotal: 14m 41s\tremaining: 4m 5s\n",
      "782:\tlearn: 0.4553174\ttest: 0.4879053\ttest1: 0.4603946\tbest: 0.4610092 (762)\ttotal: 14m 42s\tremaining: 4m 4s\n",
      "783:\tlearn: 0.4553835\ttest: 0.4879079\ttest1: 0.4603634\tbest: 0.4610092 (762)\ttotal: 14m 43s\tremaining: 4m 3s\n",
      "784:\tlearn: 0.4554023\ttest: 0.4879164\ttest1: 0.4602905\tbest: 0.4610092 (762)\ttotal: 14m 44s\tremaining: 4m 2s\n",
      "785:\tlearn: 0.4554519\ttest: 0.4879305\ttest1: 0.4604403\tbest: 0.4610092 (762)\ttotal: 14m 45s\tremaining: 4m 1s\n",
      "786:\tlearn: 0.4554520\ttest: 0.4879880\ttest1: 0.4603399\tbest: 0.4610092 (762)\ttotal: 14m 47s\tremaining: 4m\n",
      "787:\tlearn: 0.4554498\ttest: 0.4879870\ttest1: 0.4602940\tbest: 0.4610092 (762)\ttotal: 14m 48s\tremaining: 3m 58s\n",
      "788:\tlearn: 0.4554458\ttest: 0.4879928\ttest1: 0.4603854\tbest: 0.4610092 (762)\ttotal: 14m 48s\tremaining: 3m 57s\n",
      "789:\tlearn: 0.4555261\ttest: 0.4881490\ttest1: 0.4605849\tbest: 0.4610092 (762)\ttotal: 14m 49s\tremaining: 3m 56s\n",
      "790:\tlearn: 0.4555565\ttest: 0.4882036\ttest1: 0.4604408\tbest: 0.4610092 (762)\ttotal: 14m 51s\tremaining: 3m 55s\n",
      "791:\tlearn: 0.4555836\ttest: 0.4882526\ttest1: 0.4604026\tbest: 0.4610092 (762)\ttotal: 14m 52s\tremaining: 3m 54s\n",
      "792:\tlearn: 0.4555726\ttest: 0.4883008\ttest1: 0.4605544\tbest: 0.4610092 (762)\ttotal: 14m 53s\tremaining: 3m 53s\n",
      "793:\tlearn: 0.4555836\ttest: 0.4883075\ttest1: 0.4604746\tbest: 0.4610092 (762)\ttotal: 14m 54s\tremaining: 3m 52s\n",
      "794:\tlearn: 0.4555435\ttest: 0.4883921\ttest1: 0.4605900\tbest: 0.4610092 (762)\ttotal: 14m 55s\tremaining: 3m 50s\n",
      "795:\tlearn: 0.4556389\ttest: 0.4884859\ttest1: 0.4606045\tbest: 0.4610092 (762)\ttotal: 14m 56s\tremaining: 3m 49s\n",
      "796:\tlearn: 0.4556597\ttest: 0.4884999\ttest1: 0.4606453\tbest: 0.4610092 (762)\ttotal: 14m 57s\tremaining: 3m 48s\n",
      "797:\tlearn: 0.4556711\ttest: 0.4885319\ttest1: 0.4605405\tbest: 0.4610092 (762)\ttotal: 14m 58s\tremaining: 3m 47s\n",
      "798:\tlearn: 0.4557486\ttest: 0.4886673\ttest1: 0.4605579\tbest: 0.4610092 (762)\ttotal: 15m\tremaining: 3m 46s\n",
      "799:\tlearn: 0.4557620\ttest: 0.4886415\ttest1: 0.4605782\tbest: 0.4610092 (762)\ttotal: 15m 1s\tremaining: 3m 45s\n",
      "800:\tlearn: 0.4558095\ttest: 0.4886361\ttest1: 0.4606091\tbest: 0.4610092 (762)\ttotal: 15m 2s\tremaining: 3m 44s\n",
      "801:\tlearn: 0.4557940\ttest: 0.4886250\ttest1: 0.4606730\tbest: 0.4610092 (762)\ttotal: 15m 3s\tremaining: 3m 43s\n",
      "802:\tlearn: 0.4557576\ttest: 0.4886595\ttest1: 0.4607546\tbest: 0.4610092 (762)\ttotal: 15m 4s\tremaining: 3m 42s\n",
      "803:\tlearn: 0.4558028\ttest: 0.4885865\ttest1: 0.4608283\tbest: 0.4610092 (762)\ttotal: 15m 5s\tremaining: 3m 40s\n",
      "804:\tlearn: 0.4558356\ttest: 0.4862739\ttest1: 0.4609363\tbest: 0.4610092 (762)\ttotal: 15m 6s\tremaining: 3m 39s\n",
      "805:\tlearn: 0.4558183\ttest: 0.4863214\ttest1: 0.4610293\tbest: 0.4610293 (805)\ttotal: 15m 7s\tremaining: 3m 38s\n",
      "806:\tlearn: 0.4558920\ttest: 0.4864103\ttest1: 0.4609182\tbest: 0.4610293 (805)\ttotal: 15m 8s\tremaining: 3m 37s\n",
      "807:\tlearn: 0.4559348\ttest: 0.4864299\ttest1: 0.4610663\tbest: 0.4610663 (807)\ttotal: 15m 9s\tremaining: 3m 36s\n",
      "808:\tlearn: 0.4560071\ttest: 0.4864569\ttest1: 0.4610560\tbest: 0.4610663 (807)\ttotal: 15m 11s\tremaining: 3m 35s\n",
      "809:\tlearn: 0.4560413\ttest: 0.4864761\ttest1: 0.4611100\tbest: 0.4611100 (809)\ttotal: 15m 12s\tremaining: 3m 33s\n",
      "810:\tlearn: 0.4560717\ttest: 0.4865206\ttest1: 0.4610347\tbest: 0.4611100 (809)\ttotal: 15m 13s\tremaining: 3m 32s\n",
      "811:\tlearn: 0.4560573\ttest: 0.4865595\ttest1: 0.4611171\tbest: 0.4611171 (811)\ttotal: 15m 14s\tremaining: 3m 31s\n",
      "812:\tlearn: 0.4560147\ttest: 0.4866104\ttest1: 0.4611215\tbest: 0.4611215 (812)\ttotal: 15m 15s\tremaining: 3m 30s\n",
      "813:\tlearn: 0.4560651\ttest: 0.4866599\ttest1: 0.4610410\tbest: 0.4611215 (812)\ttotal: 15m 16s\tremaining: 3m 29s\n",
      "814:\tlearn: 0.4560803\ttest: 0.4867450\ttest1: 0.4611198\tbest: 0.4611215 (812)\ttotal: 15m 17s\tremaining: 3m 28s\n",
      "815:\tlearn: 0.4561897\ttest: 0.4868956\ttest1: 0.4611104\tbest: 0.4611215 (812)\ttotal: 15m 18s\tremaining: 3m 27s\n",
      "816:\tlearn: 0.4562522\ttest: 0.4868498\ttest1: 0.4611792\tbest: 0.4611792 (816)\ttotal: 15m 20s\tremaining: 3m 26s\n",
      "817:\tlearn: 0.4562774\ttest: 0.4868806\ttest1: 0.4611585\tbest: 0.4611792 (816)\ttotal: 15m 21s\tremaining: 3m 24s\n",
      "818:\tlearn: 0.4562747\ttest: 0.4869626\ttest1: 0.4611069\tbest: 0.4611792 (816)\ttotal: 15m 22s\tremaining: 3m 23s\n",
      "819:\tlearn: 0.4563208\ttest: 0.4869607\ttest1: 0.4612001\tbest: 0.4612001 (819)\ttotal: 15m 23s\tremaining: 3m 22s\n",
      "820:\tlearn: 0.4562938\ttest: 0.4869638\ttest1: 0.4612264\tbest: 0.4612264 (820)\ttotal: 15m 24s\tremaining: 3m 21s\n",
      "821:\tlearn: 0.4562981\ttest: 0.4870029\ttest1: 0.4611575\tbest: 0.4612264 (820)\ttotal: 15m 25s\tremaining: 3m 20s\n",
      "822:\tlearn: 0.4563356\ttest: 0.4870691\ttest1: 0.4610077\tbest: 0.4612264 (820)\ttotal: 15m 26s\tremaining: 3m 19s\n",
      "823:\tlearn: 0.4563767\ttest: 0.4871112\ttest1: 0.4611202\tbest: 0.4612264 (820)\ttotal: 15m 27s\tremaining: 3m 18s\n",
      "824:\tlearn: 0.4563980\ttest: 0.4870646\ttest1: 0.4609715\tbest: 0.4612264 (820)\ttotal: 15m 28s\tremaining: 3m 17s\n",
      "825:\tlearn: 0.4564204\ttest: 0.4870898\ttest1: 0.4610403\tbest: 0.4612264 (820)\ttotal: 15m 30s\tremaining: 3m 15s\n",
      "826:\tlearn: 0.4563743\ttest: 0.4871520\ttest1: 0.4611172\tbest: 0.4612264 (820)\ttotal: 15m 31s\tremaining: 3m 14s\n",
      "827:\tlearn: 0.4563951\ttest: 0.4864194\ttest1: 0.4611732\tbest: 0.4612264 (820)\ttotal: 15m 32s\tremaining: 3m 13s\n"
     ]
    },
    {
     "name": "stdout",
     "output_type": "stream",
     "text": [
      "828:\tlearn: 0.4565106\ttest: 0.4864900\ttest1: 0.4611789\tbest: 0.4612264 (820)\ttotal: 15m 33s\tremaining: 3m 12s\n",
      "829:\tlearn: 0.4565284\ttest: 0.4865310\ttest1: 0.4612798\tbest: 0.4612798 (829)\ttotal: 15m 34s\tremaining: 3m 11s\n",
      "830:\tlearn: 0.4565473\ttest: 0.4864879\ttest1: 0.4612831\tbest: 0.4612831 (830)\ttotal: 15m 35s\tremaining: 3m 10s\n",
      "831:\tlearn: 0.4566002\ttest: 0.4865409\ttest1: 0.4613321\tbest: 0.4613321 (831)\ttotal: 15m 36s\tremaining: 3m 9s\n",
      "832:\tlearn: 0.4565967\ttest: 0.4865376\ttest1: 0.4612804\tbest: 0.4613321 (831)\ttotal: 15m 37s\tremaining: 3m 8s\n",
      "833:\tlearn: 0.4565850\ttest: 0.4865563\ttest1: 0.4611549\tbest: 0.4613321 (831)\ttotal: 15m 38s\tremaining: 3m 6s\n",
      "834:\tlearn: 0.4565962\ttest: 0.4866417\ttest1: 0.4610766\tbest: 0.4613321 (831)\ttotal: 15m 39s\tremaining: 3m 5s\n",
      "835:\tlearn: 0.4566535\ttest: 0.4866567\ttest1: 0.4610137\tbest: 0.4613321 (831)\ttotal: 15m 40s\tremaining: 3m 4s\n",
      "836:\tlearn: 0.4566287\ttest: 0.4866694\ttest1: 0.4611488\tbest: 0.4613321 (831)\ttotal: 15m 41s\tremaining: 3m 3s\n",
      "837:\tlearn: 0.4566508\ttest: 0.4866568\ttest1: 0.4612478\tbest: 0.4613321 (831)\ttotal: 15m 42s\tremaining: 3m 2s\n",
      "838:\tlearn: 0.4566907\ttest: 0.4866860\ttest1: 0.4613649\tbest: 0.4613649 (838)\ttotal: 15m 44s\tremaining: 3m 1s\n",
      "839:\tlearn: 0.4566894\ttest: 0.4866622\ttest1: 0.4611467\tbest: 0.4613649 (838)\ttotal: 15m 45s\tremaining: 3m\n",
      "840:\tlearn: 0.4567040\ttest: 0.4866499\ttest1: 0.4612222\tbest: 0.4613649 (838)\ttotal: 15m 47s\tremaining: 2m 59s\n",
      "841:\tlearn: 0.4567353\ttest: 0.4809965\ttest1: 0.4613835\tbest: 0.4613835 (841)\ttotal: 15m 48s\tremaining: 2m 57s\n",
      "842:\tlearn: 0.4567508\ttest: 0.4810233\ttest1: 0.4613057\tbest: 0.4613835 (841)\ttotal: 15m 49s\tremaining: 2m 56s\n",
      "843:\tlearn: 0.4567401\ttest: 0.4790294\ttest1: 0.4612781\tbest: 0.4613835 (841)\ttotal: 15m 50s\tremaining: 2m 55s\n",
      "844:\tlearn: 0.4567962\ttest: 0.4790589\ttest1: 0.4613519\tbest: 0.4613835 (841)\ttotal: 15m 51s\tremaining: 2m 54s\n",
      "845:\tlearn: 0.4567995\ttest: 0.4790164\ttest1: 0.4613519\tbest: 0.4613835 (841)\ttotal: 15m 53s\tremaining: 2m 53s\n",
      "846:\tlearn: 0.4568373\ttest: 0.4790347\ttest1: 0.4614196\tbest: 0.4614196 (846)\ttotal: 15m 54s\tremaining: 2m 52s\n",
      "847:\tlearn: 0.4568304\ttest: 0.4790581\ttest1: 0.4614245\tbest: 0.4614245 (847)\ttotal: 15m 55s\tremaining: 2m 51s\n",
      "848:\tlearn: 0.4568602\ttest: 0.4790720\ttest1: 0.4614803\tbest: 0.4614803 (848)\ttotal: 15m 56s\tremaining: 2m 50s\n",
      "849:\tlearn: 0.4569051\ttest: 0.4777683\ttest1: 0.4614436\tbest: 0.4614803 (848)\ttotal: 15m 57s\tremaining: 2m 49s\n",
      "850:\tlearn: 0.4569200\ttest: 0.4778115\ttest1: 0.4615053\tbest: 0.4615053 (850)\ttotal: 15m 59s\tremaining: 2m 47s\n",
      "851:\tlearn: 0.4569110\ttest: 0.4778966\ttest1: 0.4615760\tbest: 0.4615760 (851)\ttotal: 16m\tremaining: 2m 46s\n",
      "852:\tlearn: 0.4569068\ttest: 0.4778914\ttest1: 0.4616868\tbest: 0.4616868 (852)\ttotal: 16m 1s\tremaining: 2m 45s\n",
      "853:\tlearn: 0.4569204\ttest: 0.4778738\ttest1: 0.4616088\tbest: 0.4616868 (852)\ttotal: 16m 2s\tremaining: 2m 44s\n",
      "854:\tlearn: 0.4569193\ttest: 0.4778747\ttest1: 0.4615849\tbest: 0.4616868 (852)\ttotal: 16m 3s\tremaining: 2m 43s\n",
      "855:\tlearn: 0.4569419\ttest: 0.4779112\ttest1: 0.4615180\tbest: 0.4616868 (852)\ttotal: 16m 4s\tremaining: 2m 42s\n",
      "856:\tlearn: 0.4569121\ttest: 0.4778975\ttest1: 0.4615531\tbest: 0.4616868 (852)\ttotal: 16m 6s\tremaining: 2m 41s\n",
      "857:\tlearn: 0.4569039\ttest: 0.4779052\ttest1: 0.4615953\tbest: 0.4616868 (852)\ttotal: 16m 7s\tremaining: 2m 40s\n",
      "858:\tlearn: 0.4569401\ttest: 0.4779149\ttest1: 0.4615357\tbest: 0.4616868 (852)\ttotal: 16m 8s\tremaining: 2m 38s\n",
      "859:\tlearn: 0.4569302\ttest: 0.4779279\ttest1: 0.4614369\tbest: 0.4616868 (852)\ttotal: 16m 9s\tremaining: 2m 37s\n",
      "860:\tlearn: 0.4569206\ttest: 0.4779721\ttest1: 0.4614412\tbest: 0.4616868 (852)\ttotal: 16m 10s\tremaining: 2m 36s\n",
      "861:\tlearn: 0.4569859\ttest: 0.4780244\ttest1: 0.4613532\tbest: 0.4616868 (852)\ttotal: 16m 11s\tremaining: 2m 35s\n",
      "862:\tlearn: 0.4570518\ttest: 0.4779714\ttest1: 0.4613336\tbest: 0.4616868 (852)\ttotal: 16m 12s\tremaining: 2m 34s\n",
      "863:\tlearn: 0.4570415\ttest: 0.4780630\ttest1: 0.4613818\tbest: 0.4616868 (852)\ttotal: 16m 13s\tremaining: 2m 33s\n",
      "864:\tlearn: 0.4571007\ttest: 0.4780771\ttest1: 0.4613608\tbest: 0.4616868 (852)\ttotal: 16m 14s\tremaining: 2m 32s\n",
      "865:\tlearn: 0.4571479\ttest: 0.4781085\ttest1: 0.4612492\tbest: 0.4616868 (852)\ttotal: 16m 15s\tremaining: 2m 30s\n",
      "866:\tlearn: 0.4572012\ttest: 0.4781413\ttest1: 0.4611759\tbest: 0.4616868 (852)\ttotal: 16m 16s\tremaining: 2m 29s\n",
      "867:\tlearn: 0.4573119\ttest: 0.4782673\ttest1: 0.4612007\tbest: 0.4616868 (852)\ttotal: 16m 17s\tremaining: 2m 28s\n",
      "868:\tlearn: 0.4573373\ttest: 0.4783430\ttest1: 0.4613569\tbest: 0.4616868 (852)\ttotal: 16m 18s\tremaining: 2m 27s\n",
      "869:\tlearn: 0.4573621\ttest: 0.4783341\ttest1: 0.4613104\tbest: 0.4616868 (852)\ttotal: 16m 20s\tremaining: 2m 26s\n",
      "870:\tlearn: 0.4573766\ttest: 0.4783279\ttest1: 0.4613515\tbest: 0.4616868 (852)\ttotal: 16m 21s\tremaining: 2m 25s\n",
      "871:\tlearn: 0.4574070\ttest: 0.4783405\ttest1: 0.4613638\tbest: 0.4616868 (852)\ttotal: 16m 22s\tremaining: 2m 24s\n",
      "872:\tlearn: 0.4573837\ttest: 0.4783702\ttest1: 0.4613776\tbest: 0.4616868 (852)\ttotal: 16m 23s\tremaining: 2m 23s\n",
      "873:\tlearn: 0.4574139\ttest: 0.4783460\ttest1: 0.4615037\tbest: 0.4616868 (852)\ttotal: 16m 24s\tremaining: 2m 21s\n",
      "874:\tlearn: 0.4574092\ttest: 0.4783857\ttest1: 0.4614720\tbest: 0.4616868 (852)\ttotal: 16m 25s\tremaining: 2m 20s\n",
      "875:\tlearn: 0.4573988\ttest: 0.4784463\ttest1: 0.4614619\tbest: 0.4616868 (852)\ttotal: 16m 26s\tremaining: 2m 19s\n",
      "876:\tlearn: 0.4573509\ttest: 0.4784239\ttest1: 0.4614242\tbest: 0.4616868 (852)\ttotal: 16m 27s\tremaining: 2m 18s\n",
      "877:\tlearn: 0.4574077\ttest: 0.4784499\ttest1: 0.4613919\tbest: 0.4616868 (852)\ttotal: 16m 28s\tremaining: 2m 17s\n",
      "878:\tlearn: 0.4574211\ttest: 0.4785014\ttest1: 0.4614732\tbest: 0.4616868 (852)\ttotal: 16m 29s\tremaining: 2m 16s\n",
      "879:\tlearn: 0.4574802\ttest: 0.4785383\ttest1: 0.4615729\tbest: 0.4616868 (852)\ttotal: 16m 31s\tremaining: 2m 15s\n",
      "880:\tlearn: 0.4575260\ttest: 0.4785595\ttest1: 0.4616748\tbest: 0.4616868 (852)\ttotal: 16m 32s\tremaining: 2m 14s\n",
      "881:\tlearn: 0.4575525\ttest: 0.4785872\ttest1: 0.4615756\tbest: 0.4616868 (852)\ttotal: 16m 33s\tremaining: 2m 12s\n",
      "882:\tlearn: 0.4575568\ttest: 0.4785938\ttest1: 0.4615023\tbest: 0.4616868 (852)\ttotal: 16m 34s\tremaining: 2m 11s\n",
      "883:\tlearn: 0.4576089\ttest: 0.4786569\ttest1: 0.4616014\tbest: 0.4616868 (852)\ttotal: 16m 35s\tremaining: 2m 10s\n",
      "884:\tlearn: 0.4576591\ttest: 0.4786650\ttest1: 0.4616888\tbest: 0.4616888 (884)\ttotal: 16m 36s\tremaining: 2m 9s\n",
      "885:\tlearn: 0.4576817\ttest: 0.4786626\ttest1: 0.4616652\tbest: 0.4616888 (884)\ttotal: 16m 37s\tremaining: 2m 8s\n",
      "886:\tlearn: 0.4577322\ttest: 0.4786478\ttest1: 0.4616436\tbest: 0.4616888 (884)\ttotal: 16m 38s\tremaining: 2m 7s\n",
      "887:\tlearn: 0.4577327\ttest: 0.4786695\ttest1: 0.4615927\tbest: 0.4616888 (884)\ttotal: 16m 39s\tremaining: 2m 6s\n",
      "888:\tlearn: 0.4576980\ttest: 0.4787294\ttest1: 0.4616949\tbest: 0.4616949 (888)\ttotal: 16m 40s\tremaining: 2m 4s\n",
      "889:\tlearn: 0.4577000\ttest: 0.4787802\ttest1: 0.4616823\tbest: 0.4616949 (888)\ttotal: 16m 41s\tremaining: 2m 3s\n",
      "890:\tlearn: 0.4577310\ttest: 0.4787544\ttest1: 0.4615845\tbest: 0.4616949 (888)\ttotal: 16m 43s\tremaining: 2m 2s\n",
      "891:\tlearn: 0.4577096\ttest: 0.4787228\ttest1: 0.4616352\tbest: 0.4616949 (888)\ttotal: 16m 44s\tremaining: 2m 1s\n",
      "892:\tlearn: 0.4578041\ttest: 0.4788874\ttest1: 0.4617928\tbest: 0.4617928 (892)\ttotal: 16m 45s\tremaining: 2m\n",
      "893:\tlearn: 0.4578113\ttest: 0.4789050\ttest1: 0.4618240\tbest: 0.4618240 (893)\ttotal: 16m 46s\tremaining: 1m 59s\n",
      "894:\tlearn: 0.4578546\ttest: 0.4789161\ttest1: 0.4617075\tbest: 0.4618240 (893)\ttotal: 16m 47s\tremaining: 1m 58s\n",
      "895:\tlearn: 0.4578276\ttest: 0.4789091\ttest1: 0.4617006\tbest: 0.4618240 (893)\ttotal: 16m 48s\tremaining: 1m 57s\n",
      "896:\tlearn: 0.4578497\ttest: 0.4789421\ttest1: 0.4617026\tbest: 0.4618240 (893)\ttotal: 16m 49s\tremaining: 1m 55s\n",
      "897:\tlearn: 0.4578663\ttest: 0.4790353\ttest1: 0.4616991\tbest: 0.4618240 (893)\ttotal: 16m 50s\tremaining: 1m 54s\n",
      "898:\tlearn: 0.4578800\ttest: 0.4790703\ttest1: 0.4617310\tbest: 0.4618240 (893)\ttotal: 16m 52s\tremaining: 1m 53s\n",
      "899:\tlearn: 0.4579461\ttest: 0.4791755\ttest1: 0.4618905\tbest: 0.4618905 (899)\ttotal: 16m 53s\tremaining: 1m 52s\n",
      "900:\tlearn: 0.4579778\ttest: 0.4792632\ttest1: 0.4618331\tbest: 0.4618905 (899)\ttotal: 16m 54s\tremaining: 1m 51s\n",
      "901:\tlearn: 0.4579766\ttest: 0.4792838\ttest1: 0.4617959\tbest: 0.4618905 (899)\ttotal: 16m 55s\tremaining: 1m 50s\n",
      "902:\tlearn: 0.4579772\ttest: 0.4792817\ttest1: 0.4617790\tbest: 0.4618905 (899)\ttotal: 16m 57s\tremaining: 1m 49s\n"
     ]
    },
    {
     "name": "stdout",
     "output_type": "stream",
     "text": [
      "903:\tlearn: 0.4579810\ttest: 0.4760576\ttest1: 0.4617604\tbest: 0.4618905 (899)\ttotal: 16m 58s\tremaining: 1m 48s\n",
      "904:\tlearn: 0.4579977\ttest: 0.4760413\ttest1: 0.4618780\tbest: 0.4618905 (899)\ttotal: 16m 59s\tremaining: 1m 46s\n",
      "905:\tlearn: 0.4580326\ttest: 0.4760699\ttest1: 0.4617677\tbest: 0.4618905 (899)\ttotal: 17m\tremaining: 1m 45s\n",
      "906:\tlearn: 0.4581390\ttest: 0.4762433\ttest1: 0.4618754\tbest: 0.4618905 (899)\ttotal: 17m 1s\tremaining: 1m 44s\n",
      "907:\tlearn: 0.4581595\ttest: 0.4762128\ttest1: 0.4617968\tbest: 0.4618905 (899)\ttotal: 17m 2s\tremaining: 1m 43s\n",
      "908:\tlearn: 0.4581440\ttest: 0.4762775\ttest1: 0.4618861\tbest: 0.4618905 (899)\ttotal: 17m 3s\tremaining: 1m 42s\n",
      "909:\tlearn: 0.4582002\ttest: 0.4763170\ttest1: 0.4618620\tbest: 0.4618905 (899)\ttotal: 17m 4s\tremaining: 1m 41s\n",
      "910:\tlearn: 0.4582502\ttest: 0.4763371\ttest1: 0.4618605\tbest: 0.4618905 (899)\ttotal: 17m 5s\tremaining: 1m 40s\n",
      "911:\tlearn: 0.4582451\ttest: 0.4763580\ttest1: 0.4618067\tbest: 0.4618905 (899)\ttotal: 17m 6s\tremaining: 1m 39s\n",
      "912:\tlearn: 0.4582669\ttest: 0.4763429\ttest1: 0.4617198\tbest: 0.4618905 (899)\ttotal: 17m 8s\tremaining: 1m 37s\n",
      "913:\tlearn: 0.4582632\ttest: 0.4763561\ttest1: 0.4618300\tbest: 0.4618905 (899)\ttotal: 17m 9s\tremaining: 1m 36s\n",
      "914:\tlearn: 0.4582783\ttest: 0.4763885\ttest1: 0.4618890\tbest: 0.4618905 (899)\ttotal: 17m 10s\tremaining: 1m 35s\n",
      "915:\tlearn: 0.4583059\ttest: 0.4763767\ttest1: 0.4619377\tbest: 0.4619377 (915)\ttotal: 17m 11s\tremaining: 1m 34s\n",
      "916:\tlearn: 0.4583343\ttest: 0.4766923\ttest1: 0.4618781\tbest: 0.4619377 (915)\ttotal: 17m 12s\tremaining: 1m 33s\n",
      "917:\tlearn: 0.4583526\ttest: 0.4767178\ttest1: 0.4618132\tbest: 0.4619377 (915)\ttotal: 17m 13s\tremaining: 1m 32s\n",
      "918:\tlearn: 0.4583746\ttest: 0.4767856\ttest1: 0.4618205\tbest: 0.4619377 (915)\ttotal: 17m 14s\tremaining: 1m 31s\n",
      "919:\tlearn: 0.4583911\ttest: 0.4767651\ttest1: 0.4617219\tbest: 0.4619377 (915)\ttotal: 17m 15s\tremaining: 1m 30s\n",
      "920:\tlearn: 0.4584063\ttest: 0.4768842\ttest1: 0.4617300\tbest: 0.4619377 (915)\ttotal: 17m 16s\tremaining: 1m 28s\n",
      "921:\tlearn: 0.4584572\ttest: 0.4769324\ttest1: 0.4617565\tbest: 0.4619377 (915)\ttotal: 17m 18s\tremaining: 1m 27s\n",
      "922:\tlearn: 0.4584658\ttest: 0.4769770\ttest1: 0.4618056\tbest: 0.4619377 (915)\ttotal: 17m 19s\tremaining: 1m 26s\n",
      "923:\tlearn: 0.4584580\ttest: 0.4769567\ttest1: 0.4617778\tbest: 0.4619377 (915)\ttotal: 17m 20s\tremaining: 1m 25s\n",
      "924:\tlearn: 0.4585050\ttest: 0.4770470\ttest1: 0.4618372\tbest: 0.4619377 (915)\ttotal: 17m 21s\tremaining: 1m 24s\n",
      "925:\tlearn: 0.4585145\ttest: 0.4770175\ttest1: 0.4618888\tbest: 0.4619377 (915)\ttotal: 17m 22s\tremaining: 1m 23s\n",
      "926:\tlearn: 0.4585318\ttest: 0.4770155\ttest1: 0.4619945\tbest: 0.4619945 (926)\ttotal: 17m 23s\tremaining: 1m 22s\n",
      "927:\tlearn: 0.4585225\ttest: 0.4770243\ttest1: 0.4619285\tbest: 0.4619945 (926)\ttotal: 17m 24s\tremaining: 1m 21s\n",
      "928:\tlearn: 0.4586025\ttest: 0.4770505\ttest1: 0.4618598\tbest: 0.4619945 (926)\ttotal: 17m 25s\tremaining: 1m 19s\n",
      "929:\tlearn: 0.4586068\ttest: 0.4770797\ttest1: 0.4620245\tbest: 0.4620245 (929)\ttotal: 17m 26s\tremaining: 1m 18s\n",
      "930:\tlearn: 0.4586702\ttest: 0.4771704\ttest1: 0.4620067\tbest: 0.4620245 (929)\ttotal: 17m 27s\tremaining: 1m 17s\n",
      "931:\tlearn: 0.4586964\ttest: 0.4772454\ttest1: 0.4620411\tbest: 0.4620411 (931)\ttotal: 17m 28s\tremaining: 1m 16s\n",
      "932:\tlearn: 0.4587237\ttest: 0.4772421\ttest1: 0.4619598\tbest: 0.4620411 (931)\ttotal: 17m 29s\tremaining: 1m 15s\n",
      "933:\tlearn: 0.4587219\ttest: 0.4772580\ttest1: 0.4619735\tbest: 0.4620411 (931)\ttotal: 17m 30s\tremaining: 1m 14s\n",
      "934:\tlearn: 0.4587591\ttest: 0.4772722\ttest1: 0.4619379\tbest: 0.4620411 (931)\ttotal: 17m 32s\tremaining: 1m 13s\n",
      "935:\tlearn: 0.4587595\ttest: 0.4772741\ttest1: 0.4620904\tbest: 0.4620904 (935)\ttotal: 17m 33s\tremaining: 1m 12s\n",
      "936:\tlearn: 0.4587882\ttest: 0.4772990\ttest1: 0.4621267\tbest: 0.4621267 (936)\ttotal: 17m 34s\tremaining: 1m 10s\n",
      "937:\tlearn: 0.4587877\ttest: 0.4773090\ttest1: 0.4620954\tbest: 0.4621267 (936)\ttotal: 17m 35s\tremaining: 1m 9s\n",
      "938:\tlearn: 0.4588066\ttest: 0.4773183\ttest1: 0.4620813\tbest: 0.4621267 (936)\ttotal: 17m 37s\tremaining: 1m 8s\n",
      "939:\tlearn: 0.4588709\ttest: 0.4773392\ttest1: 0.4619540\tbest: 0.4621267 (936)\ttotal: 17m 38s\tremaining: 1m 7s\n",
      "940:\tlearn: 0.4588696\ttest: 0.4773181\ttest1: 0.4620140\tbest: 0.4621267 (936)\ttotal: 17m 39s\tremaining: 1m 6s\n",
      "941:\tlearn: 0.4588604\ttest: 0.4773864\ttest1: 0.4620106\tbest: 0.4621267 (936)\ttotal: 17m 40s\tremaining: 1m 5s\n",
      "942:\tlearn: 0.4588817\ttest: 0.4774786\ttest1: 0.4620107\tbest: 0.4621267 (936)\ttotal: 17m 41s\tremaining: 1m 4s\n",
      "943:\tlearn: 0.4588893\ttest: 0.4775050\ttest1: 0.4621696\tbest: 0.4621696 (943)\ttotal: 17m 42s\tremaining: 1m 3s\n",
      "944:\tlearn: 0.4588779\ttest: 0.4774862\ttest1: 0.4621748\tbest: 0.4621748 (944)\ttotal: 17m 44s\tremaining: 1m 1s\n",
      "945:\tlearn: 0.4589015\ttest: 0.4774796\ttest1: 0.4621552\tbest: 0.4621748 (944)\ttotal: 17m 45s\tremaining: 1m\n",
      "946:\tlearn: 0.4588779\ttest: 0.4774954\ttest1: 0.4620527\tbest: 0.4621748 (944)\ttotal: 17m 46s\tremaining: 59.7s\n",
      "947:\tlearn: 0.4589151\ttest: 0.4774939\ttest1: 0.4620054\tbest: 0.4621748 (944)\ttotal: 17m 47s\tremaining: 58.6s\n",
      "948:\tlearn: 0.4589841\ttest: 0.4775290\ttest1: 0.4620613\tbest: 0.4621748 (944)\ttotal: 17m 48s\tremaining: 57.4s\n",
      "949:\tlearn: 0.4590939\ttest: 0.4775574\ttest1: 0.4620277\tbest: 0.4621748 (944)\ttotal: 17m 49s\tremaining: 56.3s\n",
      "950:\tlearn: 0.4590858\ttest: 0.4775398\ttest1: 0.4619407\tbest: 0.4621748 (944)\ttotal: 17m 51s\tremaining: 55.2s\n",
      "951:\tlearn: 0.4590908\ttest: 0.4775736\ttest1: 0.4621120\tbest: 0.4621748 (944)\ttotal: 17m 52s\tremaining: 54.1s\n",
      "952:\tlearn: 0.4591681\ttest: 0.4776501\ttest1: 0.4620980\tbest: 0.4621748 (944)\ttotal: 17m 53s\tremaining: 52.9s\n",
      "953:\tlearn: 0.4591584\ttest: 0.4776743\ttest1: 0.4620842\tbest: 0.4621748 (944)\ttotal: 17m 54s\tremaining: 51.8s\n",
      "954:\tlearn: 0.4591959\ttest: 0.4777189\ttest1: 0.4621107\tbest: 0.4621748 (944)\ttotal: 17m 55s\tremaining: 50.7s\n",
      "955:\tlearn: 0.4591911\ttest: 0.4777393\ttest1: 0.4621102\tbest: 0.4621748 (944)\ttotal: 17m 57s\tremaining: 49.6s\n",
      "956:\tlearn: 0.4592649\ttest: 0.4777336\ttest1: 0.4619755\tbest: 0.4621748 (944)\ttotal: 17m 58s\tremaining: 48.5s\n",
      "957:\tlearn: 0.4592556\ttest: 0.4777621\ttest1: 0.4620197\tbest: 0.4621748 (944)\ttotal: 17m 59s\tremaining: 47.3s\n",
      "958:\tlearn: 0.4592724\ttest: 0.4777527\ttest1: 0.4620145\tbest: 0.4621748 (944)\ttotal: 18m\tremaining: 46.2s\n",
      "959:\tlearn: 0.4592762\ttest: 0.4778355\ttest1: 0.4622039\tbest: 0.4622039 (959)\ttotal: 18m 1s\tremaining: 45.1s\n",
      "960:\tlearn: 0.4593232\ttest: 0.4779114\ttest1: 0.4622747\tbest: 0.4622747 (960)\ttotal: 18m 3s\tremaining: 44s\n",
      "961:\tlearn: 0.4593257\ttest: 0.4779265\ttest1: 0.4621250\tbest: 0.4622747 (960)\ttotal: 18m 4s\tremaining: 42.8s\n",
      "962:\tlearn: 0.4593843\ttest: 0.4779273\ttest1: 0.4622059\tbest: 0.4622747 (960)\ttotal: 18m 5s\tremaining: 41.7s\n",
      "963:\tlearn: 0.4593687\ttest: 0.4779347\ttest1: 0.4621236\tbest: 0.4622747 (960)\ttotal: 18m 6s\tremaining: 40.6s\n",
      "964:\tlearn: 0.4593576\ttest: 0.4780106\ttest1: 0.4620749\tbest: 0.4622747 (960)\ttotal: 18m 7s\tremaining: 39.4s\n",
      "965:\tlearn: 0.4593938\ttest: 0.4780112\ttest1: 0.4620329\tbest: 0.4622747 (960)\ttotal: 18m 8s\tremaining: 38.3s\n",
      "966:\tlearn: 0.4593967\ttest: 0.4780386\ttest1: 0.4619334\tbest: 0.4622747 (960)\ttotal: 18m 9s\tremaining: 37.2s\n",
      "967:\tlearn: 0.4594545\ttest: 0.4782265\ttest1: 0.4617720\tbest: 0.4622747 (960)\ttotal: 18m 11s\tremaining: 36.1s\n",
      "968:\tlearn: 0.4595000\ttest: 0.4781623\ttest1: 0.4617993\tbest: 0.4622747 (960)\ttotal: 18m 12s\tremaining: 34.9s\n",
      "969:\tlearn: 0.4594481\ttest: 0.4781758\ttest1: 0.4618421\tbest: 0.4622747 (960)\ttotal: 18m 13s\tremaining: 33.8s\n",
      "970:\tlearn: 0.4594405\ttest: 0.4782382\ttest1: 0.4618398\tbest: 0.4622747 (960)\ttotal: 18m 14s\tremaining: 32.7s\n",
      "971:\tlearn: 0.4594671\ttest: 0.4782897\ttest1: 0.4618944\tbest: 0.4622747 (960)\ttotal: 18m 15s\tremaining: 31.6s\n",
      "972:\tlearn: 0.4594881\ttest: 0.4783263\ttest1: 0.4618121\tbest: 0.4622747 (960)\ttotal: 18m 16s\tremaining: 30.4s\n",
      "973:\tlearn: 0.4595826\ttest: 0.4783459\ttest1: 0.4619187\tbest: 0.4622747 (960)\ttotal: 18m 17s\tremaining: 29.3s\n",
      "974:\tlearn: 0.4595934\ttest: 0.4783712\ttest1: 0.4619213\tbest: 0.4622747 (960)\ttotal: 18m 18s\tremaining: 28.2s\n",
      "975:\tlearn: 0.4596404\ttest: 0.4783755\ttest1: 0.4617971\tbest: 0.4622747 (960)\ttotal: 18m 19s\tremaining: 27s\n",
      "976:\tlearn: 0.4596441\ttest: 0.4784142\ttest1: 0.4617373\tbest: 0.4622747 (960)\ttotal: 18m 20s\tremaining: 25.9s\n",
      "977:\tlearn: 0.4597377\ttest: 0.4784651\ttest1: 0.4618611\tbest: 0.4622747 (960)\ttotal: 18m 21s\tremaining: 24.8s\n",
      "978:\tlearn: 0.4597685\ttest: 0.4784580\ttest1: 0.4619274\tbest: 0.4622747 (960)\ttotal: 18m 22s\tremaining: 23.7s\n"
     ]
    },
    {
     "name": "stdout",
     "output_type": "stream",
     "text": [
      "979:\tlearn: 0.4598046\ttest: 0.4784732\ttest1: 0.4617988\tbest: 0.4622747 (960)\ttotal: 18m 23s\tremaining: 22.5s\n",
      "980:\tlearn: 0.4597634\ttest: 0.4784882\ttest1: 0.4619202\tbest: 0.4622747 (960)\ttotal: 18m 24s\tremaining: 21.4s\n",
      "981:\tlearn: 0.4598234\ttest: 0.4768576\ttest1: 0.4618471\tbest: 0.4622747 (960)\ttotal: 18m 26s\tremaining: 20.3s\n",
      "982:\tlearn: 0.4598512\ttest: 0.4768630\ttest1: 0.4618657\tbest: 0.4622747 (960)\ttotal: 18m 27s\tremaining: 19.1s\n",
      "983:\tlearn: 0.4598627\ttest: 0.4769108\ttest1: 0.4619312\tbest: 0.4622747 (960)\ttotal: 18m 28s\tremaining: 18s\n",
      "984:\tlearn: 0.4598160\ttest: 0.4768968\ttest1: 0.4620079\tbest: 0.4622747 (960)\ttotal: 18m 29s\tremaining: 16.9s\n",
      "985:\tlearn: 0.4598482\ttest: 0.4768974\ttest1: 0.4617245\tbest: 0.4622747 (960)\ttotal: 18m 30s\tremaining: 15.8s\n",
      "986:\tlearn: 0.4598445\ttest: 0.4768785\ttest1: 0.4618681\tbest: 0.4622747 (960)\ttotal: 18m 31s\tremaining: 14.6s\n",
      "987:\tlearn: 0.4598337\ttest: 0.4769274\ttest1: 0.4618189\tbest: 0.4622747 (960)\ttotal: 18m 32s\tremaining: 13.5s\n",
      "988:\tlearn: 0.4599223\ttest: 0.4769691\ttest1: 0.4618244\tbest: 0.4622747 (960)\ttotal: 18m 33s\tremaining: 12.4s\n",
      "989:\tlearn: 0.4599340\ttest: 0.4769459\ttest1: 0.4617628\tbest: 0.4622747 (960)\ttotal: 18m 34s\tremaining: 11.3s\n",
      "990:\tlearn: 0.4599090\ttest: 0.4769185\ttest1: 0.4618648\tbest: 0.4622747 (960)\ttotal: 18m 35s\tremaining: 10.1s\n",
      "991:\tlearn: 0.4599339\ttest: 0.4769118\ttest1: 0.4619282\tbest: 0.4622747 (960)\ttotal: 18m 36s\tremaining: 9s\n",
      "992:\tlearn: 0.4599498\ttest: 0.4769753\ttest1: 0.4619000\tbest: 0.4622747 (960)\ttotal: 18m 37s\tremaining: 7.88s\n",
      "993:\tlearn: 0.4599656\ttest: 0.4770144\ttest1: 0.4619392\tbest: 0.4622747 (960)\ttotal: 18m 38s\tremaining: 6.75s\n",
      "994:\tlearn: 0.4599155\ttest: 0.4770012\ttest1: 0.4620171\tbest: 0.4622747 (960)\ttotal: 18m 39s\tremaining: 5.63s\n",
      "995:\tlearn: 0.4599507\ttest: 0.4770274\ttest1: 0.4620445\tbest: 0.4622747 (960)\ttotal: 18m 40s\tremaining: 4.5s\n",
      "996:\tlearn: 0.4599988\ttest: 0.4770518\ttest1: 0.4620636\tbest: 0.4622747 (960)\ttotal: 18m 41s\tremaining: 3.37s\n",
      "997:\tlearn: 0.4600399\ttest: 0.4731047\ttest1: 0.4618274\tbest: 0.4622747 (960)\ttotal: 18m 42s\tremaining: 2.25s\n",
      "998:\tlearn: 0.4600594\ttest: 0.4731236\ttest1: 0.4618736\tbest: 0.4622747 (960)\ttotal: 18m 43s\tremaining: 1.12s\n",
      "999:\tlearn: 0.4600480\ttest: 0.4731688\ttest1: 0.4618690\tbest: 0.4622747 (960)\ttotal: 18m 44s\tremaining: 0us\n",
      "\n",
      "bestTest = 0.4622746564\n",
      "bestIteration = 960\n",
      "\n",
      "Shrink model to first 961 iterations.\n"
     ]
    },
    {
     "data": {
      "text/plain": [
       "<catboost.core.CatBoostClassifier at 0x7fcd53b95850>"
      ]
     },
     "execution_count": 106,
     "metadata": {},
     "output_type": "execute_result"
    }
   ],
   "source": [
    "model12.fit(train.drop(\"rating\", axis=1), train[\"rating\"], \\\n",
    "            cat_features=[\"user_id\", \"book_id\", \"review_id\"], \\\n",
    "            eval_set=[(train.drop(\"rating\", axis=1), train[\"rating\"]), (val.drop(\"rating\", axis=1), val[\"rating\"])], \\\n",
    "            callbacks=[WandbCallback()])\n",
    "            "
   ]
  },
  {
   "cell_type": "code",
   "execution_count": 107,
   "metadata": {},
   "outputs": [],
   "source": [
    "log_summary(model12)"
   ]
  },
  {
   "cell_type": "code",
   "execution_count": 108,
   "metadata": {},
   "outputs": [
    {
     "data": {
      "text/html": [
       "Waiting for W&B process to finish... <strong style=\"color:green\">(success).</strong>"
      ],
      "text/plain": [
       "<IPython.core.display.HTML object>"
      ]
     },
     "metadata": {},
     "output_type": "display_data"
    },
    {
     "data": {
      "text/html": [
       "<style>\n",
       "    table.wandb td:nth-child(1) { padding: 0 10px; text-align: left ; width: auto;} td:nth-child(2) {text-align: left ; width: 100%}\n",
       "    .wandb-row { display: flex; flex-direction: row; flex-wrap: wrap; justify-content: flex-start; width: 100% }\n",
       "    .wandb-col { display: flex; flex-direction: column; flex-basis: 100%; flex: 1; padding: 10px; }\n",
       "    </style>\n",
       "<div class=\"wandb-row\"><div class=\"wandb-col\"><h3>Run history:</h3><br/><table class=\"wandb\"><tr><td>iteration@metric-period-1</td><td>▁▁▁▂▂▂▂▂▂▃▃▃▃▃▄▄▄▄▄▄▅▅▅▅▅▅▆▆▆▆▆▇▇▇▇▇▇███</td></tr><tr><td>learn-MultiClass</td><td>█▄▃▃▃▃▂▂▂▂▂▂▂▂▂▂▂▂▂▂▂▂▂▂▁▁▁▁▁▁▁▁▁▁▁▁▁▁▁▁</td></tr><tr><td>learn-TotalF1</td><td>▁▃▄▅▅▅▅▆▆▆▆▆▆▆▆▆▇▇▇▇▇▇▇▇▇▇▇▇▇▇▇█████████</td></tr><tr><td>validation_0-MultiClass</td><td>█▄▃▃▃▃▂▂▂▂▂▂▂▂▂▂▁▁▁▁▁▁▁▁▁▁▁▁▁▂▂▂▂▂▂▂▂▂▂▂</td></tr><tr><td>validation_0-TotalF1</td><td>▁▃▄▄▅▅▆▆▆▆▆▆▇▇▇▇▇▇▇▇▇███████▇▆▆▆▆▆▅▅▅▅▅▅</td></tr><tr><td>validation_1-MultiClass</td><td>█▃▃▂▂▂▂▂▂▂▂▂▁▁▁▁▁▁▁▁▁▁▁▁▁▁▁▁▁▁▁▁▁▁▁▁▁▁▁▁</td></tr><tr><td>validation_1-TotalF1</td><td>▁▃▅▅▆▆▆▆▆▇▇▇▇▇▇▇▇▇▇▇████████████████████</td></tr></table><br/></div><div class=\"wandb-col\"><h3>Run summary:</h3><br/><table class=\"wandb\"><tr><td>best_iteration</td><td>960</td></tr><tr><td>iteration@metric-period-1</td><td>1000</td></tr><tr><td>learn-MultiClass</td><td>1.19807</td></tr><tr><td>learn-TotalF1</td><td>0.46005</td></tr><tr><td>validation_0-MultiClass</td><td>1.14918</td></tr><tr><td>validation_0-TotalF1</td><td>0.47317</td></tr><tr><td>validation_1-MultiClass</td><td>1.19301</td></tr><tr><td>validation_1-TotalF1</td><td>0.46187</td></tr></table><br/></div></div>"
      ],
      "text/plain": [
       "<IPython.core.display.HTML object>"
      ]
     },
     "metadata": {},
     "output_type": "display_data"
    },
    {
     "data": {
      "text/html": [
       " View run <strong style=\"color:#cdcd00\">rosy-valley-86</strong> at: <a href='https://wandb.ai/d-a-pop/Goodreads%20Books%20Reviews/runs/mxwo2e65' target=\"_blank\">https://wandb.ai/d-a-pop/Goodreads%20Books%20Reviews/runs/mxwo2e65</a><br/>Synced 6 W&B file(s), 1 media file(s), 1 artifact file(s) and 0 other file(s)"
      ],
      "text/plain": [
       "<IPython.core.display.HTML object>"
      ]
     },
     "metadata": {},
     "output_type": "display_data"
    },
    {
     "data": {
      "text/html": [
       "Find logs at: <code>./wandb/run-20230401_183227-mxwo2e65/logs</code>"
      ],
      "text/plain": [
       "<IPython.core.display.HTML object>"
      ]
     },
     "metadata": {},
     "output_type": "display_data"
    }
   ],
   "source": [
    "run.finish()"
   ]
  },
  {
   "cell_type": "code",
   "execution_count": null,
   "metadata": {},
   "outputs": [],
   "source": []
  },
  {
   "cell_type": "code",
   "execution_count": null,
   "metadata": {},
   "outputs": [],
   "source": [
    "###### Submission"
   ]
  },
  {
   "cell_type": "code",
   "execution_count": 117,
   "metadata": {},
   "outputs": [],
   "source": [
    "t = test.reindex(sorted(train.columns), axis=1).drop(\"rating\", axis=1)"
   ]
  },
  {
   "cell_type": "code",
   "execution_count": 118,
   "metadata": {},
   "outputs": [
    {
     "data": {
      "text/html": [
       "<div>\n",
       "<style scoped>\n",
       "    .dataframe tbody tr th:only-of-type {\n",
       "        vertical-align: middle;\n",
       "    }\n",
       "\n",
       "    .dataframe tbody tr th {\n",
       "        vertical-align: top;\n",
       "    }\n",
       "\n",
       "    .dataframe thead th {\n",
       "        text-align: right;\n",
       "    }\n",
       "</style>\n",
       "<table border=\"1\" class=\"dataframe\">\n",
       "  <thead>\n",
       "    <tr style=\"text-align: right;\">\n",
       "      <th></th>\n",
       "      <th>added_at_read</th>\n",
       "      <th>added_at_start</th>\n",
       "      <th>book_id</th>\n",
       "      <th>dayofweek_added</th>\n",
       "      <th>dayofweek_read_at</th>\n",
       "      <th>dayofweek_updated</th>\n",
       "      <th>duration_added_at_read</th>\n",
       "      <th>duration_added_at_start</th>\n",
       "      <th>duration_updated_at_read</th>\n",
       "      <th>hour_added</th>\n",
       "      <th>...</th>\n",
       "      <th>review_id</th>\n",
       "      <th>review_length</th>\n",
       "      <th>spoiler</th>\n",
       "      <th>update_duration</th>\n",
       "      <th>updated</th>\n",
       "      <th>updated_at_read</th>\n",
       "      <th>user_id</th>\n",
       "      <th>year_added</th>\n",
       "      <th>year_read_at</th>\n",
       "      <th>year_updated</th>\n",
       "    </tr>\n",
       "  </thead>\n",
       "  <tbody>\n",
       "    <tr>\n",
       "      <th>0</th>\n",
       "      <td>0</td>\n",
       "      <td>0</td>\n",
       "      <td>7092507</td>\n",
       "      <td>5</td>\n",
       "      <td>6</td>\n",
       "      <td>6</td>\n",
       "      <td>84743.0</td>\n",
       "      <td>-21973.0</td>\n",
       "      <td>0.0</td>\n",
       "      <td>6</td>\n",
       "      <td>...</td>\n",
       "      <td>5c4df7e70e9b438c761f07a4620ccb7c</td>\n",
       "      <td>290</td>\n",
       "      <td>1</td>\n",
       "      <td>84743.0</td>\n",
       "      <td>0</td>\n",
       "      <td>1</td>\n",
       "      <td>b9450d1c1f97f891c392b1105959b56e</td>\n",
       "      <td>2012</td>\n",
       "      <td>2012</td>\n",
       "      <td>2012</td>\n",
       "    </tr>\n",
       "    <tr>\n",
       "      <th>1</th>\n",
       "      <td>0</td>\n",
       "      <td>0</td>\n",
       "      <td>5576654</td>\n",
       "      <td>4</td>\n",
       "      <td>5</td>\n",
       "      <td>5</td>\n",
       "      <td>27993.0</td>\n",
       "      <td>-78916.0</td>\n",
       "      <td>0.0</td>\n",
       "      <td>21</td>\n",
       "      <td>...</td>\n",
       "      <td>8eaeaf13213eeb16ad879a2a2591bbe5</td>\n",
       "      <td>352</td>\n",
       "      <td>1</td>\n",
       "      <td>27993.0</td>\n",
       "      <td>0</td>\n",
       "      <td>1</td>\n",
       "      <td>b9450d1c1f97f891c392b1105959b56e</td>\n",
       "      <td>2012</td>\n",
       "      <td>2012</td>\n",
       "      <td>2012</td>\n",
       "    </tr>\n",
       "    <tr>\n",
       "      <th>2</th>\n",
       "      <td>0</td>\n",
       "      <td>0</td>\n",
       "      <td>15754052</td>\n",
       "      <td>4</td>\n",
       "      <td>5</td>\n",
       "      <td>5</td>\n",
       "      <td>107300.0</td>\n",
       "      <td>-1550.0</td>\n",
       "      <td>0.0</td>\n",
       "      <td>0</td>\n",
       "      <td>...</td>\n",
       "      <td>dce649b733c153ba5363a0413cac988f</td>\n",
       "      <td>74</td>\n",
       "      <td>0</td>\n",
       "      <td>107300.0</td>\n",
       "      <td>0</td>\n",
       "      <td>1</td>\n",
       "      <td>b9450d1c1f97f891c392b1105959b56e</td>\n",
       "      <td>2012</td>\n",
       "      <td>2012</td>\n",
       "      <td>2012</td>\n",
       "    </tr>\n",
       "    <tr>\n",
       "      <th>3</th>\n",
       "      <td>0</td>\n",
       "      <td>0</td>\n",
       "      <td>17020</td>\n",
       "      <td>3</td>\n",
       "      <td>5</td>\n",
       "      <td>5</td>\n",
       "      <td>212803.0</td>\n",
       "      <td>-1719.0</td>\n",
       "      <td>0.0</td>\n",
       "      <td>0</td>\n",
       "      <td>...</td>\n",
       "      <td>8a46df0bb997269d6834f9437a4b0a77</td>\n",
       "      <td>246</td>\n",
       "      <td>1</td>\n",
       "      <td>212803.0</td>\n",
       "      <td>0</td>\n",
       "      <td>1</td>\n",
       "      <td>b9450d1c1f97f891c392b1105959b56e</td>\n",
       "      <td>2012</td>\n",
       "      <td>2012</td>\n",
       "      <td>2012</td>\n",
       "    </tr>\n",
       "    <tr>\n",
       "      <th>4</th>\n",
       "      <td>0</td>\n",
       "      <td>0</td>\n",
       "      <td>12551082</td>\n",
       "      <td>3</td>\n",
       "      <td>5</td>\n",
       "      <td>0</td>\n",
       "      <td>14079780.0</td>\n",
       "      <td>13993380.0</td>\n",
       "      <td>-255651.0</td>\n",
       "      <td>0</td>\n",
       "      <td>...</td>\n",
       "      <td>d11d3091e22f1cf3cb865598de197599</td>\n",
       "      <td>515</td>\n",
       "      <td>0</td>\n",
       "      <td>14335431.0</td>\n",
       "      <td>0</td>\n",
       "      <td>0</td>\n",
       "      <td>b9450d1c1f97f891c392b1105959b56e</td>\n",
       "      <td>2012</td>\n",
       "      <td>2013</td>\n",
       "      <td>2013</td>\n",
       "    </tr>\n",
       "    <tr>\n",
       "      <th>...</th>\n",
       "      <td>...</td>\n",
       "      <td>...</td>\n",
       "      <td>...</td>\n",
       "      <td>...</td>\n",
       "      <td>...</td>\n",
       "      <td>...</td>\n",
       "      <td>...</td>\n",
       "      <td>...</td>\n",
       "      <td>...</td>\n",
       "      <td>...</td>\n",
       "      <td>...</td>\n",
       "      <td>...</td>\n",
       "      <td>...</td>\n",
       "      <td>...</td>\n",
       "      <td>...</td>\n",
       "      <td>...</td>\n",
       "      <td>...</td>\n",
       "      <td>...</td>\n",
       "      <td>...</td>\n",
       "      <td>...</td>\n",
       "      <td>...</td>\n",
       "    </tr>\n",
       "    <tr>\n",
       "      <th>478028</th>\n",
       "      <td>0</td>\n",
       "      <td>0</td>\n",
       "      <td>15745950</td>\n",
       "      <td>6</td>\n",
       "      <td>1</td>\n",
       "      <td>1</td>\n",
       "      <td>21908028.0</td>\n",
       "      <td>107447628.0</td>\n",
       "      <td>-62640.0</td>\n",
       "      <td>10</td>\n",
       "      <td>...</td>\n",
       "      <td>0e1db3d4b04256f9660f5d276ddf1314</td>\n",
       "      <td>11</td>\n",
       "      <td>0</td>\n",
       "      <td>21970668.0</td>\n",
       "      <td>0</td>\n",
       "      <td>0</td>\n",
       "      <td>35cef391b171b4fca45771e508028212</td>\n",
       "      <td>2012</td>\n",
       "      <td>2013</td>\n",
       "      <td>2013</td>\n",
       "    </tr>\n",
       "    <tr>\n",
       "      <th>478029</th>\n",
       "      <td>1</td>\n",
       "      <td>0</td>\n",
       "      <td>10861195</td>\n",
       "      <td>1</td>\n",
       "      <td>1</td>\n",
       "      <td>4</td>\n",
       "      <td>0.0</td>\n",
       "      <td>109646940.0</td>\n",
       "      <td>-14765691.0</td>\n",
       "      <td>23</td>\n",
       "      <td>...</td>\n",
       "      <td>0b7f352e58caf0fd1f961e98ef04e89c</td>\n",
       "      <td>14</td>\n",
       "      <td>0</td>\n",
       "      <td>14765691.0</td>\n",
       "      <td>0</td>\n",
       "      <td>0</td>\n",
       "      <td>35cef391b171b4fca45771e508028212</td>\n",
       "      <td>2012</td>\n",
       "      <td>2012</td>\n",
       "      <td>2012</td>\n",
       "    </tr>\n",
       "    <tr>\n",
       "      <th>478030</th>\n",
       "      <td>0</td>\n",
       "      <td>0</td>\n",
       "      <td>6131164</td>\n",
       "      <td>1</td>\n",
       "      <td>1</td>\n",
       "      <td>0</td>\n",
       "      <td>21701683.0</td>\n",
       "      <td>109660483.0</td>\n",
       "      <td>-585711.0</td>\n",
       "      <td>19</td>\n",
       "      <td>...</td>\n",
       "      <td>9b19eff33ddb14e9e68fca2e90379e46</td>\n",
       "      <td>106</td>\n",
       "      <td>0</td>\n",
       "      <td>22287394.0</td>\n",
       "      <td>0</td>\n",
       "      <td>0</td>\n",
       "      <td>35cef391b171b4fca45771e508028212</td>\n",
       "      <td>2012</td>\n",
       "      <td>2013</td>\n",
       "      <td>2013</td>\n",
       "    </tr>\n",
       "    <tr>\n",
       "      <th>478031</th>\n",
       "      <td>0</td>\n",
       "      <td>0</td>\n",
       "      <td>10025305</td>\n",
       "      <td>3</td>\n",
       "      <td>0</td>\n",
       "      <td>3</td>\n",
       "      <td>16609230.0</td>\n",
       "      <td>110094030.0</td>\n",
       "      <td>-923094.0</td>\n",
       "      <td>19</td>\n",
       "      <td>...</td>\n",
       "      <td>8be463fed78f0da63e964706f710332b</td>\n",
       "      <td>225</td>\n",
       "      <td>0</td>\n",
       "      <td>17532324.0</td>\n",
       "      <td>0</td>\n",
       "      <td>0</td>\n",
       "      <td>35cef391b171b4fca45771e508028212</td>\n",
       "      <td>2012</td>\n",
       "      <td>2013</td>\n",
       "      <td>2013</td>\n",
       "    </tr>\n",
       "    <tr>\n",
       "      <th>478032</th>\n",
       "      <td>1</td>\n",
       "      <td>0</td>\n",
       "      <td>6482837</td>\n",
       "      <td>0</td>\n",
       "      <td>0</td>\n",
       "      <td>5</td>\n",
       "      <td>0.0</td>\n",
       "      <td>112776814.0</td>\n",
       "      <td>-17973690.0</td>\n",
       "      <td>18</td>\n",
       "      <td>...</td>\n",
       "      <td>62ed1263c7d216986cc419cd4e8a408b</td>\n",
       "      <td>924</td>\n",
       "      <td>0</td>\n",
       "      <td>17973690.0</td>\n",
       "      <td>0</td>\n",
       "      <td>0</td>\n",
       "      <td>35cef391b171b4fca45771e508028212</td>\n",
       "      <td>2012</td>\n",
       "      <td>2012</td>\n",
       "      <td>2012</td>\n",
       "    </tr>\n",
       "  </tbody>\n",
       "</table>\n",
       "<p>478033 rows × 29 columns</p>\n",
       "</div>"
      ],
      "text/plain": [
       "        added_at_read  added_at_start   book_id  dayofweek_added  \\\n",
       "0                   0               0   7092507                5   \n",
       "1                   0               0   5576654                4   \n",
       "2                   0               0  15754052                4   \n",
       "3                   0               0     17020                3   \n",
       "4                   0               0  12551082                3   \n",
       "...               ...             ...       ...              ...   \n",
       "478028              0               0  15745950                6   \n",
       "478029              1               0  10861195                1   \n",
       "478030              0               0   6131164                1   \n",
       "478031              0               0  10025305                3   \n",
       "478032              1               0   6482837                0   \n",
       "\n",
       "        dayofweek_read_at  dayofweek_updated  duration_added_at_read  \\\n",
       "0                       6                  6                 84743.0   \n",
       "1                       5                  5                 27993.0   \n",
       "2                       5                  5                107300.0   \n",
       "3                       5                  5                212803.0   \n",
       "4                       5                  0              14079780.0   \n",
       "...                   ...                ...                     ...   \n",
       "478028                  1                  1              21908028.0   \n",
       "478029                  1                  4                     0.0   \n",
       "478030                  1                  0              21701683.0   \n",
       "478031                  0                  3              16609230.0   \n",
       "478032                  0                  5                     0.0   \n",
       "\n",
       "        duration_added_at_start  duration_updated_at_read  hour_added  ...  \\\n",
       "0                      -21973.0                       0.0           6  ...   \n",
       "1                      -78916.0                       0.0          21  ...   \n",
       "2                       -1550.0                       0.0           0  ...   \n",
       "3                       -1719.0                       0.0           0  ...   \n",
       "4                    13993380.0                 -255651.0           0  ...   \n",
       "...                         ...                       ...         ...  ...   \n",
       "478028              107447628.0                  -62640.0          10  ...   \n",
       "478029              109646940.0               -14765691.0          23  ...   \n",
       "478030              109660483.0                 -585711.0          19  ...   \n",
       "478031              110094030.0                 -923094.0          19  ...   \n",
       "478032              112776814.0               -17973690.0          18  ...   \n",
       "\n",
       "                               review_id  review_length  spoiler  \\\n",
       "0       5c4df7e70e9b438c761f07a4620ccb7c            290        1   \n",
       "1       8eaeaf13213eeb16ad879a2a2591bbe5            352        1   \n",
       "2       dce649b733c153ba5363a0413cac988f             74        0   \n",
       "3       8a46df0bb997269d6834f9437a4b0a77            246        1   \n",
       "4       d11d3091e22f1cf3cb865598de197599            515        0   \n",
       "...                                  ...            ...      ...   \n",
       "478028  0e1db3d4b04256f9660f5d276ddf1314             11        0   \n",
       "478029  0b7f352e58caf0fd1f961e98ef04e89c             14        0   \n",
       "478030  9b19eff33ddb14e9e68fca2e90379e46            106        0   \n",
       "478031  8be463fed78f0da63e964706f710332b            225        0   \n",
       "478032  62ed1263c7d216986cc419cd4e8a408b            924        0   \n",
       "\n",
       "        update_duration  updated  updated_at_read  \\\n",
       "0               84743.0        0                1   \n",
       "1               27993.0        0                1   \n",
       "2              107300.0        0                1   \n",
       "3              212803.0        0                1   \n",
       "4            14335431.0        0                0   \n",
       "...                 ...      ...              ...   \n",
       "478028       21970668.0        0                0   \n",
       "478029       14765691.0        0                0   \n",
       "478030       22287394.0        0                0   \n",
       "478031       17532324.0        0                0   \n",
       "478032       17973690.0        0                0   \n",
       "\n",
       "                                 user_id  year_added  year_read_at  \\\n",
       "0       b9450d1c1f97f891c392b1105959b56e        2012          2012   \n",
       "1       b9450d1c1f97f891c392b1105959b56e        2012          2012   \n",
       "2       b9450d1c1f97f891c392b1105959b56e        2012          2012   \n",
       "3       b9450d1c1f97f891c392b1105959b56e        2012          2012   \n",
       "4       b9450d1c1f97f891c392b1105959b56e        2012          2013   \n",
       "...                                  ...         ...           ...   \n",
       "478028  35cef391b171b4fca45771e508028212        2012          2013   \n",
       "478029  35cef391b171b4fca45771e508028212        2012          2012   \n",
       "478030  35cef391b171b4fca45771e508028212        2012          2013   \n",
       "478031  35cef391b171b4fca45771e508028212        2012          2013   \n",
       "478032  35cef391b171b4fca45771e508028212        2012          2012   \n",
       "\n",
       "       year_updated  \n",
       "0              2012  \n",
       "1              2012  \n",
       "2              2012  \n",
       "3              2012  \n",
       "4              2013  \n",
       "...             ...  \n",
       "478028         2013  \n",
       "478029         2012  \n",
       "478030         2013  \n",
       "478031         2013  \n",
       "478032         2012  \n",
       "\n",
       "[478033 rows x 29 columns]"
      ]
     },
     "execution_count": 118,
     "metadata": {},
     "output_type": "execute_result"
    }
   ],
   "source": [
    "t"
   ]
  },
  {
   "cell_type": "code",
   "execution_count": 120,
   "metadata": {
    "scrolled": true
   },
   "outputs": [],
   "source": [
    "ypred12 = model12.predict_proba(t)"
   ]
  },
  {
   "cell_type": "code",
   "execution_count": 121,
   "metadata": {},
   "outputs": [
    {
     "data": {
      "text/plain": [
       "478033"
      ]
     },
     "execution_count": 121,
     "metadata": {},
     "output_type": "execute_result"
    }
   ],
   "source": [
    "s = pd.Series(np.argmax(ypred12, axis=1))\n",
    "len(s)"
   ]
  },
  {
   "cell_type": "code",
   "execution_count": 124,
   "metadata": {},
   "outputs": [
    {
     "data": {
      "text/html": [
       "<div>\n",
       "<style scoped>\n",
       "    .dataframe tbody tr th:only-of-type {\n",
       "        vertical-align: middle;\n",
       "    }\n",
       "\n",
       "    .dataframe tbody tr th {\n",
       "        vertical-align: top;\n",
       "    }\n",
       "\n",
       "    .dataframe thead th {\n",
       "        text-align: right;\n",
       "    }\n",
       "</style>\n",
       "<table border=\"1\" class=\"dataframe\">\n",
       "  <thead>\n",
       "    <tr style=\"text-align: right;\">\n",
       "      <th></th>\n",
       "      <th>review_id</th>\n",
       "      <th>rating</th>\n",
       "    </tr>\n",
       "  </thead>\n",
       "  <tbody>\n",
       "    <tr>\n",
       "      <th>0</th>\n",
       "      <td>5c4df7e70e9b438c761f07a4620ccb7c</td>\n",
       "      <td>4</td>\n",
       "    </tr>\n",
       "    <tr>\n",
       "      <th>1</th>\n",
       "      <td>8eaeaf13213eeb16ad879a2a2591bbe5</td>\n",
       "      <td>4</td>\n",
       "    </tr>\n",
       "    <tr>\n",
       "      <th>2</th>\n",
       "      <td>dce649b733c153ba5363a0413cac988f</td>\n",
       "      <td>4</td>\n",
       "    </tr>\n",
       "    <tr>\n",
       "      <th>3</th>\n",
       "      <td>8a46df0bb997269d6834f9437a4b0a77</td>\n",
       "      <td>4</td>\n",
       "    </tr>\n",
       "    <tr>\n",
       "      <th>4</th>\n",
       "      <td>d11d3091e22f1cf3cb865598de197599</td>\n",
       "      <td>4</td>\n",
       "    </tr>\n",
       "    <tr>\n",
       "      <th>...</th>\n",
       "      <td>...</td>\n",
       "      <td>...</td>\n",
       "    </tr>\n",
       "    <tr>\n",
       "      <th>478028</th>\n",
       "      <td>0e1db3d4b04256f9660f5d276ddf1314</td>\n",
       "      <td>5</td>\n",
       "    </tr>\n",
       "    <tr>\n",
       "      <th>478029</th>\n",
       "      <td>0b7f352e58caf0fd1f961e98ef04e89c</td>\n",
       "      <td>0</td>\n",
       "    </tr>\n",
       "    <tr>\n",
       "      <th>478030</th>\n",
       "      <td>9b19eff33ddb14e9e68fca2e90379e46</td>\n",
       "      <td>5</td>\n",
       "    </tr>\n",
       "    <tr>\n",
       "      <th>478031</th>\n",
       "      <td>8be463fed78f0da63e964706f710332b</td>\n",
       "      <td>5</td>\n",
       "    </tr>\n",
       "    <tr>\n",
       "      <th>478032</th>\n",
       "      <td>62ed1263c7d216986cc419cd4e8a408b</td>\n",
       "      <td>5</td>\n",
       "    </tr>\n",
       "  </tbody>\n",
       "</table>\n",
       "<p>478033 rows × 2 columns</p>\n",
       "</div>"
      ],
      "text/plain": [
       "                               review_id  rating\n",
       "0       5c4df7e70e9b438c761f07a4620ccb7c       4\n",
       "1       8eaeaf13213eeb16ad879a2a2591bbe5       4\n",
       "2       dce649b733c153ba5363a0413cac988f       4\n",
       "3       8a46df0bb997269d6834f9437a4b0a77       4\n",
       "4       d11d3091e22f1cf3cb865598de197599       4\n",
       "...                                  ...     ...\n",
       "478028  0e1db3d4b04256f9660f5d276ddf1314       5\n",
       "478029  0b7f352e58caf0fd1f961e98ef04e89c       0\n",
       "478030  9b19eff33ddb14e9e68fca2e90379e46       5\n",
       "478031  8be463fed78f0da63e964706f710332b       5\n",
       "478032  62ed1263c7d216986cc419cd4e8a408b       5\n",
       "\n",
       "[478033 rows x 2 columns]"
      ]
     },
     "execution_count": 124,
     "metadata": {},
     "output_type": "execute_result"
    }
   ],
   "source": [
    "submission = pd.concat([r,s],axis=1).rename(columns={0: \"rating\"})\n",
    "submission"
   ]
  },
  {
   "cell_type": "code",
   "execution_count": 127,
   "metadata": {},
   "outputs": [
    {
     "data": {
      "text/plain": [
       "<matplotlib.axes._subplots.AxesSubplot at 0x7fcd54e75b50>"
      ]
     },
     "execution_count": 127,
     "metadata": {},
     "output_type": "execute_result"
    },
    {
     "data": {
      "image/png": "[encoded data removed]",
      "text/plain": [
       "<Figure size 432x288 with 1 Axes>"
      ]
     },
     "metadata": {
      "needs_background": "light"
     },
     "output_type": "display_data"
    }
   ],
   "source": [
    "submission[\"rating\"].hist(bins=6)"
   ]
  },
  {
   "cell_type": "code",
   "execution_count": 128,
   "metadata": {},
   "outputs": [],
   "source": [
    "submission.to_csv(\"sub11.csv\", index=False)"
   ]
  },
  {
   "cell_type": "code",
   "execution_count": null,
   "metadata": {},
   "outputs": [],
   "source": []
  }
 ],
 "metadata": {
  "kernelspec": {
   "display_name": "Python 3",
   "language": "python",
   "name": "python3"
  },
  "language_info": {
   "codemirror_mode": {
    "name": "ipython",
    "version": 3
   },
   "file_extension": ".py",
   "mimetype": "text/x-python",
   "name": "python",
   "nbconvert_exporter": "python",
   "pygments_lexer": "ipython3",
   "version": "3.8.3"
  }
 },
 "nbformat": 4,
 "nbformat_minor": 4
}

{
 "cells": [
  {
   "cell_type": "code",
   "execution_count": 1,
   "metadata": {},
   "outputs": [],
   "source": [
    "import wandb\n",
    "import pandas as pd\n",
    "import lightgbm as lgb\n",
    "import numpy as np\n",
    "from sklearn.metrics import f1_score\n",
    "from wandb.lightgbm import wandb_callback, log_summary"
   ]
  },
  {
   "cell_type": "code",
   "execution_count": 2,
   "metadata": {},
   "outputs": [
    {
     "name": "stderr",
     "output_type": "stream",
     "text": [
      "\u001b[34m\u001b[1mwandb\u001b[0m: Currently logged in as: \u001b[33md-a-pop\u001b[0m (\u001b[33mmidigpt\u001b[0m). Use \u001b[1m`wandb login --relogin`\u001b[0m to force relogin\n"
     ]
    },
    {
     "data": {
      "text/plain": [
       "True"
      ]
     },
     "execution_count": 2,
     "metadata": {},
     "output_type": "execute_result"
    }
   ],
   "source": [
    "wandb.login()"
   ]
  },
  {
   "cell_type": "markdown",
   "metadata": {},
   "source": [
    "## Default model (part of the data)"
   ]
  },
  {
   "cell_type": "code",
   "execution_count": 8,
   "metadata": {},
   "outputs": [],
   "source": [
    "train = pd.read_csv(\"train.csv\")\n",
    "val = pd.read_csv(\"val.csv\")"
   ]
  },
  {
   "cell_type": "code",
   "execution_count": 4,
   "metadata": {},
   "outputs": [],
   "source": [
    "train = train.drop(\"user_id\", axis=1)\n",
    "train = train.drop(\"book_id\", axis=1)\n",
    "train = train.drop(\"review_id\", axis=1)\n",
    "train = train.drop(\"review_text\", axis=1)"
   ]
  },
  {
   "cell_type": "code",
   "execution_count": 5,
   "metadata": {},
   "outputs": [],
   "source": [
    "val = val.drop(\"user_id\", axis=1)\n",
    "val = val.drop(\"book_id\", axis=1)\n",
    "val = val.drop(\"review_id\", axis=1)\n",
    "val = val.drop(\"review_text\", axis=1)"
   ]
  },
  {
   "cell_type": "code",
   "execution_count": 4,
   "metadata": {},
   "outputs": [],
   "source": [
    "model1 = lgb.LGBMClassifier()"
   ]
  },
  {
   "cell_type": "code",
   "execution_count": 7,
   "metadata": {},
   "outputs": [
    {
     "name": "stderr",
     "output_type": "stream",
     "text": [
      "\u001b[34m\u001b[1mwandb\u001b[0m: Currently logged in as: \u001b[33md-a-pop\u001b[0m. Use \u001b[1m`wandb login --relogin`\u001b[0m to force relogin\n"
     ]
    },
    {
     "data": {
      "text/html": [
       "Tracking run with wandb version 0.14.0"
      ],
      "text/plain": [
       "<IPython.core.display.HTML object>"
      ]
     },
     "metadata": {},
     "output_type": "display_data"
    },
    {
     "data": {
      "text/html": [
       "Run data is saved locally in <code>/Users/dragos/Downloads/wandb/run-20230329_182553-ly92cej7</code>"
      ],
      "text/plain": [
       "<IPython.core.display.HTML object>"
      ]
     },
     "metadata": {},
     "output_type": "display_data"
    },
    {
     "data": {
      "text/html": [
       "Syncing run <strong><a href='https://wandb.ai/d-a-pop/Goodreads%20Books%20Reviews/runs/ly92cej7' target=\"_blank\">apricot-lake-10</a></strong> to <a href='https://wandb.ai/d-a-pop/Goodreads%20Books%20Reviews' target=\"_blank\">Weights & Biases</a> (<a href='https://wandb.me/run' target=\"_blank\">docs</a>)<br/>"
      ],
      "text/plain": [
       "<IPython.core.display.HTML object>"
      ]
     },
     "metadata": {},
     "output_type": "display_data"
    },
    {
     "data": {
      "text/html": [
       " View project at <a href='https://wandb.ai/d-a-pop/Goodreads%20Books%20Reviews' target=\"_blank\">https://wandb.ai/d-a-pop/Goodreads%20Books%20Reviews</a>"
      ],
      "text/plain": [
       "<IPython.core.display.HTML object>"
      ]
     },
     "metadata": {},
     "output_type": "display_data"
    },
    {
     "data": {
      "text/html": [
       " View run at <a href='https://wandb.ai/d-a-pop/Goodreads%20Books%20Reviews/runs/ly92cej7' target=\"_blank\">https://wandb.ai/d-a-pop/Goodreads%20Books%20Reviews/runs/ly92cej7</a>"
      ],
      "text/plain": [
       "<IPython.core.display.HTML object>"
      ]
     },
     "metadata": {},
     "output_type": "display_data"
    }
   ],
   "source": [
    "run = wandb.init(project=\"Goodreads Books Reviews\", entity=\"d-a-pop\", job_type=\"training\")"
   ]
  },
  {
   "cell_type": "code",
   "execution_count": 12,
   "metadata": {},
   "outputs": [
    {
     "name": "stdout",
     "output_type": "stream",
     "text": [
      "CPU times: user 1min 38s, sys: 4.61 s, total: 1min 43s\n",
      "Wall time: 38 s\n"
     ]
    }
   ],
   "source": [
    "%%time\n",
    "gbm = model1.fit(train.drop(\"rating\", axis=1), train[\"rating\"], callbacks=[wandb_callback()]);"
   ]
  },
  {
   "cell_type": "code",
   "execution_count": 13,
   "metadata": {},
   "outputs": [],
   "source": [
    "ypred1_ = model1.predict_proba(val.drop(\"rating\", axis=1))"
   ]
  },
  {
   "cell_type": "code",
   "execution_count": 14,
   "metadata": {},
   "outputs": [],
   "source": [
    "ypred1 = np.argmax(ypred1_, axis=1)"
   ]
  },
  {
   "cell_type": "code",
   "execution_count": 32,
   "metadata": {},
   "outputs": [
    {
     "name": "stdout",
     "output_type": "stream",
     "text": [
      "0.20336674414680866\n"
     ]
    }
   ],
   "source": [
    "f1 = f1_score(val['rating'], ypred1, average='macro')"
   ]
  },
  {
   "cell_type": "code",
   "execution_count": 33,
   "metadata": {},
   "outputs": [
    {
     "name": "stdout",
     "output_type": "stream",
     "text": [
      "0.20336674414680866\n"
     ]
    }
   ],
   "source": [
    "print(f1)"
   ]
  },
  {
   "cell_type": "code",
   "execution_count": 16,
   "metadata": {},
   "outputs": [],
   "source": [
    "wandb.log({\"F1 Score\": f1})"
   ]
  },
  {
   "cell_type": "code",
   "execution_count": 9,
   "metadata": {},
   "outputs": [
    {
     "data": {
      "text/plain": [
       "array([4., 4., 4., ..., 4., 4., 4.])"
      ]
     },
     "execution_count": 9,
     "metadata": {},
     "output_type": "execute_result"
    }
   ],
   "source": [
    "np.ones(len(val))*4"
   ]
  },
  {
   "cell_type": "code",
   "execution_count": 21,
   "metadata": {},
   "outputs": [],
   "source": [
    "log_summary(gbm.booster_)"
   ]
  },
  {
   "cell_type": "code",
   "execution_count": 22,
   "metadata": {
    "scrolled": false
   },
   "outputs": [
    {
     "data": {
      "text/html": [
       "Waiting for W&B process to finish... <strong style=\"color:green\">(success).</strong>"
      ],
      "text/plain": [
       "<IPython.core.display.HTML object>"
      ]
     },
     "metadata": {},
     "output_type": "display_data"
    },
    {
     "data": {
      "text/html": [
       "<style>\n",
       "    table.wandb td:nth-child(1) { padding: 0 10px; text-align: left ; width: auto;} td:nth-child(2) {text-align: left ; width: 100%}\n",
       "    .wandb-row { display: flex; flex-direction: row; flex-wrap: wrap; justify-content: flex-start; width: 100% }\n",
       "    .wandb-col { display: flex; flex-direction: column; flex-basis: 100%; flex: 1; padding: 10px; }\n",
       "    </style>\n",
       "<div class=\"wandb-row\"><div class=\"wandb-col\"><h3>Run history:</h3><br/><table class=\"wandb\"><tr><td>F1 Score</td><td>▁</td></tr><tr><td>iteration</td><td>▁▁▂▂▂▃▃▃▄▄▅▅▅▆▆▆▇▇▇█▁▁▂▂▂▃▃▄▄▄▅▅▅▆▆▆▇▇██</td></tr></table><br/></div><div class=\"wandb-col\"><h3>Run summary:</h3><br/><table class=\"wandb\"><tr><td>F1 Score</td><td>0.20337</td></tr><tr><td>best_iteration</td><td>0</td></tr><tr><td>iteration</td><td>99</td></tr></table><br/></div></div>"
      ],
      "text/plain": [
       "<IPython.core.display.HTML object>"
      ]
     },
     "metadata": {},
     "output_type": "display_data"
    },
    {
     "data": {
      "text/html": [
       " View run <strong style=\"color:#cdcd00\">apricot-lake-10</strong> at: <a href='https://wandb.ai/d-a-pop/Goodreads%20Books%20Reviews/runs/ly92cej7' target=\"_blank\">https://wandb.ai/d-a-pop/Goodreads%20Books%20Reviews/runs/ly92cej7</a><br/>Synced 6 W&B file(s), 1 media file(s), 1 artifact file(s) and 0 other file(s)"
      ],
      "text/plain": [
       "<IPython.core.display.HTML object>"
      ]
     },
     "metadata": {},
     "output_type": "display_data"
    },
    {
     "data": {
      "text/html": [
       "Find logs at: <code>./wandb/run-20230329_182553-ly92cej7/logs</code>"
      ],
      "text/plain": [
       "<IPython.core.display.HTML object>"
      ]
     },
     "metadata": {},
     "output_type": "display_data"
    }
   ],
   "source": [
    "run.finish()"
   ]
  },
  {
   "cell_type": "markdown",
   "metadata": {},
   "source": [
    "## Default model (whole data, except review text)"
   ]
  },
  {
   "cell_type": "code",
   "execution_count": 3,
   "metadata": {},
   "outputs": [],
   "source": [
    "train = pd.read_csv(\"train.csv\")\n",
    "val = pd.read_csv(\"val.csv\")"
   ]
  },
  {
   "cell_type": "code",
   "execution_count": 4,
   "metadata": {},
   "outputs": [],
   "source": [
    "train['user_id'] = train['user_id'].astype(\"category\")\n",
    "train['review_id'] = train['review_id'].astype(\"category\")\n",
    "train['book_id'] = train['book_id'].astype(\"category\")\n",
    "train = train.drop(\"review_text\", axis=1)"
   ]
  },
  {
   "cell_type": "code",
   "execution_count": 5,
   "metadata": {},
   "outputs": [],
   "source": [
    "val['user_id'] = val['user_id'].astype(\"category\")\n",
    "val['review_id'] = val['review_id'].astype(\"category\")\n",
    "val['book_id'] = val['book_id'].astype(\"category\")\n",
    "val = val.drop(\"review_text\", axis=1)"
   ]
  },
  {
   "cell_type": "code",
   "execution_count": 6,
   "metadata": {},
   "outputs": [],
   "source": [
    "model2 = lgb.LGBMClassifier()"
   ]
  },
  {
   "cell_type": "code",
   "execution_count": 8,
   "metadata": {},
   "outputs": [],
   "source": [
    "train_config = model2.get_params()"
   ]
  },
  {
   "cell_type": "code",
   "execution_count": 9,
   "metadata": {
    "scrolled": true
   },
   "outputs": [
    {
     "name": "stderr",
     "output_type": "stream",
     "text": [
      "\u001b[34m\u001b[1mwandb\u001b[0m: Currently logged in as: \u001b[33md-a-pop\u001b[0m. Use \u001b[1m`wandb login --relogin`\u001b[0m to force relogin\n"
     ]
    },
    {
     "data": {
      "text/html": [
       "Tracking run with wandb version 0.14.0"
      ],
      "text/plain": [
       "<IPython.core.display.HTML object>"
      ]
     },
     "metadata": {},
     "output_type": "display_data"
    },
    {
     "data": {
      "text/html": [
       "Run data is saved locally in <code>/Users/dragos/Downloads/wandb/run-20230330_095622-8gzn0n2i</code>"
      ],
      "text/plain": [
       "<IPython.core.display.HTML object>"
      ]
     },
     "metadata": {},
     "output_type": "display_data"
    },
    {
     "data": {
      "text/html": [
       "Syncing run <strong><a href='https://wandb.ai/d-a-pop/Goodreads%20Books%20Reviews/runs/8gzn0n2i' target=\"_blank\">devout-thunder-18</a></strong> to <a href='https://wandb.ai/d-a-pop/Goodreads%20Books%20Reviews' target=\"_blank\">Weights & Biases</a> (<a href='https://wandb.me/run' target=\"_blank\">docs</a>)<br/>"
      ],
      "text/plain": [
       "<IPython.core.display.HTML object>"
      ]
     },
     "metadata": {},
     "output_type": "display_data"
    },
    {
     "data": {
      "text/html": [
       " View project at <a href='https://wandb.ai/d-a-pop/Goodreads%20Books%20Reviews' target=\"_blank\">https://wandb.ai/d-a-pop/Goodreads%20Books%20Reviews</a>"
      ],
      "text/plain": [
       "<IPython.core.display.HTML object>"
      ]
     },
     "metadata": {},
     "output_type": "display_data"
    },
    {
     "data": {
      "text/html": [
       " View run at <a href='https://wandb.ai/d-a-pop/Goodreads%20Books%20Reviews/runs/8gzn0n2i' target=\"_blank\">https://wandb.ai/d-a-pop/Goodreads%20Books%20Reviews/runs/8gzn0n2i</a>"
      ],
      "text/plain": [
       "<IPython.core.display.HTML object>"
      ]
     },
     "metadata": {},
     "output_type": "display_data"
    }
   ],
   "source": [
    "run = wandb.init(project=\"Goodreads Books Reviews\", entity=\"d-a-pop\", job_type=\"training\", config=train_config)"
   ]
  },
  {
   "cell_type": "code",
   "execution_count": 10,
   "metadata": {},
   "outputs": [],
   "source": [
    "def evaluate_macroF1_lgb(truth, predictions):  \n",
    "    # this follows the discussion in https://github.com/Microsoft/LightGBM/issues/1483\n",
    "    pred_labels = predictions.reshape(len(np.unique(truth)),-1).argmax(axis=0)\n",
    "    f1 = f1_score(truth, pred_labels, average='macro')\n",
    "    return ('macroF1', f1, True) "
   ]
  },
  {
   "cell_type": "code",
   "execution_count": 11,
   "metadata": {
    "scrolled": true
   },
   "outputs": [
    {
     "name": "stderr",
     "output_type": "stream",
     "text": [
      "/opt/anaconda3/lib/python3.8/site-packages/lightgbm/basic.py:1551: UserWarning: Using categorical_feature in Dataset.\n",
      "  warnings.warn('Using categorical_feature in Dataset.')\n",
      "/opt/anaconda3/lib/python3.8/site-packages/lightgbm/basic.py:1554: UserWarning: categorical_feature in Dataset is overridden.\n",
      "New categorical_feature is ['book_id', 'review_id', 'user_id']\n",
      "  warnings.warn('categorical_feature in Dataset is overridden.\\n'\n",
      "/opt/anaconda3/lib/python3.8/site-packages/lightgbm/basic.py:1286: UserWarning: Overriding the parameters from Reference Dataset.\n",
      "  warnings.warn('Overriding the parameters from Reference Dataset.')\n",
      "/opt/anaconda3/lib/python3.8/site-packages/lightgbm/basic.py:1098: UserWarning: categorical_column in param dict is overridden.\n",
      "  warnings.warn('{} in param dict is overridden.'.format(cat_alias))\n"
     ]
    },
    {
     "name": "stdout",
     "output_type": "stream",
     "text": [
      "[1]\ttraining's multi_logloss: 1.4407\ttraining's macroF1: 0.129422\tvalidation's multi_logloss: 1.44136\tvalidation's macroF1: 0.126793\n",
      "[2]\ttraining's multi_logloss: 1.41794\ttraining's macroF1: 0.166884\tvalidation's multi_logloss: 1.42109\tvalidation's macroF1: 0.160062\n",
      "[3]\ttraining's multi_logloss: 1.40037\ttraining's macroF1: 0.186772\tvalidation's multi_logloss: 1.40557\tvalidation's macroF1: 0.180787\n",
      "[4]\ttraining's multi_logloss: 1.38598\ttraining's macroF1: 0.211647\tvalidation's multi_logloss: 1.39335\tvalidation's macroF1: 0.20397\n",
      "[5]\ttraining's multi_logloss: 1.37343\ttraining's macroF1: 0.234087\tvalidation's multi_logloss: 1.38286\tvalidation's macroF1: 0.22555\n",
      "[6]\ttraining's multi_logloss: 1.36292\ttraining's macroF1: 0.249768\tvalidation's multi_logloss: 1.37423\tvalidation's macroF1: 0.240421\n",
      "[7]\ttraining's multi_logloss: 1.3535\ttraining's macroF1: 0.261333\tvalidation's multi_logloss: 1.36793\tvalidation's macroF1: 0.24707\n",
      "[8]\ttraining's multi_logloss: 1.34488\ttraining's macroF1: 0.270676\tvalidation's multi_logloss: 1.36109\tvalidation's macroF1: 0.255053\n",
      "[9]\ttraining's multi_logloss: 1.33731\ttraining's macroF1: 0.28152\tvalidation's multi_logloss: 1.3552\tvalidation's macroF1: 0.264449\n",
      "[10]\ttraining's multi_logloss: 1.33029\ttraining's macroF1: 0.288668\tvalidation's multi_logloss: 1.3511\tvalidation's macroF1: 0.269706\n",
      "[11]\ttraining's multi_logloss: 1.32345\ttraining's macroF1: 0.294937\tvalidation's multi_logloss: 1.34586\tvalidation's macroF1: 0.276445\n",
      "[12]\ttraining's multi_logloss: 1.31716\ttraining's macroF1: 0.30111\tvalidation's multi_logloss: 1.34117\tvalidation's macroF1: 0.280401\n",
      "[13]\ttraining's multi_logloss: 1.3115\ttraining's macroF1: 0.306934\tvalidation's multi_logloss: 1.33773\tvalidation's macroF1: 0.284999\n",
      "[14]\ttraining's multi_logloss: 1.30595\ttraining's macroF1: 0.312497\tvalidation's multi_logloss: 1.33394\tvalidation's macroF1: 0.290385\n",
      "[15]\ttraining's multi_logloss: 1.30053\ttraining's macroF1: 0.317998\tvalidation's multi_logloss: 1.33016\tvalidation's macroF1: 0.293697\n",
      "[16]\ttraining's multi_logloss: 1.29536\ttraining's macroF1: 0.32295\tvalidation's multi_logloss: 1.32674\tvalidation's macroF1: 0.298104\n",
      "[17]\ttraining's multi_logloss: 1.29025\ttraining's macroF1: 0.327473\tvalidation's multi_logloss: 1.32349\tvalidation's macroF1: 0.301411\n",
      "[18]\ttraining's multi_logloss: 1.28576\ttraining's macroF1: 0.332283\tvalidation's multi_logloss: 1.32067\tvalidation's macroF1: 0.304258\n",
      "[19]\ttraining's multi_logloss: 1.28137\ttraining's macroF1: 0.335588\tvalidation's multi_logloss: 1.31783\tvalidation's macroF1: 0.30631\n",
      "[20]\ttraining's multi_logloss: 1.27699\ttraining's macroF1: 0.339179\tvalidation's multi_logloss: 1.31509\tvalidation's macroF1: 0.308592\n",
      "[21]\ttraining's multi_logloss: 1.27284\ttraining's macroF1: 0.342718\tvalidation's multi_logloss: 1.31259\tvalidation's macroF1: 0.311191\n",
      "[22]\ttraining's multi_logloss: 1.26883\ttraining's macroF1: 0.346285\tvalidation's multi_logloss: 1.30986\tvalidation's macroF1: 0.313422\n",
      "[23]\ttraining's multi_logloss: 1.26508\ttraining's macroF1: 0.349524\tvalidation's multi_logloss: 1.30774\tvalidation's macroF1: 0.315142\n",
      "[24]\ttraining's multi_logloss: 1.26148\ttraining's macroF1: 0.35339\tvalidation's multi_logloss: 1.30557\tvalidation's macroF1: 0.318291\n",
      "[25]\ttraining's multi_logloss: 1.25788\ttraining's macroF1: 0.356182\tvalidation's multi_logloss: 1.30333\tvalidation's macroF1: 0.319863\n",
      "[26]\ttraining's multi_logloss: 1.25432\ttraining's macroF1: 0.359517\tvalidation's multi_logloss: 1.30131\tvalidation's macroF1: 0.322889\n",
      "[27]\ttraining's multi_logloss: 1.25103\ttraining's macroF1: 0.362149\tvalidation's multi_logloss: 1.29931\tvalidation's macroF1: 0.32485\n",
      "[28]\ttraining's multi_logloss: 1.24791\ttraining's macroF1: 0.365299\tvalidation's multi_logloss: 1.29759\tvalidation's macroF1: 0.326314\n",
      "[29]\ttraining's multi_logloss: 1.24451\ttraining's macroF1: 0.368276\tvalidation's multi_logloss: 1.2956\tvalidation's macroF1: 0.327882\n",
      "[30]\ttraining's multi_logloss: 1.24141\ttraining's macroF1: 0.371062\tvalidation's multi_logloss: 1.29369\tvalidation's macroF1: 0.329823\n",
      "[31]\ttraining's multi_logloss: 1.23838\ttraining's macroF1: 0.373831\tvalidation's multi_logloss: 1.29191\tvalidation's macroF1: 0.331324\n",
      "[32]\ttraining's multi_logloss: 1.23545\ttraining's macroF1: 0.376877\tvalidation's multi_logloss: 1.29047\tvalidation's macroF1: 0.332833\n",
      "[33]\ttraining's multi_logloss: 1.23249\ttraining's macroF1: 0.379289\tvalidation's multi_logloss: 1.28887\tvalidation's macroF1: 0.33461\n",
      "[34]\ttraining's multi_logloss: 1.22981\ttraining's macroF1: 0.381668\tvalidation's multi_logloss: 1.28726\tvalidation's macroF1: 0.336061\n",
      "[35]\ttraining's multi_logloss: 1.22721\ttraining's macroF1: 0.383949\tvalidation's multi_logloss: 1.28583\tvalidation's macroF1: 0.33757\n",
      "[36]\ttraining's multi_logloss: 1.2245\ttraining's macroF1: 0.386327\tvalidation's multi_logloss: 1.28449\tvalidation's macroF1: 0.338971\n",
      "[37]\ttraining's multi_logloss: 1.22193\ttraining's macroF1: 0.388454\tvalidation's multi_logloss: 1.28313\tvalidation's macroF1: 0.340178\n",
      "[38]\ttraining's multi_logloss: 1.2194\ttraining's macroF1: 0.391145\tvalidation's multi_logloss: 1.28192\tvalidation's macroF1: 0.341955\n",
      "[39]\ttraining's multi_logloss: 1.21696\ttraining's macroF1: 0.393227\tvalidation's multi_logloss: 1.28084\tvalidation's macroF1: 0.343261\n",
      "[40]\ttraining's multi_logloss: 1.21454\ttraining's macroF1: 0.395282\tvalidation's multi_logloss: 1.27961\tvalidation's macroF1: 0.344403\n",
      "[41]\ttraining's multi_logloss: 1.21211\ttraining's macroF1: 0.397536\tvalidation's multi_logloss: 1.27839\tvalidation's macroF1: 0.345498\n",
      "[42]\ttraining's multi_logloss: 1.20974\ttraining's macroF1: 0.39972\tvalidation's multi_logloss: 1.27702\tvalidation's macroF1: 0.346702\n",
      "[43]\ttraining's multi_logloss: 1.20748\ttraining's macroF1: 0.401924\tvalidation's multi_logloss: 1.27595\tvalidation's macroF1: 0.348032\n",
      "[44]\ttraining's multi_logloss: 1.20532\ttraining's macroF1: 0.403905\tvalidation's multi_logloss: 1.27504\tvalidation's macroF1: 0.349285\n",
      "[45]\ttraining's multi_logloss: 1.20334\ttraining's macroF1: 0.405582\tvalidation's multi_logloss: 1.27403\tvalidation's macroF1: 0.350199\n",
      "[46]\ttraining's multi_logloss: 1.2011\ttraining's macroF1: 0.407825\tvalidation's multi_logloss: 1.27302\tvalidation's macroF1: 0.351301\n",
      "[47]\ttraining's multi_logloss: 1.1989\ttraining's macroF1: 0.409696\tvalidation's multi_logloss: 1.27191\tvalidation's macroF1: 0.352146\n",
      "[48]\ttraining's multi_logloss: 1.19684\ttraining's macroF1: 0.411379\tvalidation's multi_logloss: 1.27094\tvalidation's macroF1: 0.352916\n",
      "[49]\ttraining's multi_logloss: 1.1948\ttraining's macroF1: 0.41317\tvalidation's multi_logloss: 1.26995\tvalidation's macroF1: 0.353288\n",
      "[50]\ttraining's multi_logloss: 1.19274\ttraining's macroF1: 0.415074\tvalidation's multi_logloss: 1.26902\tvalidation's macroF1: 0.353977\n",
      "[51]\ttraining's multi_logloss: 1.19082\ttraining's macroF1: 0.417113\tvalidation's multi_logloss: 1.26818\tvalidation's macroF1: 0.355282\n",
      "[52]\ttraining's multi_logloss: 1.1889\ttraining's macroF1: 0.418986\tvalidation's multi_logloss: 1.26748\tvalidation's macroF1: 0.355721\n",
      "[53]\ttraining's multi_logloss: 1.18697\ttraining's macroF1: 0.420572\tvalidation's multi_logloss: 1.26659\tvalidation's macroF1: 0.357577\n",
      "[54]\ttraining's multi_logloss: 1.18493\ttraining's macroF1: 0.422476\tvalidation's multi_logloss: 1.26572\tvalidation's macroF1: 0.358376\n",
      "[55]\ttraining's multi_logloss: 1.18316\ttraining's macroF1: 0.423978\tvalidation's multi_logloss: 1.26501\tvalidation's macroF1: 0.359863\n",
      "[56]\ttraining's multi_logloss: 1.18123\ttraining's macroF1: 0.425742\tvalidation's multi_logloss: 1.26419\tvalidation's macroF1: 0.360614\n",
      "[57]\ttraining's multi_logloss: 1.17949\ttraining's macroF1: 0.427229\tvalidation's multi_logloss: 1.26352\tvalidation's macroF1: 0.36061\n",
      "[58]\ttraining's multi_logloss: 1.17776\ttraining's macroF1: 0.42876\tvalidation's multi_logloss: 1.26272\tvalidation's macroF1: 0.361195\n",
      "[59]\ttraining's multi_logloss: 1.17602\ttraining's macroF1: 0.43016\tvalidation's multi_logloss: 1.26187\tvalidation's macroF1: 0.362691\n",
      "[60]\ttraining's multi_logloss: 1.17442\ttraining's macroF1: 0.431455\tvalidation's multi_logloss: 1.2612\tvalidation's macroF1: 0.363762\n",
      "[61]\ttraining's multi_logloss: 1.17293\ttraining's macroF1: 0.432778\tvalidation's multi_logloss: 1.26056\tvalidation's macroF1: 0.363964\n"
     ]
    },
    {
     "name": "stdout",
     "output_type": "stream",
     "text": [
      "[62]\ttraining's multi_logloss: 1.17137\ttraining's macroF1: 0.434073\tvalidation's multi_logloss: 1.25994\tvalidation's macroF1: 0.363896\n",
      "[63]\ttraining's multi_logloss: 1.16964\ttraining's macroF1: 0.435591\tvalidation's multi_logloss: 1.2592\tvalidation's macroF1: 0.364722\n",
      "[64]\ttraining's multi_logloss: 1.16808\ttraining's macroF1: 0.437168\tvalidation's multi_logloss: 1.25862\tvalidation's macroF1: 0.365087\n",
      "[65]\ttraining's multi_logloss: 1.16661\ttraining's macroF1: 0.438488\tvalidation's multi_logloss: 1.25797\tvalidation's macroF1: 0.36574\n",
      "[66]\ttraining's multi_logloss: 1.16508\ttraining's macroF1: 0.439951\tvalidation's multi_logloss: 1.25733\tvalidation's macroF1: 0.366222\n",
      "[67]\ttraining's multi_logloss: 1.16358\ttraining's macroF1: 0.441174\tvalidation's multi_logloss: 1.25682\tvalidation's macroF1: 0.366757\n",
      "[68]\ttraining's multi_logloss: 1.16187\ttraining's macroF1: 0.442912\tvalidation's multi_logloss: 1.25632\tvalidation's macroF1: 0.367173\n",
      "[69]\ttraining's multi_logloss: 1.16039\ttraining's macroF1: 0.44436\tvalidation's multi_logloss: 1.25575\tvalidation's macroF1: 0.368018\n",
      "[70]\ttraining's multi_logloss: 1.15881\ttraining's macroF1: 0.445667\tvalidation's multi_logloss: 1.25514\tvalidation's macroF1: 0.36906\n",
      "[71]\ttraining's multi_logloss: 1.15742\ttraining's macroF1: 0.446908\tvalidation's multi_logloss: 1.25459\tvalidation's macroF1: 0.369641\n",
      "[72]\ttraining's multi_logloss: 1.15599\ttraining's macroF1: 0.447923\tvalidation's multi_logloss: 1.25407\tvalidation's macroF1: 0.370323\n",
      "[73]\ttraining's multi_logloss: 1.15457\ttraining's macroF1: 0.449219\tvalidation's multi_logloss: 1.25354\tvalidation's macroF1: 0.370153\n",
      "[74]\ttraining's multi_logloss: 1.15312\ttraining's macroF1: 0.450656\tvalidation's multi_logloss: 1.25307\tvalidation's macroF1: 0.370927\n",
      "[75]\ttraining's multi_logloss: 1.15187\ttraining's macroF1: 0.451827\tvalidation's multi_logloss: 1.25257\tvalidation's macroF1: 0.371255\n",
      "[76]\ttraining's multi_logloss: 1.15035\ttraining's macroF1: 0.453149\tvalidation's multi_logloss: 1.25201\tvalidation's macroF1: 0.371806\n",
      "[77]\ttraining's multi_logloss: 1.1491\ttraining's macroF1: 0.454113\tvalidation's multi_logloss: 1.2516\tvalidation's macroF1: 0.372092\n",
      "[78]\ttraining's multi_logloss: 1.1476\ttraining's macroF1: 0.45512\tvalidation's multi_logloss: 1.25101\tvalidation's macroF1: 0.372717\n",
      "[79]\ttraining's multi_logloss: 1.14629\ttraining's macroF1: 0.456142\tvalidation's multi_logloss: 1.25062\tvalidation's macroF1: 0.373376\n",
      "[80]\ttraining's multi_logloss: 1.14485\ttraining's macroF1: 0.457602\tvalidation's multi_logloss: 1.25012\tvalidation's macroF1: 0.373876\n",
      "[81]\ttraining's multi_logloss: 1.14342\ttraining's macroF1: 0.458906\tvalidation's multi_logloss: 1.24958\tvalidation's macroF1: 0.373845\n",
      "[82]\ttraining's multi_logloss: 1.14213\ttraining's macroF1: 0.460099\tvalidation's multi_logloss: 1.24919\tvalidation's macroF1: 0.374079\n",
      "[83]\ttraining's multi_logloss: 1.1409\ttraining's macroF1: 0.461079\tvalidation's multi_logloss: 1.24882\tvalidation's macroF1: 0.37397\n",
      "[84]\ttraining's multi_logloss: 1.13941\ttraining's macroF1: 0.462532\tvalidation's multi_logloss: 1.24828\tvalidation's macroF1: 0.375078\n",
      "[85]\ttraining's multi_logloss: 1.13814\ttraining's macroF1: 0.46359\tvalidation's multi_logloss: 1.24773\tvalidation's macroF1: 0.375392\n",
      "[86]\ttraining's multi_logloss: 1.13693\ttraining's macroF1: 0.464442\tvalidation's multi_logloss: 1.24737\tvalidation's macroF1: 0.375687\n",
      "[87]\ttraining's multi_logloss: 1.13567\ttraining's macroF1: 0.465409\tvalidation's multi_logloss: 1.2469\tvalidation's macroF1: 0.37641\n",
      "[88]\ttraining's multi_logloss: 1.13449\ttraining's macroF1: 0.466196\tvalidation's multi_logloss: 1.24645\tvalidation's macroF1: 0.377277\n",
      "[89]\ttraining's multi_logloss: 1.13334\ttraining's macroF1: 0.467242\tvalidation's multi_logloss: 1.24611\tvalidation's macroF1: 0.377474\n",
      "[90]\ttraining's multi_logloss: 1.13222\ttraining's macroF1: 0.468138\tvalidation's multi_logloss: 1.2457\tvalidation's macroF1: 0.377831\n",
      "[91]\ttraining's multi_logloss: 1.13107\ttraining's macroF1: 0.469015\tvalidation's multi_logloss: 1.24537\tvalidation's macroF1: 0.377816\n",
      "[92]\ttraining's multi_logloss: 1.12971\ttraining's macroF1: 0.470196\tvalidation's multi_logloss: 1.245\tvalidation's macroF1: 0.378465\n",
      "[93]\ttraining's multi_logloss: 1.12857\ttraining's macroF1: 0.471319\tvalidation's multi_logloss: 1.24464\tvalidation's macroF1: 0.378613\n",
      "[94]\ttraining's multi_logloss: 1.12749\ttraining's macroF1: 0.472135\tvalidation's multi_logloss: 1.24427\tvalidation's macroF1: 0.37852\n",
      "[95]\ttraining's multi_logloss: 1.12629\ttraining's macroF1: 0.473055\tvalidation's multi_logloss: 1.24393\tvalidation's macroF1: 0.378851\n",
      "[96]\ttraining's multi_logloss: 1.12492\ttraining's macroF1: 0.474395\tvalidation's multi_logloss: 1.24361\tvalidation's macroF1: 0.378936\n",
      "[97]\ttraining's multi_logloss: 1.12386\ttraining's macroF1: 0.475091\tvalidation's multi_logloss: 1.24339\tvalidation's macroF1: 0.379093\n",
      "[98]\ttraining's multi_logloss: 1.12282\ttraining's macroF1: 0.476117\tvalidation's multi_logloss: 1.24301\tvalidation's macroF1: 0.379677\n",
      "[99]\ttraining's multi_logloss: 1.12164\ttraining's macroF1: 0.477046\tvalidation's multi_logloss: 1.24262\tvalidation's macroF1: 0.380194\n",
      "[100]\ttraining's multi_logloss: 1.12061\ttraining's macroF1: 0.477827\tvalidation's multi_logloss: 1.24233\tvalidation's macroF1: 0.380279\n",
      "CPU times: user 12min 4s, sys: 17.1 s, total: 12min 21s\n",
      "Wall time: 4min 18s\n"
     ]
    }
   ],
   "source": [
    "%%time\n",
    "gbm = model2.fit(train.drop(\"rating\", axis=1), train[\"rating\"], callbacks=[wandb_callback()], \\\n",
    "                 categorical_feature=[\"user_id\", \"book_id\", \"review_id\"], eval_metric=evaluate_macroF1_lgb, \\\n",
    "                 eval_set=[(train.drop(\"rating\", axis=1), train[\"rating\"]), (val.drop(\"rating\", axis=1), val[\"rating\"])], \\\n",
    "                 eval_names=[\"training\", \"validation\"]);"
   ]
  },
  {
   "cell_type": "code",
   "execution_count": 12,
   "metadata": {},
   "outputs": [
    {
     "name": "stdout",
     "output_type": "stream",
     "text": [
      "Naïve F1 Score: 0.08608398236287963\n"
     ]
    }
   ],
   "source": [
    "# naive f1 score (setting all predictions to 4)\n",
    "print(\"Naïve F1 Score:\", f1_score(val['rating'], np.ones(len(val))*4, average=\"macro\"))"
   ]
  },
  {
   "cell_type": "code",
   "execution_count": 18,
   "metadata": {},
   "outputs": [],
   "source": [
    "ypred2_ = model2.predict_proba(val.drop(\"rating\", axis=1))\n",
    "ypred2 = np.argmax(ypred2_, axis=1)"
   ]
  },
  {
   "cell_type": "code",
   "execution_count": 22,
   "metadata": {},
   "outputs": [
    {
     "name": "stderr",
     "output_type": "stream",
     "text": [
      "<ipython-input-22-6d16ff3950be>:2: SettingWithCopyWarning: \n",
      "A value is trying to be set on a copy of a slice from a DataFrame.\n",
      "Try using .loc[row_indexer,col_indexer] = value instead\n",
      "\n",
      "See the caveats in the documentation: https://pandas.pydata.org/pandas-docs/stable/user_guide/indexing.html#returning-a-view-versus-a-copy\n",
      "  predictions[\"pred\"] = ypred2\n"
     ]
    }
   ],
   "source": [
    "predictions = val[[\"review_id\", \"rating\"]]\n",
    "predictions[\"pred\"] = ypred2"
   ]
  },
  {
   "cell_type": "code",
   "execution_count": 25,
   "metadata": {},
   "outputs": [],
   "source": [
    "table = wandb.Table(dataframe=predictions)"
   ]
  },
  {
   "cell_type": "code",
   "execution_count": 26,
   "metadata": {},
   "outputs": [],
   "source": [
    "wandb.log({\"pred_table\":table})"
   ]
  },
  {
   "cell_type": "code",
   "execution_count": 27,
   "metadata": {},
   "outputs": [
    {
     "name": "stdout",
     "output_type": "stream",
     "text": [
      "0.38027863377250165\n"
     ]
    }
   ],
   "source": [
    "f1 = f1_score(val['rating'], ypred2, average='macro')\n",
    "print(f1)"
   ]
  },
  {
   "cell_type": "code",
   "execution_count": 28,
   "metadata": {},
   "outputs": [
    {
     "name": "stderr",
     "output_type": "stream",
     "text": [
      "<ipython-input-28-87689b9263ca>:1: UserWarning: More than one metric available, picking one to plot.\n",
      "  lgb.plot_metric(model2, grid=True, figsize=(12, 8));\n"
     ]
    },
    {
     "data": {
      "image/png": "[encoded data removed]",
      "text/plain": [
       "<Figure size 864x576 with 1 Axes>"
      ]
     },
     "metadata": {
      "needs_background": "light"
     },
     "output_type": "display_data"
    }
   ],
   "source": [
    "lgb.plot_metric(model2, grid=True, figsize=(12, 8));"
   ]
  },
  {
   "cell_type": "code",
   "execution_count": 29,
   "metadata": {},
   "outputs": [],
   "source": [
    "log_summary(gbm.booster_)"
   ]
  },
  {
   "cell_type": "code",
   "execution_count": 30,
   "metadata": {
    "scrolled": false
   },
   "outputs": [
    {
     "data": {
      "text/html": [
       "Waiting for W&B process to finish... <strong style=\"color:green\">(success).</strong>"
      ],
      "text/plain": [
       "<IPython.core.display.HTML object>"
      ]
     },
     "metadata": {},
     "output_type": "display_data"
    },
    {
     "data": {
      "application/vnd.jupyter.widget-view+json": {
       "model_id": "b74881ab00004a15848a4d68884b13f9",
       "version_major": 2,
       "version_minor": 0
      },
      "text/plain": [
       "VBox(children=(Label(value='4.199 MB of 4.199 MB uploaded (0.000 MB deduped)\\r'), FloatProgress(value=1.0, max…"
      ]
     },
     "metadata": {},
     "output_type": "display_data"
    },
    {
     "data": {
      "text/html": [
       "<style>\n",
       "    table.wandb td:nth-child(1) { padding: 0 10px; text-align: left ; width: auto;} td:nth-child(2) {text-align: left ; width: 100%}\n",
       "    .wandb-row { display: flex; flex-direction: row; flex-wrap: wrap; justify-content: flex-start; width: 100% }\n",
       "    .wandb-col { display: flex; flex-direction: column; flex-basis: 100%; flex: 1; padding: 10px; }\n",
       "    </style>\n",
       "<div class=\"wandb-row\"><div class=\"wandb-col\"><h3>Run history:</h3><br/><table class=\"wandb\"><tr><td>iteration</td><td>▁▁▁▁▂▂▂▂▂▃▃▃▃▃▃▄▄▄▄▄▅▅▅▅▅▅▆▆▆▆▆▇▇▇▇▇▇███</td></tr><tr><td>training_macroF1</td><td>▁▂▃▄▄▅▅▅▅▅▆▆▆▆▆▆▆▇▇▇▇▇▇▇▇▇▇▇▇▇██████████</td></tr><tr><td>training_multi_logloss</td><td>█▇▆▆▅▅▅▅▄▄▄▄▄▃▃▃▃▃▃▃▃▂▂▂▂▂▂▂▂▂▂▂▁▁▁▁▁▁▁▁</td></tr><tr><td>validation_macroF1</td><td>▁▂▄▅▅▅▆▆▆▆▆▇▇▇▇▇▇▇▇▇▇▇▇█████████████████</td></tr><tr><td>validation_multi_logloss</td><td>█▇▆▅▅▄▄▄▃▃▃▃▃▃▂▂▂▂▂▂▂▂▂▂▂▂▂▁▁▁▁▁▁▁▁▁▁▁▁▁</td></tr></table><br/></div><div class=\"wandb-col\"><h3>Run summary:</h3><br/><table class=\"wandb\"><tr><td>best_iteration</td><td>0</td></tr><tr><td>iteration</td><td>99</td></tr><tr><td>training_macroF1</td><td>0.47783</td></tr><tr><td>validation_macroF1</td><td>0.38028</td></tr></table><br/></div></div>"
      ],
      "text/plain": [
       "<IPython.core.display.HTML object>"
      ]
     },
     "metadata": {},
     "output_type": "display_data"
    },
    {
     "data": {
      "text/html": [
       " View run <strong style=\"color:#cdcd00\">devout-thunder-18</strong> at: <a href='https://wandb.ai/d-a-pop/Goodreads%20Books%20Reviews/runs/8gzn0n2i' target=\"_blank\">https://wandb.ai/d-a-pop/Goodreads%20Books%20Reviews/runs/8gzn0n2i</a><br/>Synced 6 W&B file(s), 2 media file(s), 2 artifact file(s) and 0 other file(s)"
      ],
      "text/plain": [
       "<IPython.core.display.HTML object>"
      ]
     },
     "metadata": {},
     "output_type": "display_data"
    },
    {
     "data": {
      "text/html": [
       "Find logs at: <code>./wandb/run-20230330_095622-8gzn0n2i/logs</code>"
      ],
      "text/plain": [
       "<IPython.core.display.HTML object>"
      ]
     },
     "metadata": {},
     "output_type": "display_data"
    }
   ],
   "source": [
    "run.finish()"
   ]
  },
  {
   "cell_type": "code",
   "execution_count": null,
   "metadata": {},
   "outputs": [],
   "source": []
  },
  {
   "cell_type": "markdown",
   "metadata": {},
   "source": [
    "## Submission"
   ]
  },
  {
   "cell_type": "code",
   "execution_count": 36,
   "metadata": {},
   "outputs": [],
   "source": [
    "test = pd.read_csv(\"test.csv\")"
   ]
  },
  {
   "cell_type": "code",
   "execution_count": 37,
   "metadata": {},
   "outputs": [],
   "source": [
    "r = test[\"review_id\"]"
   ]
  },
  {
   "cell_type": "code",
   "execution_count": 39,
   "metadata": {},
   "outputs": [],
   "source": [
    "test['user_id'] = test['user_id'].astype(\"category\")\n",
    "test['review_id'] = test['review_id'].astype(\"category\")\n",
    "test['book_id'] = test['book_id'].astype(\"category\")\n",
    "test = test.drop(\"review_text\", axis=1)"
   ]
  },
  {
   "cell_type": "code",
   "execution_count": 40,
   "metadata": {},
   "outputs": [],
   "source": [
    "p = model2.predict_proba(test)\n",
    "s = pd.Series(np.argmax(p, axis=1))"
   ]
  },
  {
   "cell_type": "code",
   "execution_count": 41,
   "metadata": {},
   "outputs": [
    {
     "data": {
      "text/plain": [
       "478033"
      ]
     },
     "execution_count": 41,
     "metadata": {},
     "output_type": "execute_result"
    }
   ],
   "source": [
    "len(s)"
   ]
  },
  {
   "cell_type": "code",
   "execution_count": 42,
   "metadata": {},
   "outputs": [
    {
     "data": {
      "text/plain": [
       "478033"
      ]
     },
     "execution_count": 42,
     "metadata": {},
     "output_type": "execute_result"
    }
   ],
   "source": [
    "len(test)"
   ]
  },
  {
   "cell_type": "code",
   "execution_count": 43,
   "metadata": {},
   "outputs": [],
   "source": [
    "submission = pd.concat([r,s],axis=1).rename(columns={0: \"rating\"})"
   ]
  },
  {
   "cell_type": "code",
   "execution_count": 44,
   "metadata": {},
   "outputs": [
    {
     "data": {
      "text/html": [
       "<div>\n",
       "<style scoped>\n",
       "    .dataframe tbody tr th:only-of-type {\n",
       "        vertical-align: middle;\n",
       "    }\n",
       "\n",
       "    .dataframe tbody tr th {\n",
       "        vertical-align: top;\n",
       "    }\n",
       "\n",
       "    .dataframe thead th {\n",
       "        text-align: right;\n",
       "    }\n",
       "</style>\n",
       "<table border=\"1\" class=\"dataframe\">\n",
       "  <thead>\n",
       "    <tr style=\"text-align: right;\">\n",
       "      <th></th>\n",
       "      <th>review_id</th>\n",
       "      <th>rating</th>\n",
       "    </tr>\n",
       "  </thead>\n",
       "  <tbody>\n",
       "    <tr>\n",
       "      <th>0</th>\n",
       "      <td>5c4df7e70e9b438c761f07a4620ccb7c</td>\n",
       "      <td>4</td>\n",
       "    </tr>\n",
       "    <tr>\n",
       "      <th>1</th>\n",
       "      <td>8eaeaf13213eeb16ad879a2a2591bbe5</td>\n",
       "      <td>3</td>\n",
       "    </tr>\n",
       "    <tr>\n",
       "      <th>2</th>\n",
       "      <td>dce649b733c153ba5363a0413cac988f</td>\n",
       "      <td>4</td>\n",
       "    </tr>\n",
       "    <tr>\n",
       "      <th>3</th>\n",
       "      <td>8a46df0bb997269d6834f9437a4b0a77</td>\n",
       "      <td>4</td>\n",
       "    </tr>\n",
       "    <tr>\n",
       "      <th>4</th>\n",
       "      <td>d11d3091e22f1cf3cb865598de197599</td>\n",
       "      <td>3</td>\n",
       "    </tr>\n",
       "    <tr>\n",
       "      <th>...</th>\n",
       "      <td>...</td>\n",
       "      <td>...</td>\n",
       "    </tr>\n",
       "    <tr>\n",
       "      <th>478028</th>\n",
       "      <td>0e1db3d4b04256f9660f5d276ddf1314</td>\n",
       "      <td>5</td>\n",
       "    </tr>\n",
       "    <tr>\n",
       "      <th>478029</th>\n",
       "      <td>0b7f352e58caf0fd1f961e98ef04e89c</td>\n",
       "      <td>0</td>\n",
       "    </tr>\n",
       "    <tr>\n",
       "      <th>478030</th>\n",
       "      <td>9b19eff33ddb14e9e68fca2e90379e46</td>\n",
       "      <td>5</td>\n",
       "    </tr>\n",
       "    <tr>\n",
       "      <th>478031</th>\n",
       "      <td>8be463fed78f0da63e964706f710332b</td>\n",
       "      <td>5</td>\n",
       "    </tr>\n",
       "    <tr>\n",
       "      <th>478032</th>\n",
       "      <td>62ed1263c7d216986cc419cd4e8a408b</td>\n",
       "      <td>4</td>\n",
       "    </tr>\n",
       "  </tbody>\n",
       "</table>\n",
       "<p>478033 rows × 2 columns</p>\n",
       "</div>"
      ],
      "text/plain": [
       "                               review_id  rating\n",
       "0       5c4df7e70e9b438c761f07a4620ccb7c       4\n",
       "1       8eaeaf13213eeb16ad879a2a2591bbe5       3\n",
       "2       dce649b733c153ba5363a0413cac988f       4\n",
       "3       8a46df0bb997269d6834f9437a4b0a77       4\n",
       "4       d11d3091e22f1cf3cb865598de197599       3\n",
       "...                                  ...     ...\n",
       "478028  0e1db3d4b04256f9660f5d276ddf1314       5\n",
       "478029  0b7f352e58caf0fd1f961e98ef04e89c       0\n",
       "478030  9b19eff33ddb14e9e68fca2e90379e46       5\n",
       "478031  8be463fed78f0da63e964706f710332b       5\n",
       "478032  62ed1263c7d216986cc419cd4e8a408b       4\n",
       "\n",
       "[478033 rows x 2 columns]"
      ]
     },
     "execution_count": 44,
     "metadata": {},
     "output_type": "execute_result"
    }
   ],
   "source": [
    "submission"
   ]
  },
  {
   "cell_type": "code",
   "execution_count": 45,
   "metadata": {},
   "outputs": [],
   "source": [
    "submission.to_csv(\"sub3.csv\", index=False)"
   ]
  },
  {
   "cell_type": "code",
   "execution_count": null,
   "metadata": {},
   "outputs": [],
   "source": []
  }
 ],
 "metadata": {
  "kernelspec": {
   "display_name": "Python 3",
   "language": "python",
   "name": "python3"
  },
  "language_info": {
   "codemirror_mode": {
    "name": "ipython",
    "version": 3
   },
   "file_extension": ".py",
   "mimetype": "text/x-python",
   "name": "python",
   "nbconvert_exporter": "python",
   "pygments_lexer": "ipython3",
   "version": "3.8.3"
  }
 },
 "nbformat": 4,
 "nbformat_minor": 4
}

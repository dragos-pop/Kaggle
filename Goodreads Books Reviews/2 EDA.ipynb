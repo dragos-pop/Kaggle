{
 "cells": [
  {
   "cell_type": "markdown",
   "id": "bb0981e2",
   "metadata": {},
   "source": [
    "# 2 EDA "
   ]
  },
  {
   "cell_type": "code",
   "execution_count": 53,
   "id": "369a336d",
   "metadata": {},
   "outputs": [],
   "source": [
    "import pandas as pd\n",
    "import matplotlib.pyplot as plt\n",
    "import datetime\n",
    "import wandb\n",
    "from sklearn.model_selection import train_test_split\n",
    "import seaborn as sns"
   ]
  },
  {
   "cell_type": "code",
   "execution_count": 2,
   "id": "a6e5401d",
   "metadata": {},
   "outputs": [
    {
     "name": "stderr",
     "output_type": "stream",
     "text": [
      "\u001b[34m\u001b[1mwandb\u001b[0m: Currently logged in as: \u001b[33md-a-pop\u001b[0m (\u001b[33mmidigpt\u001b[0m). Use \u001b[1m`wandb login --relogin`\u001b[0m to force relogin\n"
     ]
    },
    {
     "data": {
      "text/plain": [
       "True"
      ]
     },
     "execution_count": 2,
     "metadata": {},
     "output_type": "execute_result"
    }
   ],
   "source": [
    "wandb.login()"
   ]
  },
  {
   "cell_type": "code",
   "execution_count": 3,
   "id": "a2a2fee6",
   "metadata": {},
   "outputs": [],
   "source": [
    "PROJECT_NAME = \"Goodreads Books Reviews\"\n",
    "ENTITY = 'd-a-pop'"
   ]
  },
  {
   "cell_type": "code",
   "execution_count": 4,
   "id": "7994e25c",
   "metadata": {},
   "outputs": [
    {
     "name": "stderr",
     "output_type": "stream",
     "text": [
      "\u001b[34m\u001b[1mwandb\u001b[0m: Currently logged in as: \u001b[33md-a-pop\u001b[0m. Use \u001b[1m`wandb login --relogin`\u001b[0m to force relogin\n"
     ]
    },
    {
     "data": {
      "text/html": [
       "Tracking run with wandb version 0.14.0"
      ],
      "text/plain": [
       "<IPython.core.display.HTML object>"
      ]
     },
     "metadata": {},
     "output_type": "display_data"
    },
    {
     "data": {
      "text/html": [
       "Run data is saved locally in <code>/Users/dragos/Downloads/wandb/run-20230324_132308-ceropkuv</code>"
      ],
      "text/plain": [
       "<IPython.core.display.HTML object>"
      ]
     },
     "metadata": {},
     "output_type": "display_data"
    },
    {
     "data": {
      "text/html": [
       "Syncing run <strong><a href='https://wandb.ai/d-a-pop/Goodreads%20Books%20Reviews/runs/ceropkuv' target=\"_blank\">azure-wind-3</a></strong> to <a href='https://wandb.ai/d-a-pop/Goodreads%20Books%20Reviews' target=\"_blank\">Weights & Biases</a> (<a href='https://wandb.me/run' target=\"_blank\">docs</a>)<br/>"
      ],
      "text/plain": [
       "<IPython.core.display.HTML object>"
      ]
     },
     "metadata": {},
     "output_type": "display_data"
    },
    {
     "data": {
      "text/html": [
       " View project at <a href='https://wandb.ai/d-a-pop/Goodreads%20Books%20Reviews' target=\"_blank\">https://wandb.ai/d-a-pop/Goodreads%20Books%20Reviews</a>"
      ],
      "text/plain": [
       "<IPython.core.display.HTML object>"
      ]
     },
     "metadata": {},
     "output_type": "display_data"
    },
    {
     "data": {
      "text/html": [
       " View run at <a href='https://wandb.ai/d-a-pop/Goodreads%20Books%20Reviews/runs/ceropkuv' target=\"_blank\">https://wandb.ai/d-a-pop/Goodreads%20Books%20Reviews/runs/ceropkuv</a>"
      ],
      "text/plain": [
       "<IPython.core.display.HTML object>"
      ]
     },
     "metadata": {},
     "output_type": "display_data"
    }
   ],
   "source": [
    "run = wandb.init(project=PROJECT_NAME, entity=ENTITY, job_type=\"upload\")"
   ]
  },
  {
   "cell_type": "code",
   "execution_count": 5,
   "id": "4911dff4",
   "metadata": {},
   "outputs": [],
   "source": [
    "artifact = wandb.Artifact(\"Raw_data\", type=\"dataset\")"
   ]
  },
  {
   "cell_type": "code",
   "execution_count": 6,
   "id": "c5b3a031",
   "metadata": {},
   "outputs": [
    {
     "data": {
      "text/plain": [
       "ArtifactManifestEntry(path='goodreads_test.csv', digest='H0Z7vWxn0ToxdY80EVFXrA==', ref=None, birth_artifact_id=None, size=607466089, extra={}, local_path='/Users/dragos/Library/Application Support/wandb/artifacts/staging/tmpkek125lg')"
      ]
     },
     "execution_count": 6,
     "metadata": {},
     "output_type": "execute_result"
    }
   ],
   "source": [
    "artifact.add_file('goodreads_train.csv')\n",
    "artifact.add_file('goodreads_test.csv')"
   ]
  },
  {
   "cell_type": "code",
   "execution_count": 4,
   "id": "261f1f92",
   "metadata": {},
   "outputs": [],
   "source": [
    "train = pd.read_csv(\"goodreads_train.csv\")\n",
    "test = pd.read_csv(\"goodreads_test.csv\")"
   ]
  },
  {
   "cell_type": "code",
   "execution_count": 8,
   "id": "a7ad866c",
   "metadata": {},
   "outputs": [],
   "source": [
    "table_train = wandb.Table(dataframe=train)\n",
    "table_test = wandb.Table(dataframe=test)"
   ]
  },
  {
   "cell_type": "code",
   "execution_count": 9,
   "id": "76feafa3",
   "metadata": {},
   "outputs": [
    {
     "name": "stderr",
     "output_type": "stream",
     "text": [
      "WARNING:root:Truncating wandb.Table object to 200000 rows.\n",
      "WARNING:root:Truncating wandb.Table object to 200000 rows.\n"
     ]
    },
    {
     "data": {
      "text/plain": [
       "ArtifactManifestEntry(path='table_test.table.json', digest='fKmTrHVrFaMp6szo1uAvow==', ref=None, birth_artifact_id=None, size=260928072, extra={}, local_path='/Users/dragos/Library/Application Support/wandb/artifacts/staging/tmphenewkaj')"
      ]
     },
     "execution_count": 9,
     "metadata": {},
     "output_type": "execute_result"
    }
   ],
   "source": [
    "artifact.add(table_train, \"table_train\")\n",
    "artifact.add(table_test, \"table_test\")"
   ]
  },
  {
   "cell_type": "code",
   "execution_count": 10,
   "id": "a7121bb1",
   "metadata": {},
   "outputs": [
    {
     "data": {
      "text/html": [
       "Waiting for W&B process to finish... <strong style=\"color:green\">(success).</strong>"
      ],
      "text/plain": [
       "<IPython.core.display.HTML object>"
      ]
     },
     "metadata": {},
     "output_type": "display_data"
    },
    {
     "data": {
      "text/html": [
       " View run <strong style=\"color:#cdcd00\">azure-wind-3</strong> at: <a href='https://wandb.ai/d-a-pop/Goodreads%20Books%20Reviews/runs/ceropkuv' target=\"_blank\">https://wandb.ai/d-a-pop/Goodreads%20Books%20Reviews/runs/ceropkuv</a><br/>Synced 6 W&B file(s), 0 media file(s), 4 artifact file(s) and 0 other file(s)"
      ],
      "text/plain": [
       "<IPython.core.display.HTML object>"
      ]
     },
     "metadata": {},
     "output_type": "display_data"
    },
    {
     "data": {
      "text/html": [
       "Find logs at: <code>./wandb/run-20230324_132308-ceropkuv/logs</code>"
      ],
      "text/plain": [
       "<IPython.core.display.HTML object>"
      ]
     },
     "metadata": {},
     "output_type": "display_data"
    }
   ],
   "source": [
    "run.log_artifact(artifact)\n",
    "run.finish()"
   ]
  },
  {
   "cell_type": "markdown",
   "id": "59062770",
   "metadata": {},
   "source": [
    "### Data split"
   ]
  },
  {
   "cell_type": "code",
   "execution_count": 5,
   "id": "43ab65a0",
   "metadata": {},
   "outputs": [
    {
     "data": {
      "text/plain": [
       "900000"
      ]
     },
     "execution_count": 5,
     "metadata": {},
     "output_type": "execute_result"
    }
   ],
   "source": [
    "len(train)"
   ]
  },
  {
   "cell_type": "code",
   "execution_count": 6,
   "id": "422b8e55",
   "metadata": {},
   "outputs": [],
   "source": [
    "X_train, X_val, y_train, y_val = train_test_split(train.drop(['rating'], axis = 1), train[\"rating\"], test_size=0.1, random_state=42)"
   ]
  },
  {
   "cell_type": "code",
   "execution_count": 7,
   "id": "61d8208c",
   "metadata": {},
   "outputs": [],
   "source": [
    "train = X_train.copy()\n",
    "train[\"rating\"] = y_train"
   ]
  },
  {
   "cell_type": "code",
   "execution_count": 8,
   "id": "f5d1ada9",
   "metadata": {},
   "outputs": [],
   "source": [
    "val = X_val.copy()\n",
    "val[\"rating\"] = y_val"
   ]
  },
  {
   "cell_type": "code",
   "execution_count": 9,
   "id": "a85166e8",
   "metadata": {},
   "outputs": [
    {
     "name": "stderr",
     "output_type": "stream",
     "text": [
      "\u001b[34m\u001b[1mwandb\u001b[0m: Currently logged in as: \u001b[33md-a-pop\u001b[0m. Use \u001b[1m`wandb login --relogin`\u001b[0m to force relogin\n"
     ]
    },
    {
     "data": {
      "text/html": [
       "Tracking run with wandb version 0.14.0"
      ],
      "text/plain": [
       "<IPython.core.display.HTML object>"
      ]
     },
     "metadata": {},
     "output_type": "display_data"
    },
    {
     "data": {
      "text/html": [
       "Run data is saved locally in <code>/Users/dragos/Downloads/wandb/run-20230325_091718-5ym3ltei</code>"
      ],
      "text/plain": [
       "<IPython.core.display.HTML object>"
      ]
     },
     "metadata": {},
     "output_type": "display_data"
    },
    {
     "data": {
      "text/html": [
       "Syncing run <strong><a href='https://wandb.ai/d-a-pop/Goodreads%20Books%20Reviews/runs/5ym3ltei' target=\"_blank\">northern-meadow-5</a></strong> to <a href='https://wandb.ai/d-a-pop/Goodreads%20Books%20Reviews' target=\"_blank\">Weights & Biases</a> (<a href='https://wandb.me/run' target=\"_blank\">docs</a>)<br/>"
      ],
      "text/plain": [
       "<IPython.core.display.HTML object>"
      ]
     },
     "metadata": {},
     "output_type": "display_data"
    },
    {
     "data": {
      "text/html": [
       " View project at <a href='https://wandb.ai/d-a-pop/Goodreads%20Books%20Reviews' target=\"_blank\">https://wandb.ai/d-a-pop/Goodreads%20Books%20Reviews</a>"
      ],
      "text/plain": [
       "<IPython.core.display.HTML object>"
      ]
     },
     "metadata": {},
     "output_type": "display_data"
    },
    {
     "data": {
      "text/html": [
       " View run at <a href='https://wandb.ai/d-a-pop/Goodreads%20Books%20Reviews/runs/5ym3ltei' target=\"_blank\">https://wandb.ai/d-a-pop/Goodreads%20Books%20Reviews/runs/5ym3ltei</a>"
      ],
      "text/plain": [
       "<IPython.core.display.HTML object>"
      ]
     },
     "metadata": {},
     "output_type": "display_data"
    }
   ],
   "source": [
    "run2 = wandb.init(project=PROJECT_NAME, entity=ENTITY, job_type=\"upload\")"
   ]
  },
  {
   "cell_type": "code",
   "execution_count": 10,
   "id": "a756ba06",
   "metadata": {},
   "outputs": [],
   "source": [
    "artifact = wandb.Artifact(\"Data_split\", type=\"dataset\")"
   ]
  },
  {
   "cell_type": "code",
   "execution_count": 11,
   "id": "ef501959",
   "metadata": {},
   "outputs": [],
   "source": [
    "t_train = wandb.Table(dataframe=train)\n",
    "t_val = wandb.Table(dataframe=val)"
   ]
  },
  {
   "cell_type": "code",
   "execution_count": 12,
   "id": "8100a5ec",
   "metadata": {},
   "outputs": [
    {
     "name": "stderr",
     "output_type": "stream",
     "text": [
      "WARNING:root:Truncating wandb.Table object to 200000 rows.\n"
     ]
    },
    {
     "data": {
      "text/plain": [
       "ArtifactManifestEntry(path='t_val.table.json', digest='DJX9x8tEX0/rRnIZH0wcfQ==', ref=None, birth_artifact_id=None, size=116104109, extra={}, local_path='/Users/dragos/Library/Application Support/wandb/artifacts/staging/tmprrzfb0ju')"
      ]
     },
     "execution_count": 12,
     "metadata": {},
     "output_type": "execute_result"
    }
   ],
   "source": [
    "artifact.add(t_train, \"t_train\")\n",
    "artifact.add(t_val, \"t_val\")"
   ]
  },
  {
   "cell_type": "code",
   "execution_count": 13,
   "id": "7b7784d0",
   "metadata": {},
   "outputs": [
    {
     "data": {
      "text/html": [
       "Waiting for W&B process to finish... <strong style=\"color:green\">(success).</strong>"
      ],
      "text/plain": [
       "<IPython.core.display.HTML object>"
      ]
     },
     "metadata": {},
     "output_type": "display_data"
    },
    {
     "data": {
      "text/html": [
       " View run <strong style=\"color:#cdcd00\">northern-meadow-5</strong> at: <a href='https://wandb.ai/d-a-pop/Goodreads%20Books%20Reviews/runs/5ym3ltei' target=\"_blank\">https://wandb.ai/d-a-pop/Goodreads%20Books%20Reviews/runs/5ym3ltei</a><br/>Synced 6 W&B file(s), 0 media file(s), 2 artifact file(s) and 0 other file(s)"
      ],
      "text/plain": [
       "<IPython.core.display.HTML object>"
      ]
     },
     "metadata": {},
     "output_type": "display_data"
    },
    {
     "data": {
      "text/html": [
       "Find logs at: <code>./wandb/run-20230325_091718-5ym3ltei/logs</code>"
      ],
      "text/plain": [
       "<IPython.core.display.HTML object>"
      ]
     },
     "metadata": {},
     "output_type": "display_data"
    }
   ],
   "source": [
    "run2.log_artifact(artifact)\n",
    "run2.finish()"
   ]
  },
  {
   "cell_type": "markdown",
   "id": "c4c32e56",
   "metadata": {},
   "source": [
    "### Sample Submission"
   ]
  },
  {
   "cell_type": "code",
   "execution_count": 4,
   "id": "95daa991",
   "metadata": {},
   "outputs": [],
   "source": [
    "test = pd.read_csv(\"goodreads_test.csv\")"
   ]
  },
  {
   "cell_type": "code",
   "execution_count": 5,
   "id": "9239b9e2",
   "metadata": {},
   "outputs": [],
   "source": [
    "submission = test[[\"review_id\", \"n_votes\"]].drop(['n_votes'], axis = 1)"
   ]
  },
  {
   "cell_type": "code",
   "execution_count": 6,
   "id": "bc1e9ea4",
   "metadata": {},
   "outputs": [],
   "source": [
    "submission[\"rating\"] = 4"
   ]
  },
  {
   "cell_type": "code",
   "execution_count": 7,
   "id": "1da4f92c",
   "metadata": {},
   "outputs": [],
   "source": [
    "submission.to_csv(\"sub1.csv\", index=False)"
   ]
  },
  {
   "cell_type": "markdown",
   "id": "58cd2905",
   "metadata": {},
   "source": [
    "### Process train data"
   ]
  },
  {
   "cell_type": "code",
   "execution_count": 14,
   "id": "d9cea855",
   "metadata": {},
   "outputs": [
    {
     "data": {
      "text/html": [
       "<div>\n",
       "<style scoped>\n",
       "    .dataframe tbody tr th:only-of-type {\n",
       "        vertical-align: middle;\n",
       "    }\n",
       "\n",
       "    .dataframe tbody tr th {\n",
       "        vertical-align: top;\n",
       "    }\n",
       "\n",
       "    .dataframe thead th {\n",
       "        text-align: right;\n",
       "    }\n",
       "</style>\n",
       "<table border=\"1\" class=\"dataframe\">\n",
       "  <thead>\n",
       "    <tr style=\"text-align: right;\">\n",
       "      <th></th>\n",
       "      <th>user_id</th>\n",
       "      <th>book_id</th>\n",
       "      <th>review_id</th>\n",
       "      <th>review_text</th>\n",
       "      <th>date_added</th>\n",
       "      <th>date_updated</th>\n",
       "      <th>read_at</th>\n",
       "      <th>started_at</th>\n",
       "      <th>n_votes</th>\n",
       "      <th>n_comments</th>\n",
       "      <th>rating</th>\n",
       "    </tr>\n",
       "  </thead>\n",
       "  <tbody>\n",
       "    <tr>\n",
       "      <th>604996</th>\n",
       "      <td>c511ad35264bee1ead8aee4ea0fd1955</td>\n",
       "      <td>9366996</td>\n",
       "      <td>0519e6360f257bd08073053276bc1e6c</td>\n",
       "      <td>Great cover, very lovely. Go flower petals. An...</td>\n",
       "      <td>Wed Feb 16 20:20:25 -0800 2011</td>\n",
       "      <td>Mon Apr 09 16:47:24 -0700 2012</td>\n",
       "      <td>Thu Sep 01 00:00:00 -0700 2011</td>\n",
       "      <td>NaN</td>\n",
       "      <td>3</td>\n",
       "      <td>0</td>\n",
       "      <td>0</td>\n",
       "    </tr>\n",
       "    <tr>\n",
       "      <th>715148</th>\n",
       "      <td>215088158d1206b9f65b27ed950b304d</td>\n",
       "      <td>6148028</td>\n",
       "      <td>f65579a2a19b1f915d755d1984d2731e</td>\n",
       "      <td>Started slow, but once the Quell began, I was ...</td>\n",
       "      <td>Mon Mar 19 12:44:02 -0700 2012</td>\n",
       "      <td>Wed Nov 27 22:24:36 -0800 2013</td>\n",
       "      <td>Mon Nov 25 00:00:00 -0800 2013</td>\n",
       "      <td>NaN</td>\n",
       "      <td>0</td>\n",
       "      <td>0</td>\n",
       "      <td>4</td>\n",
       "    </tr>\n",
       "    <tr>\n",
       "      <th>22535</th>\n",
       "      <td>0223a9592bfaf2edce5a348a293c254b</td>\n",
       "      <td>25801632</td>\n",
       "      <td>6fbc649109c5d4761c88e31d9bb95598</td>\n",
       "      <td>ARC provided by publisher in exchange for an h...</td>\n",
       "      <td>Fri May 20 15:06:51 -0700 2016</td>\n",
       "      <td>Tue May 31 08:17:07 -0700 2016</td>\n",
       "      <td>Fri May 20 00:00:00 -0700 2016</td>\n",
       "      <td>NaN</td>\n",
       "      <td>16</td>\n",
       "      <td>4</td>\n",
       "      <td>4</td>\n",
       "    </tr>\n",
       "    <tr>\n",
       "      <th>423076</th>\n",
       "      <td>944690beb2624a8e504d7ab3c735c72d</td>\n",
       "      <td>9349915</td>\n",
       "      <td>6f7edf9c17ad5b1fc60b6d71d81e2487</td>\n",
       "      <td>Okay. First things first - did I really get re...</td>\n",
       "      <td>Mon Jun 13 20:25:31 -0700 2011</td>\n",
       "      <td>Tue Jan 10 23:34:20 -0800 2012</td>\n",
       "      <td>Tue Jan 10 23:34:20 -0800 2012</td>\n",
       "      <td>Sun Jan 01 00:00:00 -0800 2012</td>\n",
       "      <td>0</td>\n",
       "      <td>0</td>\n",
       "      <td>3</td>\n",
       "    </tr>\n",
       "    <tr>\n",
       "      <th>859669</th>\n",
       "      <td>dedcd3e476cf511e6b9ed2d005a67d41</td>\n",
       "      <td>24718197</td>\n",
       "      <td>7d9ea6f7f0d047cff88c95447531833c</td>\n",
       "      <td>I'm loving this series. It's pretty perfect fo...</td>\n",
       "      <td>Sun Oct 30 20:01:13 -0700 2016</td>\n",
       "      <td>Tue Jun 13 18:32:33 -0700 2017</td>\n",
       "      <td>Fri Jun 02 13:53:42 -0700 2017</td>\n",
       "      <td>Wed May 31 00:00:00 -0700 2017</td>\n",
       "      <td>18</td>\n",
       "      <td>16</td>\n",
       "      <td>5</td>\n",
       "    </tr>\n",
       "  </tbody>\n",
       "</table>\n",
       "</div>"
      ],
      "text/plain": [
       "                                 user_id   book_id  \\\n",
       "604996  c511ad35264bee1ead8aee4ea0fd1955   9366996   \n",
       "715148  215088158d1206b9f65b27ed950b304d   6148028   \n",
       "22535   0223a9592bfaf2edce5a348a293c254b  25801632   \n",
       "423076  944690beb2624a8e504d7ab3c735c72d   9349915   \n",
       "859669  dedcd3e476cf511e6b9ed2d005a67d41  24718197   \n",
       "\n",
       "                               review_id  \\\n",
       "604996  0519e6360f257bd08073053276bc1e6c   \n",
       "715148  f65579a2a19b1f915d755d1984d2731e   \n",
       "22535   6fbc649109c5d4761c88e31d9bb95598   \n",
       "423076  6f7edf9c17ad5b1fc60b6d71d81e2487   \n",
       "859669  7d9ea6f7f0d047cff88c95447531833c   \n",
       "\n",
       "                                              review_text  \\\n",
       "604996  Great cover, very lovely. Go flower petals. An...   \n",
       "715148  Started slow, but once the Quell began, I was ...   \n",
       "22535   ARC provided by publisher in exchange for an h...   \n",
       "423076  Okay. First things first - did I really get re...   \n",
       "859669  I'm loving this series. It's pretty perfect fo...   \n",
       "\n",
       "                            date_added                    date_updated  \\\n",
       "604996  Wed Feb 16 20:20:25 -0800 2011  Mon Apr 09 16:47:24 -0700 2012   \n",
       "715148  Mon Mar 19 12:44:02 -0700 2012  Wed Nov 27 22:24:36 -0800 2013   \n",
       "22535   Fri May 20 15:06:51 -0700 2016  Tue May 31 08:17:07 -0700 2016   \n",
       "423076  Mon Jun 13 20:25:31 -0700 2011  Tue Jan 10 23:34:20 -0800 2012   \n",
       "859669  Sun Oct 30 20:01:13 -0700 2016  Tue Jun 13 18:32:33 -0700 2017   \n",
       "\n",
       "                               read_at                      started_at  \\\n",
       "604996  Thu Sep 01 00:00:00 -0700 2011                             NaN   \n",
       "715148  Mon Nov 25 00:00:00 -0800 2013                             NaN   \n",
       "22535   Fri May 20 00:00:00 -0700 2016                             NaN   \n",
       "423076  Tue Jan 10 23:34:20 -0800 2012  Sun Jan 01 00:00:00 -0800 2012   \n",
       "859669  Fri Jun 02 13:53:42 -0700 2017  Wed May 31 00:00:00 -0700 2017   \n",
       "\n",
       "        n_votes  n_comments  rating  \n",
       "604996        3           0       0  \n",
       "715148        0           0       4  \n",
       "22535        16           4       4  \n",
       "423076        0           0       3  \n",
       "859669       18          16       5  "
      ]
     },
     "execution_count": 14,
     "metadata": {},
     "output_type": "execute_result"
    }
   ],
   "source": [
    "train.head()"
   ]
  },
  {
   "cell_type": "markdown",
   "id": "def502f1",
   "metadata": {},
   "source": [
    " "
   ]
  },
  {
   "cell_type": "markdown",
   "id": "82b73fdc",
   "metadata": {},
   "source": [
    " "
   ]
  },
  {
   "cell_type": "code",
   "execution_count": 15,
   "id": "ec6f0411",
   "metadata": {},
   "outputs": [
    {
     "data": {
      "text/plain": [
       "810000"
      ]
     },
     "execution_count": 15,
     "metadata": {},
     "output_type": "execute_result"
    }
   ],
   "source": [
    "len(train)"
   ]
  },
  {
   "cell_type": "code",
   "execution_count": 16,
   "id": "b355a535",
   "metadata": {},
   "outputs": [
    {
     "data": {
      "text/plain": [
       "Index(['user_id', 'book_id', 'review_id', 'review_text', 'date_added',\n",
       "       'date_updated', 'read_at', 'started_at', 'n_votes', 'n_comments',\n",
       "       'rating'],\n",
       "      dtype='object')"
      ]
     },
     "execution_count": 16,
     "metadata": {},
     "output_type": "execute_result"
    }
   ],
   "source": [
    "train.columns"
   ]
  },
  {
   "cell_type": "code",
   "execution_count": 17,
   "id": "07dedfc5",
   "metadata": {},
   "outputs": [
    {
     "data": {
      "text/plain": [
       "810000"
      ]
     },
     "execution_count": 17,
     "metadata": {},
     "output_type": "execute_result"
    }
   ],
   "source": [
    "train['review_id'].nunique()"
   ]
  },
  {
   "cell_type": "code",
   "execution_count": 18,
   "id": "230b1a83",
   "metadata": {},
   "outputs": [
    {
     "data": {
      "text/plain": [
       "12155"
      ]
     },
     "execution_count": 18,
     "metadata": {},
     "output_type": "execute_result"
    }
   ],
   "source": [
    "train['user_id'].nunique()"
   ]
  },
  {
   "cell_type": "code",
   "execution_count": 19,
   "id": "dc65ee77",
   "metadata": {},
   "outputs": [
    {
     "data": {
      "text/plain": [
       "25474"
      ]
     },
     "execution_count": 19,
     "metadata": {},
     "output_type": "execute_result"
    }
   ],
   "source": [
    "train['book_id'].nunique()"
   ]
  },
  {
   "cell_type": "code",
   "execution_count": 20,
   "id": "f7992d74",
   "metadata": {},
   "outputs": [
    {
     "data": {
      "text/plain": [
       "4    282353\n",
       "5    238478\n",
       "3    169999\n",
       "2     65396\n",
       "0     27812\n",
       "1     25962\n",
       "Name: rating, dtype: int64"
      ]
     },
     "execution_count": 20,
     "metadata": {},
     "output_type": "execute_result"
    }
   ],
   "source": [
    "train['rating'].value_counts()"
   ]
  },
  {
   "cell_type": "code",
   "execution_count": 21,
   "id": "bbe647b1",
   "metadata": {},
   "outputs": [
    {
     "data": {
      "text/plain": [
       "user_id              0\n",
       "book_id              0\n",
       "review_id            0\n",
       "review_text          0\n",
       "date_added           0\n",
       "date_updated         0\n",
       "read_at          82471\n",
       "started_at      246894\n",
       "n_votes              0\n",
       "n_comments           0\n",
       "rating               0\n",
       "dtype: int64"
      ]
     },
     "execution_count": 21,
     "metadata": {},
     "output_type": "execute_result"
    }
   ],
   "source": [
    "train.isna().sum()"
   ]
  },
  {
   "cell_type": "code",
   "execution_count": 22,
   "id": "abedb354",
   "metadata": {},
   "outputs": [
    {
     "data": {
      "text/plain": [
       "user_id          0.000000\n",
       "book_id          0.000000\n",
       "review_id        0.000000\n",
       "review_text      0.000000\n",
       "date_added       0.000000\n",
       "date_updated     0.000000\n",
       "read_at         10.181605\n",
       "started_at      30.480741\n",
       "n_votes          0.000000\n",
       "n_comments       0.000000\n",
       "rating           0.000000\n",
       "dtype: float64"
      ]
     },
     "execution_count": 22,
     "metadata": {},
     "output_type": "execute_result"
    }
   ],
   "source": [
    "train.isna().sum()/len(train)*100"
   ]
  },
  {
   "cell_type": "code",
   "execution_count": 23,
   "id": "ba96f951",
   "metadata": {},
   "outputs": [
    {
     "data": {
      "text/plain": [
       "count    810000.000000\n",
       "mean          3.689572\n",
       "std           1.252482\n",
       "min           0.000000\n",
       "25%           3.000000\n",
       "50%           4.000000\n",
       "75%           5.000000\n",
       "max           5.000000\n",
       "Name: rating, dtype: float64"
      ]
     },
     "execution_count": 23,
     "metadata": {},
     "output_type": "execute_result"
    }
   ],
   "source": [
    "train[\"rating\"].describe()"
   ]
  },
  {
   "cell_type": "code",
   "execution_count": 24,
   "id": "6799f5b0",
   "metadata": {},
   "outputs": [
    {
     "data": {
      "text/plain": [
       "count    810000.000000\n",
       "mean          3.293212\n",
       "std          17.781611\n",
       "min          -3.000000\n",
       "25%           0.000000\n",
       "50%           0.000000\n",
       "75%           2.000000\n",
       "max        3222.000000\n",
       "Name: n_votes, dtype: float64"
      ]
     },
     "execution_count": 24,
     "metadata": {},
     "output_type": "execute_result"
    }
   ],
   "source": [
    "train[\"n_votes\"].describe()"
   ]
  },
  {
   "cell_type": "code",
   "execution_count": 25,
   "id": "36c0a0e5",
   "metadata": {},
   "outputs": [],
   "source": [
    "train[\"n_votes\"] = abs(train[\"n_votes\"])"
   ]
  },
  {
   "cell_type": "code",
   "execution_count": 26,
   "id": "5b893bfd",
   "metadata": {
    "scrolled": true
   },
   "outputs": [
    {
     "data": {
      "text/plain": [
       "count    810000.000000\n",
       "mean          1.015333\n",
       "std           5.991629\n",
       "min          -1.000000\n",
       "25%           0.000000\n",
       "50%           0.000000\n",
       "75%           0.000000\n",
       "max        1335.000000\n",
       "Name: n_comments, dtype: float64"
      ]
     },
     "execution_count": 26,
     "metadata": {},
     "output_type": "execute_result"
    }
   ],
   "source": [
    "train[\"n_comments\"].describe()"
   ]
  },
  {
   "cell_type": "code",
   "execution_count": 27,
   "id": "024dd47b",
   "metadata": {},
   "outputs": [],
   "source": [
    "train[\"n_comments\"] = abs(train[\"n_comments\"])"
   ]
  },
  {
   "cell_type": "code",
   "execution_count": 28,
   "id": "426f7c30",
   "metadata": {},
   "outputs": [
    {
     "data": {
      "text/plain": [
       "user_id         object\n",
       "book_id          int64\n",
       "review_id       object\n",
       "review_text     object\n",
       "date_added      object\n",
       "date_updated    object\n",
       "read_at         object\n",
       "started_at      object\n",
       "n_votes          int64\n",
       "n_comments       int64\n",
       "rating           int64\n",
       "dtype: object"
      ]
     },
     "execution_count": 28,
     "metadata": {},
     "output_type": "execute_result"
    }
   ],
   "source": [
    "train.dtypes"
   ]
  },
  {
   "cell_type": "code",
   "execution_count": 29,
   "id": "9a0f3c13",
   "metadata": {},
   "outputs": [],
   "source": [
    "train['book_id'] = train['book_id'].astype(object)"
   ]
  },
  {
   "cell_type": "code",
   "execution_count": 30,
   "id": "afb3d72c",
   "metadata": {},
   "outputs": [],
   "source": [
    "train['read_at'].fillna(train['date_added'], inplace=True)"
   ]
  },
  {
   "cell_type": "code",
   "execution_count": 31,
   "id": "e4286bae",
   "metadata": {},
   "outputs": [],
   "source": [
    "train['date_added'] = pd.to_datetime(train['date_added'], format=\"%a %b %d %H:%M:%S %z %Y\")\n",
    "train['date_updated'] = pd.to_datetime(train['date_updated'], format=\"%a %b %d %H:%M:%S %z %Y\")\n",
    "train['read_at'] = pd.to_datetime(train['read_at'], format=\"%a %b %d %H:%M:%S %z %Y\")"
   ]
  },
  {
   "cell_type": "code",
   "execution_count": 32,
   "id": "cfac4c4a",
   "metadata": {},
   "outputs": [],
   "source": [
    "train['started_at'].fillna(train['started_at'].mode(), inplace=True)\n",
    "train['started_at'] = pd.to_datetime(train['started_at'], format=\"%a %b %d %H:%M:%S %z %Y\", errors = 'coerce')  "
   ]
  },
  {
   "cell_type": "code",
   "execution_count": 33,
   "id": "3be3e32a",
   "metadata": {},
   "outputs": [],
   "source": [
    "train[\"missing_started_at\"] = train[\"started_at\"].isna().astype(int)"
   ]
  },
  {
   "cell_type": "code",
   "execution_count": 34,
   "id": "1bbeb30b",
   "metadata": {},
   "outputs": [],
   "source": [
    "train[\"duration\"] = train[\"read_at\"] - train[\"started_at\"]"
   ]
  },
  {
   "cell_type": "code",
   "execution_count": 35,
   "id": "d2cdbc9c",
   "metadata": {},
   "outputs": [
    {
     "data": {
      "text/plain": [
       "Timedelta('9 days 01:43:15.207681802')"
      ]
     },
     "execution_count": 35,
     "metadata": {},
     "output_type": "execute_result"
    }
   ],
   "source": [
    "train[\"duration\"].mean()"
   ]
  },
  {
   "cell_type": "code",
   "execution_count": 36,
   "id": "35e80a0a",
   "metadata": {},
   "outputs": [],
   "source": [
    "train[\"started_at\"].fillna(train[\"read_at\"]-train[\"duration\"].mean(), inplace=True)\n",
    "train[\"duration\"].fillna(train[\"duration\"].mean(), inplace=True)"
   ]
  },
  {
   "cell_type": "code",
   "execution_count": 38,
   "id": "f5fb7fe6",
   "metadata": {},
   "outputs": [],
   "source": [
    "train[\"review_length\"] = train[\"review_text\"].apply(lambda n: len(n.split()))"
   ]
  },
  {
   "cell_type": "code",
   "execution_count": 40,
   "id": "b321e264",
   "metadata": {},
   "outputs": [],
   "source": [
    "train[\"hour_read_at\"] = train[\"read_at\"].apply(lambda x: x.hour)\n",
    "train[\"hour_added\"] = train[\"date_added\"].apply(lambda x: x.hour)\n",
    "train[\"hour_updated\"] = train[\"date_updated\"].apply(lambda x: x.hour)"
   ]
  },
  {
   "cell_type": "code",
   "execution_count": 42,
   "id": "47eab172",
   "metadata": {},
   "outputs": [],
   "source": [
    "train[\"month_read_at\"] = train[\"read_at\"].apply(lambda x: x.month)\n",
    "train[\"month_added\"] = train[\"date_added\"].apply(lambda x: x.month)\n",
    "train[\"month_updated\"] = train[\"date_updated\"].apply(lambda x: x.month)"
   ]
  },
  {
   "cell_type": "code",
   "execution_count": 44,
   "id": "ddc94bcc",
   "metadata": {},
   "outputs": [],
   "source": [
    "train[\"dayofweek_read_at\"] = train[\"read_at\"].apply(lambda x: x.dayofweek)\n",
    "train[\"dayofweek_added\"] = train[\"date_added\"].apply(lambda x: x.dayofweek)\n",
    "train[\"dayofweek_updated\"] = train[\"date_updated\"].apply(lambda x: x.dayofweek)"
   ]
  },
  {
   "cell_type": "code",
   "execution_count": 46,
   "id": "a614b090",
   "metadata": {},
   "outputs": [],
   "source": [
    "train[\"year_read_at\"] = train[\"read_at\"].apply(lambda x: x.year)\n",
    "train[\"year_added\"] = train[\"date_added\"].apply(lambda x: x.year)\n",
    "train[\"year_updated\"] = train[\"date_updated\"].apply(lambda x: x.year)"
   ]
  },
  {
   "cell_type": "code",
   "execution_count": 50,
   "id": "36155ccd",
   "metadata": {},
   "outputs": [],
   "source": [
    "train['spoiler'] = train[\"review_text\"].str.contains(\"\\** spoiler alert \\**\", case=True, na=False).astype(int)"
   ]
  },
  {
   "cell_type": "code",
   "execution_count": 56,
   "id": "3b646d0d",
   "metadata": {
    "scrolled": false
   },
   "outputs": [
    {
     "data": {
      "image/png": "[encoded data removed]",
      "text/plain": [
       "<Figure size 640x480 with 1 Axes>"
      ]
     },
     "metadata": {},
     "output_type": "display_data"
    }
   ],
   "source": [
    "sns.boxplot(x=train['rating'], y=train['review_length']).set(title=\"Boxplot of rating and review_length\");"
   ]
  },
  {
   "cell_type": "code",
   "execution_count": 59,
   "id": "421f6de3",
   "metadata": {},
   "outputs": [
    {
     "data": {
      "text/html": [
       "<div>\n",
       "<style scoped>\n",
       "    .dataframe tbody tr th:only-of-type {\n",
       "        vertical-align: middle;\n",
       "    }\n",
       "\n",
       "    .dataframe tbody tr th {\n",
       "        vertical-align: top;\n",
       "    }\n",
       "\n",
       "    .dataframe thead th {\n",
       "        text-align: right;\n",
       "    }\n",
       "</style>\n",
       "<table border=\"1\" class=\"dataframe\">\n",
       "  <thead>\n",
       "    <tr style=\"text-align: right;\">\n",
       "      <th></th>\n",
       "      <th>user_id</th>\n",
       "      <th>book_id</th>\n",
       "      <th>review_id</th>\n",
       "      <th>review_text</th>\n",
       "      <th>date_added</th>\n",
       "      <th>date_updated</th>\n",
       "      <th>read_at</th>\n",
       "      <th>started_at</th>\n",
       "      <th>n_votes</th>\n",
       "      <th>n_comments</th>\n",
       "      <th>...</th>\n",
       "      <th>month_read_at</th>\n",
       "      <th>month_added</th>\n",
       "      <th>month_updated</th>\n",
       "      <th>dayofweek_read_at</th>\n",
       "      <th>dayofweek_added</th>\n",
       "      <th>dayofweek_updated</th>\n",
       "      <th>year_read_at</th>\n",
       "      <th>year_added</th>\n",
       "      <th>year_updated</th>\n",
       "      <th>spoiler</th>\n",
       "    </tr>\n",
       "  </thead>\n",
       "  <tbody>\n",
       "    <tr>\n",
       "      <th>604996</th>\n",
       "      <td>c511ad35264bee1ead8aee4ea0fd1955</td>\n",
       "      <td>9366996</td>\n",
       "      <td>0519e6360f257bd08073053276bc1e6c</td>\n",
       "      <td>Great cover, very lovely. Go flower petals. An...</td>\n",
       "      <td>2011-02-16 20:20:25-08:00</td>\n",
       "      <td>2012-04-09 16:47:24-07:00</td>\n",
       "      <td>2011-09-01 00:00:00-07:00</td>\n",
       "      <td>2011-08-22 22:16:44.792318198-07:00</td>\n",
       "      <td>3</td>\n",
       "      <td>0</td>\n",
       "      <td>...</td>\n",
       "      <td>9</td>\n",
       "      <td>2</td>\n",
       "      <td>4</td>\n",
       "      <td>3</td>\n",
       "      <td>2</td>\n",
       "      <td>0</td>\n",
       "      <td>2011</td>\n",
       "      <td>2011</td>\n",
       "      <td>2012</td>\n",
       "      <td>0</td>\n",
       "    </tr>\n",
       "    <tr>\n",
       "      <th>715148</th>\n",
       "      <td>215088158d1206b9f65b27ed950b304d</td>\n",
       "      <td>6148028</td>\n",
       "      <td>f65579a2a19b1f915d755d1984d2731e</td>\n",
       "      <td>Started slow, but once the Quell began, I was ...</td>\n",
       "      <td>2012-03-19 12:44:02-07:00</td>\n",
       "      <td>2013-11-27 22:24:36-08:00</td>\n",
       "      <td>2013-11-25 00:00:00-08:00</td>\n",
       "      <td>2013-11-15 22:16:44.792318198-08:00</td>\n",
       "      <td>0</td>\n",
       "      <td>0</td>\n",
       "      <td>...</td>\n",
       "      <td>11</td>\n",
       "      <td>3</td>\n",
       "      <td>11</td>\n",
       "      <td>0</td>\n",
       "      <td>0</td>\n",
       "      <td>2</td>\n",
       "      <td>2013</td>\n",
       "      <td>2012</td>\n",
       "      <td>2013</td>\n",
       "      <td>0</td>\n",
       "    </tr>\n",
       "    <tr>\n",
       "      <th>22535</th>\n",
       "      <td>0223a9592bfaf2edce5a348a293c254b</td>\n",
       "      <td>25801632</td>\n",
       "      <td>6fbc649109c5d4761c88e31d9bb95598</td>\n",
       "      <td>ARC provided by publisher in exchange for an h...</td>\n",
       "      <td>2016-05-20 15:06:51-07:00</td>\n",
       "      <td>2016-05-31 08:17:07-07:00</td>\n",
       "      <td>2016-05-20 00:00:00-07:00</td>\n",
       "      <td>2016-05-10 22:16:44.792318198-07:00</td>\n",
       "      <td>16</td>\n",
       "      <td>4</td>\n",
       "      <td>...</td>\n",
       "      <td>5</td>\n",
       "      <td>5</td>\n",
       "      <td>5</td>\n",
       "      <td>4</td>\n",
       "      <td>4</td>\n",
       "      <td>1</td>\n",
       "      <td>2016</td>\n",
       "      <td>2016</td>\n",
       "      <td>2016</td>\n",
       "      <td>0</td>\n",
       "    </tr>\n",
       "    <tr>\n",
       "      <th>423076</th>\n",
       "      <td>944690beb2624a8e504d7ab3c735c72d</td>\n",
       "      <td>9349915</td>\n",
       "      <td>6f7edf9c17ad5b1fc60b6d71d81e2487</td>\n",
       "      <td>Okay. First things first - did I really get re...</td>\n",
       "      <td>2011-06-13 20:25:31-07:00</td>\n",
       "      <td>2012-01-10 23:34:20-08:00</td>\n",
       "      <td>2012-01-10 23:34:20-08:00</td>\n",
       "      <td>2012-01-01 00:00:00-08:00</td>\n",
       "      <td>0</td>\n",
       "      <td>0</td>\n",
       "      <td>...</td>\n",
       "      <td>1</td>\n",
       "      <td>6</td>\n",
       "      <td>1</td>\n",
       "      <td>1</td>\n",
       "      <td>0</td>\n",
       "      <td>1</td>\n",
       "      <td>2012</td>\n",
       "      <td>2011</td>\n",
       "      <td>2012</td>\n",
       "      <td>0</td>\n",
       "    </tr>\n",
       "    <tr>\n",
       "      <th>859669</th>\n",
       "      <td>dedcd3e476cf511e6b9ed2d005a67d41</td>\n",
       "      <td>24718197</td>\n",
       "      <td>7d9ea6f7f0d047cff88c95447531833c</td>\n",
       "      <td>I'm loving this series. It's pretty perfect fo...</td>\n",
       "      <td>2016-10-30 20:01:13-07:00</td>\n",
       "      <td>2017-06-13 18:32:33-07:00</td>\n",
       "      <td>2017-06-02 13:53:42-07:00</td>\n",
       "      <td>2017-05-31 00:00:00-07:00</td>\n",
       "      <td>18</td>\n",
       "      <td>16</td>\n",
       "      <td>...</td>\n",
       "      <td>6</td>\n",
       "      <td>10</td>\n",
       "      <td>6</td>\n",
       "      <td>4</td>\n",
       "      <td>6</td>\n",
       "      <td>1</td>\n",
       "      <td>2017</td>\n",
       "      <td>2016</td>\n",
       "      <td>2017</td>\n",
       "      <td>0</td>\n",
       "    </tr>\n",
       "  </tbody>\n",
       "</table>\n",
       "<p>5 rows × 27 columns</p>\n",
       "</div>"
      ],
      "text/plain": [
       "                                 user_id   book_id  \\\n",
       "604996  c511ad35264bee1ead8aee4ea0fd1955   9366996   \n",
       "715148  215088158d1206b9f65b27ed950b304d   6148028   \n",
       "22535   0223a9592bfaf2edce5a348a293c254b  25801632   \n",
       "423076  944690beb2624a8e504d7ab3c735c72d   9349915   \n",
       "859669  dedcd3e476cf511e6b9ed2d005a67d41  24718197   \n",
       "\n",
       "                               review_id  \\\n",
       "604996  0519e6360f257bd08073053276bc1e6c   \n",
       "715148  f65579a2a19b1f915d755d1984d2731e   \n",
       "22535   6fbc649109c5d4761c88e31d9bb95598   \n",
       "423076  6f7edf9c17ad5b1fc60b6d71d81e2487   \n",
       "859669  7d9ea6f7f0d047cff88c95447531833c   \n",
       "\n",
       "                                              review_text  \\\n",
       "604996  Great cover, very lovely. Go flower petals. An...   \n",
       "715148  Started slow, but once the Quell began, I was ...   \n",
       "22535   ARC provided by publisher in exchange for an h...   \n",
       "423076  Okay. First things first - did I really get re...   \n",
       "859669  I'm loving this series. It's pretty perfect fo...   \n",
       "\n",
       "                       date_added               date_updated  \\\n",
       "604996  2011-02-16 20:20:25-08:00  2012-04-09 16:47:24-07:00   \n",
       "715148  2012-03-19 12:44:02-07:00  2013-11-27 22:24:36-08:00   \n",
       "22535   2016-05-20 15:06:51-07:00  2016-05-31 08:17:07-07:00   \n",
       "423076  2011-06-13 20:25:31-07:00  2012-01-10 23:34:20-08:00   \n",
       "859669  2016-10-30 20:01:13-07:00  2017-06-13 18:32:33-07:00   \n",
       "\n",
       "                          read_at                           started_at  \\\n",
       "604996  2011-09-01 00:00:00-07:00  2011-08-22 22:16:44.792318198-07:00   \n",
       "715148  2013-11-25 00:00:00-08:00  2013-11-15 22:16:44.792318198-08:00   \n",
       "22535   2016-05-20 00:00:00-07:00  2016-05-10 22:16:44.792318198-07:00   \n",
       "423076  2012-01-10 23:34:20-08:00            2012-01-01 00:00:00-08:00   \n",
       "859669  2017-06-02 13:53:42-07:00            2017-05-31 00:00:00-07:00   \n",
       "\n",
       "        n_votes  n_comments  ...  month_read_at  month_added month_updated  \\\n",
       "604996        3           0  ...              9            2             4   \n",
       "715148        0           0  ...             11            3            11   \n",
       "22535        16           4  ...              5            5             5   \n",
       "423076        0           0  ...              1            6             1   \n",
       "859669       18          16  ...              6           10             6   \n",
       "\n",
       "        dayofweek_read_at  dayofweek_added  dayofweek_updated  year_read_at  \\\n",
       "604996                  3                2                  0          2011   \n",
       "715148                  0                0                  2          2013   \n",
       "22535                   4                4                  1          2016   \n",
       "423076                  1                0                  1          2012   \n",
       "859669                  4                6                  1          2017   \n",
       "\n",
       "        year_added  year_updated  spoiler  \n",
       "604996        2011          2012        0  \n",
       "715148        2012          2013        0  \n",
       "22535         2016          2016        0  \n",
       "423076        2011          2012        0  \n",
       "859669        2016          2017        0  \n",
       "\n",
       "[5 rows x 27 columns]"
      ]
     },
     "execution_count": 59,
     "metadata": {},
     "output_type": "execute_result"
    }
   ],
   "source": [
    "train.head()"
   ]
  },
  {
   "cell_type": "code",
   "execution_count": 61,
   "id": "c5faf39b",
   "metadata": {},
   "outputs": [],
   "source": [
    "train[\"updated\"] = (train[\"date_updated\"] == train[\"date_added\"]).astype(int)"
   ]
  },
  {
   "cell_type": "code",
   "execution_count": 65,
   "id": "ed2cac75",
   "metadata": {},
   "outputs": [],
   "source": [
    "train[\"update_duration\"] = train[\"date_updated\"] - train[\"date_added\"]"
   ]
  },
  {
   "cell_type": "code",
   "execution_count": 67,
   "id": "414b4c02",
   "metadata": {},
   "outputs": [],
   "source": [
    "train[\"read_duration\"] = train[\"read_at\"] - train[\"started_at\"]"
   ]
  },
  {
   "cell_type": "code",
   "execution_count": 69,
   "id": "0675cdeb",
   "metadata": {},
   "outputs": [],
   "source": [
    "train[\"added_at_read\"] = (train[\"read_at\"] == train[\"date_added\"]).astype(int)"
   ]
  },
  {
   "cell_type": "code",
   "execution_count": 74,
   "id": "61b588c7",
   "metadata": {},
   "outputs": [],
   "source": [
    "train[\"duration_added_at_read\"] = train[\"read_at\"] - train[\"date_added\"]"
   ]
  },
  {
   "cell_type": "code",
   "execution_count": 70,
   "id": "84dc5740",
   "metadata": {},
   "outputs": [],
   "source": [
    "train[\"added_at_start\"] = (train[\"started_at\"] == train[\"date_added\"]).astype(int)"
   ]
  },
  {
   "cell_type": "code",
   "execution_count": 75,
   "id": "08cf3ec1",
   "metadata": {},
   "outputs": [],
   "source": [
    "train[\"duration_added_at_start\"] = train[\"started_at\"] - train[\"date_added\"]"
   ]
  },
  {
   "cell_type": "code",
   "execution_count": 72,
   "id": "e2df6319",
   "metadata": {},
   "outputs": [],
   "source": [
    "train[\"updated_at_read\"] = (train[\"read_at\"] == train[\"date_updated\"]).astype(int)"
   ]
  },
  {
   "cell_type": "code",
   "execution_count": 76,
   "id": "240b6d9f",
   "metadata": {},
   "outputs": [],
   "source": [
    "train[\"duration_updated_at_read\"] = train[\"read_at\"] - train[\"date_updated\"]"
   ]
  },
  {
   "cell_type": "code",
   "execution_count": 88,
   "id": "2da6e961",
   "metadata": {},
   "outputs": [],
   "source": [
    "train[\"duration_updated_at_read\"] = train[\"duration_updated_at_read\"].astype(int)/ 10**9"
   ]
  },
  {
   "cell_type": "code",
   "execution_count": 89,
   "id": "bff01177",
   "metadata": {},
   "outputs": [],
   "source": [
    "train[\"duration_added_at_start\"] = train[\"duration_added_at_start\"].astype(int)/ 10**9"
   ]
  },
  {
   "cell_type": "code",
   "execution_count": 90,
   "id": "f2ed6d4c",
   "metadata": {},
   "outputs": [],
   "source": [
    "train[\"duration_added_at_read\"] = train[\"duration_added_at_read\"].astype(int)/ 10**9"
   ]
  },
  {
   "cell_type": "code",
   "execution_count": 91,
   "id": "6d8ad596",
   "metadata": {},
   "outputs": [],
   "source": [
    "train[\"read_duration\"] = train[\"read_duration\"].astype(int)/ 10**9"
   ]
  },
  {
   "cell_type": "code",
   "execution_count": 92,
   "id": "a1d9524b",
   "metadata": {},
   "outputs": [],
   "source": [
    "train[\"update_duration\"] = train[\"update_duration\"].astype(int)/ 10**9"
   ]
  },
  {
   "cell_type": "code",
   "execution_count": 97,
   "id": "dcc806a7",
   "metadata": {},
   "outputs": [
    {
     "data": {
      "text/plain": [
       "Index(['user_id', 'book_id', 'review_id', 'review_text', 'n_votes',\n",
       "       'n_comments', 'rating', 'missing_started_at', 'review_length',\n",
       "       'hour_read_at', 'hour_added', 'hour_updated', 'month_read_at',\n",
       "       'month_added', 'month_updated', 'dayofweek_read_at', 'dayofweek_added',\n",
       "       'dayofweek_updated', 'year_read_at', 'year_added', 'year_updated',\n",
       "       'spoiler', 'updated', 'update_duration', 'read_duration',\n",
       "       'added_at_read', 'added_at_start', 'updated_at_read',\n",
       "       'duration_added_at_read', 'duration_added_at_start',\n",
       "       'duration_updated_at_read'],\n",
       "      dtype='object')"
      ]
     },
     "execution_count": 97,
     "metadata": {},
     "output_type": "execute_result"
    }
   ],
   "source": [
    "train.columns"
   ]
  },
  {
   "cell_type": "code",
   "execution_count": 96,
   "id": "7b9916e6",
   "metadata": {},
   "outputs": [],
   "source": [
    "train = train.drop(['date_added', 'date_updated', 'read_at', 'started_at', 'duration'], axis = 1)"
   ]
  },
  {
   "cell_type": "code",
   "execution_count": 98,
   "id": "cc1828cf",
   "metadata": {},
   "outputs": [
    {
     "name": "stderr",
     "output_type": "stream",
     "text": [
      "/var/folders/34/10vhhcg12q3dsbct81sbwq0c0000gn/T/ipykernel_79668/3893919727.py:2: FutureWarning: The default value of numeric_only in DataFrame.corr is deprecated. In a future version, it will default to False. Select only valid columns or specify the value of numeric_only to silence this warning.\n",
      "  corrmat = train.corr(method=\"spearman\")\n"
     ]
    },
    {
     "data": {
      "image/png": "[encoded data removed]",
      "text/plain": [
       "<Figure size 1200x800 with 2 Axes>"
      ]
     },
     "metadata": {},
     "output_type": "display_data"
    }
   ],
   "source": [
    "fig, ax = plt.subplots(figsize=(12,8)) \n",
    "corrmat = train.corr(method=\"spearman\")\n",
    "cols = corrmat.nlargest(10, 'rating').index\n",
    "sns.heatmap(corrmat.loc[cols, cols], square=True, annot=True, vmin = -1, vmax = 1, ax=ax).set(title='Correlation heatmap');"
   ]
  },
  {
   "cell_type": "code",
   "execution_count": 100,
   "id": "527f9174",
   "metadata": {},
   "outputs": [
    {
     "data": {
      "text/plain": [
       "count    810000.000000\n",
       "mean        192.918746\n",
       "std         225.577338\n",
       "min           1.000000\n",
       "25%          40.000000\n",
       "50%         110.000000\n",
       "75%         265.000000\n",
       "max        3493.000000\n",
       "Name: review_length, dtype: float64"
      ]
     },
     "execution_count": 100,
     "metadata": {},
     "output_type": "execute_result"
    }
   ],
   "source": [
    "train[\"review_length\"].describe()"
   ]
  },
  {
   "cell_type": "code",
   "execution_count": 101,
   "id": "85e3b5fd",
   "metadata": {},
   "outputs": [
    {
     "data": {
      "text/plain": [
       "count    8.100000e+05\n",
       "mean     7.837952e+05\n",
       "std      7.119616e+06\n",
       "min     -3.317085e+08\n",
       "25%      1.389425e+05\n",
       "50%      5.184000e+05\n",
       "75%      7.837952e+05\n",
       "max      1.730851e+09\n",
       "Name: read_duration, dtype: float64"
      ]
     },
     "execution_count": 101,
     "metadata": {},
     "output_type": "execute_result"
    }
   ],
   "source": [
    "train[\"read_duration\"].describe()"
   ]
  },
  {
   "cell_type": "code",
   "execution_count": 127,
   "id": "c9944e17",
   "metadata": {},
   "outputs": [],
   "source": [
    "def process1(train):\n",
    "    train[\"n_votes\"] = abs(train[\"n_votes\"])\n",
    "    train[\"n_comments\"] = abs(train[\"n_comments\"])\n",
    "    train['book_id'] = train['book_id'].astype(object) \n",
    "    train['read_at'].fillna(train['date_added'], inplace=True)\n",
    "    train['date_added'] = pd.to_datetime(train['date_added'], format=\"%a %b %d %H:%M:%S %z %Y\", errors = 'coerce')\n",
    "    train['date_updated'] = pd.to_datetime(train['date_updated'], format=\"%a %b %d %H:%M:%S %z %Y\", errors = 'coerce')\n",
    "    train['read_at'] = pd.to_datetime(train['read_at'], format=\"%a %b %d %H:%M:%S %z %Y\", errors = 'coerce')\n",
    "    train['started_at'].fillna(train['started_at'].mode(), inplace=True)\n",
    "    train['started_at'] = pd.to_datetime(train['started_at'], format=\"%a %b %d %H:%M:%S %z %Y\", errors = 'coerce')  \n",
    "    train['started_at'].fillna(train['started_at'].mode(), inplace=True)\n",
    "    return train"
   ]
  },
  {
   "cell_type": "code",
   "execution_count": 103,
   "id": "c9658fd1",
   "metadata": {},
   "outputs": [],
   "source": [
    "def process2(train):\n",
    "    train[\"missing_started_at\"] = train[\"started_at\"].isna().astype(int)    \n",
    "    train[\"duration\"] = train[\"read_at\"] - train[\"started_at\"]    \n",
    "    train[\"started_at\"].fillna(train[\"read_at\"]-train[\"duration\"].mean(), inplace=True)\n",
    "    train[\"duration\"].fillna(train[\"duration\"].mean(), inplace=True)\n",
    "    train[\"review_length\"] = train[\"review_text\"].apply(lambda n: len(n.split()))    \n",
    "    train[\"hour_read_at\"] = train[\"read_at\"].apply(lambda x: x.hour)\n",
    "    train[\"hour_added\"] = train[\"date_added\"].apply(lambda x: x.hour)\n",
    "    train[\"hour_updated\"] = train[\"date_updated\"].apply(lambda x: x.hour)\n",
    "    train[\"month_read_at\"] = train[\"read_at\"].apply(lambda x: x.month)\n",
    "    train[\"month_added\"] = train[\"date_added\"].apply(lambda x: x.month)\n",
    "    train[\"month_updated\"] = train[\"date_updated\"].apply(lambda x: x.month)\n",
    "    train[\"dayofweek_read_at\"] = train[\"read_at\"].apply(lambda x: x.dayofweek)\n",
    "    train[\"dayofweek_added\"] = train[\"date_added\"].apply(lambda x: x.dayofweek)\n",
    "    train[\"dayofweek_updated\"] = train[\"date_updated\"].apply(lambda x: x.dayofweek)\n",
    "    train[\"year_read_at\"] = train[\"read_at\"].apply(lambda x: x.year)\n",
    "    train[\"year_added\"] = train[\"date_added\"].apply(lambda x: x.year)\n",
    "    train[\"year_updated\"] = train[\"date_updated\"].apply(lambda x: x.year)\n",
    "    train['spoiler'] = train[\"review_text\"].str.contains(\"\\** spoiler alert \\**\", case=True, na=False).astype(int)\n",
    "    return train"
   ]
  },
  {
   "cell_type": "code",
   "execution_count": 104,
   "id": "74268875",
   "metadata": {},
   "outputs": [],
   "source": [
    "def process3(train):\n",
    "    train[\"date_added\"] = \n",
    "    train[\"updated\"] = (train[\"date_updated\"] == train[\"date_added\"]).astype(int)  \n",
    "    train[\"update_duration\"] = train[\"date_updated\"] - train[\"date_added\"]\n",
    "    train[\"read_duration\"] = train[\"read_at\"] - train[\"started_at\"]\n",
    "    train[\"added_at_read\"] = (train[\"read_at\"] == train[\"date_added\"]).astype(int)\n",
    "    train[\"duration_added_at_read\"] = train[\"read_at\"] - train[\"date_added\"]\n",
    "    train[\"added_at_start\"] = (train[\"started_at\"] == train[\"date_added\"]).astype(int)\n",
    "    train[\"duration_added_at_start\"] = train[\"started_at\"] - train[\"date_added\"]\n",
    "    train[\"updated_at_read\"] = (train[\"read_at\"] == train[\"date_updated\"]).astype(int)\n",
    "    train[\"duration_updated_at_read\"] = train[\"read_at\"] - train[\"date_updated\"]\n",
    "    train[\"duration_updated_at_read\"] = train[\"duration_updated_at_read\"].astype(int)/ 10**9\n",
    "    train[\"duration_added_at_start\"] = train[\"duration_added_at_start\"].astype(int)/ 10**9\n",
    "    train[\"duration_added_at_read\"] = train[\"duration_added_at_read\"].astype(int)/ 10**9\n",
    "    train[\"read_duration\"] = train[\"read_duration\"].astype(int)/ 10**9\n",
    "    train[\"update_duration\"] = train[\"update_duration\"].astype(int)/ 10**9\n",
    "    train = train.drop(['date_added', 'date_updated', 'read_at', 'started_at', 'duration'], axis = 1)    \n",
    "    return train"
   ]
  },
  {
   "cell_type": "code",
   "execution_count": 105,
   "id": "cd6bab05",
   "metadata": {},
   "outputs": [],
   "source": [
    "val = process1(val)"
   ]
  },
  {
   "cell_type": "code",
   "execution_count": 106,
   "id": "2e02c74e",
   "metadata": {},
   "outputs": [],
   "source": [
    "val = process2(val)"
   ]
  },
  {
   "cell_type": "code",
   "execution_count": 107,
   "id": "f67bc52a",
   "metadata": {},
   "outputs": [],
   "source": [
    "val = process3(val)"
   ]
  },
  {
   "cell_type": "code",
   "execution_count": 154,
   "id": "9a19217b",
   "metadata": {},
   "outputs": [],
   "source": [
    "test = pd.read_csv(\"goodreads_test.csv\")"
   ]
  },
  {
   "cell_type": "code",
   "execution_count": 155,
   "id": "7d70d815",
   "metadata": {},
   "outputs": [
    {
     "data": {
      "text/plain": [
       "478033"
      ]
     },
     "execution_count": 155,
     "metadata": {},
     "output_type": "execute_result"
    }
   ],
   "source": [
    "len(test)"
   ]
  },
  {
   "cell_type": "code",
   "execution_count": 156,
   "id": "0d65229b",
   "metadata": {},
   "outputs": [
    {
     "data": {
      "text/plain": [
       "user_id              0\n",
       "book_id              0\n",
       "review_id            0\n",
       "review_text          0\n",
       "date_added           0\n",
       "date_updated         0\n",
       "read_at          42478\n",
       "started_at      143044\n",
       "n_votes              0\n",
       "n_comments           0\n",
       "dtype: int64"
      ]
     },
     "execution_count": 156,
     "metadata": {},
     "output_type": "execute_result"
    }
   ],
   "source": [
    "test.isna().sum()"
   ]
  },
  {
   "cell_type": "code",
   "execution_count": 157,
   "id": "978305d3",
   "metadata": {},
   "outputs": [],
   "source": [
    "test = process1(test)"
   ]
  },
  {
   "cell_type": "code",
   "execution_count": 158,
   "id": "4d48f586",
   "metadata": {},
   "outputs": [],
   "source": [
    "test['started_at'].fillna(pd.Timestamp(test['started_at'].mode()[0]), inplace=True)\n",
    "test['read_at'].fillna(pd.Timestamp(test['read_at'].mode()[0]), inplace=True)"
   ]
  },
  {
   "cell_type": "code",
   "execution_count": 159,
   "id": "2c863660",
   "metadata": {},
   "outputs": [
    {
     "data": {
      "text/plain": [
       "user_id         0\n",
       "book_id         0\n",
       "review_id       0\n",
       "review_text     0\n",
       "date_added      0\n",
       "date_updated    0\n",
       "read_at         0\n",
       "started_at      0\n",
       "n_votes         0\n",
       "n_comments      0\n",
       "dtype: int64"
      ]
     },
     "execution_count": 159,
     "metadata": {},
     "output_type": "execute_result"
    }
   ],
   "source": [
    "test.isna().sum()"
   ]
  },
  {
   "cell_type": "code",
   "execution_count": 160,
   "id": "653fe48c",
   "metadata": {},
   "outputs": [],
   "source": [
    "test = process2(test)"
   ]
  },
  {
   "cell_type": "code",
   "execution_count": 161,
   "id": "e9136cf0",
   "metadata": {},
   "outputs": [
    {
     "data": {
      "text/plain": [
       "user_id               0\n",
       "book_id               0\n",
       "review_id             0\n",
       "review_text           0\n",
       "date_added            0\n",
       "date_updated          0\n",
       "read_at               0\n",
       "started_at            0\n",
       "n_votes               0\n",
       "n_comments            0\n",
       "missing_started_at    0\n",
       "duration              0\n",
       "review_length         0\n",
       "hour_read_at          0\n",
       "hour_added            0\n",
       "hour_updated          0\n",
       "month_read_at         0\n",
       "month_added           0\n",
       "month_updated         0\n",
       "dayofweek_read_at     0\n",
       "dayofweek_added       0\n",
       "dayofweek_updated     0\n",
       "year_read_at          0\n",
       "year_added            0\n",
       "year_updated          0\n",
       "spoiler               0\n",
       "dtype: int64"
      ]
     },
     "execution_count": 161,
     "metadata": {},
     "output_type": "execute_result"
    }
   ],
   "source": [
    "test.isna().sum()"
   ]
  },
  {
   "cell_type": "code",
   "execution_count": 162,
   "id": "42993e18",
   "metadata": {},
   "outputs": [
    {
     "data": {
      "text/plain": [
       "478033"
      ]
     },
     "execution_count": 162,
     "metadata": {},
     "output_type": "execute_result"
    }
   ],
   "source": [
    "len(test)"
   ]
  },
  {
   "cell_type": "code",
   "execution_count": 164,
   "id": "e783f5d5",
   "metadata": {},
   "outputs": [],
   "source": [
    "test = process3(test)"
   ]
  },
  {
   "cell_type": "code",
   "execution_count": 165,
   "id": "25d61a7e",
   "metadata": {},
   "outputs": [
    {
     "data": {
      "text/plain": [
       "user_id                     0\n",
       "book_id                     0\n",
       "review_id                   0\n",
       "review_text                 0\n",
       "n_votes                     0\n",
       "n_comments                  0\n",
       "missing_started_at          0\n",
       "review_length               0\n",
       "hour_read_at                0\n",
       "hour_added                  0\n",
       "hour_updated                0\n",
       "month_read_at               0\n",
       "month_added                 0\n",
       "month_updated               0\n",
       "dayofweek_read_at           0\n",
       "dayofweek_added             0\n",
       "dayofweek_updated           0\n",
       "year_read_at                0\n",
       "year_added                  0\n",
       "year_updated                0\n",
       "spoiler                     0\n",
       "updated                     0\n",
       "update_duration             0\n",
       "read_duration               0\n",
       "added_at_read               0\n",
       "duration_added_at_read      0\n",
       "added_at_start              0\n",
       "duration_added_at_start     0\n",
       "updated_at_read             0\n",
       "duration_updated_at_read    0\n",
       "dtype: int64"
      ]
     },
     "execution_count": 165,
     "metadata": {},
     "output_type": "execute_result"
    }
   ],
   "source": [
    "test.isna().sum()"
   ]
  },
  {
   "cell_type": "code",
   "execution_count": 166,
   "id": "44f02065",
   "metadata": {},
   "outputs": [
    {
     "data": {
      "text/html": [
       "<div>\n",
       "<style scoped>\n",
       "    .dataframe tbody tr th:only-of-type {\n",
       "        vertical-align: middle;\n",
       "    }\n",
       "\n",
       "    .dataframe tbody tr th {\n",
       "        vertical-align: top;\n",
       "    }\n",
       "\n",
       "    .dataframe thead th {\n",
       "        text-align: right;\n",
       "    }\n",
       "</style>\n",
       "<table border=\"1\" class=\"dataframe\">\n",
       "  <thead>\n",
       "    <tr style=\"text-align: right;\">\n",
       "      <th></th>\n",
       "      <th>user_id</th>\n",
       "      <th>book_id</th>\n",
       "      <th>review_id</th>\n",
       "      <th>review_text</th>\n",
       "      <th>n_votes</th>\n",
       "      <th>n_comments</th>\n",
       "      <th>missing_started_at</th>\n",
       "      <th>review_length</th>\n",
       "      <th>hour_read_at</th>\n",
       "      <th>hour_added</th>\n",
       "      <th>...</th>\n",
       "      <th>spoiler</th>\n",
       "      <th>updated</th>\n",
       "      <th>update_duration</th>\n",
       "      <th>read_duration</th>\n",
       "      <th>added_at_read</th>\n",
       "      <th>duration_added_at_read</th>\n",
       "      <th>added_at_start</th>\n",
       "      <th>duration_added_at_start</th>\n",
       "      <th>updated_at_read</th>\n",
       "      <th>duration_updated_at_read</th>\n",
       "    </tr>\n",
       "  </thead>\n",
       "  <tbody>\n",
       "    <tr>\n",
       "      <th>0</th>\n",
       "      <td>b9450d1c1f97f891c392b1105959b56e</td>\n",
       "      <td>7092507</td>\n",
       "      <td>5c4df7e70e9b438c761f07a4620ccb7c</td>\n",
       "      <td>** spoiler alert ** \\n This is definitely one ...</td>\n",
       "      <td>1</td>\n",
       "      <td>0</td>\n",
       "      <td>0</td>\n",
       "      <td>290</td>\n",
       "      <td>5</td>\n",
       "      <td>6</td>\n",
       "      <td>...</td>\n",
       "      <td>1</td>\n",
       "      <td>0</td>\n",
       "      <td>84743.0</td>\n",
       "      <td>106716.0</td>\n",
       "      <td>0</td>\n",
       "      <td>84743.0</td>\n",
       "      <td>0</td>\n",
       "      <td>-21973.0</td>\n",
       "      <td>1</td>\n",
       "      <td>0.0</td>\n",
       "    </tr>\n",
       "    <tr>\n",
       "      <th>1</th>\n",
       "      <td>b9450d1c1f97f891c392b1105959b56e</td>\n",
       "      <td>5576654</td>\n",
       "      <td>8eaeaf13213eeb16ad879a2a2591bbe5</td>\n",
       "      <td>** spoiler alert ** \\n \"You are what you drink...</td>\n",
       "      <td>1</td>\n",
       "      <td>0</td>\n",
       "      <td>0</td>\n",
       "      <td>352</td>\n",
       "      <td>5</td>\n",
       "      <td>21</td>\n",
       "      <td>...</td>\n",
       "      <td>1</td>\n",
       "      <td>0</td>\n",
       "      <td>27993.0</td>\n",
       "      <td>106909.0</td>\n",
       "      <td>0</td>\n",
       "      <td>27993.0</td>\n",
       "      <td>0</td>\n",
       "      <td>-78916.0</td>\n",
       "      <td>1</td>\n",
       "      <td>0.0</td>\n",
       "    </tr>\n",
       "    <tr>\n",
       "      <th>2</th>\n",
       "      <td>b9450d1c1f97f891c392b1105959b56e</td>\n",
       "      <td>15754052</td>\n",
       "      <td>dce649b733c153ba5363a0413cac988f</td>\n",
       "      <td>Roar is one of my favorite characters in Under...</td>\n",
       "      <td>0</td>\n",
       "      <td>0</td>\n",
       "      <td>0</td>\n",
       "      <td>74</td>\n",
       "      <td>6</td>\n",
       "      <td>0</td>\n",
       "      <td>...</td>\n",
       "      <td>0</td>\n",
       "      <td>0</td>\n",
       "      <td>107300.0</td>\n",
       "      <td>108850.0</td>\n",
       "      <td>0</td>\n",
       "      <td>107300.0</td>\n",
       "      <td>0</td>\n",
       "      <td>-1550.0</td>\n",
       "      <td>1</td>\n",
       "      <td>0.0</td>\n",
       "    </tr>\n",
       "    <tr>\n",
       "      <th>3</th>\n",
       "      <td>b9450d1c1f97f891c392b1105959b56e</td>\n",
       "      <td>17020</td>\n",
       "      <td>8a46df0bb997269d6834f9437a4b0a77</td>\n",
       "      <td>** spoiler alert ** \\n If you feel like travel...</td>\n",
       "      <td>0</td>\n",
       "      <td>0</td>\n",
       "      <td>0</td>\n",
       "      <td>246</td>\n",
       "      <td>11</td>\n",
       "      <td>0</td>\n",
       "      <td>...</td>\n",
       "      <td>1</td>\n",
       "      <td>0</td>\n",
       "      <td>212803.0</td>\n",
       "      <td>214522.0</td>\n",
       "      <td>0</td>\n",
       "      <td>212803.0</td>\n",
       "      <td>0</td>\n",
       "      <td>-1719.0</td>\n",
       "      <td>1</td>\n",
       "      <td>0.0</td>\n",
       "    </tr>\n",
       "    <tr>\n",
       "      <th>4</th>\n",
       "      <td>b9450d1c1f97f891c392b1105959b56e</td>\n",
       "      <td>12551082</td>\n",
       "      <td>d11d3091e22f1cf3cb865598de197599</td>\n",
       "      <td>3.5 stars \\n I read and enjoyed the first two ...</td>\n",
       "      <td>0</td>\n",
       "      <td>0</td>\n",
       "      <td>0</td>\n",
       "      <td>515</td>\n",
       "      <td>0</td>\n",
       "      <td>0</td>\n",
       "      <td>...</td>\n",
       "      <td>0</td>\n",
       "      <td>0</td>\n",
       "      <td>14335431.0</td>\n",
       "      <td>86400.0</td>\n",
       "      <td>0</td>\n",
       "      <td>14079780.0</td>\n",
       "      <td>0</td>\n",
       "      <td>13993380.0</td>\n",
       "      <td>0</td>\n",
       "      <td>-255651.0</td>\n",
       "    </tr>\n",
       "  </tbody>\n",
       "</table>\n",
       "<p>5 rows × 30 columns</p>\n",
       "</div>"
      ],
      "text/plain": [
       "                            user_id   book_id  \\\n",
       "0  b9450d1c1f97f891c392b1105959b56e   7092507   \n",
       "1  b9450d1c1f97f891c392b1105959b56e   5576654   \n",
       "2  b9450d1c1f97f891c392b1105959b56e  15754052   \n",
       "3  b9450d1c1f97f891c392b1105959b56e     17020   \n",
       "4  b9450d1c1f97f891c392b1105959b56e  12551082   \n",
       "\n",
       "                          review_id  \\\n",
       "0  5c4df7e70e9b438c761f07a4620ccb7c   \n",
       "1  8eaeaf13213eeb16ad879a2a2591bbe5   \n",
       "2  dce649b733c153ba5363a0413cac988f   \n",
       "3  8a46df0bb997269d6834f9437a4b0a77   \n",
       "4  d11d3091e22f1cf3cb865598de197599   \n",
       "\n",
       "                                         review_text  n_votes  n_comments  \\\n",
       "0  ** spoiler alert ** \\n This is definitely one ...        1           0   \n",
       "1  ** spoiler alert ** \\n \"You are what you drink...        1           0   \n",
       "2  Roar is one of my favorite characters in Under...        0           0   \n",
       "3  ** spoiler alert ** \\n If you feel like travel...        0           0   \n",
       "4  3.5 stars \\n I read and enjoyed the first two ...        0           0   \n",
       "\n",
       "   missing_started_at  review_length  hour_read_at  hour_added  ...  spoiler  \\\n",
       "0                   0            290             5           6  ...        1   \n",
       "1                   0            352             5          21  ...        1   \n",
       "2                   0             74             6           0  ...        0   \n",
       "3                   0            246            11           0  ...        1   \n",
       "4                   0            515             0           0  ...        0   \n",
       "\n",
       "   updated  update_duration  read_duration  added_at_read  \\\n",
       "0        0          84743.0       106716.0              0   \n",
       "1        0          27993.0       106909.0              0   \n",
       "2        0         107300.0       108850.0              0   \n",
       "3        0         212803.0       214522.0              0   \n",
       "4        0       14335431.0        86400.0              0   \n",
       "\n",
       "   duration_added_at_read  added_at_start  duration_added_at_start  \\\n",
       "0                 84743.0               0                 -21973.0   \n",
       "1                 27993.0               0                 -78916.0   \n",
       "2                107300.0               0                  -1550.0   \n",
       "3                212803.0               0                  -1719.0   \n",
       "4              14079780.0               0               13993380.0   \n",
       "\n",
       "   updated_at_read  duration_updated_at_read  \n",
       "0                1                       0.0  \n",
       "1                1                       0.0  \n",
       "2                1                       0.0  \n",
       "3                1                       0.0  \n",
       "4                0                 -255651.0  \n",
       "\n",
       "[5 rows x 30 columns]"
      ]
     },
     "execution_count": 166,
     "metadata": {},
     "output_type": "execute_result"
    }
   ],
   "source": [
    "test.head()"
   ]
  },
  {
   "cell_type": "code",
   "execution_count": 168,
   "id": "21c4437a",
   "metadata": {},
   "outputs": [
    {
     "data": {
      "text/plain": [
       "['user_id',\n",
       " 'book_id',\n",
       " 'review_id',\n",
       " 'review_text',\n",
       " 'n_votes',\n",
       " 'n_comments',\n",
       " 'missing_started_at',\n",
       " 'review_length',\n",
       " 'hour_read_at',\n",
       " 'hour_added',\n",
       " 'hour_updated',\n",
       " 'month_read_at',\n",
       " 'month_added',\n",
       " 'month_updated',\n",
       " 'dayofweek_read_at',\n",
       " 'dayofweek_added',\n",
       " 'dayofweek_updated',\n",
       " 'year_read_at',\n",
       " 'year_added',\n",
       " 'year_updated',\n",
       " 'spoiler',\n",
       " 'updated',\n",
       " 'update_duration',\n",
       " 'read_duration',\n",
       " 'added_at_read',\n",
       " 'duration_added_at_read',\n",
       " 'added_at_start',\n",
       " 'duration_added_at_start',\n",
       " 'updated_at_read',\n",
       " 'duration_updated_at_read']"
      ]
     },
     "execution_count": 168,
     "metadata": {},
     "output_type": "execute_result"
    }
   ],
   "source": [
    "list(test.columns)"
   ]
  },
  {
   "cell_type": "code",
   "execution_count": 170,
   "id": "3e9983fa",
   "metadata": {},
   "outputs": [
    {
     "data": {
      "text/plain": [
       "['user_id',\n",
       " 'book_id',\n",
       " 'review_id',\n",
       " 'review_text',\n",
       " 'n_votes',\n",
       " 'n_comments',\n",
       " 'rating',\n",
       " 'missing_started_at',\n",
       " 'review_length',\n",
       " 'hour_read_at',\n",
       " 'hour_added',\n",
       " 'hour_updated',\n",
       " 'month_read_at',\n",
       " 'month_added',\n",
       " 'month_updated',\n",
       " 'dayofweek_read_at',\n",
       " 'dayofweek_added',\n",
       " 'dayofweek_updated',\n",
       " 'year_read_at',\n",
       " 'year_added',\n",
       " 'year_updated',\n",
       " 'spoiler',\n",
       " 'updated',\n",
       " 'update_duration',\n",
       " 'read_duration',\n",
       " 'added_at_read',\n",
       " 'added_at_start',\n",
       " 'updated_at_read',\n",
       " 'duration_added_at_read',\n",
       " 'duration_added_at_start',\n",
       " 'duration_updated_at_read']"
      ]
     },
     "execution_count": 170,
     "metadata": {},
     "output_type": "execute_result"
    }
   ],
   "source": [
    "list(train.columns)"
   ]
  },
  {
   "cell_type": "code",
   "execution_count": 171,
   "id": "1c9b3f79",
   "metadata": {},
   "outputs": [
    {
     "data": {
      "text/html": [
       "Tracking run with wandb version 0.14.0"
      ],
      "text/plain": [
       "<IPython.core.display.HTML object>"
      ]
     },
     "metadata": {},
     "output_type": "display_data"
    },
    {
     "data": {
      "text/html": [
       "Run data is saved locally in <code>/Users/dragos/Downloads/wandb/run-20230325_103635-gbck0ukf</code>"
      ],
      "text/plain": [
       "<IPython.core.display.HTML object>"
      ]
     },
     "metadata": {},
     "output_type": "display_data"
    },
    {
     "data": {
      "text/html": [
       "Syncing run <strong><a href='https://wandb.ai/d-a-pop/Goodreads%20Books%20Reviews/runs/gbck0ukf' target=\"_blank\">pretty-lion-6</a></strong> to <a href='https://wandb.ai/d-a-pop/Goodreads%20Books%20Reviews' target=\"_blank\">Weights & Biases</a> (<a href='https://wandb.me/run' target=\"_blank\">docs</a>)<br/>"
      ],
      "text/plain": [
       "<IPython.core.display.HTML object>"
      ]
     },
     "metadata": {},
     "output_type": "display_data"
    },
    {
     "data": {
      "text/html": [
       " View project at <a href='https://wandb.ai/d-a-pop/Goodreads%20Books%20Reviews' target=\"_blank\">https://wandb.ai/d-a-pop/Goodreads%20Books%20Reviews</a>"
      ],
      "text/plain": [
       "<IPython.core.display.HTML object>"
      ]
     },
     "metadata": {},
     "output_type": "display_data"
    },
    {
     "data": {
      "text/html": [
       " View run at <a href='https://wandb.ai/d-a-pop/Goodreads%20Books%20Reviews/runs/gbck0ukf' target=\"_blank\">https://wandb.ai/d-a-pop/Goodreads%20Books%20Reviews/runs/gbck0ukf</a>"
      ],
      "text/plain": [
       "<IPython.core.display.HTML object>"
      ]
     },
     "metadata": {},
     "output_type": "display_data"
    }
   ],
   "source": [
    "run3 = wandb.init(project=PROJECT_NAME, entity=ENTITY, job_type=\"upload\")"
   ]
  },
  {
   "cell_type": "code",
   "execution_count": 172,
   "id": "10520aea",
   "metadata": {},
   "outputs": [],
   "source": [
    "artifact = wandb.Artifact(\"Data_processed1\", type=\"dataset\")"
   ]
  },
  {
   "cell_type": "code",
   "execution_count": 173,
   "id": "99268b3b",
   "metadata": {},
   "outputs": [],
   "source": [
    "t_train1 = wandb.Table(dataframe=train)\n",
    "t_val1 = wandb.Table(dataframe=val)\n",
    "t_test1 = wandb.Table(dataframe=test)"
   ]
  },
  {
   "cell_type": "code",
   "execution_count": 174,
   "id": "c99efa39",
   "metadata": {},
   "outputs": [
    {
     "name": "stderr",
     "output_type": "stream",
     "text": [
      "WARNING:root:Truncating wandb.Table object to 200000 rows.\n",
      "WARNING:root:Truncating wandb.Table object to 200000 rows.\n"
     ]
    },
    {
     "data": {
      "text/plain": [
       "ArtifactManifestEntry(path='t_test1.table.json', digest='QnRLF/zkErCiqSDCvZc0Kw==', ref=None, birth_artifact_id=None, size=260295702, extra={}, local_path='/Users/dragos/Library/Application Support/wandb/artifacts/staging/tmpg53q_2i7')"
      ]
     },
     "execution_count": 174,
     "metadata": {},
     "output_type": "execute_result"
    }
   ],
   "source": [
    "artifact.add(t_train1, \"t_train1\")\n",
    "artifact.add(t_val1, \"t_val1\")\n",
    "artifact.add(t_test1, \"t_test1\")"
   ]
  },
  {
   "cell_type": "code",
   "execution_count": 175,
   "id": "6918b36c",
   "metadata": {},
   "outputs": [
    {
     "data": {
      "text/html": [
       "Waiting for W&B process to finish... <strong style=\"color:green\">(success).</strong>"
      ],
      "text/plain": [
       "<IPython.core.display.HTML object>"
      ]
     },
     "metadata": {},
     "output_type": "display_data"
    },
    {
     "data": {
      "text/html": [
       " View run <strong style=\"color:#cdcd00\">pretty-lion-6</strong> at: <a href='https://wandb.ai/d-a-pop/Goodreads%20Books%20Reviews/runs/gbck0ukf' target=\"_blank\">https://wandb.ai/d-a-pop/Goodreads%20Books%20Reviews/runs/gbck0ukf</a><br/>Synced 6 W&B file(s), 0 media file(s), 3 artifact file(s) and 0 other file(s)"
      ],
      "text/plain": [
       "<IPython.core.display.HTML object>"
      ]
     },
     "metadata": {},
     "output_type": "display_data"
    },
    {
     "data": {
      "text/html": [
       "Find logs at: <code>./wandb/run-20230325_103635-gbck0ukf/logs</code>"
      ],
      "text/plain": [
       "<IPython.core.display.HTML object>"
      ]
     },
     "metadata": {},
     "output_type": "display_data"
    }
   ],
   "source": [
    "run3.log_artifact(artifact)\n",
    "run3.finish()"
   ]
  },
  {
   "cell_type": "code",
   "execution_count": 176,
   "id": "6e14e813",
   "metadata": {},
   "outputs": [],
   "source": [
    "train.to_csv(\"train.csv\", index = False)\n",
    "val.to_csv(\"val.csv\", index = False)\n",
    "test.to_csv(\"test.csv\", index = False)"
   ]
  },
  {
   "cell_type": "code",
   "execution_count": null,
   "id": "27df13a9",
   "metadata": {},
   "outputs": [],
   "source": []
  }
 ],
 "metadata": {
  "kernelspec": {
   "display_name": "Python 3 (ipykernel)",
   "language": "python",
   "name": "python3"
  },
  "language_info": {
   "codemirror_mode": {
    "name": "ipython",
    "version": 3
   },
   "file_extension": ".py",
   "mimetype": "text/x-python",
   "name": "python",
   "nbconvert_exporter": "python",
   "pygments_lexer": "ipython3",
   "version": "3.10.9"
  }
 },
 "nbformat": 4,
 "nbformat_minor": 5
}

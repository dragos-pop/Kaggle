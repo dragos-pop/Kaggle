{
 "cells": [
  {
   "cell_type": "code",
   "execution_count": 1,
   "metadata": {},
   "outputs": [
    {
     "name": "stderr",
     "output_type": "stream",
     "text": [
      "/Users/dragos/anaconda3/envs/lgbm/lib/python3.8/site-packages/requests/__init__.py:89: RequestsDependencyWarning: urllib3 (1.26.15) or chardet (3.0.4) doesn't match a supported version!\n",
      "  warnings.warn(\"urllib3 ({}) or chardet ({}) doesn't match a supported \"\n"
     ]
    }
   ],
   "source": [
    "import wandb\n",
    "import pandas as pd\n",
    "import lightgbm as lgb\n",
    "import numpy as np\n",
    "from sklearn.metrics import f1_score\n",
    "from wandb.lightgbm import wandb_callback, log_summary"
   ]
  },
  {
   "cell_type": "code",
   "execution_count": 2,
   "metadata": {
    "scrolled": true
   },
   "outputs": [
    {
     "name": "stderr",
     "output_type": "stream",
     "text": [
      "\u001b[34m\u001b[1mwandb\u001b[0m: Currently logged in as: \u001b[33md-a-pop\u001b[0m (\u001b[33mmidigpt\u001b[0m). Use \u001b[1m`wandb login --relogin`\u001b[0m to force relogin\n"
     ]
    },
    {
     "data": {
      "text/plain": [
       "True"
      ]
     },
     "execution_count": 2,
     "metadata": {},
     "output_type": "execute_result"
    }
   ],
   "source": [
    "wandb.login()"
   ]
  },
  {
   "cell_type": "markdown",
   "metadata": {},
   "source": [
    "## Increasing the number of iterations (200)"
   ]
  },
  {
   "cell_type": "code",
   "execution_count": 3,
   "metadata": {},
   "outputs": [],
   "source": [
    "train = pd.read_csv(\"train.csv\")\n",
    "val = pd.read_csv(\"val.csv\")"
   ]
  },
  {
   "cell_type": "code",
   "execution_count": 4,
   "metadata": {},
   "outputs": [],
   "source": [
    "train['user_id'] = train['user_id'].astype(\"category\")\n",
    "train['review_id'] = train['review_id'].astype(\"category\")\n",
    "train['book_id'] = train['book_id'].astype(\"category\")\n",
    "train = train.drop(\"review_text\", axis=1)"
   ]
  },
  {
   "cell_type": "code",
   "execution_count": 5,
   "metadata": {},
   "outputs": [],
   "source": [
    "val['user_id'] = val['user_id'].astype(\"category\")\n",
    "val['review_id'] = val['review_id'].astype(\"category\")\n",
    "val['book_id'] = val['book_id'].astype(\"category\")\n",
    "val = val.drop(\"review_text\", axis=1)"
   ]
  },
  {
   "cell_type": "code",
   "execution_count": 6,
   "metadata": {},
   "outputs": [],
   "source": [
    "model3 = lgb.LGBMClassifier(n_estimators=200)"
   ]
  },
  {
   "cell_type": "code",
   "execution_count": 7,
   "metadata": {},
   "outputs": [],
   "source": [
    "train_config = model3.get_params()"
   ]
  },
  {
   "cell_type": "code",
   "execution_count": 8,
   "metadata": {
    "scrolled": true
   },
   "outputs": [
    {
     "name": "stderr",
     "output_type": "stream",
     "text": [
      "\u001b[34m\u001b[1mwandb\u001b[0m: Currently logged in as: \u001b[33md-a-pop\u001b[0m. Use \u001b[1m`wandb login --relogin`\u001b[0m to force relogin\n"
     ]
    },
    {
     "data": {
      "text/html": [
       "Tracking run with wandb version 0.14.0"
      ],
      "text/plain": [
       "<IPython.core.display.HTML object>"
      ]
     },
     "metadata": {},
     "output_type": "display_data"
    },
    {
     "data": {
      "text/html": [
       "Run data is saved locally in <code>/Users/dragos/Downloads/wandb/run-20230330_122440-mgguv0ds</code>"
      ],
      "text/plain": [
       "<IPython.core.display.HTML object>"
      ]
     },
     "metadata": {},
     "output_type": "display_data"
    },
    {
     "data": {
      "text/html": [
       "Syncing run <strong><a href='https://wandb.ai/d-a-pop/Goodreads%20Books%20Reviews/runs/mgguv0ds' target=\"_blank\">pleasant-frost-24</a></strong> to <a href='https://wandb.ai/d-a-pop/Goodreads%20Books%20Reviews' target=\"_blank\">Weights & Biases</a> (<a href='https://wandb.me/run' target=\"_blank\">docs</a>)<br/>"
      ],
      "text/plain": [
       "<IPython.core.display.HTML object>"
      ]
     },
     "metadata": {},
     "output_type": "display_data"
    },
    {
     "data": {
      "text/html": [
       " View project at <a href='https://wandb.ai/d-a-pop/Goodreads%20Books%20Reviews' target=\"_blank\">https://wandb.ai/d-a-pop/Goodreads%20Books%20Reviews</a>"
      ],
      "text/plain": [
       "<IPython.core.display.HTML object>"
      ]
     },
     "metadata": {},
     "output_type": "display_data"
    },
    {
     "data": {
      "text/html": [
       " View run at <a href='https://wandb.ai/d-a-pop/Goodreads%20Books%20Reviews/runs/mgguv0ds' target=\"_blank\">https://wandb.ai/d-a-pop/Goodreads%20Books%20Reviews/runs/mgguv0ds</a>"
      ],
      "text/plain": [
       "<IPython.core.display.HTML object>"
      ]
     },
     "metadata": {},
     "output_type": "display_data"
    }
   ],
   "source": [
    "run = wandb.init(project=\"Goodreads Books Reviews\", entity=\"d-a-pop\", job_type=\"training\", config=train_config)"
   ]
  },
  {
   "cell_type": "code",
   "execution_count": 9,
   "metadata": {},
   "outputs": [],
   "source": [
    "def evaluate_macroF1_lgb(truth, predictions):  \n",
    "    # this follows the discussion in https://github.com/Microsoft/LightGBM/issues/1483\n",
    "    pred_labels = predictions.reshape(len(np.unique(truth)),-1).argmax(axis=0)\n",
    "    f1 = f1_score(truth, pred_labels, average='macro')\n",
    "    return ('macroF1', f1, True) "
   ]
  },
  {
   "cell_type": "code",
   "execution_count": 10,
   "metadata": {
    "scrolled": true
   },
   "outputs": [
    {
     "name": "stderr",
     "output_type": "stream",
     "text": [
      "/Users/dragos/anaconda3/envs/lgbm/lib/python3.8/site-packages/lightgbm/basic.py:1551: UserWarning: Using categorical_feature in Dataset.\n",
      "  warnings.warn('Using categorical_feature in Dataset.')\n",
      "/Users/dragos/anaconda3/envs/lgbm/lib/python3.8/site-packages/lightgbm/basic.py:1554: UserWarning: categorical_feature in Dataset is overridden.\n",
      "New categorical_feature is ['book_id', 'review_id', 'user_id']\n",
      "  warnings.warn('categorical_feature in Dataset is overridden.\\n'\n",
      "/Users/dragos/anaconda3/envs/lgbm/lib/python3.8/site-packages/lightgbm/basic.py:1286: UserWarning: Overriding the parameters from Reference Dataset.\n",
      "  warnings.warn('Overriding the parameters from Reference Dataset.')\n",
      "/Users/dragos/anaconda3/envs/lgbm/lib/python3.8/site-packages/lightgbm/basic.py:1098: UserWarning: categorical_column in param dict is overridden.\n",
      "  warnings.warn('{} in param dict is overridden.'.format(cat_alias))\n"
     ]
    },
    {
     "name": "stdout",
     "output_type": "stream",
     "text": [
      "[1]\ttraining's multi_logloss: 1.4407\ttraining's macroF1: 0.129422\tvalidation's multi_logloss: 1.44136\tvalidation's macroF1: 0.126793\n",
      "[2]\ttraining's multi_logloss: 1.41794\ttraining's macroF1: 0.166884\tvalidation's multi_logloss: 1.42109\tvalidation's macroF1: 0.160062\n",
      "[3]\ttraining's multi_logloss: 1.40037\ttraining's macroF1: 0.186772\tvalidation's multi_logloss: 1.40557\tvalidation's macroF1: 0.180787\n",
      "[4]\ttraining's multi_logloss: 1.38598\ttraining's macroF1: 0.211647\tvalidation's multi_logloss: 1.39335\tvalidation's macroF1: 0.20397\n",
      "[5]\ttraining's multi_logloss: 1.37343\ttraining's macroF1: 0.234087\tvalidation's multi_logloss: 1.38286\tvalidation's macroF1: 0.22555\n",
      "[6]\ttraining's multi_logloss: 1.36292\ttraining's macroF1: 0.249768\tvalidation's multi_logloss: 1.37423\tvalidation's macroF1: 0.240421\n",
      "[7]\ttraining's multi_logloss: 1.3535\ttraining's macroF1: 0.261333\tvalidation's multi_logloss: 1.36793\tvalidation's macroF1: 0.24707\n",
      "[8]\ttraining's multi_logloss: 1.34488\ttraining's macroF1: 0.270676\tvalidation's multi_logloss: 1.36109\tvalidation's macroF1: 0.255053\n",
      "[9]\ttraining's multi_logloss: 1.33731\ttraining's macroF1: 0.28152\tvalidation's multi_logloss: 1.3552\tvalidation's macroF1: 0.264449\n",
      "[10]\ttraining's multi_logloss: 1.33029\ttraining's macroF1: 0.288668\tvalidation's multi_logloss: 1.3511\tvalidation's macroF1: 0.269706\n",
      "[11]\ttraining's multi_logloss: 1.32345\ttraining's macroF1: 0.294937\tvalidation's multi_logloss: 1.34586\tvalidation's macroF1: 0.276445\n",
      "[12]\ttraining's multi_logloss: 1.31716\ttraining's macroF1: 0.30111\tvalidation's multi_logloss: 1.34117\tvalidation's macroF1: 0.280401\n",
      "[13]\ttraining's multi_logloss: 1.3115\ttraining's macroF1: 0.306934\tvalidation's multi_logloss: 1.33773\tvalidation's macroF1: 0.284999\n",
      "[14]\ttraining's multi_logloss: 1.30595\ttraining's macroF1: 0.312497\tvalidation's multi_logloss: 1.33394\tvalidation's macroF1: 0.290385\n",
      "[15]\ttraining's multi_logloss: 1.30053\ttraining's macroF1: 0.317998\tvalidation's multi_logloss: 1.33016\tvalidation's macroF1: 0.293697\n",
      "[16]\ttraining's multi_logloss: 1.29536\ttraining's macroF1: 0.32295\tvalidation's multi_logloss: 1.32674\tvalidation's macroF1: 0.298104\n",
      "[17]\ttraining's multi_logloss: 1.29025\ttraining's macroF1: 0.327473\tvalidation's multi_logloss: 1.32349\tvalidation's macroF1: 0.301411\n",
      "[18]\ttraining's multi_logloss: 1.28576\ttraining's macroF1: 0.332283\tvalidation's multi_logloss: 1.32067\tvalidation's macroF1: 0.304258\n",
      "[19]\ttraining's multi_logloss: 1.28137\ttraining's macroF1: 0.335588\tvalidation's multi_logloss: 1.31783\tvalidation's macroF1: 0.30631\n",
      "[20]\ttraining's multi_logloss: 1.27699\ttraining's macroF1: 0.339179\tvalidation's multi_logloss: 1.31509\tvalidation's macroF1: 0.308592\n",
      "[21]\ttraining's multi_logloss: 1.27284\ttraining's macroF1: 0.342718\tvalidation's multi_logloss: 1.31259\tvalidation's macroF1: 0.311191\n",
      "[22]\ttraining's multi_logloss: 1.26883\ttraining's macroF1: 0.346285\tvalidation's multi_logloss: 1.30986\tvalidation's macroF1: 0.313422\n",
      "[23]\ttraining's multi_logloss: 1.26508\ttraining's macroF1: 0.349524\tvalidation's multi_logloss: 1.30774\tvalidation's macroF1: 0.315142\n",
      "[24]\ttraining's multi_logloss: 1.26148\ttraining's macroF1: 0.35339\tvalidation's multi_logloss: 1.30557\tvalidation's macroF1: 0.318291\n",
      "[25]\ttraining's multi_logloss: 1.25788\ttraining's macroF1: 0.356182\tvalidation's multi_logloss: 1.30333\tvalidation's macroF1: 0.319863\n",
      "[26]\ttraining's multi_logloss: 1.25432\ttraining's macroF1: 0.359517\tvalidation's multi_logloss: 1.30131\tvalidation's macroF1: 0.322889\n",
      "[27]\ttraining's multi_logloss: 1.25103\ttraining's macroF1: 0.362149\tvalidation's multi_logloss: 1.29931\tvalidation's macroF1: 0.32485\n",
      "[28]\ttraining's multi_logloss: 1.24791\ttraining's macroF1: 0.365299\tvalidation's multi_logloss: 1.29759\tvalidation's macroF1: 0.326314\n",
      "[29]\ttraining's multi_logloss: 1.24451\ttraining's macroF1: 0.368276\tvalidation's multi_logloss: 1.2956\tvalidation's macroF1: 0.327882\n",
      "[30]\ttraining's multi_logloss: 1.24141\ttraining's macroF1: 0.371062\tvalidation's multi_logloss: 1.29369\tvalidation's macroF1: 0.329823\n",
      "[31]\ttraining's multi_logloss: 1.23838\ttraining's macroF1: 0.373831\tvalidation's multi_logloss: 1.29191\tvalidation's macroF1: 0.331324\n",
      "[32]\ttraining's multi_logloss: 1.23545\ttraining's macroF1: 0.376877\tvalidation's multi_logloss: 1.29047\tvalidation's macroF1: 0.332833\n",
      "[33]\ttraining's multi_logloss: 1.23249\ttraining's macroF1: 0.379289\tvalidation's multi_logloss: 1.28887\tvalidation's macroF1: 0.33461\n",
      "[34]\ttraining's multi_logloss: 1.22981\ttraining's macroF1: 0.381668\tvalidation's multi_logloss: 1.28726\tvalidation's macroF1: 0.336061\n",
      "[35]\ttraining's multi_logloss: 1.22721\ttraining's macroF1: 0.383949\tvalidation's multi_logloss: 1.28583\tvalidation's macroF1: 0.33757\n",
      "[36]\ttraining's multi_logloss: 1.2245\ttraining's macroF1: 0.386327\tvalidation's multi_logloss: 1.28449\tvalidation's macroF1: 0.338971\n",
      "[37]\ttraining's multi_logloss: 1.22193\ttraining's macroF1: 0.388454\tvalidation's multi_logloss: 1.28313\tvalidation's macroF1: 0.340178\n",
      "[38]\ttraining's multi_logloss: 1.2194\ttraining's macroF1: 0.391145\tvalidation's multi_logloss: 1.28192\tvalidation's macroF1: 0.341955\n",
      "[39]\ttraining's multi_logloss: 1.21696\ttraining's macroF1: 0.393227\tvalidation's multi_logloss: 1.28084\tvalidation's macroF1: 0.343261\n",
      "[40]\ttraining's multi_logloss: 1.21454\ttraining's macroF1: 0.395282\tvalidation's multi_logloss: 1.27961\tvalidation's macroF1: 0.344403\n",
      "[41]\ttraining's multi_logloss: 1.21211\ttraining's macroF1: 0.397536\tvalidation's multi_logloss: 1.27839\tvalidation's macroF1: 0.345498\n",
      "[42]\ttraining's multi_logloss: 1.20974\ttraining's macroF1: 0.39972\tvalidation's multi_logloss: 1.27702\tvalidation's macroF1: 0.346702\n",
      "[43]\ttraining's multi_logloss: 1.20748\ttraining's macroF1: 0.401924\tvalidation's multi_logloss: 1.27595\tvalidation's macroF1: 0.348032\n",
      "[44]\ttraining's multi_logloss: 1.20532\ttraining's macroF1: 0.403905\tvalidation's multi_logloss: 1.27504\tvalidation's macroF1: 0.349285\n",
      "[45]\ttraining's multi_logloss: 1.20334\ttraining's macroF1: 0.405582\tvalidation's multi_logloss: 1.27403\tvalidation's macroF1: 0.350199\n",
      "[46]\ttraining's multi_logloss: 1.2011\ttraining's macroF1: 0.407825\tvalidation's multi_logloss: 1.27302\tvalidation's macroF1: 0.351301\n",
      "[47]\ttraining's multi_logloss: 1.1989\ttraining's macroF1: 0.409696\tvalidation's multi_logloss: 1.27191\tvalidation's macroF1: 0.352146\n",
      "[48]\ttraining's multi_logloss: 1.19684\ttraining's macroF1: 0.411379\tvalidation's multi_logloss: 1.27094\tvalidation's macroF1: 0.352916\n",
      "[49]\ttraining's multi_logloss: 1.1948\ttraining's macroF1: 0.41317\tvalidation's multi_logloss: 1.26995\tvalidation's macroF1: 0.353288\n",
      "[50]\ttraining's multi_logloss: 1.19274\ttraining's macroF1: 0.415074\tvalidation's multi_logloss: 1.26902\tvalidation's macroF1: 0.353977\n",
      "[51]\ttraining's multi_logloss: 1.19082\ttraining's macroF1: 0.417113\tvalidation's multi_logloss: 1.26818\tvalidation's macroF1: 0.355282\n",
      "[52]\ttraining's multi_logloss: 1.1889\ttraining's macroF1: 0.418986\tvalidation's multi_logloss: 1.26748\tvalidation's macroF1: 0.355721\n",
      "[53]\ttraining's multi_logloss: 1.18697\ttraining's macroF1: 0.420572\tvalidation's multi_logloss: 1.26659\tvalidation's macroF1: 0.357577\n",
      "[54]\ttraining's multi_logloss: 1.18493\ttraining's macroF1: 0.422476\tvalidation's multi_logloss: 1.26572\tvalidation's macroF1: 0.358376\n",
      "[55]\ttraining's multi_logloss: 1.18316\ttraining's macroF1: 0.423978\tvalidation's multi_logloss: 1.26501\tvalidation's macroF1: 0.359863\n",
      "[56]\ttraining's multi_logloss: 1.18123\ttraining's macroF1: 0.425742\tvalidation's multi_logloss: 1.26419\tvalidation's macroF1: 0.360614\n",
      "[57]\ttraining's multi_logloss: 1.17949\ttraining's macroF1: 0.427229\tvalidation's multi_logloss: 1.26352\tvalidation's macroF1: 0.36061\n",
      "[58]\ttraining's multi_logloss: 1.17776\ttraining's macroF1: 0.42876\tvalidation's multi_logloss: 1.26272\tvalidation's macroF1: 0.361195\n",
      "[59]\ttraining's multi_logloss: 1.17602\ttraining's macroF1: 0.43016\tvalidation's multi_logloss: 1.26187\tvalidation's macroF1: 0.362691\n",
      "[60]\ttraining's multi_logloss: 1.17442\ttraining's macroF1: 0.431455\tvalidation's multi_logloss: 1.2612\tvalidation's macroF1: 0.363762\n",
      "[61]\ttraining's multi_logloss: 1.17293\ttraining's macroF1: 0.432778\tvalidation's multi_logloss: 1.26056\tvalidation's macroF1: 0.363964\n"
     ]
    },
    {
     "name": "stdout",
     "output_type": "stream",
     "text": [
      "[62]\ttraining's multi_logloss: 1.17137\ttraining's macroF1: 0.434073\tvalidation's multi_logloss: 1.25994\tvalidation's macroF1: 0.363896\n",
      "[63]\ttraining's multi_logloss: 1.16964\ttraining's macroF1: 0.435591\tvalidation's multi_logloss: 1.2592\tvalidation's macroF1: 0.364722\n",
      "[64]\ttraining's multi_logloss: 1.16808\ttraining's macroF1: 0.437168\tvalidation's multi_logloss: 1.25862\tvalidation's macroF1: 0.365087\n",
      "[65]\ttraining's multi_logloss: 1.16661\ttraining's macroF1: 0.438488\tvalidation's multi_logloss: 1.25797\tvalidation's macroF1: 0.36574\n",
      "[66]\ttraining's multi_logloss: 1.16508\ttraining's macroF1: 0.439951\tvalidation's multi_logloss: 1.25733\tvalidation's macroF1: 0.366222\n",
      "[67]\ttraining's multi_logloss: 1.16358\ttraining's macroF1: 0.441174\tvalidation's multi_logloss: 1.25682\tvalidation's macroF1: 0.366757\n",
      "[68]\ttraining's multi_logloss: 1.16187\ttraining's macroF1: 0.442912\tvalidation's multi_logloss: 1.25632\tvalidation's macroF1: 0.367173\n",
      "[69]\ttraining's multi_logloss: 1.16039\ttraining's macroF1: 0.44436\tvalidation's multi_logloss: 1.25575\tvalidation's macroF1: 0.368018\n",
      "[70]\ttraining's multi_logloss: 1.15881\ttraining's macroF1: 0.445667\tvalidation's multi_logloss: 1.25514\tvalidation's macroF1: 0.36906\n",
      "[71]\ttraining's multi_logloss: 1.15742\ttraining's macroF1: 0.446908\tvalidation's multi_logloss: 1.25459\tvalidation's macroF1: 0.369641\n",
      "[72]\ttraining's multi_logloss: 1.15599\ttraining's macroF1: 0.447923\tvalidation's multi_logloss: 1.25407\tvalidation's macroF1: 0.370323\n",
      "[73]\ttraining's multi_logloss: 1.15457\ttraining's macroF1: 0.449219\tvalidation's multi_logloss: 1.25354\tvalidation's macroF1: 0.370153\n",
      "[74]\ttraining's multi_logloss: 1.15312\ttraining's macroF1: 0.450656\tvalidation's multi_logloss: 1.25307\tvalidation's macroF1: 0.370927\n",
      "[75]\ttraining's multi_logloss: 1.15187\ttraining's macroF1: 0.451827\tvalidation's multi_logloss: 1.25257\tvalidation's macroF1: 0.371255\n",
      "[76]\ttraining's multi_logloss: 1.15035\ttraining's macroF1: 0.453149\tvalidation's multi_logloss: 1.25201\tvalidation's macroF1: 0.371806\n",
      "[77]\ttraining's multi_logloss: 1.1491\ttraining's macroF1: 0.454113\tvalidation's multi_logloss: 1.2516\tvalidation's macroF1: 0.372092\n",
      "[78]\ttraining's multi_logloss: 1.1476\ttraining's macroF1: 0.45512\tvalidation's multi_logloss: 1.25101\tvalidation's macroF1: 0.372717\n",
      "[79]\ttraining's multi_logloss: 1.14629\ttraining's macroF1: 0.456142\tvalidation's multi_logloss: 1.25062\tvalidation's macroF1: 0.373376\n",
      "[80]\ttraining's multi_logloss: 1.14485\ttraining's macroF1: 0.457602\tvalidation's multi_logloss: 1.25012\tvalidation's macroF1: 0.373876\n",
      "[81]\ttraining's multi_logloss: 1.14342\ttraining's macroF1: 0.458906\tvalidation's multi_logloss: 1.24958\tvalidation's macroF1: 0.373845\n",
      "[82]\ttraining's multi_logloss: 1.14213\ttraining's macroF1: 0.460099\tvalidation's multi_logloss: 1.24919\tvalidation's macroF1: 0.374079\n",
      "[83]\ttraining's multi_logloss: 1.1409\ttraining's macroF1: 0.461079\tvalidation's multi_logloss: 1.24882\tvalidation's macroF1: 0.37397\n",
      "[84]\ttraining's multi_logloss: 1.13941\ttraining's macroF1: 0.462532\tvalidation's multi_logloss: 1.24828\tvalidation's macroF1: 0.375078\n",
      "[85]\ttraining's multi_logloss: 1.13814\ttraining's macroF1: 0.46359\tvalidation's multi_logloss: 1.24773\tvalidation's macroF1: 0.375392\n",
      "[86]\ttraining's multi_logloss: 1.13693\ttraining's macroF1: 0.464442\tvalidation's multi_logloss: 1.24737\tvalidation's macroF1: 0.375687\n",
      "[87]\ttraining's multi_logloss: 1.13567\ttraining's macroF1: 0.465409\tvalidation's multi_logloss: 1.2469\tvalidation's macroF1: 0.37641\n",
      "[88]\ttraining's multi_logloss: 1.13449\ttraining's macroF1: 0.466196\tvalidation's multi_logloss: 1.24645\tvalidation's macroF1: 0.377277\n",
      "[89]\ttraining's multi_logloss: 1.13334\ttraining's macroF1: 0.467242\tvalidation's multi_logloss: 1.24611\tvalidation's macroF1: 0.377474\n",
      "[90]\ttraining's multi_logloss: 1.13222\ttraining's macroF1: 0.468138\tvalidation's multi_logloss: 1.2457\tvalidation's macroF1: 0.377831\n",
      "[91]\ttraining's multi_logloss: 1.13107\ttraining's macroF1: 0.469015\tvalidation's multi_logloss: 1.24537\tvalidation's macroF1: 0.377816\n",
      "[92]\ttraining's multi_logloss: 1.12971\ttraining's macroF1: 0.470196\tvalidation's multi_logloss: 1.245\tvalidation's macroF1: 0.378465\n",
      "[93]\ttraining's multi_logloss: 1.12857\ttraining's macroF1: 0.471319\tvalidation's multi_logloss: 1.24464\tvalidation's macroF1: 0.378613\n",
      "[94]\ttraining's multi_logloss: 1.12749\ttraining's macroF1: 0.472135\tvalidation's multi_logloss: 1.24427\tvalidation's macroF1: 0.37852\n",
      "[95]\ttraining's multi_logloss: 1.12629\ttraining's macroF1: 0.473055\tvalidation's multi_logloss: 1.24393\tvalidation's macroF1: 0.378851\n",
      "[96]\ttraining's multi_logloss: 1.12492\ttraining's macroF1: 0.474395\tvalidation's multi_logloss: 1.24361\tvalidation's macroF1: 0.378936\n",
      "[97]\ttraining's multi_logloss: 1.12386\ttraining's macroF1: 0.475091\tvalidation's multi_logloss: 1.24339\tvalidation's macroF1: 0.379093\n",
      "[98]\ttraining's multi_logloss: 1.12282\ttraining's macroF1: 0.476117\tvalidation's multi_logloss: 1.24301\tvalidation's macroF1: 0.379677\n",
      "[99]\ttraining's multi_logloss: 1.12164\ttraining's macroF1: 0.477046\tvalidation's multi_logloss: 1.24262\tvalidation's macroF1: 0.380194\n",
      "[100]\ttraining's multi_logloss: 1.12061\ttraining's macroF1: 0.477827\tvalidation's multi_logloss: 1.24233\tvalidation's macroF1: 0.380279\n",
      "[101]\ttraining's multi_logloss: 1.11971\ttraining's macroF1: 0.478564\tvalidation's multi_logloss: 1.24197\tvalidation's macroF1: 0.380742\n",
      "[102]\ttraining's multi_logloss: 1.11868\ttraining's macroF1: 0.479419\tvalidation's multi_logloss: 1.24172\tvalidation's macroF1: 0.380982\n",
      "[103]\ttraining's multi_logloss: 1.11771\ttraining's macroF1: 0.480259\tvalidation's multi_logloss: 1.24152\tvalidation's macroF1: 0.381045\n",
      "[104]\ttraining's multi_logloss: 1.11652\ttraining's macroF1: 0.481346\tvalidation's multi_logloss: 1.24121\tvalidation's macroF1: 0.381015\n",
      "[105]\ttraining's multi_logloss: 1.11551\ttraining's macroF1: 0.482218\tvalidation's multi_logloss: 1.2409\tvalidation's macroF1: 0.38141\n",
      "[106]\ttraining's multi_logloss: 1.11439\ttraining's macroF1: 0.483243\tvalidation's multi_logloss: 1.24054\tvalidation's macroF1: 0.381547\n",
      "[107]\ttraining's multi_logloss: 1.11329\ttraining's macroF1: 0.483972\tvalidation's multi_logloss: 1.24029\tvalidation's macroF1: 0.381759\n",
      "[108]\ttraining's multi_logloss: 1.11225\ttraining's macroF1: 0.484846\tvalidation's multi_logloss: 1.23997\tvalidation's macroF1: 0.382078\n",
      "[109]\ttraining's multi_logloss: 1.11103\ttraining's macroF1: 0.486107\tvalidation's multi_logloss: 1.23968\tvalidation's macroF1: 0.38261\n",
      "[110]\ttraining's multi_logloss: 1.10992\ttraining's macroF1: 0.486994\tvalidation's multi_logloss: 1.23935\tvalidation's macroF1: 0.383111\n",
      "[111]\ttraining's multi_logloss: 1.10906\ttraining's macroF1: 0.487678\tvalidation's multi_logloss: 1.23916\tvalidation's macroF1: 0.383043\n",
      "[112]\ttraining's multi_logloss: 1.10796\ttraining's macroF1: 0.488651\tvalidation's multi_logloss: 1.23884\tvalidation's macroF1: 0.382753\n",
      "[113]\ttraining's multi_logloss: 1.10703\ttraining's macroF1: 0.489292\tvalidation's multi_logloss: 1.23863\tvalidation's macroF1: 0.383234\n",
      "[114]\ttraining's multi_logloss: 1.10619\ttraining's macroF1: 0.490165\tvalidation's multi_logloss: 1.23836\tvalidation's macroF1: 0.383449\n",
      "[115]\ttraining's multi_logloss: 1.10524\ttraining's macroF1: 0.490946\tvalidation's multi_logloss: 1.23815\tvalidation's macroF1: 0.383643\n",
      "[116]\ttraining's multi_logloss: 1.10429\ttraining's macroF1: 0.491881\tvalidation's multi_logloss: 1.23798\tvalidation's macroF1: 0.383981\n",
      "[117]\ttraining's multi_logloss: 1.1034\ttraining's macroF1: 0.492646\tvalidation's multi_logloss: 1.2377\tvalidation's macroF1: 0.384483\n",
      "[118]\ttraining's multi_logloss: 1.1025\ttraining's macroF1: 0.493543\tvalidation's multi_logloss: 1.2375\tvalidation's macroF1: 0.384841\n",
      "[119]\ttraining's multi_logloss: 1.10157\ttraining's macroF1: 0.494342\tvalidation's multi_logloss: 1.23728\tvalidation's macroF1: 0.385222\n",
      "[120]\ttraining's multi_logloss: 1.10055\ttraining's macroF1: 0.49512\tvalidation's multi_logloss: 1.23703\tvalidation's macroF1: 0.385516\n",
      "[121]\ttraining's multi_logloss: 1.09961\ttraining's macroF1: 0.495908\tvalidation's multi_logloss: 1.23686\tvalidation's macroF1: 0.385731\n",
      "[122]\ttraining's multi_logloss: 1.09872\ttraining's macroF1: 0.496837\tvalidation's multi_logloss: 1.23666\tvalidation's macroF1: 0.386006\n"
     ]
    },
    {
     "name": "stdout",
     "output_type": "stream",
     "text": [
      "[123]\ttraining's multi_logloss: 1.09782\ttraining's macroF1: 0.497502\tvalidation's multi_logloss: 1.23649\tvalidation's macroF1: 0.386086\n",
      "[124]\ttraining's multi_logloss: 1.09673\ttraining's macroF1: 0.498487\tvalidation's multi_logloss: 1.23629\tvalidation's macroF1: 0.386284\n",
      "[125]\ttraining's multi_logloss: 1.09581\ttraining's macroF1: 0.499318\tvalidation's multi_logloss: 1.23601\tvalidation's macroF1: 0.386573\n",
      "[126]\ttraining's multi_logloss: 1.09489\ttraining's macroF1: 0.500102\tvalidation's multi_logloss: 1.23579\tvalidation's macroF1: 0.386444\n",
      "[127]\ttraining's multi_logloss: 1.09396\ttraining's macroF1: 0.500962\tvalidation's multi_logloss: 1.23555\tvalidation's macroF1: 0.38667\n",
      "[128]\ttraining's multi_logloss: 1.09312\ttraining's macroF1: 0.501893\tvalidation's multi_logloss: 1.23536\tvalidation's macroF1: 0.386722\n",
      "[129]\ttraining's multi_logloss: 1.09217\ttraining's macroF1: 0.502615\tvalidation's multi_logloss: 1.23514\tvalidation's macroF1: 0.387303\n",
      "[130]\ttraining's multi_logloss: 1.09132\ttraining's macroF1: 0.503417\tvalidation's multi_logloss: 1.23501\tvalidation's macroF1: 0.38748\n",
      "[131]\ttraining's multi_logloss: 1.09062\ttraining's macroF1: 0.503916\tvalidation's multi_logloss: 1.23486\tvalidation's macroF1: 0.387836\n",
      "[132]\ttraining's multi_logloss: 1.08981\ttraining's macroF1: 0.504461\tvalidation's multi_logloss: 1.23474\tvalidation's macroF1: 0.388097\n",
      "[133]\ttraining's multi_logloss: 1.08906\ttraining's macroF1: 0.505195\tvalidation's multi_logloss: 1.23459\tvalidation's macroF1: 0.388884\n",
      "[134]\ttraining's multi_logloss: 1.08808\ttraining's macroF1: 0.505913\tvalidation's multi_logloss: 1.23446\tvalidation's macroF1: 0.388968\n",
      "[135]\ttraining's multi_logloss: 1.0873\ttraining's macroF1: 0.50645\tvalidation's multi_logloss: 1.23425\tvalidation's macroF1: 0.389535\n",
      "[136]\ttraining's multi_logloss: 1.08648\ttraining's macroF1: 0.50728\tvalidation's multi_logloss: 1.23418\tvalidation's macroF1: 0.389542\n",
      "[137]\ttraining's multi_logloss: 1.08546\ttraining's macroF1: 0.508386\tvalidation's multi_logloss: 1.234\tvalidation's macroF1: 0.389544\n",
      "[138]\ttraining's multi_logloss: 1.08465\ttraining's macroF1: 0.509276\tvalidation's multi_logloss: 1.2338\tvalidation's macroF1: 0.389649\n",
      "[139]\ttraining's multi_logloss: 1.08386\ttraining's macroF1: 0.509884\tvalidation's multi_logloss: 1.23366\tvalidation's macroF1: 0.389817\n",
      "[140]\ttraining's multi_logloss: 1.08305\ttraining's macroF1: 0.510485\tvalidation's multi_logloss: 1.23351\tvalidation's macroF1: 0.389985\n",
      "[141]\ttraining's multi_logloss: 1.08222\ttraining's macroF1: 0.511141\tvalidation's multi_logloss: 1.23335\tvalidation's macroF1: 0.389781\n",
      "[142]\ttraining's multi_logloss: 1.08154\ttraining's macroF1: 0.511768\tvalidation's multi_logloss: 1.23315\tvalidation's macroF1: 0.389881\n",
      "[143]\ttraining's multi_logloss: 1.08056\ttraining's macroF1: 0.512732\tvalidation's multi_logloss: 1.233\tvalidation's macroF1: 0.389683\n",
      "[144]\ttraining's multi_logloss: 1.07976\ttraining's macroF1: 0.513411\tvalidation's multi_logloss: 1.23282\tvalidation's macroF1: 0.390157\n",
      "[145]\ttraining's multi_logloss: 1.07904\ttraining's macroF1: 0.513987\tvalidation's multi_logloss: 1.23269\tvalidation's macroF1: 0.390141\n",
      "[146]\ttraining's multi_logloss: 1.07825\ttraining's macroF1: 0.514602\tvalidation's multi_logloss: 1.23263\tvalidation's macroF1: 0.390539\n",
      "[147]\ttraining's multi_logloss: 1.07757\ttraining's macroF1: 0.515208\tvalidation's multi_logloss: 1.23249\tvalidation's macroF1: 0.390713\n",
      "[148]\ttraining's multi_logloss: 1.07656\ttraining's macroF1: 0.516162\tvalidation's multi_logloss: 1.23237\tvalidation's macroF1: 0.391033\n",
      "[149]\ttraining's multi_logloss: 1.07586\ttraining's macroF1: 0.516873\tvalidation's multi_logloss: 1.23219\tvalidation's macroF1: 0.391628\n",
      "[150]\ttraining's multi_logloss: 1.07503\ttraining's macroF1: 0.517449\tvalidation's multi_logloss: 1.23212\tvalidation's macroF1: 0.391775\n",
      "[151]\ttraining's multi_logloss: 1.07417\ttraining's macroF1: 0.518038\tvalidation's multi_logloss: 1.23199\tvalidation's macroF1: 0.392244\n",
      "[152]\ttraining's multi_logloss: 1.07352\ttraining's macroF1: 0.518704\tvalidation's multi_logloss: 1.23194\tvalidation's macroF1: 0.392451\n",
      "[153]\ttraining's multi_logloss: 1.07286\ttraining's macroF1: 0.519321\tvalidation's multi_logloss: 1.2318\tvalidation's macroF1: 0.392549\n",
      "[154]\ttraining's multi_logloss: 1.0721\ttraining's macroF1: 0.51985\tvalidation's multi_logloss: 1.23171\tvalidation's macroF1: 0.392996\n",
      "[155]\ttraining's multi_logloss: 1.07143\ttraining's macroF1: 0.520392\tvalidation's multi_logloss: 1.2316\tvalidation's macroF1: 0.393239\n",
      "[156]\ttraining's multi_logloss: 1.07066\ttraining's macroF1: 0.521076\tvalidation's multi_logloss: 1.23155\tvalidation's macroF1: 0.393341\n",
      "[157]\ttraining's multi_logloss: 1.06974\ttraining's macroF1: 0.521908\tvalidation's multi_logloss: 1.23144\tvalidation's macroF1: 0.393411\n",
      "[158]\ttraining's multi_logloss: 1.06912\ttraining's macroF1: 0.522501\tvalidation's multi_logloss: 1.23133\tvalidation's macroF1: 0.393685\n",
      "[159]\ttraining's multi_logloss: 1.06836\ttraining's macroF1: 0.523169\tvalidation's multi_logloss: 1.23124\tvalidation's macroF1: 0.394068\n",
      "[160]\ttraining's multi_logloss: 1.06777\ttraining's macroF1: 0.523647\tvalidation's multi_logloss: 1.23113\tvalidation's macroF1: 0.393865\n",
      "[161]\ttraining's multi_logloss: 1.06697\ttraining's macroF1: 0.524274\tvalidation's multi_logloss: 1.23106\tvalidation's macroF1: 0.394116\n",
      "[162]\ttraining's multi_logloss: 1.06615\ttraining's macroF1: 0.524855\tvalidation's multi_logloss: 1.23102\tvalidation's macroF1: 0.394158\n",
      "[163]\ttraining's multi_logloss: 1.06543\ttraining's macroF1: 0.525417\tvalidation's multi_logloss: 1.23086\tvalidation's macroF1: 0.393649\n",
      "[164]\ttraining's multi_logloss: 1.06467\ttraining's macroF1: 0.526035\tvalidation's multi_logloss: 1.23073\tvalidation's macroF1: 0.393552\n",
      "[165]\ttraining's multi_logloss: 1.06398\ttraining's macroF1: 0.526602\tvalidation's multi_logloss: 1.23066\tvalidation's macroF1: 0.393931\n",
      "[166]\ttraining's multi_logloss: 1.06306\ttraining's macroF1: 0.527377\tvalidation's multi_logloss: 1.23055\tvalidation's macroF1: 0.394197\n",
      "[167]\ttraining's multi_logloss: 1.06237\ttraining's macroF1: 0.527934\tvalidation's multi_logloss: 1.23048\tvalidation's macroF1: 0.393868\n",
      "[168]\ttraining's multi_logloss: 1.06171\ttraining's macroF1: 0.52846\tvalidation's multi_logloss: 1.23031\tvalidation's macroF1: 0.393791\n",
      "[169]\ttraining's multi_logloss: 1.0609\ttraining's macroF1: 0.529202\tvalidation's multi_logloss: 1.2303\tvalidation's macroF1: 0.393911\n",
      "[170]\ttraining's multi_logloss: 1.06011\ttraining's macroF1: 0.529832\tvalidation's multi_logloss: 1.23017\tvalidation's macroF1: 0.394597\n",
      "[171]\ttraining's multi_logloss: 1.05936\ttraining's macroF1: 0.530423\tvalidation's multi_logloss: 1.23006\tvalidation's macroF1: 0.394707\n",
      "[172]\ttraining's multi_logloss: 1.0587\ttraining's macroF1: 0.531115\tvalidation's multi_logloss: 1.22998\tvalidation's macroF1: 0.394758\n",
      "[173]\ttraining's multi_logloss: 1.05814\ttraining's macroF1: 0.531546\tvalidation's multi_logloss: 1.22989\tvalidation's macroF1: 0.394685\n",
      "[174]\ttraining's multi_logloss: 1.05764\ttraining's macroF1: 0.531918\tvalidation's multi_logloss: 1.22979\tvalidation's macroF1: 0.394709\n",
      "[175]\ttraining's multi_logloss: 1.05696\ttraining's macroF1: 0.532604\tvalidation's multi_logloss: 1.2297\tvalidation's macroF1: 0.394996\n",
      "[176]\ttraining's multi_logloss: 1.05616\ttraining's macroF1: 0.533173\tvalidation's multi_logloss: 1.22964\tvalidation's macroF1: 0.395291\n",
      "[177]\ttraining's multi_logloss: 1.0555\ttraining's macroF1: 0.533831\tvalidation's multi_logloss: 1.22957\tvalidation's macroF1: 0.395364\n",
      "[178]\ttraining's multi_logloss: 1.0548\ttraining's macroF1: 0.534356\tvalidation's multi_logloss: 1.22949\tvalidation's macroF1: 0.395495\n",
      "[179]\ttraining's multi_logloss: 1.05404\ttraining's macroF1: 0.534924\tvalidation's multi_logloss: 1.22943\tvalidation's macroF1: 0.395683\n",
      "[180]\ttraining's multi_logloss: 1.05327\ttraining's macroF1: 0.53549\tvalidation's multi_logloss: 1.22933\tvalidation's macroF1: 0.395684\n",
      "[181]\ttraining's multi_logloss: 1.05265\ttraining's macroF1: 0.535889\tvalidation's multi_logloss: 1.2293\tvalidation's macroF1: 0.395689\n",
      "[182]\ttraining's multi_logloss: 1.052\ttraining's macroF1: 0.536359\tvalidation's multi_logloss: 1.22921\tvalidation's macroF1: 0.396016\n",
      "[183]\ttraining's multi_logloss: 1.05135\ttraining's macroF1: 0.536916\tvalidation's multi_logloss: 1.22902\tvalidation's macroF1: 0.395974\n"
     ]
    },
    {
     "name": "stdout",
     "output_type": "stream",
     "text": [
      "[184]\ttraining's multi_logloss: 1.05069\ttraining's macroF1: 0.537483\tvalidation's multi_logloss: 1.22894\tvalidation's macroF1: 0.395919\n",
      "[185]\ttraining's multi_logloss: 1.05007\ttraining's macroF1: 0.537897\tvalidation's multi_logloss: 1.22886\tvalidation's macroF1: 0.396037\n",
      "[186]\ttraining's multi_logloss: 1.04944\ttraining's macroF1: 0.538355\tvalidation's multi_logloss: 1.2288\tvalidation's macroF1: 0.396045\n",
      "[187]\ttraining's multi_logloss: 1.04871\ttraining's macroF1: 0.538808\tvalidation's multi_logloss: 1.22876\tvalidation's macroF1: 0.396308\n",
      "[188]\ttraining's multi_logloss: 1.04816\ttraining's macroF1: 0.539324\tvalidation's multi_logloss: 1.22866\tvalidation's macroF1: 0.39636\n",
      "[189]\ttraining's multi_logloss: 1.04745\ttraining's macroF1: 0.539897\tvalidation's multi_logloss: 1.22861\tvalidation's macroF1: 0.396372\n",
      "[190]\ttraining's multi_logloss: 1.04691\ttraining's macroF1: 0.540337\tvalidation's multi_logloss: 1.22856\tvalidation's macroF1: 0.396609\n",
      "[191]\ttraining's multi_logloss: 1.04622\ttraining's macroF1: 0.540885\tvalidation's multi_logloss: 1.22856\tvalidation's macroF1: 0.396623\n",
      "[192]\ttraining's multi_logloss: 1.04555\ttraining's macroF1: 0.541416\tvalidation's multi_logloss: 1.22858\tvalidation's macroF1: 0.396711\n",
      "[193]\ttraining's multi_logloss: 1.04475\ttraining's macroF1: 0.54213\tvalidation's multi_logloss: 1.22859\tvalidation's macroF1: 0.396905\n",
      "[194]\ttraining's multi_logloss: 1.04411\ttraining's macroF1: 0.542625\tvalidation's multi_logloss: 1.22862\tvalidation's macroF1: 0.397189\n",
      "[195]\ttraining's multi_logloss: 1.04353\ttraining's macroF1: 0.54302\tvalidation's multi_logloss: 1.22861\tvalidation's macroF1: 0.397145\n",
      "[196]\ttraining's multi_logloss: 1.04297\ttraining's macroF1: 0.543441\tvalidation's multi_logloss: 1.2286\tvalidation's macroF1: 0.39663\n",
      "[197]\ttraining's multi_logloss: 1.04245\ttraining's macroF1: 0.543856\tvalidation's multi_logloss: 1.22859\tvalidation's macroF1: 0.396811\n",
      "[198]\ttraining's multi_logloss: 1.04185\ttraining's macroF1: 0.544336\tvalidation's multi_logloss: 1.22855\tvalidation's macroF1: 0.396929\n",
      "[199]\ttraining's multi_logloss: 1.04123\ttraining's macroF1: 0.544761\tvalidation's multi_logloss: 1.22853\tvalidation's macroF1: 0.397059\n",
      "[200]\ttraining's multi_logloss: 1.04058\ttraining's macroF1: 0.545197\tvalidation's multi_logloss: 1.22853\tvalidation's macroF1: 0.397125\n",
      "CPU times: user 20min 50s, sys: 3min 59s, total: 24min 50s\n",
      "Wall time: 3min 2s\n"
     ]
    }
   ],
   "source": [
    "%%time\n",
    "gbm = model3.fit(train.drop(\"rating\", axis=1), train[\"rating\"], callbacks=[wandb_callback()], \\\n",
    "                 categorical_feature=[\"user_id\", \"book_id\", \"review_id\"], eval_metric=evaluate_macroF1_lgb, \\\n",
    "                 eval_set=[(train.drop(\"rating\", axis=1), train[\"rating\"]), (val.drop(\"rating\", axis=1), val[\"rating\"])], \\\n",
    "                 eval_names=[\"training\", \"validation\"]);"
   ]
  },
  {
   "cell_type": "code",
   "execution_count": 11,
   "metadata": {},
   "outputs": [
    {
     "data": {
      "text/plain": [
       "<lightgbm.basic.Booster at 0x7f7cfc05a9d0>"
      ]
     },
     "execution_count": 11,
     "metadata": {},
     "output_type": "execute_result"
    }
   ],
   "source": [
    "model3.booster_.save_model('model3.txt')"
   ]
  },
  {
   "cell_type": "code",
   "execution_count": 13,
   "metadata": {},
   "outputs": [],
   "source": [
    "ypred3_ = model3.predict_proba(val.drop(\"rating\", axis=1))\n",
    "ypred3 = np.argmax(ypred3_, axis=1)"
   ]
  },
  {
   "cell_type": "code",
   "execution_count": 14,
   "metadata": {},
   "outputs": [
    {
     "name": "stderr",
     "output_type": "stream",
     "text": [
      "<ipython-input-14-495db254e0b8>:2: SettingWithCopyWarning: \n",
      "A value is trying to be set on a copy of a slice from a DataFrame.\n",
      "Try using .loc[row_indexer,col_indexer] = value instead\n",
      "\n",
      "See the caveats in the documentation: https://pandas.pydata.org/pandas-docs/stable/user_guide/indexing.html#returning-a-view-versus-a-copy\n",
      "  predictions[\"pred\"] = ypred3\n"
     ]
    }
   ],
   "source": [
    "predictions = val[[\"review_id\", \"rating\"]]\n",
    "predictions[\"pred\"] = ypred3"
   ]
  },
  {
   "cell_type": "code",
   "execution_count": 15,
   "metadata": {},
   "outputs": [],
   "source": [
    "table = wandb.Table(dataframe=predictions)"
   ]
  },
  {
   "cell_type": "code",
   "execution_count": 16,
   "metadata": {},
   "outputs": [],
   "source": [
    "wandb.log({\"pred_table\":table})"
   ]
  },
  {
   "cell_type": "code",
   "execution_count": 17,
   "metadata": {},
   "outputs": [
    {
     "name": "stdout",
     "output_type": "stream",
     "text": [
      "0.39712511317642535\n"
     ]
    }
   ],
   "source": [
    "f1 = f1_score(val['rating'], ypred3, average='macro')\n",
    "print(f1)"
   ]
  },
  {
   "cell_type": "code",
   "execution_count": 18,
   "metadata": {},
   "outputs": [
    {
     "name": "stderr",
     "output_type": "stream",
     "text": [
      "<ipython-input-18-c01bc6f8c6e1>:1: UserWarning: More than one metric available, picking one to plot.\n",
      "  lgb.plot_metric(model3, grid=True, figsize=(12, 8));\n"
     ]
    },
    {
     "data": {
      "image/png": "[encoded data removed]",
      "text/plain": [
       "<Figure size 864x576 with 1 Axes>"
      ]
     },
     "metadata": {
      "needs_background": "light"
     },
     "output_type": "display_data"
    }
   ],
   "source": [
    "lgb.plot_metric(model3, grid=True, figsize=(12, 8));"
   ]
  },
  {
   "cell_type": "code",
   "execution_count": 19,
   "metadata": {},
   "outputs": [],
   "source": [
    "log_summary(gbm.booster_)"
   ]
  },
  {
   "cell_type": "code",
   "execution_count": 20,
   "metadata": {
    "scrolled": false
   },
   "outputs": [
    {
     "data": {
      "text/html": [
       "Waiting for W&B process to finish... <strong style=\"color:green\">(success).</strong>"
      ],
      "text/plain": [
       "<IPython.core.display.HTML object>"
      ]
     },
     "metadata": {},
     "output_type": "display_data"
    },
    {
     "data": {
      "text/html": [
       "<style>\n",
       "    table.wandb td:nth-child(1) { padding: 0 10px; text-align: left ; width: auto;} td:nth-child(2) {text-align: left ; width: 100%}\n",
       "    .wandb-row { display: flex; flex-direction: row; flex-wrap: wrap; justify-content: flex-start; width: 100% }\n",
       "    .wandb-col { display: flex; flex-direction: column; flex-basis: 100%; flex: 1; padding: 10px; }\n",
       "    </style>\n",
       "<div class=\"wandb-row\"><div class=\"wandb-col\"><h3>Run history:</h3><br/><table class=\"wandb\"><tr><td>iteration</td><td>▁▁▁▁▂▂▂▂▂▃▃▃▃▃▃▄▄▄▄▄▅▅▅▅▅▅▆▆▆▆▆▇▇▇▇▇▇███</td></tr><tr><td>training_macroF1</td><td>▁▃▃▄▄▅▅▅▅▅▆▆▆▆▆▆▆▇▇▇▇▇▇▇▇▇▇▇▇▇██████████</td></tr><tr><td>training_multi_logloss</td><td>█▇▆▆▅▅▅▄▄▄▄▄▃▃▃▃▃▃▃▃▂▂▂▂▂▂▂▂▂▂▂▂▁▁▁▁▁▁▁▁</td></tr><tr><td>validation_macroF1</td><td>▁▃▅▅▆▆▆▆▇▇▇▇▇▇▇▇▇▇▇▇████████████████████</td></tr><tr><td>validation_multi_logloss</td><td>█▆▅▅▄▄▃▃▃▃▂▂▂▂▂▂▂▂▂▂▁▁▁▁▁▁▁▁▁▁▁▁▁▁▁▁▁▁▁▁</td></tr></table><br/></div><div class=\"wandb-col\"><h3>Run summary:</h3><br/><table class=\"wandb\"><tr><td>best_iteration</td><td>0</td></tr><tr><td>iteration</td><td>199</td></tr><tr><td>training_macroF1</td><td>0.5452</td></tr><tr><td>validation_macroF1</td><td>0.39713</td></tr></table><br/></div></div>"
      ],
      "text/plain": [
       "<IPython.core.display.HTML object>"
      ]
     },
     "metadata": {},
     "output_type": "display_data"
    },
    {
     "data": {
      "text/html": [
       " View run <strong style=\"color:#cdcd00\">pleasant-frost-24</strong> at: <a href='https://wandb.ai/d-a-pop/Goodreads%20Books%20Reviews/runs/mgguv0ds' target=\"_blank\">https://wandb.ai/d-a-pop/Goodreads%20Books%20Reviews/runs/mgguv0ds</a><br/>Synced 6 W&B file(s), 2 media file(s), 2 artifact file(s) and 0 other file(s)"
      ],
      "text/plain": [
       "<IPython.core.display.HTML object>"
      ]
     },
     "metadata": {},
     "output_type": "display_data"
    },
    {
     "data": {
      "text/html": [
       "Find logs at: <code>./wandb/run-20230330_122440-mgguv0ds/logs</code>"
      ],
      "text/plain": [
       "<IPython.core.display.HTML object>"
      ]
     },
     "metadata": {},
     "output_type": "display_data"
    }
   ],
   "source": [
    "run.finish()"
   ]
  },
  {
   "cell_type": "markdown",
   "metadata": {},
   "source": [
    "## Continue training 200 more iterations"
   ]
  },
  {
   "cell_type": "code",
   "execution_count": 32,
   "metadata": {},
   "outputs": [
    {
     "data": {
      "text/html": [
       "Tracking run with wandb version 0.14.0"
      ],
      "text/plain": [
       "<IPython.core.display.HTML object>"
      ]
     },
     "metadata": {},
     "output_type": "display_data"
    },
    {
     "data": {
      "text/html": [
       "Run data is saved locally in <code>/Users/dragos/Downloads/wandb/run-20230330_123537-8aiqhm0e</code>"
      ],
      "text/plain": [
       "<IPython.core.display.HTML object>"
      ]
     },
     "metadata": {},
     "output_type": "display_data"
    },
    {
     "data": {
      "text/html": [
       "Syncing run <strong><a href='https://wandb.ai/d-a-pop/Goodreads%20Books%20Reviews/runs/8aiqhm0e' target=\"_blank\">rich-water-26</a></strong> to <a href='https://wandb.ai/d-a-pop/Goodreads%20Books%20Reviews' target=\"_blank\">Weights & Biases</a> (<a href='https://wandb.me/run' target=\"_blank\">docs</a>)<br/>"
      ],
      "text/plain": [
       "<IPython.core.display.HTML object>"
      ]
     },
     "metadata": {},
     "output_type": "display_data"
    },
    {
     "data": {
      "text/html": [
       " View project at <a href='https://wandb.ai/d-a-pop/Goodreads%20Books%20Reviews' target=\"_blank\">https://wandb.ai/d-a-pop/Goodreads%20Books%20Reviews</a>"
      ],
      "text/plain": [
       "<IPython.core.display.HTML object>"
      ]
     },
     "metadata": {},
     "output_type": "display_data"
    },
    {
     "data": {
      "text/html": [
       " View run at <a href='https://wandb.ai/d-a-pop/Goodreads%20Books%20Reviews/runs/8aiqhm0e' target=\"_blank\">https://wandb.ai/d-a-pop/Goodreads%20Books%20Reviews/runs/8aiqhm0e</a>"
      ],
      "text/plain": [
       "<IPython.core.display.HTML object>"
      ]
     },
     "metadata": {},
     "output_type": "display_data"
    }
   ],
   "source": [
    "run = wandb.init(project=\"Goodreads Books Reviews\", entity=\"d-a-pop\", job_type=\"training\")"
   ]
  },
  {
   "cell_type": "code",
   "execution_count": 33,
   "metadata": {},
   "outputs": [],
   "source": [
    "model4 = lgb.LGBMClassifier()"
   ]
  },
  {
   "cell_type": "code",
   "execution_count": 34,
   "metadata": {
    "scrolled": true
   },
   "outputs": [
    {
     "name": "stdout",
     "output_type": "stream",
     "text": [
      "[201]\ttraining's multi_logloss: 1.04001\ttraining's macroF1: 0.545595\tvalidation's multi_logloss: 1.22857\tvalidation's macroF1: 0.397509\n",
      "[202]\ttraining's multi_logloss: 1.0395\ttraining's macroF1: 0.546128\tvalidation's multi_logloss: 1.22854\tvalidation's macroF1: 0.397533\n",
      "[203]\ttraining's multi_logloss: 1.03891\ttraining's macroF1: 0.546554\tvalidation's multi_logloss: 1.22845\tvalidation's macroF1: 0.397588\n",
      "[204]\ttraining's multi_logloss: 1.03851\ttraining's macroF1: 0.546783\tvalidation's multi_logloss: 1.22843\tvalidation's macroF1: 0.397699\n",
      "[205]\ttraining's multi_logloss: 1.03781\ttraining's macroF1: 0.547303\tvalidation's multi_logloss: 1.22843\tvalidation's macroF1: 0.397567\n",
      "[206]\ttraining's multi_logloss: 1.03709\ttraining's macroF1: 0.547848\tvalidation's multi_logloss: 1.22847\tvalidation's macroF1: 0.398085\n",
      "[207]\ttraining's multi_logloss: 1.03647\ttraining's macroF1: 0.548324\tvalidation's multi_logloss: 1.22847\tvalidation's macroF1: 0.398115\n",
      "[208]\ttraining's multi_logloss: 1.03581\ttraining's macroF1: 0.549065\tvalidation's multi_logloss: 1.22846\tvalidation's macroF1: 0.398134\n",
      "[209]\ttraining's multi_logloss: 1.0352\ttraining's macroF1: 0.549705\tvalidation's multi_logloss: 1.22844\tvalidation's macroF1: 0.398026\n",
      "[210]\ttraining's multi_logloss: 1.03477\ttraining's macroF1: 0.550065\tvalidation's multi_logloss: 1.22839\tvalidation's macroF1: 0.398154\n",
      "[211]\ttraining's multi_logloss: 1.03421\ttraining's macroF1: 0.55053\tvalidation's multi_logloss: 1.22837\tvalidation's macroF1: 0.39842\n",
      "[212]\ttraining's multi_logloss: 1.03368\ttraining's macroF1: 0.550948\tvalidation's multi_logloss: 1.22846\tvalidation's macroF1: 0.398364\n",
      "[213]\ttraining's multi_logloss: 1.03309\ttraining's macroF1: 0.551477\tvalidation's multi_logloss: 1.22844\tvalidation's macroF1: 0.398412\n",
      "[214]\ttraining's multi_logloss: 1.03255\ttraining's macroF1: 0.551881\tvalidation's multi_logloss: 1.22843\tvalidation's macroF1: 0.398396\n",
      "[215]\ttraining's multi_logloss: 1.03184\ttraining's macroF1: 0.55253\tvalidation's multi_logloss: 1.22836\tvalidation's macroF1: 0.398471\n",
      "[216]\ttraining's multi_logloss: 1.03138\ttraining's macroF1: 0.552881\tvalidation's multi_logloss: 1.22833\tvalidation's macroF1: 0.398494\n",
      "[217]\ttraining's multi_logloss: 1.03077\ttraining's macroF1: 0.553378\tvalidation's multi_logloss: 1.2283\tvalidation's macroF1: 0.398668\n",
      "[218]\ttraining's multi_logloss: 1.03003\ttraining's macroF1: 0.553985\tvalidation's multi_logloss: 1.22823\tvalidation's macroF1: 0.398824\n",
      "[219]\ttraining's multi_logloss: 1.02954\ttraining's macroF1: 0.554357\tvalidation's multi_logloss: 1.22822\tvalidation's macroF1: 0.398824\n",
      "[220]\ttraining's multi_logloss: 1.02903\ttraining's macroF1: 0.554728\tvalidation's multi_logloss: 1.22822\tvalidation's macroF1: 0.399001\n",
      "[221]\ttraining's multi_logloss: 1.02836\ttraining's macroF1: 0.555209\tvalidation's multi_logloss: 1.22822\tvalidation's macroF1: 0.399299\n",
      "[222]\ttraining's multi_logloss: 1.02768\ttraining's macroF1: 0.555585\tvalidation's multi_logloss: 1.22823\tvalidation's macroF1: 0.399166\n",
      "[223]\ttraining's multi_logloss: 1.02711\ttraining's macroF1: 0.555976\tvalidation's multi_logloss: 1.22815\tvalidation's macroF1: 0.399696\n",
      "[224]\ttraining's multi_logloss: 1.02661\ttraining's macroF1: 0.55641\tvalidation's multi_logloss: 1.22816\tvalidation's macroF1: 0.399695\n",
      "[225]\ttraining's multi_logloss: 1.02591\ttraining's macroF1: 0.556986\tvalidation's multi_logloss: 1.2282\tvalidation's macroF1: 0.399701\n",
      "[226]\ttraining's multi_logloss: 1.02529\ttraining's macroF1: 0.557462\tvalidation's multi_logloss: 1.22819\tvalidation's macroF1: 0.399814\n",
      "[227]\ttraining's multi_logloss: 1.02475\ttraining's macroF1: 0.557869\tvalidation's multi_logloss: 1.22809\tvalidation's macroF1: 0.399869\n",
      "[228]\ttraining's multi_logloss: 1.02429\ttraining's macroF1: 0.558141\tvalidation's multi_logloss: 1.22807\tvalidation's macroF1: 0.399941\n",
      "[229]\ttraining's multi_logloss: 1.02364\ttraining's macroF1: 0.558706\tvalidation's multi_logloss: 1.22815\tvalidation's macroF1: 0.400041\n",
      "[230]\ttraining's multi_logloss: 1.02296\ttraining's macroF1: 0.55924\tvalidation's multi_logloss: 1.22815\tvalidation's macroF1: 0.400419\n",
      "[231]\ttraining's multi_logloss: 1.02239\ttraining's macroF1: 0.559656\tvalidation's multi_logloss: 1.22809\tvalidation's macroF1: 0.400511\n",
      "[232]\ttraining's multi_logloss: 1.0218\ttraining's macroF1: 0.560141\tvalidation's multi_logloss: 1.2281\tvalidation's macroF1: 0.400614\n",
      "[233]\ttraining's multi_logloss: 1.02129\ttraining's macroF1: 0.560583\tvalidation's multi_logloss: 1.22817\tvalidation's macroF1: 0.400562\n",
      "[234]\ttraining's multi_logloss: 1.02081\ttraining's macroF1: 0.561167\tvalidation's multi_logloss: 1.22815\tvalidation's macroF1: 0.40076\n",
      "[235]\ttraining's multi_logloss: 1.02022\ttraining's macroF1: 0.561581\tvalidation's multi_logloss: 1.22815\tvalidation's macroF1: 0.400789\n",
      "[236]\ttraining's multi_logloss: 1.01975\ttraining's macroF1: 0.562001\tvalidation's multi_logloss: 1.22816\tvalidation's macroF1: 0.40048\n",
      "[237]\ttraining's multi_logloss: 1.01922\ttraining's macroF1: 0.562458\tvalidation's multi_logloss: 1.22816\tvalidation's macroF1: 0.40031\n",
      "[238]\ttraining's multi_logloss: 1.01855\ttraining's macroF1: 0.562883\tvalidation's multi_logloss: 1.22817\tvalidation's macroF1: 0.400043\n",
      "[239]\ttraining's multi_logloss: 1.01787\ttraining's macroF1: 0.563578\tvalidation's multi_logloss: 1.22817\tvalidation's macroF1: 0.400354\n",
      "[240]\ttraining's multi_logloss: 1.0175\ttraining's macroF1: 0.563839\tvalidation's multi_logloss: 1.2281\tvalidation's macroF1: 0.400244\n",
      "[241]\ttraining's multi_logloss: 1.01682\ttraining's macroF1: 0.564306\tvalidation's multi_logloss: 1.22808\tvalidation's macroF1: 0.40042\n",
      "[242]\ttraining's multi_logloss: 1.01627\ttraining's macroF1: 0.564851\tvalidation's multi_logloss: 1.22808\tvalidation's macroF1: 0.400214\n",
      "[243]\ttraining's multi_logloss: 1.01586\ttraining's macroF1: 0.565126\tvalidation's multi_logloss: 1.22805\tvalidation's macroF1: 0.400655\n",
      "[244]\ttraining's multi_logloss: 1.01537\ttraining's macroF1: 0.565497\tvalidation's multi_logloss: 1.22797\tvalidation's macroF1: 0.40072\n",
      "[245]\ttraining's multi_logloss: 1.01481\ttraining's macroF1: 0.565933\tvalidation's multi_logloss: 1.22796\tvalidation's macroF1: 0.400878\n",
      "[246]\ttraining's multi_logloss: 1.01423\ttraining's macroF1: 0.566481\tvalidation's multi_logloss: 1.22799\tvalidation's macroF1: 0.400756\n",
      "[247]\ttraining's multi_logloss: 1.01362\ttraining's macroF1: 0.566947\tvalidation's multi_logloss: 1.22799\tvalidation's macroF1: 0.400744\n",
      "[248]\ttraining's multi_logloss: 1.01315\ttraining's macroF1: 0.567195\tvalidation's multi_logloss: 1.22798\tvalidation's macroF1: 0.400647\n",
      "[249]\ttraining's multi_logloss: 1.01268\ttraining's macroF1: 0.567475\tvalidation's multi_logloss: 1.22798\tvalidation's macroF1: 0.400785\n",
      "[250]\ttraining's multi_logloss: 1.0121\ttraining's macroF1: 0.568014\tvalidation's multi_logloss: 1.22801\tvalidation's macroF1: 0.400726\n",
      "[251]\ttraining's multi_logloss: 1.01158\ttraining's macroF1: 0.568524\tvalidation's multi_logloss: 1.22808\tvalidation's macroF1: 0.40073\n",
      "[252]\ttraining's multi_logloss: 1.01092\ttraining's macroF1: 0.569098\tvalidation's multi_logloss: 1.22811\tvalidation's macroF1: 0.400902\n",
      "[253]\ttraining's multi_logloss: 1.01032\ttraining's macroF1: 0.569588\tvalidation's multi_logloss: 1.22803\tvalidation's macroF1: 0.401003\n",
      "[254]\ttraining's multi_logloss: 1.00971\ttraining's macroF1: 0.569985\tvalidation's multi_logloss: 1.22796\tvalidation's macroF1: 0.401212\n",
      "[255]\ttraining's multi_logloss: 1.00926\ttraining's macroF1: 0.570311\tvalidation's multi_logloss: 1.22792\tvalidation's macroF1: 0.401556\n",
      "[256]\ttraining's multi_logloss: 1.00883\ttraining's macroF1: 0.570653\tvalidation's multi_logloss: 1.22795\tvalidation's macroF1: 0.401587\n",
      "[257]\ttraining's multi_logloss: 1.00828\ttraining's macroF1: 0.571051\tvalidation's multi_logloss: 1.22792\tvalidation's macroF1: 0.401888\n",
      "[258]\ttraining's multi_logloss: 1.00759\ttraining's macroF1: 0.57172\tvalidation's multi_logloss: 1.22794\tvalidation's macroF1: 0.401982\n",
      "[259]\ttraining's multi_logloss: 1.00697\ttraining's macroF1: 0.572289\tvalidation's multi_logloss: 1.22793\tvalidation's macroF1: 0.401909\n",
      "[260]\ttraining's multi_logloss: 1.00651\ttraining's macroF1: 0.57263\tvalidation's multi_logloss: 1.2279\tvalidation's macroF1: 0.40209\n",
      "[261]\ttraining's multi_logloss: 1.00617\ttraining's macroF1: 0.572781\tvalidation's multi_logloss: 1.22791\tvalidation's macroF1: 0.402128\n"
     ]
    },
    {
     "name": "stdout",
     "output_type": "stream",
     "text": [
      "[262]\ttraining's multi_logloss: 1.0055\ttraining's macroF1: 0.573302\tvalidation's multi_logloss: 1.22793\tvalidation's macroF1: 0.402265\n",
      "[263]\ttraining's multi_logloss: 1.00503\ttraining's macroF1: 0.573778\tvalidation's multi_logloss: 1.22801\tvalidation's macroF1: 0.401882\n",
      "[264]\ttraining's multi_logloss: 1.00441\ttraining's macroF1: 0.574246\tvalidation's multi_logloss: 1.228\tvalidation's macroF1: 0.401975\n",
      "[265]\ttraining's multi_logloss: 1.00388\ttraining's macroF1: 0.574706\tvalidation's multi_logloss: 1.22805\tvalidation's macroF1: 0.40202\n",
      "[266]\ttraining's multi_logloss: 1.00342\ttraining's macroF1: 0.57509\tvalidation's multi_logloss: 1.22806\tvalidation's macroF1: 0.402254\n",
      "[267]\ttraining's multi_logloss: 1.00301\ttraining's macroF1: 0.575494\tvalidation's multi_logloss: 1.22811\tvalidation's macroF1: 0.40237\n",
      "[268]\ttraining's multi_logloss: 1.0023\ttraining's macroF1: 0.575833\tvalidation's multi_logloss: 1.22814\tvalidation's macroF1: 0.402474\n",
      "[269]\ttraining's multi_logloss: 1.00164\ttraining's macroF1: 0.576424\tvalidation's multi_logloss: 1.22815\tvalidation's macroF1: 0.402341\n",
      "[270]\ttraining's multi_logloss: 1.00102\ttraining's macroF1: 0.576865\tvalidation's multi_logloss: 1.22818\tvalidation's macroF1: 0.402463\n",
      "[271]\ttraining's multi_logloss: 1.0006\ttraining's macroF1: 0.577208\tvalidation's multi_logloss: 1.22817\tvalidation's macroF1: 0.402653\n",
      "[272]\ttraining's multi_logloss: 1.00013\ttraining's macroF1: 0.577523\tvalidation's multi_logloss: 1.22812\tvalidation's macroF1: 0.402621\n",
      "[273]\ttraining's multi_logloss: 0.999705\ttraining's macroF1: 0.577859\tvalidation's multi_logloss: 1.2281\tvalidation's macroF1: 0.402599\n",
      "[274]\ttraining's multi_logloss: 0.999223\ttraining's macroF1: 0.578302\tvalidation's multi_logloss: 1.22812\tvalidation's macroF1: 0.402486\n",
      "[275]\ttraining's multi_logloss: 0.99871\ttraining's macroF1: 0.578707\tvalidation's multi_logloss: 1.22814\tvalidation's macroF1: 0.402499\n",
      "[276]\ttraining's multi_logloss: 0.998155\ttraining's macroF1: 0.579059\tvalidation's multi_logloss: 1.22818\tvalidation's macroF1: 0.402494\n",
      "[277]\ttraining's multi_logloss: 0.997766\ttraining's macroF1: 0.57947\tvalidation's multi_logloss: 1.22816\tvalidation's macroF1: 0.402538\n",
      "[278]\ttraining's multi_logloss: 0.997289\ttraining's macroF1: 0.579883\tvalidation's multi_logloss: 1.22821\tvalidation's macroF1: 0.402478\n",
      "[279]\ttraining's multi_logloss: 0.996912\ttraining's macroF1: 0.580101\tvalidation's multi_logloss: 1.22819\tvalidation's macroF1: 0.402772\n",
      "[280]\ttraining's multi_logloss: 0.996433\ttraining's macroF1: 0.580442\tvalidation's multi_logloss: 1.22823\tvalidation's macroF1: 0.402838\n",
      "[281]\ttraining's multi_logloss: 0.995971\ttraining's macroF1: 0.580765\tvalidation's multi_logloss: 1.22826\tvalidation's macroF1: 0.403\n",
      "[282]\ttraining's multi_logloss: 0.995443\ttraining's macroF1: 0.581281\tvalidation's multi_logloss: 1.2283\tvalidation's macroF1: 0.403159\n",
      "[283]\ttraining's multi_logloss: 0.99495\ttraining's macroF1: 0.581767\tvalidation's multi_logloss: 1.22831\tvalidation's macroF1: 0.403282\n",
      "[284]\ttraining's multi_logloss: 0.994519\ttraining's macroF1: 0.58199\tvalidation's multi_logloss: 1.22839\tvalidation's macroF1: 0.403117\n",
      "[285]\ttraining's multi_logloss: 0.994036\ttraining's macroF1: 0.582256\tvalidation's multi_logloss: 1.2284\tvalidation's macroF1: 0.403322\n",
      "[286]\ttraining's multi_logloss: 0.993626\ttraining's macroF1: 0.58258\tvalidation's multi_logloss: 1.22846\tvalidation's macroF1: 0.403467\n",
      "[287]\ttraining's multi_logloss: 0.993219\ttraining's macroF1: 0.582988\tvalidation's multi_logloss: 1.22852\tvalidation's macroF1: 0.403317\n",
      "[288]\ttraining's multi_logloss: 0.9927\ttraining's macroF1: 0.583401\tvalidation's multi_logloss: 1.22854\tvalidation's macroF1: 0.403465\n",
      "[289]\ttraining's multi_logloss: 0.992118\ttraining's macroF1: 0.583777\tvalidation's multi_logloss: 1.22854\tvalidation's macroF1: 0.403571\n",
      "[290]\ttraining's multi_logloss: 0.991712\ttraining's macroF1: 0.584198\tvalidation's multi_logloss: 1.22855\tvalidation's macroF1: 0.403592\n",
      "[291]\ttraining's multi_logloss: 0.991252\ttraining's macroF1: 0.584469\tvalidation's multi_logloss: 1.22856\tvalidation's macroF1: 0.403758\n",
      "[292]\ttraining's multi_logloss: 0.990713\ttraining's macroF1: 0.584755\tvalidation's multi_logloss: 1.22857\tvalidation's macroF1: 0.40394\n",
      "[293]\ttraining's multi_logloss: 0.99026\ttraining's macroF1: 0.585144\tvalidation's multi_logloss: 1.22854\tvalidation's macroF1: 0.403793\n",
      "[294]\ttraining's multi_logloss: 0.989934\ttraining's macroF1: 0.585452\tvalidation's multi_logloss: 1.22855\tvalidation's macroF1: 0.403843\n",
      "[295]\ttraining's multi_logloss: 0.989592\ttraining's macroF1: 0.585678\tvalidation's multi_logloss: 1.2286\tvalidation's macroF1: 0.403841\n",
      "[296]\ttraining's multi_logloss: 0.989064\ttraining's macroF1: 0.585812\tvalidation's multi_logloss: 1.2286\tvalidation's macroF1: 0.403488\n",
      "[297]\ttraining's multi_logloss: 0.988671\ttraining's macroF1: 0.586131\tvalidation's multi_logloss: 1.22858\tvalidation's macroF1: 0.403488\n",
      "[298]\ttraining's multi_logloss: 0.988194\ttraining's macroF1: 0.586467\tvalidation's multi_logloss: 1.22859\tvalidation's macroF1: 0.403544\n",
      "[299]\ttraining's multi_logloss: 0.987814\ttraining's macroF1: 0.586594\tvalidation's multi_logloss: 1.22858\tvalidation's macroF1: 0.403686\n",
      "[300]\ttraining's multi_logloss: 0.987226\ttraining's macroF1: 0.587048\tvalidation's multi_logloss: 1.22867\tvalidation's macroF1: 0.403734\n",
      "CPU times: user 22min 20s, sys: 2min 1s, total: 24min 22s\n",
      "Wall time: 2min 59s\n"
     ]
    }
   ],
   "source": [
    "%%time\n",
    "gbm1 = model4.fit(train.drop(\"rating\", axis=1), train[\"rating\"], callbacks=[wandb_callback()], \\\n",
    "                  categorical_feature=[\"user_id\", \"book_id\", \"review_id\"], eval_metric=evaluate_macroF1_lgb, \\\n",
    "                 eval_set=[(train.drop(\"rating\", axis=1), train[\"rating\"]), (val.drop(\"rating\", axis=1), val[\"rating\"])], \\\n",
    "                 eval_names=[\"training\", \"validation\"], init_model=model3);"
   ]
  },
  {
   "cell_type": "code",
   "execution_count": 35,
   "metadata": {},
   "outputs": [],
   "source": [
    "ypred4_ = model4.predict_proba(val.drop(\"rating\", axis=1))\n",
    "ypred4 = np.argmax(ypred3_, axis=1)"
   ]
  },
  {
   "cell_type": "code",
   "execution_count": 36,
   "metadata": {},
   "outputs": [
    {
     "name": "stderr",
     "output_type": "stream",
     "text": [
      "<ipython-input-36-495db254e0b8>:2: SettingWithCopyWarning: \n",
      "A value is trying to be set on a copy of a slice from a DataFrame.\n",
      "Try using .loc[row_indexer,col_indexer] = value instead\n",
      "\n",
      "See the caveats in the documentation: https://pandas.pydata.org/pandas-docs/stable/user_guide/indexing.html#returning-a-view-versus-a-copy\n",
      "  predictions[\"pred\"] = ypred3\n"
     ]
    }
   ],
   "source": [
    "predictions = val[[\"review_id\", \"rating\"]]\n",
    "predictions[\"pred\"] = ypred3"
   ]
  },
  {
   "cell_type": "code",
   "execution_count": 37,
   "metadata": {},
   "outputs": [],
   "source": [
    "table = wandb.Table(dataframe=predictions)"
   ]
  },
  {
   "cell_type": "code",
   "execution_count": 38,
   "metadata": {},
   "outputs": [],
   "source": [
    "wandb.log({\"pred_table\":table})"
   ]
  },
  {
   "cell_type": "code",
   "execution_count": 39,
   "metadata": {},
   "outputs": [],
   "source": [
    "log_summary(gbm.booster_)"
   ]
  },
  {
   "cell_type": "code",
   "execution_count": 40,
   "metadata": {
    "scrolled": false
   },
   "outputs": [
    {
     "data": {
      "text/html": [
       "Waiting for W&B process to finish... <strong style=\"color:green\">(success).</strong>"
      ],
      "text/plain": [
       "<IPython.core.display.HTML object>"
      ]
     },
     "metadata": {},
     "output_type": "display_data"
    },
    {
     "data": {
      "text/html": [
       "<style>\n",
       "    table.wandb td:nth-child(1) { padding: 0 10px; text-align: left ; width: auto;} td:nth-child(2) {text-align: left ; width: 100%}\n",
       "    .wandb-row { display: flex; flex-direction: row; flex-wrap: wrap; justify-content: flex-start; width: 100% }\n",
       "    .wandb-col { display: flex; flex-direction: column; flex-basis: 100%; flex: 1; padding: 10px; }\n",
       "    </style>\n",
       "<div class=\"wandb-row\"><div class=\"wandb-col\"><h3>Run history:</h3><br/><table class=\"wandb\"><tr><td>iteration</td><td>▁▁▁▁▂▂▂▂▂▃▃▃▃▃▃▄▄▄▄▄▅▅▅▅▅▅▆▆▆▆▆▇▇▇▇▇▇███</td></tr><tr><td>training_macroF1</td><td>▁▁▁▂▂▂▂▂▃▃▃▃▃▄▄▄▄▄▅▅▅▅▅▆▆▆▆▆▆▇▇▇▇▇▇▇████</td></tr><tr><td>training_multi_logloss</td><td>███▇▇▇▇▇▆▆▆▆▆▅▅▅▅▅▅▄▄▄▄▄▄▃▃▃▃▃▂▂▂▂▂▂▁▁▁▁</td></tr><tr><td>validation_macroF1</td><td>▁▁▂▂▂▂▂▂▃▃▄▄▄▅▄▄▄▄▅▅▅▅▅▆▆▆▆▆▇▆▆▇▇▇▇█████</td></tr><tr><td>validation_multi_logloss</td><td>▇▆▆▆▅▆▅▄▄▃▄▂▃▃▃▃▃▂▂▂▃▁▁▁▁▂▃▃▃▃▃▄▅▅▇▇▇▇▇█</td></tr></table><br/></div><div class=\"wandb-col\"><h3>Run summary:</h3><br/><table class=\"wandb\"><tr><td>best_iteration</td><td>0</td></tr><tr><td>iteration</td><td>299</td></tr><tr><td>training_macroF1</td><td>0.58705</td></tr><tr><td>validation_macroF1</td><td>0.40373</td></tr></table><br/></div></div>"
      ],
      "text/plain": [
       "<IPython.core.display.HTML object>"
      ]
     },
     "metadata": {},
     "output_type": "display_data"
    },
    {
     "data": {
      "text/html": [
       " View run <strong style=\"color:#cdcd00\">rich-water-26</strong> at: <a href='https://wandb.ai/d-a-pop/Goodreads%20Books%20Reviews/runs/8aiqhm0e' target=\"_blank\">https://wandb.ai/d-a-pop/Goodreads%20Books%20Reviews/runs/8aiqhm0e</a><br/>Synced 6 W&B file(s), 2 media file(s), 2 artifact file(s) and 0 other file(s)"
      ],
      "text/plain": [
       "<IPython.core.display.HTML object>"
      ]
     },
     "metadata": {},
     "output_type": "display_data"
    },
    {
     "data": {
      "text/html": [
       "Find logs at: <code>./wandb/run-20230330_123537-8aiqhm0e/logs</code>"
      ],
      "text/plain": [
       "<IPython.core.display.HTML object>"
      ]
     },
     "metadata": {},
     "output_type": "display_data"
    }
   ],
   "source": [
    "run.finish()"
   ]
  },
  {
   "cell_type": "code",
   "execution_count": null,
   "metadata": {},
   "outputs": [],
   "source": []
  },
  {
   "cell_type": "code",
   "execution_count": null,
   "metadata": {},
   "outputs": [],
   "source": []
  },
  {
   "cell_type": "code",
   "execution_count": null,
   "metadata": {},
   "outputs": [],
   "source": []
  },
  {
   "cell_type": "markdown",
   "metadata": {},
   "source": [
    "## Submission"
   ]
  },
  {
   "cell_type": "code",
   "execution_count": 41,
   "metadata": {},
   "outputs": [],
   "source": [
    "test = pd.read_csv(\"test.csv\")"
   ]
  },
  {
   "cell_type": "code",
   "execution_count": 42,
   "metadata": {},
   "outputs": [],
   "source": [
    "r = test[\"review_id\"]"
   ]
  },
  {
   "cell_type": "code",
   "execution_count": 43,
   "metadata": {},
   "outputs": [],
   "source": [
    "test['user_id'] = test['user_id'].astype(\"category\")\n",
    "test['review_id'] = test['review_id'].astype(\"category\")\n",
    "test['book_id'] = test['book_id'].astype(\"category\")\n",
    "test = test.drop(\"review_text\", axis=1)"
   ]
  },
  {
   "cell_type": "code",
   "execution_count": 44,
   "metadata": {},
   "outputs": [],
   "source": [
    "p = model4.predict_proba(test)\n",
    "s = pd.Series(np.argmax(p, axis=1))"
   ]
  },
  {
   "cell_type": "code",
   "execution_count": 45,
   "metadata": {},
   "outputs": [
    {
     "data": {
      "text/plain": [
       "478033"
      ]
     },
     "execution_count": 45,
     "metadata": {},
     "output_type": "execute_result"
    }
   ],
   "source": [
    "len(s)"
   ]
  },
  {
   "cell_type": "code",
   "execution_count": 46,
   "metadata": {},
   "outputs": [
    {
     "data": {
      "text/plain": [
       "478033"
      ]
     },
     "execution_count": 46,
     "metadata": {},
     "output_type": "execute_result"
    }
   ],
   "source": [
    "len(test)"
   ]
  },
  {
   "cell_type": "code",
   "execution_count": 47,
   "metadata": {},
   "outputs": [],
   "source": [
    "submission = pd.concat([r,s],axis=1).rename(columns={0: \"rating\"})"
   ]
  },
  {
   "cell_type": "code",
   "execution_count": 48,
   "metadata": {},
   "outputs": [
    {
     "data": {
      "text/html": [
       "<div>\n",
       "<style scoped>\n",
       "    .dataframe tbody tr th:only-of-type {\n",
       "        vertical-align: middle;\n",
       "    }\n",
       "\n",
       "    .dataframe tbody tr th {\n",
       "        vertical-align: top;\n",
       "    }\n",
       "\n",
       "    .dataframe thead th {\n",
       "        text-align: right;\n",
       "    }\n",
       "</style>\n",
       "<table border=\"1\" class=\"dataframe\">\n",
       "  <thead>\n",
       "    <tr style=\"text-align: right;\">\n",
       "      <th></th>\n",
       "      <th>review_id</th>\n",
       "      <th>rating</th>\n",
       "    </tr>\n",
       "  </thead>\n",
       "  <tbody>\n",
       "    <tr>\n",
       "      <th>0</th>\n",
       "      <td>5c4df7e70e9b438c761f07a4620ccb7c</td>\n",
       "      <td>4</td>\n",
       "    </tr>\n",
       "    <tr>\n",
       "      <th>1</th>\n",
       "      <td>8eaeaf13213eeb16ad879a2a2591bbe5</td>\n",
       "      <td>3</td>\n",
       "    </tr>\n",
       "    <tr>\n",
       "      <th>2</th>\n",
       "      <td>dce649b733c153ba5363a0413cac988f</td>\n",
       "      <td>4</td>\n",
       "    </tr>\n",
       "    <tr>\n",
       "      <th>3</th>\n",
       "      <td>8a46df0bb997269d6834f9437a4b0a77</td>\n",
       "      <td>4</td>\n",
       "    </tr>\n",
       "    <tr>\n",
       "      <th>4</th>\n",
       "      <td>d11d3091e22f1cf3cb865598de197599</td>\n",
       "      <td>3</td>\n",
       "    </tr>\n",
       "    <tr>\n",
       "      <th>...</th>\n",
       "      <td>...</td>\n",
       "      <td>...</td>\n",
       "    </tr>\n",
       "    <tr>\n",
       "      <th>478028</th>\n",
       "      <td>0e1db3d4b04256f9660f5d276ddf1314</td>\n",
       "      <td>5</td>\n",
       "    </tr>\n",
       "    <tr>\n",
       "      <th>478029</th>\n",
       "      <td>0b7f352e58caf0fd1f961e98ef04e89c</td>\n",
       "      <td>0</td>\n",
       "    </tr>\n",
       "    <tr>\n",
       "      <th>478030</th>\n",
       "      <td>9b19eff33ddb14e9e68fca2e90379e46</td>\n",
       "      <td>5</td>\n",
       "    </tr>\n",
       "    <tr>\n",
       "      <th>478031</th>\n",
       "      <td>8be463fed78f0da63e964706f710332b</td>\n",
       "      <td>5</td>\n",
       "    </tr>\n",
       "    <tr>\n",
       "      <th>478032</th>\n",
       "      <td>62ed1263c7d216986cc419cd4e8a408b</td>\n",
       "      <td>4</td>\n",
       "    </tr>\n",
       "  </tbody>\n",
       "</table>\n",
       "<p>478033 rows × 2 columns</p>\n",
       "</div>"
      ],
      "text/plain": [
       "                               review_id  rating\n",
       "0       5c4df7e70e9b438c761f07a4620ccb7c       4\n",
       "1       8eaeaf13213eeb16ad879a2a2591bbe5       3\n",
       "2       dce649b733c153ba5363a0413cac988f       4\n",
       "3       8a46df0bb997269d6834f9437a4b0a77       4\n",
       "4       d11d3091e22f1cf3cb865598de197599       3\n",
       "...                                  ...     ...\n",
       "478028  0e1db3d4b04256f9660f5d276ddf1314       5\n",
       "478029  0b7f352e58caf0fd1f961e98ef04e89c       0\n",
       "478030  9b19eff33ddb14e9e68fca2e90379e46       5\n",
       "478031  8be463fed78f0da63e964706f710332b       5\n",
       "478032  62ed1263c7d216986cc419cd4e8a408b       4\n",
       "\n",
       "[478033 rows x 2 columns]"
      ]
     },
     "execution_count": 48,
     "metadata": {},
     "output_type": "execute_result"
    }
   ],
   "source": [
    "submission"
   ]
  },
  {
   "cell_type": "code",
   "execution_count": 49,
   "metadata": {},
   "outputs": [],
   "source": [
    "submission.to_csv(\"sub4.csv\", index=False)"
   ]
  },
  {
   "cell_type": "code",
   "execution_count": null,
   "metadata": {},
   "outputs": [],
   "source": []
  }
 ],
 "metadata": {
  "kernelspec": {
   "display_name": "Python 3",
   "language": "python",
   "name": "python3"
  },
  "language_info": {
   "codemirror_mode": {
    "name": "ipython",
    "version": 3
   },
   "file_extension": ".py",
   "mimetype": "text/x-python",
   "name": "python",
   "nbconvert_exporter": "python",
   "pygments_lexer": "ipython3",
   "version": "3.8.3"
  }
 },
 "nbformat": 4,
 "nbformat_minor": 4
}

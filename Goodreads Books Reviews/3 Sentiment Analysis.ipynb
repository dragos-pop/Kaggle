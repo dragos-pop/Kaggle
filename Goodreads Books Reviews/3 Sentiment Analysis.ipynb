{
 "cells": [
  {
   "cell_type": "markdown",
   "metadata": {},
   "source": [
    "### Sentiment analysis "
   ]
  },
  {
   "cell_type": "code",
   "execution_count": 1,
   "metadata": {},
   "outputs": [
    {
     "name": "stderr",
     "output_type": "stream",
     "text": [
      "[nltk_data] Downloading package vader_lexicon to\n",
      "[nltk_data]     /Users/dragos/nltk_data...\n",
      "[nltk_data]   Package vader_lexicon is already up-to-date!\n"
     ]
    }
   ],
   "source": [
    "import pandas as pd\n",
    "from nltk.sentiment import SentimentIntensityAnalyzer\n",
    "import nltk\n",
    "nltk.download('vader_lexicon')\n",
    "import matplotlib.pyplot as plt"
   ]
  },
  {
   "cell_type": "code",
   "execution_count": 2,
   "metadata": {},
   "outputs": [],
   "source": [
    "# train = pd.read_csv(\"train.csv\")\n",
    "# val = pd.read_csv(\"val.csv\")\n",
    "test = pd.read_csv(\"test.csv\")\n",
    "# train[\"review_length\"].describe()"
   ]
  },
  {
   "cell_type": "code",
   "execution_count": 4,
   "metadata": {},
   "outputs": [],
   "source": [
    "def determine_sentiment(text):\n",
    "    \"\"\"\n",
    "    This function determines the sentiment of a string (in this case a speech)\n",
    "    :param data: the speech / a string\n",
    "    :return:\n",
    "    \"\"\"\n",
    "    if len(text.split()) < 266:\n",
    "        sia = SentimentIntensityAnalyzer()\n",
    "        sentiment = sia.polarity_scores(text)['compound']\n",
    "    else:    \n",
    "        sentiment = 0\n",
    "        \n",
    "    return sentiment"
   ]
  },
  {
   "cell_type": "code",
   "execution_count": 86,
   "metadata": {},
   "outputs": [
    {
     "data": {
      "text/plain": [
       "0.6249"
      ]
     },
     "execution_count": 86,
     "metadata": {},
     "output_type": "execute_result"
    }
   ],
   "source": [
    "determine_sentiment(\"This sounds awesome.\")\n",
    "# determine_sentiment(\"This is the best book ever.\")"
   ]
  },
  {
   "cell_type": "code",
   "execution_count": 88,
   "metadata": {},
   "outputs": [],
   "source": [
    "# df = train.head(10)\n",
    "# df\n",
    "# df[\"sa\"] = df['review_text'].apply(lambda review: determine_sentiment(review))"
   ]
  },
  {
   "cell_type": "code",
   "execution_count": 21,
   "metadata": {},
   "outputs": [
    {
     "name": "stderr",
     "output_type": "stream",
     "text": [
      "<ipython-input-21-cb00d0e8fa14>:2: SettingWithCopyWarning: \n",
      "A value is trying to be set on a copy of a slice from a DataFrame.\n",
      "Try using .loc[row_indexer,col_indexer] = value instead\n",
      "\n",
      "See the caveats in the documentation: https://pandas.pydata.org/pandas-docs/stable/user_guide/indexing.html#returning-a-view-versus-a-copy\n",
      "  x['sa'] = 4\n"
     ]
    }
   ],
   "source": [
    "x = test[[\"review_id\", \"review_text\"]]\n",
    "x['sa'] = 4"
   ]
  },
  {
   "cell_type": "code",
   "execution_count": 22,
   "metadata": {
    "scrolled": true
   },
   "outputs": [
    {
     "name": "stderr",
     "output_type": "stream",
     "text": [
      "/Users/dragos/anaconda3/envs/lgbm/lib/python3.8/site-packages/pandas/core/indexing.py:966: SettingWithCopyWarning: \n",
      "A value is trying to be set on a copy of a slice from a DataFrame.\n",
      "Try using .loc[row_indexer,col_indexer] = value instead\n",
      "\n",
      "See the caveats in the documentation: https://pandas.pydata.org/pandas-docs/stable/user_guide/indexing.html#returning-a-view-versus-a-copy\n",
      "  self.obj[item] = s\n"
     ]
    },
    {
     "name": "stdout",
     "output_type": "stream",
     "text": [
      "0 %\n",
      "1 %\n",
      "2 %\n",
      "3 %\n",
      "4 %\n",
      "5 %\n",
      "6 %\n",
      "7 %\n",
      "8 %\n",
      "9 %\n",
      "10 %\n",
      "11 %\n",
      "12 %\n",
      "13 %\n",
      "14 %\n",
      "15 %\n",
      "16 %\n",
      "17 %\n",
      "18 %\n",
      "19 %\n",
      "20 %\n",
      "21 %\n",
      "22 %\n",
      "23 %\n",
      "24 %\n",
      "25 %\n",
      "26 %\n",
      "27 %\n",
      "28 %\n",
      "29 %\n",
      "30 %\n",
      "31 %\n",
      "32 %\n",
      "33 %\n",
      "34 %\n",
      "35 %\n",
      "36 %\n",
      "37 %\n",
      "38 %\n",
      "39 %\n",
      "40 %\n",
      "41 %\n",
      "42 %\n",
      "43 %\n",
      "44 %\n",
      "45 %\n",
      "46 %\n",
      "47 %\n",
      "48 %\n",
      "49 %\n",
      "50 %\n",
      "51 %\n",
      "52 %\n",
      "53 %\n",
      "54 %\n",
      "55 %\n",
      "56 %\n",
      "57 %\n",
      "58 %\n",
      "59 %\n",
      "60 %\n",
      "61 %\n",
      "62 %\n",
      "63 %\n",
      "64 %\n",
      "65 %\n",
      "66 %\n",
      "67 %\n",
      "68 %\n",
      "69 %\n",
      "70 %\n",
      "71 %\n",
      "72 %\n",
      "73 %\n",
      "74 %\n",
      "75 %\n",
      "76 %\n",
      "77 %\n",
      "78 %\n",
      "79 %\n",
      "80 %\n",
      "81 %\n",
      "82 %\n",
      "83 %\n",
      "84 %\n",
      "85 %\n",
      "86 %\n",
      "87 %\n",
      "88 %\n",
      "89 %\n",
      "90 %\n",
      "91 %\n",
      "92 %\n",
      "93 %\n",
      "94 %\n",
      "95 %\n",
      "96 %\n",
      "97 %\n",
      "98 %\n",
      "99 %\n"
     ]
    }
   ],
   "source": [
    "par = round(len(test)/100)\n",
    "for i in range(0,100):\n",
    "    a = i*par\n",
    "    b = (i+1)*par\n",
    "    x.iloc[a:b,2] = x.iloc[a:b,1].apply(lambda review: determine_sentiment(review))\n",
    "    print(i, \"%\")"
   ]
  },
  {
   "cell_type": "code",
   "execution_count": null,
   "metadata": {},
   "outputs": [],
   "source": []
  },
  {
   "cell_type": "code",
   "execution_count": null,
   "metadata": {},
   "outputs": [],
   "source": []
  },
  {
   "cell_type": "code",
   "execution_count": null,
   "metadata": {},
   "outputs": [],
   "source": [
    "##################"
   ]
  },
  {
   "cell_type": "code",
   "execution_count": 31,
   "metadata": {},
   "outputs": [],
   "source": [
    "l = x[x['sa']==4][\"review_text\"].apply(lambda review: determine_sentiment(review))"
   ]
  },
  {
   "cell_type": "code",
   "execution_count": 46,
   "metadata": {},
   "outputs": [
    {
     "name": "stderr",
     "output_type": "stream",
     "text": [
      "/Users/dragos/anaconda3/envs/lgbm/lib/python3.8/site-packages/pandas/core/indexing.py:966: SettingWithCopyWarning: \n",
      "A value is trying to be set on a copy of a slice from a DataFrame.\n",
      "Try using .loc[row_indexer,col_indexer] = value instead\n",
      "\n",
      "See the caveats in the documentation: https://pandas.pydata.org/pandas-docs/stable/user_guide/indexing.html#returning-a-view-versus-a-copy\n",
      "  self.obj[item] = s\n"
     ]
    }
   ],
   "source": [
    "x.loc[478000:,'sa'] = l"
   ]
  },
  {
   "cell_type": "code",
   "execution_count": 47,
   "metadata": {},
   "outputs": [
    {
     "data": {
      "text/html": [
       "<div>\n",
       "<style scoped>\n",
       "    .dataframe tbody tr th:only-of-type {\n",
       "        vertical-align: middle;\n",
       "    }\n",
       "\n",
       "    .dataframe tbody tr th {\n",
       "        vertical-align: top;\n",
       "    }\n",
       "\n",
       "    .dataframe thead th {\n",
       "        text-align: right;\n",
       "    }\n",
       "</style>\n",
       "<table border=\"1\" class=\"dataframe\">\n",
       "  <thead>\n",
       "    <tr style=\"text-align: right;\">\n",
       "      <th></th>\n",
       "      <th>review_id</th>\n",
       "      <th>review_text</th>\n",
       "      <th>sa</th>\n",
       "    </tr>\n",
       "  </thead>\n",
       "  <tbody>\n",
       "    <tr>\n",
       "      <th>0</th>\n",
       "      <td>5c4df7e70e9b438c761f07a4620ccb7c</td>\n",
       "      <td>** spoiler alert ** \\n This is definitely one ...</td>\n",
       "      <td>0.0000</td>\n",
       "    </tr>\n",
       "    <tr>\n",
       "      <th>1</th>\n",
       "      <td>8eaeaf13213eeb16ad879a2a2591bbe5</td>\n",
       "      <td>** spoiler alert ** \\n \"You are what you drink...</td>\n",
       "      <td>0.0000</td>\n",
       "    </tr>\n",
       "    <tr>\n",
       "      <th>2</th>\n",
       "      <td>dce649b733c153ba5363a0413cac988f</td>\n",
       "      <td>Roar is one of my favorite characters in Under...</td>\n",
       "      <td>-0.7326</td>\n",
       "    </tr>\n",
       "    <tr>\n",
       "      <th>3</th>\n",
       "      <td>8a46df0bb997269d6834f9437a4b0a77</td>\n",
       "      <td>** spoiler alert ** \\n If you feel like travel...</td>\n",
       "      <td>0.9442</td>\n",
       "    </tr>\n",
       "    <tr>\n",
       "      <th>4</th>\n",
       "      <td>d11d3091e22f1cf3cb865598de197599</td>\n",
       "      <td>3.5 stars \\n I read and enjoyed the first two ...</td>\n",
       "      <td>0.0000</td>\n",
       "    </tr>\n",
       "    <tr>\n",
       "      <th>...</th>\n",
       "      <td>...</td>\n",
       "      <td>...</td>\n",
       "      <td>...</td>\n",
       "    </tr>\n",
       "    <tr>\n",
       "      <th>478028</th>\n",
       "      <td>0e1db3d4b04256f9660f5d276ddf1314</td>\n",
       "      <td>Can't wait for Travis' POV \\n Travis Before Ab...</td>\n",
       "      <td>0.0000</td>\n",
       "    </tr>\n",
       "    <tr>\n",
       "      <th>478029</th>\n",
       "      <td>0b7f352e58caf0fd1f961e98ef04e89c</td>\n",
       "      <td>Had this on my to-read shelf forever. Will upd...</td>\n",
       "      <td>0.0000</td>\n",
       "    </tr>\n",
       "    <tr>\n",
       "      <th>478030</th>\n",
       "      <td>9b19eff33ddb14e9e68fca2e90379e46</td>\n",
       "      <td>The last book left me wanting for more. I need...</td>\n",
       "      <td>0.6417</td>\n",
       "    </tr>\n",
       "    <tr>\n",
       "      <th>478031</th>\n",
       "      <td>8be463fed78f0da63e964706f710332b</td>\n",
       "      <td>Things are heating up in the second novel of I...</td>\n",
       "      <td>0.9436</td>\n",
       "    </tr>\n",
       "    <tr>\n",
       "      <th>478032</th>\n",
       "      <td>62ed1263c7d216986cc419cd4e8a408b</td>\n",
       "      <td>Before I even start this review, I must say th...</td>\n",
       "      <td>0.0000</td>\n",
       "    </tr>\n",
       "  </tbody>\n",
       "</table>\n",
       "<p>478033 rows × 3 columns</p>\n",
       "</div>"
      ],
      "text/plain": [
       "                               review_id  \\\n",
       "0       5c4df7e70e9b438c761f07a4620ccb7c   \n",
       "1       8eaeaf13213eeb16ad879a2a2591bbe5   \n",
       "2       dce649b733c153ba5363a0413cac988f   \n",
       "3       8a46df0bb997269d6834f9437a4b0a77   \n",
       "4       d11d3091e22f1cf3cb865598de197599   \n",
       "...                                  ...   \n",
       "478028  0e1db3d4b04256f9660f5d276ddf1314   \n",
       "478029  0b7f352e58caf0fd1f961e98ef04e89c   \n",
       "478030  9b19eff33ddb14e9e68fca2e90379e46   \n",
       "478031  8be463fed78f0da63e964706f710332b   \n",
       "478032  62ed1263c7d216986cc419cd4e8a408b   \n",
       "\n",
       "                                              review_text      sa  \n",
       "0       ** spoiler alert ** \\n This is definitely one ...  0.0000  \n",
       "1       ** spoiler alert ** \\n \"You are what you drink...  0.0000  \n",
       "2       Roar is one of my favorite characters in Under... -0.7326  \n",
       "3       ** spoiler alert ** \\n If you feel like travel...  0.9442  \n",
       "4       3.5 stars \\n I read and enjoyed the first two ...  0.0000  \n",
       "...                                                   ...     ...  \n",
       "478028  Can't wait for Travis' POV \\n Travis Before Ab...  0.0000  \n",
       "478029  Had this on my to-read shelf forever. Will upd...  0.0000  \n",
       "478030  The last book left me wanting for more. I need...  0.6417  \n",
       "478031  Things are heating up in the second novel of I...  0.9436  \n",
       "478032  Before I even start this review, I must say th...  0.0000  \n",
       "\n",
       "[478033 rows x 3 columns]"
      ]
     },
     "execution_count": 47,
     "metadata": {},
     "output_type": "execute_result"
    }
   ],
   "source": [
    "x"
   ]
  },
  {
   "cell_type": "code",
   "execution_count": null,
   "metadata": {},
   "outputs": [],
   "source": []
  },
  {
   "cell_type": "code",
   "execution_count": null,
   "metadata": {},
   "outputs": [],
   "source": []
  },
  {
   "cell_type": "code",
   "execution_count": 48,
   "metadata": {},
   "outputs": [
    {
     "data": {
      "text/plain": [
       "0         0.0000\n",
       "1         0.0000\n",
       "2        -0.7326\n",
       "3         0.9442\n",
       "4         0.0000\n",
       "           ...  \n",
       "478028    0.0000\n",
       "478029    0.0000\n",
       "478030    0.6417\n",
       "478031    0.9436\n",
       "478032    0.0000\n",
       "Name: sa, Length: 478033, dtype: float64"
      ]
     },
     "execution_count": 48,
     "metadata": {},
     "output_type": "execute_result"
    }
   ],
   "source": [
    "x['sa']"
   ]
  },
  {
   "cell_type": "code",
   "execution_count": 49,
   "metadata": {},
   "outputs": [
    {
     "data": {
      "text/plain": [
       "0"
      ]
     },
     "execution_count": 49,
     "metadata": {},
     "output_type": "execute_result"
    }
   ],
   "source": [
    "# verify how many entries are 4 before normalizing\n",
    "len(x[x['sa']==4])"
   ]
  },
  {
   "cell_type": "code",
   "execution_count": 50,
   "metadata": {},
   "outputs": [],
   "source": [
    "y = x"
   ]
  },
  {
   "cell_type": "code",
   "execution_count": 51,
   "metadata": {},
   "outputs": [],
   "source": [
    "###########"
   ]
  },
  {
   "cell_type": "code",
   "execution_count": 53,
   "metadata": {},
   "outputs": [],
   "source": [
    "from sklearn import preprocessing\n",
    "\n",
    "v = y[\"sa\"].values #returns a numpy array\n",
    "min_max_scaler = preprocessing.MinMaxScaler()\n",
    "v_scaled = min_max_scaler.fit_transform(v.reshape(-1,1))\n",
    "# df = pd.DataFrame(x_scaled)"
   ]
  },
  {
   "cell_type": "code",
   "execution_count": 54,
   "metadata": {},
   "outputs": [
    {
     "data": {
      "text/plain": [
       "array([[0.49992498],\n",
       "       [0.49992498],\n",
       "       [0.13353338],\n",
       "       ...,\n",
       "       [0.82085521],\n",
       "       [0.97184296],\n",
       "       [0.49992498]])"
      ]
     },
     "execution_count": 54,
     "metadata": {},
     "output_type": "execute_result"
    }
   ],
   "source": [
    "v_scaled"
   ]
  },
  {
   "cell_type": "code",
   "execution_count": 60,
   "metadata": {},
   "outputs": [
    {
     "data": {
      "text/plain": [
       "0"
      ]
     },
     "execution_count": 60,
     "metadata": {},
     "output_type": "execute_result"
    }
   ],
   "source": [
    "# check for negative values\n",
    "import numpy as np\n",
    "np.sum(v_scaled < 0)"
   ]
  },
  {
   "cell_type": "code",
   "execution_count": 61,
   "metadata": {},
   "outputs": [
    {
     "data": {
      "text/plain": [
       "478033"
      ]
     },
     "execution_count": 61,
     "metadata": {},
     "output_type": "execute_result"
    }
   ],
   "source": [
    "len(v)"
   ]
  },
  {
   "cell_type": "code",
   "execution_count": 62,
   "metadata": {},
   "outputs": [
    {
     "data": {
      "text/plain": [
       "array([[2.49962491],\n",
       "       [2.49962491],\n",
       "       [0.66766692],\n",
       "       ...,\n",
       "       [4.10427607],\n",
       "       [4.8592148 ],\n",
       "       [2.49962491]])"
      ]
     },
     "execution_count": 62,
     "metadata": {},
     "output_type": "execute_result"
    }
   ],
   "source": [
    "v_scaled*5"
   ]
  },
  {
   "cell_type": "code",
   "execution_count": 64,
   "metadata": {},
   "outputs": [
    {
     "data": {
      "text/plain": [
       "array([[2.],\n",
       "       [2.],\n",
       "       [1.],\n",
       "       ...,\n",
       "       [4.],\n",
       "       [5.],\n",
       "       [2.]])"
      ]
     },
     "execution_count": 64,
     "metadata": {},
     "output_type": "execute_result"
    }
   ],
   "source": [
    "np.round(v_scaled*5)"
   ]
  },
  {
   "cell_type": "code",
   "execution_count": 69,
   "metadata": {},
   "outputs": [],
   "source": [
    "r = np.round(v_scaled*5).reshape(-1)"
   ]
  },
  {
   "cell_type": "code",
   "execution_count": 71,
   "metadata": {},
   "outputs": [
    {
     "data": {
      "text/plain": [
       "478033"
      ]
     },
     "execution_count": 71,
     "metadata": {},
     "output_type": "execute_result"
    }
   ],
   "source": [
    "len(r)"
   ]
  },
  {
   "cell_type": "code",
   "execution_count": 72,
   "metadata": {},
   "outputs": [],
   "source": [
    "# submission"
   ]
  },
  {
   "cell_type": "code",
   "execution_count": 74,
   "metadata": {},
   "outputs": [],
   "source": [
    "ids = x['review_id'].values"
   ]
  },
  {
   "cell_type": "code",
   "execution_count": 75,
   "metadata": {},
   "outputs": [
    {
     "data": {
      "text/plain": [
       "array(['5c4df7e70e9b438c761f07a4620ccb7c',\n",
       "       '8eaeaf13213eeb16ad879a2a2591bbe5',\n",
       "       'dce649b733c153ba5363a0413cac988f', ...,\n",
       "       '9b19eff33ddb14e9e68fca2e90379e46',\n",
       "       '8be463fed78f0da63e964706f710332b',\n",
       "       '62ed1263c7d216986cc419cd4e8a408b'], dtype=object)"
      ]
     },
     "execution_count": 75,
     "metadata": {},
     "output_type": "execute_result"
    }
   ],
   "source": [
    "ids"
   ]
  },
  {
   "cell_type": "code",
   "execution_count": 76,
   "metadata": {},
   "outputs": [
    {
     "data": {
      "text/plain": [
       "array([2., 2., 1., ..., 4., 5., 2.])"
      ]
     },
     "execution_count": 76,
     "metadata": {},
     "output_type": "execute_result"
    }
   ],
   "source": [
    "r"
   ]
  },
  {
   "cell_type": "code",
   "execution_count": 77,
   "metadata": {},
   "outputs": [],
   "source": [
    "c = pd.DataFrame({'review_id':ids, 'rating':r})"
   ]
  },
  {
   "cell_type": "code",
   "execution_count": 79,
   "metadata": {},
   "outputs": [],
   "source": [
    "c['rating'] = c['rating'].astype(int)"
   ]
  },
  {
   "cell_type": "code",
   "execution_count": 81,
   "metadata": {},
   "outputs": [
    {
     "data": {
      "text/plain": [
       "count    478033.000000\n",
       "mean          3.338412\n",
       "std           1.542808\n",
       "min           0.000000\n",
       "25%           2.000000\n",
       "50%           4.000000\n",
       "75%           5.000000\n",
       "max           5.000000\n",
       "Name: rating, dtype: float64"
      ]
     },
     "execution_count": 81,
     "metadata": {},
     "output_type": "execute_result"
    }
   ],
   "source": [
    "c['rating'].describe()"
   ]
  },
  {
   "cell_type": "code",
   "execution_count": 85,
   "metadata": {},
   "outputs": [
    {
     "data": {
      "image/png": "[encoded data removed]",
      "text/plain": [
       "<Figure size 432x288 with 1 Axes>"
      ]
     },
     "metadata": {
      "needs_background": "light"
     },
     "output_type": "display_data"
    }
   ],
   "source": [
    "c['rating'].plot.hist(bins=6, title=\"Histogram of rating\"); #distribution does not match -> expect the score to be worse"
   ]
  },
  {
   "cell_type": "code",
   "execution_count": 86,
   "metadata": {},
   "outputs": [
    {
     "data": {
      "text/html": [
       "<div>\n",
       "<style scoped>\n",
       "    .dataframe tbody tr th:only-of-type {\n",
       "        vertical-align: middle;\n",
       "    }\n",
       "\n",
       "    .dataframe tbody tr th {\n",
       "        vertical-align: top;\n",
       "    }\n",
       "\n",
       "    .dataframe thead th {\n",
       "        text-align: right;\n",
       "    }\n",
       "</style>\n",
       "<table border=\"1\" class=\"dataframe\">\n",
       "  <thead>\n",
       "    <tr style=\"text-align: right;\">\n",
       "      <th></th>\n",
       "      <th>review_id</th>\n",
       "      <th>rating</th>\n",
       "    </tr>\n",
       "  </thead>\n",
       "  <tbody>\n",
       "    <tr>\n",
       "      <th>0</th>\n",
       "      <td>5c4df7e70e9b438c761f07a4620ccb7c</td>\n",
       "      <td>2</td>\n",
       "    </tr>\n",
       "    <tr>\n",
       "      <th>1</th>\n",
       "      <td>8eaeaf13213eeb16ad879a2a2591bbe5</td>\n",
       "      <td>2</td>\n",
       "    </tr>\n",
       "    <tr>\n",
       "      <th>2</th>\n",
       "      <td>dce649b733c153ba5363a0413cac988f</td>\n",
       "      <td>1</td>\n",
       "    </tr>\n",
       "    <tr>\n",
       "      <th>3</th>\n",
       "      <td>8a46df0bb997269d6834f9437a4b0a77</td>\n",
       "      <td>5</td>\n",
       "    </tr>\n",
       "    <tr>\n",
       "      <th>4</th>\n",
       "      <td>d11d3091e22f1cf3cb865598de197599</td>\n",
       "      <td>2</td>\n",
       "    </tr>\n",
       "    <tr>\n",
       "      <th>...</th>\n",
       "      <td>...</td>\n",
       "      <td>...</td>\n",
       "    </tr>\n",
       "    <tr>\n",
       "      <th>478028</th>\n",
       "      <td>0e1db3d4b04256f9660f5d276ddf1314</td>\n",
       "      <td>2</td>\n",
       "    </tr>\n",
       "    <tr>\n",
       "      <th>478029</th>\n",
       "      <td>0b7f352e58caf0fd1f961e98ef04e89c</td>\n",
       "      <td>2</td>\n",
       "    </tr>\n",
       "    <tr>\n",
       "      <th>478030</th>\n",
       "      <td>9b19eff33ddb14e9e68fca2e90379e46</td>\n",
       "      <td>4</td>\n",
       "    </tr>\n",
       "    <tr>\n",
       "      <th>478031</th>\n",
       "      <td>8be463fed78f0da63e964706f710332b</td>\n",
       "      <td>5</td>\n",
       "    </tr>\n",
       "    <tr>\n",
       "      <th>478032</th>\n",
       "      <td>62ed1263c7d216986cc419cd4e8a408b</td>\n",
       "      <td>2</td>\n",
       "    </tr>\n",
       "  </tbody>\n",
       "</table>\n",
       "<p>478033 rows × 2 columns</p>\n",
       "</div>"
      ],
      "text/plain": [
       "                               review_id  rating\n",
       "0       5c4df7e70e9b438c761f07a4620ccb7c       2\n",
       "1       8eaeaf13213eeb16ad879a2a2591bbe5       2\n",
       "2       dce649b733c153ba5363a0413cac988f       1\n",
       "3       8a46df0bb997269d6834f9437a4b0a77       5\n",
       "4       d11d3091e22f1cf3cb865598de197599       2\n",
       "...                                  ...     ...\n",
       "478028  0e1db3d4b04256f9660f5d276ddf1314       2\n",
       "478029  0b7f352e58caf0fd1f961e98ef04e89c       2\n",
       "478030  9b19eff33ddb14e9e68fca2e90379e46       4\n",
       "478031  8be463fed78f0da63e964706f710332b       5\n",
       "478032  62ed1263c7d216986cc419cd4e8a408b       2\n",
       "\n",
       "[478033 rows x 2 columns]"
      ]
     },
     "execution_count": 86,
     "metadata": {},
     "output_type": "execute_result"
    }
   ],
   "source": [
    "c"
   ]
  },
  {
   "cell_type": "code",
   "execution_count": 87,
   "metadata": {},
   "outputs": [],
   "source": [
    "c.to_csv(\"sub8.csv\", index=False)"
   ]
  },
  {
   "cell_type": "code",
   "execution_count": null,
   "metadata": {},
   "outputs": [],
   "source": []
  },
  {
   "cell_type": "code",
   "execution_count": null,
   "metadata": {},
   "outputs": [],
   "source": []
  },
  {
   "cell_type": "code",
   "execution_count": 44,
   "metadata": {},
   "outputs": [
    {
     "data": {
      "text/plain": [
       "90000"
      ]
     },
     "execution_count": 44,
     "metadata": {},
     "output_type": "execute_result"
    }
   ],
   "source": [
    "len(val)"
   ]
  },
  {
   "cell_type": "code",
   "execution_count": 45,
   "metadata": {},
   "outputs": [],
   "source": [
    "val[\"sa\"] = val['review_text'].apply(lambda review: determine_sentiment(review))"
   ]
  },
  {
   "cell_type": "code",
   "execution_count": null,
   "metadata": {},
   "outputs": [],
   "source": [
    "# takes too long to compute the feature for the entire training set"
   ]
  },
  {
   "cell_type": "code",
   "execution_count": null,
   "metadata": {},
   "outputs": [],
   "source": [
    "test.head()"
   ]
  },
  {
   "cell_type": "code",
   "execution_count": null,
   "metadata": {},
   "outputs": [],
   "source": [
    "train = train.drop(['review_text'], axis = 1)\n",
    "test = test.drop(['review_text'], axis = 1)\n",
    "val = val.drop(['review_text'], axis = 1)"
   ]
  },
  {
   "cell_type": "code",
   "execution_count": null,
   "metadata": {},
   "outputs": [],
   "source": [
    "wandb.login()"
   ]
  },
  {
   "cell_type": "code",
   "execution_count": null,
   "metadata": {},
   "outputs": [],
   "source": [
    "PROJECT_NAME = \"Goodreads Books Reviews\"\n",
    "ENTITY = 'd-a-pop'"
   ]
  },
  {
   "cell_type": "code",
   "execution_count": null,
   "metadata": {},
   "outputs": [],
   "source": [
    "run = wandb.init(project=PROJECT_NAME, entity=ENTITY, job_type=\"upload\")"
   ]
  },
  {
   "cell_type": "code",
   "execution_count": null,
   "metadata": {},
   "outputs": [],
   "source": [
    "artifact = wandb.Artifact(\"Data_processed2\", type=\"dataset\")"
   ]
  },
  {
   "cell_type": "code",
   "execution_count": null,
   "metadata": {},
   "outputs": [],
   "source": [
    "t_train2 = wandb.Table(dataframe=train)\n",
    "t_val2 = wandb.Table(dataframe=val)\n",
    "t_test2 = wandb.Table(dataframe=test)"
   ]
  },
  {
   "cell_type": "code",
   "execution_count": null,
   "metadata": {},
   "outputs": [],
   "source": [
    "artifact.add(t_train1, \"t_train2\")\n",
    "artifact.add(t_val1, \"t_val2\")\n",
    "artifact.add(t_test1, \"t_test2\")"
   ]
  },
  {
   "cell_type": "code",
   "execution_count": null,
   "metadata": {},
   "outputs": [],
   "source": [
    "run.log_artifact(artifact)\n",
    "run.finish()"
   ]
  },
  {
   "cell_type": "code",
   "execution_count": null,
   "metadata": {},
   "outputs": [],
   "source": []
  },
  {
   "cell_type": "code",
   "execution_count": null,
   "metadata": {},
   "outputs": [],
   "source": [
    "train.to_csv(\"train.csv\", index = False)\n",
    "val.to_csv(\"val.csv\", index=False)\n",
    "test.to_csv(\"test.csv\", index=False)"
   ]
  }
 ],
 "metadata": {
  "kernelspec": {
   "display_name": "Python 3",
   "language": "python",
   "name": "python3"
  },
  "language_info": {
   "codemirror_mode": {
    "name": "ipython",
    "version": 3
   },
   "file_extension": ".py",
   "mimetype": "text/x-python",
   "name": "python",
   "nbconvert_exporter": "python",
   "pygments_lexer": "ipython3",
   "version": "3.8.3"
  }
 },
 "nbformat": 4,
 "nbformat_minor": 5
}
